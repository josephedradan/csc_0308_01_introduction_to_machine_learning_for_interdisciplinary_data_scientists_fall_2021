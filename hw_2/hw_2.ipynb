{
 "cells": [
  {
   "cell_type": "markdown",
   "id": "4c887ee5-292a-4856-b544-68fa27c06c37",
   "metadata": {},
   "source": [
    "# CSC 0308-01 Introduction to Machine Learning for Interdisciplinary Data Scientists Fall 2021"
   ]
  },
  {
   "cell_type": "markdown",
   "id": "f811999c-d1ba-4814-8b7f-e66d0eceae48",
   "metadata": {},
   "source": [
    "HW 2 Numpy and Pandas Study (Due by 8/31 2 pm)\n",
    "\n",
    "(1) Please go through and review Numpy and Pandas tutorials. While studying, please make notes what you learned. \n",
    "\n",
    "W3Schools Numpy self-study: https://www.w3schools.com/python/numpy/default.asp \n",
    "\n",
    "W3Schools Pandas self-study: https://www.w3schools.com/python/pandas/default.asp \n",
    "\n",
    "(2) Please do the quiz for the numpy and pandas. After completing the quiz, you can review each question (correct answer) and your score.\n"
   ]
  },
  {
   "cell_type": "code",
   "execution_count": 1,
   "id": "e3837768-8d4b-4291-839f-d0671f876c39",
   "metadata": {
    "ExecuteTime": {
     "end_time": "2021-08-30T20:02:29.730388Z",
     "start_time": "2021-08-30T20:02:29.418386Z"
    }
   },
   "outputs": [],
   "source": [
    "from IPython.display import display\n",
    "import numpy as np\n",
    "import pandas as pd\n",
    "from datetime import date\n",
    "import json\n",
    "import re"
   ]
  },
  {
   "cell_type": "markdown",
   "id": "d99326af",
   "metadata": {},
   "source": [
    "## Numpy"
   ]
  },
  {
   "cell_type": "markdown",
   "id": "aedfdafe-a546-4006-bc6b-56a3ca43bce7",
   "metadata": {},
   "source": [
    "### NUMPY Creating Arrays"
   ]
  },
  {
   "cell_type": "markdown",
   "id": "d00151c4-495e-47d1-9f16-e64d37446685",
   "metadata": {},
   "source": [
    "#### Insert the correct method for creating a NumPy array."
   ]
  },
  {
   "cell_type": "code",
   "execution_count": 2,
   "id": "84c05dd8-2628-4fa5-8e96-d720611ce50d",
   "metadata": {
    "ExecuteTime": {
     "end_time": "2021-08-30T20:02:29.746388Z",
     "start_time": "2021-08-30T20:02:29.731386Z"
    }
   },
   "outputs": [
    {
     "data": {
      "text/plain": [
       "array([1, 2, 3, 4, 5])"
      ]
     },
     "execution_count": 2,
     "metadata": {},
     "output_type": "execute_result"
    }
   ],
   "source": [
    "arr = np.array([1, 2, 3, 4, 5])\n",
    "arr"
   ]
  },
  {
   "cell_type": "markdown",
   "id": "40d0f970-d16b-4bb6-ac3c-4372f56f8ced",
   "metadata": {},
   "source": [
    "#### Insert the correct argument for creating a NumPy array with 2 dimensions."
   ]
  },
  {
   "cell_type": "code",
   "execution_count": 3,
   "id": "5834e9dc-6102-488c-b5d3-bb242c52e3f8",
   "metadata": {
    "ExecuteTime": {
     "end_time": "2021-08-30T20:02:29.761385Z",
     "start_time": "2021-08-30T20:02:29.747387Z"
    }
   },
   "outputs": [
    {
     "data": {
      "text/plain": [
       "array([[1, 2, 3, 4]])"
      ]
     },
     "execution_count": 3,
     "metadata": {},
     "output_type": "execute_result"
    }
   ],
   "source": [
    "arr = np.array([1, 2, 3, 4], ndmin=2)\n",
    "arr"
   ]
  },
  {
   "cell_type": "markdown",
   "id": "ce736456-22f8-43e5-8674-f9db80f025cc",
   "metadata": {},
   "source": [
    "#### Insert the correct syntax for checking the number of dimension of a NumPy array."
   ]
  },
  {
   "cell_type": "code",
   "execution_count": 4,
   "id": "4b9113ee-b0aa-491d-95f0-ab2a8131d935",
   "metadata": {
    "ExecuteTime": {
     "end_time": "2021-08-30T20:02:29.776387Z",
     "start_time": "2021-08-30T20:02:29.762389Z"
    }
   },
   "outputs": [
    {
     "name": "stdout",
     "output_type": "stream",
     "text": [
      "1\n"
     ]
    }
   ],
   "source": [
    "arr = np.array([1, 2, 3, 4])\n",
    "print(arr.ndim)"
   ]
  },
  {
   "cell_type": "markdown",
   "id": "9e160bcc-f673-4213-a119-249e613bdfa7",
   "metadata": {},
   "source": [
    "### Go to NUMPY Indexing Arrays Tutorial"
   ]
  },
  {
   "cell_type": "markdown",
   "id": "ae7fca64-ff79-4ce1-9437-c0668abad19a",
   "metadata": {},
   "source": [
    "#### Insert the correct syntax for printing the first item in the array."
   ]
  },
  {
   "cell_type": "code",
   "execution_count": 5,
   "id": "d0f3877d-9f88-45dc-b0c9-03c4cd398bcd",
   "metadata": {
    "ExecuteTime": {
     "end_time": "2021-08-30T20:02:29.791391Z",
     "start_time": "2021-08-30T20:02:29.777386Z"
    }
   },
   "outputs": [
    {
     "name": "stdout",
     "output_type": "stream",
     "text": [
      "1\n"
     ]
    }
   ],
   "source": [
    "arr = np.array([1, 2, 3, 4, 5])\n",
    "print(arr[0])"
   ]
  },
  {
   "cell_type": "markdown",
   "id": "37b6af5d-ea5a-4f22-ba00-f78e4077f219",
   "metadata": {},
   "source": [
    "#### Insert the correct syntax for printing the number 50 from the array."
   ]
  },
  {
   "cell_type": "code",
   "execution_count": 6,
   "id": "6abdbbc5-944c-4f25-a0a9-b36caa8ea0a3",
   "metadata": {
    "ExecuteTime": {
     "end_time": "2021-08-30T20:02:29.806388Z",
     "start_time": "2021-08-30T20:02:29.793385Z"
    }
   },
   "outputs": [
    {
     "name": "stdout",
     "output_type": "stream",
     "text": [
      "50\n"
     ]
    }
   ],
   "source": [
    "arr = np.array([10, 20, 30, 40, 50])\n",
    "print(arr[4])"
   ]
  },
  {
   "cell_type": "markdown",
   "id": "09b7b01a-ad9c-4f71-8bf0-9f0e209da465",
   "metadata": {},
   "source": [
    "#### Insert the correct syntax for printing the number 50 from the array."
   ]
  },
  {
   "cell_type": "code",
   "execution_count": 7,
   "id": "f8320928-276e-4b25-9917-5f781ba577fa",
   "metadata": {
    "ExecuteTime": {
     "end_time": "2021-08-30T20:02:29.821385Z",
     "start_time": "2021-08-30T20:02:29.808387Z"
    }
   },
   "outputs": [
    {
     "name": "stdout",
     "output_type": "stream",
     "text": [
      "50\n"
     ]
    }
   ],
   "source": [
    "arr = np.array([[10, 20, 30, 40], [50, 60, 70, 80]])\n",
    "print(arr[1, 0])"
   ]
  },
  {
   "cell_type": "markdown",
   "id": "bb4cd32c",
   "metadata": {
    "ExecuteTime": {
     "end_time": "2021-08-28T05:43:33.062236Z",
     "start_time": "2021-08-28T05:43:33.056238Z"
    }
   },
   "source": [
    "#### Use negative index to print the last item in the array."
   ]
  },
  {
   "cell_type": "code",
   "execution_count": 8,
   "id": "ced8945f-130c-400b-8c04-3edeeed3d05f",
   "metadata": {
    "ExecuteTime": {
     "end_time": "2021-08-30T20:02:29.836386Z",
     "start_time": "2021-08-30T20:02:29.823389Z"
    }
   },
   "outputs": [
    {
     "name": "stdout",
     "output_type": "stream",
     "text": [
      "50\n"
     ]
    }
   ],
   "source": [
    "arr = np.array([10, 20, 30, 40, 50])\n",
    "print(arr[-1])"
   ]
  },
  {
   "cell_type": "markdown",
   "id": "2b913ca9",
   "metadata": {},
   "source": [
    "### NUMPY Slicing Arrays"
   ]
  },
  {
   "cell_type": "markdown",
   "id": "de5a2324",
   "metadata": {},
   "source": [
    "#### Insert the correct slicing syntax to print the following selection of the array: Everything from (including) the second item to (not including) the fifth item."
   ]
  },
  {
   "cell_type": "code",
   "execution_count": 9,
   "id": "850f35de",
   "metadata": {
    "ExecuteTime": {
     "end_time": "2021-08-30T20:02:29.851386Z",
     "start_time": "2021-08-30T20:02:29.838386Z"
    }
   },
   "outputs": [
    {
     "name": "stdout",
     "output_type": "stream",
     "text": [
      "[15 20 25]\n"
     ]
    }
   ],
   "source": [
    "arr = np.array([10, 15, 20, 25, 30, 35, 40])\n",
    "print(arr[1:4])"
   ]
  },
  {
   "cell_type": "markdown",
   "id": "bb8e6596",
   "metadata": {},
   "source": [
    "#### Insert the correct slicing syntax to print the following selection of the array: Everything from (including) the third item to (not including) the fifth item."
   ]
  },
  {
   "cell_type": "code",
   "execution_count": 10,
   "id": "a6bea128",
   "metadata": {
    "ExecuteTime": {
     "end_time": "2021-08-30T20:02:29.866386Z",
     "start_time": "2021-08-30T20:02:29.852387Z"
    }
   },
   "outputs": [
    {
     "name": "stdout",
     "output_type": "stream",
     "text": [
      "[20 25]\n"
     ]
    }
   ],
   "source": [
    "arr = np.array([10, 15, 20, 25, 30, 35, 40])\n",
    "print(arr[2:4])"
   ]
  },
  {
   "cell_type": "markdown",
   "id": "527751e7",
   "metadata": {},
   "source": [
    "#### Insert the correct slicing syntax to print the following selection of the array: Every other item from (including) the second item to (not including) the fifth item. Tip: use the step syntax."
   ]
  },
  {
   "cell_type": "code",
   "execution_count": 11,
   "id": "841f17e8",
   "metadata": {
    "ExecuteTime": {
     "end_time": "2021-08-30T20:02:29.881387Z",
     "start_time": "2021-08-30T20:02:29.867387Z"
    }
   },
   "outputs": [
    {
     "name": "stdout",
     "output_type": "stream",
     "text": [
      "[15 25]\n"
     ]
    }
   ],
   "source": [
    "arr = np.array([10, 15, 20, 25, 30, 35, 40])\n",
    "print(arr[1:5:2])"
   ]
  },
  {
   "cell_type": "markdown",
   "id": "70de4458",
   "metadata": {},
   "source": [
    "#### Insert the correct slicing syntax to print the following selection of the array: Every other item from the entire array. Tip: use the step syntax."
   ]
  },
  {
   "cell_type": "code",
   "execution_count": 12,
   "id": "0797c1ab",
   "metadata": {
    "ExecuteTime": {
     "end_time": "2021-08-30T20:02:29.896387Z",
     "start_time": "2021-08-30T20:02:29.882391Z"
    }
   },
   "outputs": [
    {
     "name": "stdout",
     "output_type": "stream",
     "text": [
      "[10 20 30 40]\n"
     ]
    }
   ],
   "source": [
    "arr = np.array([10, 15, 20, 25, 30, 35, 40])\n",
    "print(arr[::2])"
   ]
  },
  {
   "cell_type": "markdown",
   "id": "9f2c9fa2",
   "metadata": {},
   "source": [
    "### NUMPY Data Types"
   ]
  },
  {
   "cell_type": "code",
   "execution_count": 13,
   "id": "95525092",
   "metadata": {
    "ExecuteTime": {
     "end_time": "2021-08-30T20:02:29.912386Z",
     "start_time": "2021-08-30T20:02:29.897386Z"
    }
   },
   "outputs": [
    {
     "name": "stdout",
     "output_type": "stream",
     "text": [
      "b [1 0] int8\n",
      "b [1 0] int8\n",
      "u8 [100] uint64\n",
      "f8 [100.] float64\n",
      "c8 [100.+0.j] complex64\n",
      "m8 [100] timedelta64\n",
      "M8 ['2021-08-30'] datetime64[D]\n",
      "O [100] object\n",
      "S [b'100'] |S3\n"
     ]
    }
   ],
   "source": [
    "_type =\"b\"\n",
    "temp = np.array([True,False],dtype=_type)\n",
    "print(_type, temp, temp.dtype)\n",
    "\n",
    "_type =\"b\"\n",
    "temp = np.array([True,False],dtype=_type)\n",
    "print(_type, temp, temp.dtype)\n",
    "\n",
    "_type =\"u8\"\n",
    "temp = np.array([100],dtype=_type)\n",
    "print(_type, temp, temp.dtype)\n",
    "\n",
    "_type =\"f8\"\n",
    "temp = np.array([100],dtype=_type) \n",
    "print(_type, temp, temp.dtype)\n",
    "\n",
    "_type =\"c8\"\n",
    "temp = np.array([100],dtype=_type) \n",
    "print(_type, temp, temp.dtype)\n",
    "\n",
    "_type =\"m8\"\n",
    "temp = np.array([100],dtype=_type) \n",
    "print(_type, temp, temp.dtype)\n",
    "\n",
    "_type =\"M8\"\n",
    "temp = np.array([date.today().strftime(\"%Y-%m-%d\")],dtype=_type) \n",
    "print(_type, temp, temp.dtype)\n",
    "\n",
    "_type =\"O\"\n",
    "temp = np.array([100],dtype=\"O\") \n",
    "print(_type, temp, temp.dtype)\n",
    "\n",
    "_type =\"S\"\n",
    "temp = np.array([100],dtype=_type) \n",
    "print(_type,temp, temp.dtype)"
   ]
  },
  {
   "cell_type": "markdown",
   "id": "fb7ccb1f",
   "metadata": {
    "ExecuteTime": {
     "end_time": "2021-08-28T06:10:34.008603Z",
     "start_time": "2021-08-28T06:10:34.001602Z"
    }
   },
   "source": [
    "#### Insert the correct NumPy syntax to print the data type of an array.\n",
    "\n"
   ]
  },
  {
   "cell_type": "code",
   "execution_count": 14,
   "id": "0f662313",
   "metadata": {
    "ExecuteTime": {
     "end_time": "2021-08-30T20:02:29.928387Z",
     "start_time": "2021-08-30T20:02:29.913388Z"
    }
   },
   "outputs": [
    {
     "name": "stdout",
     "output_type": "stream",
     "text": [
      "int32\n"
     ]
    }
   ],
   "source": [
    "arr = np.array([1, 2, 3, 4])\n",
    "print(arr.dtype)\n"
   ]
  },
  {
   "cell_type": "markdown",
   "id": "d1a95dac",
   "metadata": {
    "ExecuteTime": {
     "end_time": "2021-08-28T06:17:05.099752Z",
     "start_time": "2021-08-28T06:17:05.088752Z"
    }
   },
   "source": [
    "#### Insert the correct argument to specify that the array should be of type STRING.\n"
   ]
  },
  {
   "cell_type": "code",
   "execution_count": 15,
   "id": "05890ad9",
   "metadata": {
    "ExecuteTime": {
     "end_time": "2021-08-30T20:02:29.944385Z",
     "start_time": "2021-08-30T20:02:29.929385Z"
    }
   },
   "outputs": [
    {
     "data": {
      "text/plain": [
       "array([b'1', b'2', b'3', b'4'], dtype='|S1')"
      ]
     },
     "execution_count": 15,
     "metadata": {},
     "output_type": "execute_result"
    }
   ],
   "source": [
    "arr = np.array([1, 2, 3, 4], dtype=\"S\")\n",
    "arr"
   ]
  },
  {
   "cell_type": "markdown",
   "id": "5a809c3d",
   "metadata": {},
   "source": [
    "#### Insert the correct method to change the data type to integer.\n"
   ]
  },
  {
   "cell_type": "code",
   "execution_count": 16,
   "id": "fab3be43",
   "metadata": {
    "ExecuteTime": {
     "end_time": "2021-08-30T20:02:29.959385Z",
     "start_time": "2021-08-30T20:02:29.945386Z"
    }
   },
   "outputs": [
    {
     "name": "stdout",
     "output_type": "stream",
     "text": [
      "[1 2 3] int32\n"
     ]
    }
   ],
   "source": [
    "arr = np.array([1.1, 2.1, 3.1])\n",
    "newarr = arr.astype('i')\n",
    "print(newarr, newarr.dtype)"
   ]
  },
  {
   "cell_type": "markdown",
   "id": "4b95f317",
   "metadata": {},
   "source": [
    "### NUMPY Copy vs View "
   ]
  },
  {
   "cell_type": "markdown",
   "id": "54965044",
   "metadata": {},
   "source": [
    "#### Insert the correct method to change the data type to integer.\n"
   ]
  },
  {
   "cell_type": "code",
   "execution_count": 17,
   "id": "fe7cd620",
   "metadata": {
    "ExecuteTime": {
     "end_time": "2021-08-30T20:02:29.975387Z",
     "start_time": "2021-08-30T20:02:29.960387Z"
    }
   },
   "outputs": [
    {
     "data": {
      "text/plain": [
       "array([1, 2, 3, 4, 5])"
      ]
     },
     "execution_count": 17,
     "metadata": {},
     "output_type": "execute_result"
    }
   ],
   "source": [
    "arr = np.array([1, 2, 3, 4, 5])\n",
    "x = arr.copy()\n",
    "x"
   ]
  },
  {
   "cell_type": "markdown",
   "id": "0bdc63f8",
   "metadata": {},
   "source": [
    "#### Use the correct method to make a view of the array.\n",
    "\n"
   ]
  },
  {
   "cell_type": "code",
   "execution_count": 18,
   "id": "4d3d37f1",
   "metadata": {
    "ExecuteTime": {
     "end_time": "2021-08-30T20:02:29.990388Z",
     "start_time": "2021-08-30T20:02:29.976387Z"
    }
   },
   "outputs": [
    {
     "data": {
      "text/plain": [
       "array([1, 2, 3, 4, 5])"
      ]
     },
     "execution_count": 18,
     "metadata": {},
     "output_type": "execute_result"
    }
   ],
   "source": [
    "arr = np.array([1, 2, 3, 4, 5])\n",
    "x = arr.view()\n",
    "x"
   ]
  },
  {
   "cell_type": "markdown",
   "id": "5a966d7a",
   "metadata": {},
   "source": [
    "### Go to NUMPY Array Shape Tutorial"
   ]
  },
  {
   "cell_type": "markdown",
   "id": "794388eb",
   "metadata": {},
   "source": [
    "#### Use the correct NumPy syntax to check the shape of an array.\n"
   ]
  },
  {
   "cell_type": "code",
   "execution_count": 19,
   "id": "b48606de",
   "metadata": {
    "ExecuteTime": {
     "end_time": "2021-08-30T20:02:30.005385Z",
     "start_time": "2021-08-30T20:02:29.991388Z"
    }
   },
   "outputs": [
    {
     "name": "stdout",
     "output_type": "stream",
     "text": [
      "(5,)\n"
     ]
    }
   ],
   "source": [
    "arr = np.array([1, 2, 3, 4, 5])\n",
    "print(arr.shape)"
   ]
  },
  {
   "cell_type": "markdown",
   "id": "dec46c48",
   "metadata": {},
   "source": [
    "#### Use the correct NumPy method to change the shape of an array from 1-D to 2-D.\n",
    "\n"
   ]
  },
  {
   "cell_type": "code",
   "execution_count": 20,
   "id": "dbdccfb8",
   "metadata": {
    "ExecuteTime": {
     "end_time": "2021-08-30T20:02:30.020397Z",
     "start_time": "2021-08-30T20:02:30.006387Z"
    }
   },
   "outputs": [
    {
     "data": {
      "text/plain": [
       "array([[ 1,  2,  3],\n",
       "       [ 4,  5,  6],\n",
       "       [ 7,  8,  9],\n",
       "       [10, 11, 12]])"
      ]
     },
     "execution_count": 20,
     "metadata": {},
     "output_type": "execute_result"
    }
   ],
   "source": [
    "arr = np.array([1, 2, 3, 4, 5, 6, 7, 8, 9, 10, 11, 12])\n",
    "newarr = arr.reshape(4, 3)\n",
    "newarr"
   ]
  },
  {
   "cell_type": "markdown",
   "id": "7084e38c",
   "metadata": {},
   "source": [
    "#### Use a correct NumPy method to change the shape of an array from 2-D to 1-D.\n",
    "\n"
   ]
  },
  {
   "cell_type": "code",
   "execution_count": 21,
   "id": "9185b052",
   "metadata": {
    "ExecuteTime": {
     "end_time": "2021-08-30T20:02:30.035401Z",
     "start_time": "2021-08-30T20:02:30.021405Z"
    }
   },
   "outputs": [
    {
     "data": {
      "text/plain": [
       "array([ 1,  2,  3,  4,  5,  6,  7,  8,  9, 10, 11, 12])"
      ]
     },
     "execution_count": 21,
     "metadata": {},
     "output_type": "execute_result"
    }
   ],
   "source": [
    "arr = np.array([1, 2, 3, 4, 5, 6, 7, 8, 9, 10, 11, 12])\n",
    "arr_new = arr.reshape(-1)\n",
    "arr_new"
   ]
  },
  {
   "cell_type": "markdown",
   "id": "4c207ba5",
   "metadata": {},
   "source": [
    "### Go to NUMPY Array Join Tutorial"
   ]
  },
  {
   "cell_type": "markdown",
   "id": "d27032fe",
   "metadata": {},
   "source": [
    "#### Use a correct NumPy method to join two arrays into a single array.\n",
    "\n"
   ]
  },
  {
   "cell_type": "code",
   "execution_count": 22,
   "id": "a695a141",
   "metadata": {
    "ExecuteTime": {
     "end_time": "2021-08-30T20:02:30.051404Z",
     "start_time": "2021-08-30T20:02:30.036403Z"
    }
   },
   "outputs": [
    {
     "data": {
      "text/plain": [
       "array([1, 2, 3, 4, 5, 6])"
      ]
     },
     "execution_count": 22,
     "metadata": {},
     "output_type": "execute_result"
    }
   ],
   "source": [
    "arr1 = np.array([1, 2, 3])\n",
    "arr2 = np.array([4, 5, 6])\n",
    "arr = np.concatenate((arr1, arr2))\n",
    "arr"
   ]
  },
  {
   "cell_type": "markdown",
   "id": "4d92d7a0",
   "metadata": {},
   "source": [
    "### Go to NUMPY Array Search Tutorial"
   ]
  },
  {
   "cell_type": "markdown",
   "id": "eef94414",
   "metadata": {},
   "source": [
    "#### Use the correct NumPy method to find all items with the value 4.\n"
   ]
  },
  {
   "cell_type": "code",
   "execution_count": 23,
   "id": "02a6d4a9",
   "metadata": {
    "ExecuteTime": {
     "end_time": "2021-08-30T20:02:30.067403Z",
     "start_time": "2021-08-30T20:02:30.052402Z"
    }
   },
   "outputs": [
    {
     "data": {
      "text/plain": [
       "(array([3, 5, 6], dtype=int64),)"
      ]
     },
     "execution_count": 23,
     "metadata": {},
     "output_type": "execute_result"
    }
   ],
   "source": [
    "arr = np.array([1, 2, 3, 4, 5, 4, 4])\n",
    "x = np.where(arr == 4)\n",
    "x"
   ]
  },
  {
   "cell_type": "markdown",
   "id": "834d4c16",
   "metadata": {
    "ExecuteTime": {
     "end_time": "2021-08-28T06:22:12.035540Z",
     "start_time": "2021-08-28T06:22:12.031542Z"
    }
   },
   "source": [
    "### Go to NUMPY Array Sort Tutorial"
   ]
  },
  {
   "cell_type": "markdown",
   "id": "95ad383c",
   "metadata": {},
   "source": [
    "#### Use the correct NumPy method to return a sorted array."
   ]
  },
  {
   "cell_type": "code",
   "execution_count": 24,
   "id": "efa5e556",
   "metadata": {
    "ExecuteTime": {
     "end_time": "2021-08-30T20:02:30.082403Z",
     "start_time": "2021-08-30T20:02:30.068402Z"
    }
   },
   "outputs": [
    {
     "data": {
      "text/plain": [
       "array([0, 1, 2, 3])"
      ]
     },
     "execution_count": 24,
     "metadata": {},
     "output_type": "execute_result"
    }
   ],
   "source": [
    "arr = np.array([3, 2, 0, 1])\n",
    "x = np.sort(arr)\n",
    "x"
   ]
  },
  {
   "cell_type": "markdown",
   "id": "d6ea8f14",
   "metadata": {
    "ExecuteTime": {
     "end_time": "2021-08-28T06:24:11.127069Z",
     "start_time": "2021-08-28T06:24:11.119070Z"
    }
   },
   "source": [
    "## Pandas"
   ]
  },
  {
   "cell_type": "markdown",
   "id": "85eac142",
   "metadata": {},
   "source": [
    "### PANDAS Series "
   ]
  },
  {
   "cell_type": "markdown",
   "id": "6d78754a",
   "metadata": {},
   "source": [
    "#### Insert the correct Pandas method to create a Series."
   ]
  },
  {
   "cell_type": "code",
   "execution_count": 25,
   "id": "ffce4cc9",
   "metadata": {
    "ExecuteTime": {
     "end_time": "2021-08-30T20:02:30.097401Z",
     "start_time": "2021-08-30T20:02:30.083403Z"
    },
    "scrolled": true
   },
   "outputs": [],
   "source": [
    "my_series = pd.Series(range(2,12,2))"
   ]
  },
  {
   "cell_type": "markdown",
   "id": "73e92573",
   "metadata": {},
   "source": [
    "#### Insert the correct syntax to return the first value of a Pandas Series called \"myseries\"?\n",
    "\n"
   ]
  },
  {
   "cell_type": "code",
   "execution_count": 26,
   "id": "eb191bbc",
   "metadata": {
    "ExecuteTime": {
     "end_time": "2021-08-30T20:02:30.112401Z",
     "start_time": "2021-08-30T20:02:30.098402Z"
    }
   },
   "outputs": [
    {
     "data": {
      "text/plain": [
       "2"
      ]
     },
     "execution_count": 26,
     "metadata": {},
     "output_type": "execute_result"
    }
   ],
   "source": [
    "my_series[0]"
   ]
  },
  {
   "cell_type": "markdown",
   "id": "bc8eb654",
   "metadata": {},
   "source": [
    "#### Insert the correct syntax to add the labels \"x\", \"y\", and \"z\" to a Pandas Series.\n",
    "\n"
   ]
  },
  {
   "cell_type": "code",
   "execution_count": 27,
   "id": "fac1e64a",
   "metadata": {
    "ExecuteTime": {
     "end_time": "2021-08-30T20:02:30.127401Z",
     "start_time": "2021-08-30T20:02:30.113404Z"
    }
   },
   "outputs": [
    {
     "data": {
      "text/plain": [
       "x    1\n",
       "y    2\n",
       "z    3\n",
       "dtype: int64"
      ]
     },
     "execution_count": 27,
     "metadata": {},
     "output_type": "execute_result"
    }
   ],
   "source": [
    "pd.Series([1,2,3], index=[\"x\",\"y\",\"z\"])\n"
   ]
  },
  {
   "cell_type": "markdown",
   "id": "7fdce40e",
   "metadata": {
    "ExecuteTime": {
     "end_time": "2021-08-28T06:29:01.579855Z",
     "start_time": "2021-08-28T06:29:01.564856Z"
    }
   },
   "source": [
    "### PANDAS DataFrame"
   ]
  },
  {
   "cell_type": "markdown",
   "id": "8b2daee5",
   "metadata": {
    "ExecuteTime": {
     "end_time": "2021-08-28T06:29:11.351000Z",
     "start_time": "2021-08-28T06:29:11.341000Z"
    }
   },
   "source": [
    "#### Insert the correct Pandas method to create a DataFrame.\n",
    "\n"
   ]
  },
  {
   "cell_type": "code",
   "execution_count": 28,
   "id": "db4dd924",
   "metadata": {
    "ExecuteTime": {
     "end_time": "2021-08-30T20:02:30.142401Z",
     "start_time": "2021-08-30T20:02:30.128402Z"
    }
   },
   "outputs": [
    {
     "data": {
      "text/html": [
       "<div>\n",
       "<style scoped>\n",
       "    .dataframe tbody tr th:only-of-type {\n",
       "        vertical-align: middle;\n",
       "    }\n",
       "\n",
       "    .dataframe tbody tr th {\n",
       "        vertical-align: top;\n",
       "    }\n",
       "\n",
       "    .dataframe thead th {\n",
       "        text-align: right;\n",
       "    }\n",
       "</style>\n",
       "<table border=\"1\" class=\"dataframe\">\n",
       "  <thead>\n",
       "    <tr style=\"text-align: right;\">\n",
       "      <th></th>\n",
       "      <th>0</th>\n",
       "    </tr>\n",
       "  </thead>\n",
       "  <tbody>\n",
       "    <tr>\n",
       "      <th>0</th>\n",
       "      <td>1</td>\n",
       "    </tr>\n",
       "    <tr>\n",
       "      <th>1</th>\n",
       "      <td>2</td>\n",
       "    </tr>\n",
       "    <tr>\n",
       "      <th>2</th>\n",
       "      <td>3</td>\n",
       "    </tr>\n",
       "    <tr>\n",
       "      <th>3</th>\n",
       "      <td>4</td>\n",
       "    </tr>\n",
       "  </tbody>\n",
       "</table>\n",
       "</div>"
      ],
      "text/plain": [
       "   0\n",
       "0  1\n",
       "1  2\n",
       "2  3\n",
       "3  4"
      ]
     },
     "execution_count": 28,
     "metadata": {},
     "output_type": "execute_result"
    }
   ],
   "source": [
    "df = pd.DataFrame([1,2,3,4])\n",
    "df"
   ]
  },
  {
   "cell_type": "markdown",
   "id": "0eaf83dc",
   "metadata": {},
   "source": [
    "#### Insert the correct syntax to return the first row of a DataFrame.\n",
    "\n"
   ]
  },
  {
   "cell_type": "code",
   "execution_count": 29,
   "id": "491afc69",
   "metadata": {
    "ExecuteTime": {
     "end_time": "2021-08-30T20:02:30.157401Z",
     "start_time": "2021-08-30T20:02:30.143401Z"
    }
   },
   "outputs": [
    {
     "data": {
      "text/plain": [
       "0    1\n",
       "Name: 0, dtype: int64"
      ]
     },
     "execution_count": 29,
     "metadata": {},
     "output_type": "execute_result"
    }
   ],
   "source": [
    "df.loc[0]\n"
   ]
  },
  {
   "cell_type": "markdown",
   "id": "c3e6e463",
   "metadata": {},
   "source": [
    "#### Insert the correct syntax for loading CSV files into a DataFrame.\n",
    "\n"
   ]
  },
  {
   "cell_type": "code",
   "execution_count": 30,
   "id": "6ee2a8f6",
   "metadata": {
    "ExecuteTime": {
     "end_time": "2021-08-30T20:02:31.157559Z",
     "start_time": "2021-08-30T20:02:30.158403Z"
    },
    "scrolled": false
   },
   "outputs": [
    {
     "data": {
      "text/html": [
       "<div>\n",
       "<style scoped>\n",
       "    .dataframe tbody tr th:only-of-type {\n",
       "        vertical-align: middle;\n",
       "    }\n",
       "\n",
       "    .dataframe tbody tr th {\n",
       "        vertical-align: top;\n",
       "    }\n",
       "\n",
       "    .dataframe thead th {\n",
       "        text-align: right;\n",
       "    }\n",
       "</style>\n",
       "<table border=\"1\" class=\"dataframe\">\n",
       "  <thead>\n",
       "    <tr style=\"text-align: right;\">\n",
       "      <th></th>\n",
       "      <th>\"Year\"</th>\n",
       "      <th>\"Age\"</th>\n",
       "      <th>\"Name\"</th>\n",
       "      <th>\"Movie\"</th>\n",
       "    </tr>\n",
       "    <tr>\n",
       "      <th>Index</th>\n",
       "      <th></th>\n",
       "      <th></th>\n",
       "      <th></th>\n",
       "      <th></th>\n",
       "    </tr>\n",
       "  </thead>\n",
       "  <tbody>\n",
       "    <tr>\n",
       "      <th>1</th>\n",
       "      <td>1928</td>\n",
       "      <td>44</td>\n",
       "      <td>\"Emil Jannings\"</td>\n",
       "      <td>\"The Last Command</td>\n",
       "    </tr>\n",
       "    <tr>\n",
       "      <th>2</th>\n",
       "      <td>1929</td>\n",
       "      <td>41</td>\n",
       "      <td>\"Warner Baxter\"</td>\n",
       "      <td>\"In Old Arizona\"</td>\n",
       "    </tr>\n",
       "    <tr>\n",
       "      <th>3</th>\n",
       "      <td>1930</td>\n",
       "      <td>62</td>\n",
       "      <td>\"George Arliss\"</td>\n",
       "      <td>\"Disraeli\"</td>\n",
       "    </tr>\n",
       "    <tr>\n",
       "      <th>4</th>\n",
       "      <td>1931</td>\n",
       "      <td>53</td>\n",
       "      <td>\"Lionel Barrymore\"</td>\n",
       "      <td>\"A Free Soul\"</td>\n",
       "    </tr>\n",
       "    <tr>\n",
       "      <th>5</th>\n",
       "      <td>1932</td>\n",
       "      <td>47</td>\n",
       "      <td>\"Wallace Beery\"</td>\n",
       "      <td>\"The Champ\"</td>\n",
       "    </tr>\n",
       "    <tr>\n",
       "      <th>...</th>\n",
       "      <td>...</td>\n",
       "      <td>...</td>\n",
       "      <td>...</td>\n",
       "      <td>...</td>\n",
       "    </tr>\n",
       "    <tr>\n",
       "      <th>85</th>\n",
       "      <td>2012</td>\n",
       "      <td>39</td>\n",
       "      <td>\"Jean Dujardin\"</td>\n",
       "      <td>\"The Artist\"</td>\n",
       "    </tr>\n",
       "    <tr>\n",
       "      <th>86</th>\n",
       "      <td>2013</td>\n",
       "      <td>55</td>\n",
       "      <td>\"Daniel Day-Lewis\"</td>\n",
       "      <td>\"Lincoln\"</td>\n",
       "    </tr>\n",
       "    <tr>\n",
       "      <th>87</th>\n",
       "      <td>2014</td>\n",
       "      <td>44</td>\n",
       "      <td>\"Matthew McConaughey\"</td>\n",
       "      <td>\"Dallas Buyers Club\"</td>\n",
       "    </tr>\n",
       "    <tr>\n",
       "      <th>88</th>\n",
       "      <td>2015</td>\n",
       "      <td>33</td>\n",
       "      <td>\"Eddie Redmayne\"</td>\n",
       "      <td>\"The Theory of Everything\"\\t</td>\n",
       "    </tr>\n",
       "    <tr>\n",
       "      <th>89</th>\n",
       "      <td>2016</td>\n",
       "      <td>41</td>\n",
       "      <td>\"Leonardo DiCaprio\"</td>\n",
       "      <td>\"The Revenant\"</td>\n",
       "    </tr>\n",
       "  </tbody>\n",
       "</table>\n",
       "<p>89 rows × 4 columns</p>\n",
       "</div>"
      ],
      "text/plain": [
       "        \"Year\"   \"Age\"                  \"Name\"                        \"Movie\"\n",
       "Index                                                                        \n",
       "1         1928      44         \"Emil Jannings\"              \"The Last Command\n",
       "2         1929      41         \"Warner Baxter\"               \"In Old Arizona\"\n",
       "3         1930      62         \"George Arliss\"                     \"Disraeli\"\n",
       "4         1931      53      \"Lionel Barrymore\"                  \"A Free Soul\"\n",
       "5         1932      47         \"Wallace Beery\"                    \"The Champ\"\n",
       "...        ...     ...                     ...                            ...\n",
       "85        2012      39         \"Jean Dujardin\"                   \"The Artist\"\n",
       "86        2013      55      \"Daniel Day-Lewis\"                      \"Lincoln\"\n",
       "87        2014      44   \"Matthew McConaughey\"           \"Dallas Buyers Club\"\n",
       "88        2015      33        \"Eddie Redmayne\"   \"The Theory of Everything\"\\t\n",
       "89        2016      41     \"Leonardo DiCaprio\"                 \"The Revenant\"\n",
       "\n",
       "[89 rows x 4 columns]"
      ]
     },
     "execution_count": 30,
     "metadata": {},
     "output_type": "execute_result"
    }
   ],
   "source": [
    "# Reference: https://people.sc.fsu.edu/~jburkardt/data/csv/csv.html\n",
    "df_oscar_age_male = pd.read_csv(\"https://people.sc.fsu.edu/~jburkardt/data/csv/oscar_age_male.csv\", index_col=False)\n",
    "df_oscar_age_male.set_index(\"Index\", inplace=True)  # Fixes column being off\n",
    "df_oscar_age_male"
   ]
  },
  {
   "cell_type": "markdown",
   "id": "da4f0468",
   "metadata": {},
   "source": [
    "#### Insert the correct syntax to return the entire DataFrame.\n",
    "\n"
   ]
  },
  {
   "cell_type": "code",
   "execution_count": 31,
   "id": "58f7d80d",
   "metadata": {
    "ExecuteTime": {
     "end_time": "2021-08-30T20:02:31.172559Z",
     "start_time": "2021-08-30T20:02:31.159560Z"
    }
   },
   "outputs": [
    {
     "name": "stdout",
     "output_type": "stream",
     "text": [
      "        \"Year\"   \"Age\"                     \"Name\"                             \"Movie\"\n",
      "Index                                                                                \n",
      "1         1928      44            \"Emil Jannings\"                   \"The Last Command\n",
      "2         1929      41            \"Warner Baxter\"                    \"In Old Arizona\"\n",
      "3         1930      62            \"George Arliss\"                          \"Disraeli\"\n",
      "4         1931      53         \"Lionel Barrymore\"                       \"A Free Soul\"\n",
      "5         1932      47            \"Wallace Beery\"                         \"The Champ\"\n",
      "6         1933      35            \"Fredric March\"           \"Dr. Jekyll and Mr. Hyde\"\n",
      "7         1934      34         \"Charles Laughton\"    \"The Private Life of Henry VIII\"\n",
      "8         1935      34              \"Clark Gable\"             \"It Happened One Night\"\n",
      "9         1936      49          \"Victor McLaglen\"                    \"The Informer\"\\t\n",
      "10        1937      41                \"Paul Muni\"      \"The Story of Louis Pasteur\"\\t\n",
      "11        1938      37            \"Spencer Tracy\"               \"Captains Courageous\"\n",
      "12        1939      38            \"Spencer Tracy\"                         \"Boys Town\"\n",
      "13        1940      34             \"Robert Donat\"                            \"Goodbye\n",
      "14        1941      32            \"James Stewart\"            \"The Philadelphia Story\"\n",
      "15        1942      40              \"Gary Cooper\"                     \"Sergeant York\"\n",
      "16        1943      43             \"James Cagney\"             \"Yankee Doodle Dandy\"\\t\n",
      "17        1944      48               \"Paul Lukas\"              \"Watch on the Rhine\"\\t\n",
      "18        1945      41              \"Bing Crosby\"                      \"Going My Way\"\n",
      "19        1946      39              \"Ray Milland\"               \"The Lost Weekend\" \\t\n",
      "20        1947      49            \"Fredric March\"       \"The Best Years of Our Lives\"\n",
      "21        1948      57            \"Ronald Colman\"                     \"A Double Life\"\n",
      "22        1949      41         \"Laurence Olivier\"                            \"Hamlet\"\n",
      "23        1950      38       \"Broderick Crawford\"                \"All the King's Men\"\n",
      "24        1951      39              \"José Ferrer\"                \"Cyrano de Bergerac\"\n",
      "25        1952      52          \"Humphrey Bogart\"                 \"The African Queen\"\n",
      "26        1953      51              \"Gary Cooper\"                         \"High Noon\"\n",
      "27        1954      35           \"William Holden\"                         \"Stalag 17\"\n",
      "28        1955      30            \"Marlon Brando\"                 \"On the Waterfront\"\n",
      "29        1956      39          \"Ernest Borgnine\"                             \"Marty\"\n",
      "30        1957      36              \"Yul Brynner\"                    \"The King and I\"\n",
      "31        1958      43            \"Alec Guinness\"      \"The Bridge on the River Kwai\"\n",
      "32        1959      49              \"David Niven\"                   \"Separate Tables\"\n",
      "33        1960      36          \"Charlton Heston\"                           \"Ben-Hur\"\n",
      "34        1961      47           \"Burt Lancaster\"                      \"Elmer Gantry\"\n",
      "35        1962      31        \"Maximilian Schell\"           \"Judgment at Nuremberg\"\\t\n",
      "36        1963      47             \"Gregory Peck\"             \"To Kill a Mockingbird\"\n",
      "37        1964      37           \"Sidney Poitier\"               \"Lilies of the Field\"\n",
      "38        1965      57             \"Rex Harrison\"                      \"My Fair Lady\"\n",
      "39        1966      42               \"Lee Marvin\"                      \"Cat Ballou\"\\t\n",
      "40        1967      45            \"Paul Scofield\"             \"A Man for All Seasons\"\n",
      "41        1968      42              \"Rod Steiger\"        \"In the Heat of the Night\"\\t\n",
      "42        1969      45          \"Cliff Robertson\"                            \"Charly\"\n",
      "43        1970      62               \"John Wayne\"                         \"True Grit\"\n",
      "44        1971      43          \"George C. Scott\"                            \"Patton\"\n",
      "45        1972      42             \"Gene Hackman\"             \"The French Connection\"\n",
      "46        1973      48            \"Marlon Brando\"                     \"The Godfather\"\n",
      "47        1974      49              \"Jack Lemmon\"                    \"Save the Tiger\"\n",
      "48        1975      56               \"Art Carney\"                   \"Harry and Tonto\"\n",
      "49        1976      38           \"Jack Nicholson\"   \"One Flew Over the Cuckoo's Nest\"\n",
      "50        1977      60              \"Peter Finch\"                           \"Network\"\n",
      "51        1978      30         \"Richard Dreyfuss\"                  \"The Goodbye Girl\"\n",
      "52        1979      40               \"Jon Voight\"                       \"Coming Home\"\n",
      "53        1980      42           \"Dustin Hoffman\"                 \"Kramer vs. Kramer\"\n",
      "54        1981      37           \"Robert De Niro\"                       \"Raging Bull\"\n",
      "55        1982      76              \"Henry Fonda\"                    \"On Golden Pond\"\n",
      "56        1983      39             \"Ben Kingsley\"                            \"Gandhi\"\n",
      "57        1984      53            \"Robert Duvall\"                    \"Tender Mercies\"\n",
      "58        1985      45        \"F. Murray Abraham\"                           \"Amadeus\"\n",
      "59        1986      36             \"William Hurt\"          \"Kiss of the Spider Woman\"\n",
      "60        1987      62              \"Paul Newman\"                \"The Color of Money\"\n",
      "61        1988      43          \"Michael Douglas\"                       \"Wall Street\"\n",
      "62        1989      51           \"Dustin Hoffman\"                          \"Rain Man\"\n",
      "63        1990      32         \"Daniel Day-Lewis\"                      \"My Left Foot\"\n",
      "64        1991      42             \"Jeremy Irons\"               \"Reversal of Fortune\"\n",
      "65        1992      54          \"Anthony Hopkins\"          \"The Silence of the Lambs\"\n",
      "66        1993      52                \"Al Pacino\"                  \"Scent of a Woman\"\n",
      "67        1994      37                \"Tom Hanks\"                      \"Philadelphia\"\n",
      "68        1995      38                \"Tom Hanks\"                      \"Forrest Gump\"\n",
      "69        1996      32             \"Nicolas Cage\"                 \"Leaving Las Vegas\"\n",
      "70        1997      45            \"Geoffrey Rush\"                             \"Shine\"\n",
      "71        1998      60           \"Jack Nicholson\"                \"As Good as It Gets\"\n",
      "72        1999      46          \"Roberto Benigni\"                 \"Life Is Beautiful\"\n",
      "73        2000      40             \"Kevin Spacey\"                   \"American Beauty\"\n",
      "74        2001      36            \"Russell Crowe\"                         \"Gladiator\"\n",
      "75        2002      47        \"Denzel Washington\"                    \"Training Day\"\\t\n",
      "76        2003      29             \"Adrien Brody\"                       \"The Pianist\"\n",
      "77        2004      43                \"Sean Penn\"                      \"Mystic River\"\n",
      "78        2005      37               \"Jamie Foxx\"                               \"Ray\"\n",
      "79        2006      38   \"Philip Seymour Hoffman\"                            \"Capote\"\n",
      "80        2007      45          \"Forest Whitaker\"       \"The Last King of Scotland\"\\t\n",
      "81        2008      50         \"Daniel Day-Lewis\"               \"There Will Be Blood\"\n",
      "82        2009      48                \"Sean Penn\"                              \"Milk\"\n",
      "83        2010      60             \"Jeff Bridges\"                       \"Crazy Heart\"\n",
      "84        2011      50              \"Colin Firth\"               \"The King's Speech\"\\t\n",
      "85        2012      39            \"Jean Dujardin\"                        \"The Artist\"\n",
      "86        2013      55         \"Daniel Day-Lewis\"                           \"Lincoln\"\n",
      "87        2014      44      \"Matthew McConaughey\"                \"Dallas Buyers Club\"\n",
      "88        2015      33           \"Eddie Redmayne\"        \"The Theory of Everything\"\\t\n",
      "89        2016      41        \"Leonardo DiCaprio\"                      \"The Revenant\"\n"
     ]
    }
   ],
   "source": [
    "print(df_oscar_age_male.to_string())"
   ]
  },
  {
   "cell_type": "markdown",
   "id": "44f84879",
   "metadata": {},
   "source": [
    "#### Insert the correct syntax for loading JSON files into a DataFrame.\n",
    "\n"
   ]
  },
  {
   "cell_type": "code",
   "execution_count": 32,
   "id": "3e7a4c58",
   "metadata": {
    "ExecuteTime": {
     "end_time": "2021-08-30T20:02:31.188559Z",
     "start_time": "2021-08-30T20:02:31.174561Z"
    }
   },
   "outputs": [
    {
     "data": {
      "text/html": [
       "<div>\n",
       "<style scoped>\n",
       "    .dataframe tbody tr th:only-of-type {\n",
       "        vertical-align: middle;\n",
       "    }\n",
       "\n",
       "    .dataframe tbody tr th {\n",
       "        vertical-align: top;\n",
       "    }\n",
       "\n",
       "    .dataframe thead th {\n",
       "        text-align: right;\n",
       "    }\n",
       "</style>\n",
       "<table border=\"1\" class=\"dataframe\">\n",
       "  <thead>\n",
       "    <tr style=\"text-align: right;\">\n",
       "      <th></th>\n",
       "      <th>main</th>\n",
       "      <th>number</th>\n",
       "    </tr>\n",
       "  </thead>\n",
       "  <tbody>\n",
       "    <tr>\n",
       "      <th>age</th>\n",
       "      <td>23</td>\n",
       "      <td>1231231</td>\n",
       "    </tr>\n",
       "    <tr>\n",
       "      <th>name</th>\n",
       "      <td>Joseph</td>\n",
       "      <td>1231231</td>\n",
       "    </tr>\n",
       "    <tr>\n",
       "      <th>name_last</th>\n",
       "      <td>Edradan</td>\n",
       "      <td>1231231</td>\n",
       "    </tr>\n",
       "  </tbody>\n",
       "</table>\n",
       "</div>"
      ],
      "text/plain": [
       "              main   number\n",
       "age             23  1231231\n",
       "name        Joseph  1231231\n",
       "name_last  Edradan  1231231"
      ]
     },
     "execution_count": 32,
     "metadata": {},
     "output_type": "execute_result"
    }
   ],
   "source": [
    "dict_example = {\"main\":{\"name\": \"Joseph\",\n",
    "                       \"name_last\": \"Edradan\",\n",
    "                       \"age\": 23},\n",
    "               \"number\": 1231231}\n",
    "pd.read_json(json.dumps(dict_example))"
   ]
  },
  {
   "cell_type": "markdown",
   "id": "a93571ed",
   "metadata": {},
   "source": [
    "#### Insert the correct syntax for loading a Python dictionary called \"data\" into a DataFrame.\n",
    "\n"
   ]
  },
  {
   "cell_type": "code",
   "execution_count": 33,
   "id": "587085b6",
   "metadata": {
    "ExecuteTime": {
     "end_time": "2021-08-30T20:02:31.203559Z",
     "start_time": "2021-08-30T20:02:31.190560Z"
    }
   },
   "outputs": [
    {
     "data": {
      "text/html": [
       "<div>\n",
       "<style scoped>\n",
       "    .dataframe tbody tr th:only-of-type {\n",
       "        vertical-align: middle;\n",
       "    }\n",
       "\n",
       "    .dataframe tbody tr th {\n",
       "        vertical-align: top;\n",
       "    }\n",
       "\n",
       "    .dataframe thead th {\n",
       "        text-align: right;\n",
       "    }\n",
       "</style>\n",
       "<table border=\"1\" class=\"dataframe\">\n",
       "  <thead>\n",
       "    <tr style=\"text-align: right;\">\n",
       "      <th></th>\n",
       "      <th>main</th>\n",
       "      <th>number</th>\n",
       "    </tr>\n",
       "  </thead>\n",
       "  <tbody>\n",
       "    <tr>\n",
       "      <th>age</th>\n",
       "      <td>23</td>\n",
       "      <td>1231231</td>\n",
       "    </tr>\n",
       "    <tr>\n",
       "      <th>name</th>\n",
       "      <td>Joseph</td>\n",
       "      <td>1231231</td>\n",
       "    </tr>\n",
       "    <tr>\n",
       "      <th>name_last</th>\n",
       "      <td>Edradan</td>\n",
       "      <td>1231231</td>\n",
       "    </tr>\n",
       "  </tbody>\n",
       "</table>\n",
       "</div>"
      ],
      "text/plain": [
       "              main   number\n",
       "age             23  1231231\n",
       "name        Joseph  1231231\n",
       "name_last  Edradan  1231231"
      ]
     },
     "execution_count": 33,
     "metadata": {},
     "output_type": "execute_result"
    }
   ],
   "source": [
    "data = dict_example\n",
    "pd.DataFrame(data)"
   ]
  },
  {
   "cell_type": "markdown",
   "id": "512b47f2",
   "metadata": {},
   "source": [
    "#### Insert the correct syntax for returning the headers and the first 10 rows of a DataFrame.\n",
    "\n"
   ]
  },
  {
   "cell_type": "code",
   "execution_count": 34,
   "id": "0e1f58a6",
   "metadata": {
    "ExecuteTime": {
     "end_time": "2021-08-30T20:02:31.219558Z",
     "start_time": "2021-08-30T20:02:31.204558Z"
    }
   },
   "outputs": [
    {
     "data": {
      "text/html": [
       "<div>\n",
       "<style scoped>\n",
       "    .dataframe tbody tr th:only-of-type {\n",
       "        vertical-align: middle;\n",
       "    }\n",
       "\n",
       "    .dataframe tbody tr th {\n",
       "        vertical-align: top;\n",
       "    }\n",
       "\n",
       "    .dataframe thead th {\n",
       "        text-align: right;\n",
       "    }\n",
       "</style>\n",
       "<table border=\"1\" class=\"dataframe\">\n",
       "  <thead>\n",
       "    <tr style=\"text-align: right;\">\n",
       "      <th></th>\n",
       "      <th>\"Year\"</th>\n",
       "      <th>\"Age\"</th>\n",
       "      <th>\"Name\"</th>\n",
       "      <th>\"Movie\"</th>\n",
       "    </tr>\n",
       "    <tr>\n",
       "      <th>Index</th>\n",
       "      <th></th>\n",
       "      <th></th>\n",
       "      <th></th>\n",
       "      <th></th>\n",
       "    </tr>\n",
       "  </thead>\n",
       "  <tbody>\n",
       "    <tr>\n",
       "      <th>1</th>\n",
       "      <td>1928</td>\n",
       "      <td>44</td>\n",
       "      <td>\"Emil Jannings\"</td>\n",
       "      <td>\"The Last Command</td>\n",
       "    </tr>\n",
       "    <tr>\n",
       "      <th>2</th>\n",
       "      <td>1929</td>\n",
       "      <td>41</td>\n",
       "      <td>\"Warner Baxter\"</td>\n",
       "      <td>\"In Old Arizona\"</td>\n",
       "    </tr>\n",
       "    <tr>\n",
       "      <th>3</th>\n",
       "      <td>1930</td>\n",
       "      <td>62</td>\n",
       "      <td>\"George Arliss\"</td>\n",
       "      <td>\"Disraeli\"</td>\n",
       "    </tr>\n",
       "    <tr>\n",
       "      <th>4</th>\n",
       "      <td>1931</td>\n",
       "      <td>53</td>\n",
       "      <td>\"Lionel Barrymore\"</td>\n",
       "      <td>\"A Free Soul\"</td>\n",
       "    </tr>\n",
       "    <tr>\n",
       "      <th>5</th>\n",
       "      <td>1932</td>\n",
       "      <td>47</td>\n",
       "      <td>\"Wallace Beery\"</td>\n",
       "      <td>\"The Champ\"</td>\n",
       "    </tr>\n",
       "    <tr>\n",
       "      <th>6</th>\n",
       "      <td>1933</td>\n",
       "      <td>35</td>\n",
       "      <td>\"Fredric March\"</td>\n",
       "      <td>\"Dr. Jekyll and Mr. Hyde\"</td>\n",
       "    </tr>\n",
       "    <tr>\n",
       "      <th>7</th>\n",
       "      <td>1934</td>\n",
       "      <td>34</td>\n",
       "      <td>\"Charles Laughton\"</td>\n",
       "      <td>\"The Private Life of Henry VIII\"</td>\n",
       "    </tr>\n",
       "    <tr>\n",
       "      <th>8</th>\n",
       "      <td>1935</td>\n",
       "      <td>34</td>\n",
       "      <td>\"Clark Gable\"</td>\n",
       "      <td>\"It Happened One Night\"</td>\n",
       "    </tr>\n",
       "    <tr>\n",
       "      <th>9</th>\n",
       "      <td>1936</td>\n",
       "      <td>49</td>\n",
       "      <td>\"Victor McLaglen\"</td>\n",
       "      <td>\"The Informer\"\\t</td>\n",
       "    </tr>\n",
       "    <tr>\n",
       "      <th>10</th>\n",
       "      <td>1937</td>\n",
       "      <td>41</td>\n",
       "      <td>\"Paul Muni\"</td>\n",
       "      <td>\"The Story of Louis Pasteur\"\\t</td>\n",
       "    </tr>\n",
       "  </tbody>\n",
       "</table>\n",
       "</div>"
      ],
      "text/plain": [
       "        \"Year\"   \"Age\"               \"Name\"                            \"Movie\"\n",
       "Index                                                                         \n",
       "1         1928      44      \"Emil Jannings\"                  \"The Last Command\n",
       "2         1929      41      \"Warner Baxter\"                   \"In Old Arizona\"\n",
       "3         1930      62      \"George Arliss\"                         \"Disraeli\"\n",
       "4         1931      53   \"Lionel Barrymore\"                      \"A Free Soul\"\n",
       "5         1932      47      \"Wallace Beery\"                        \"The Champ\"\n",
       "6         1933      35      \"Fredric March\"          \"Dr. Jekyll and Mr. Hyde\"\n",
       "7         1934      34   \"Charles Laughton\"   \"The Private Life of Henry VIII\"\n",
       "8         1935      34        \"Clark Gable\"            \"It Happened One Night\"\n",
       "9         1936      49    \"Victor McLaglen\"                   \"The Informer\"\\t\n",
       "10        1937      41          \"Paul Muni\"     \"The Story of Louis Pasteur\"\\t"
      ]
     },
     "execution_count": 34,
     "metadata": {},
     "output_type": "execute_result"
    }
   ],
   "source": [
    "df_oscar_age_male.head(10)"
   ]
  },
  {
   "cell_type": "markdown",
   "id": "7f67fab5",
   "metadata": {},
   "source": [
    "#### When using the head() method, how many rows are returned if you do not specify the number?\n",
    "\n"
   ]
  },
  {
   "cell_type": "code",
   "execution_count": 35,
   "id": "3b4a0669",
   "metadata": {
    "ExecuteTime": {
     "end_time": "2021-08-30T20:02:31.235559Z",
     "start_time": "2021-08-30T20:02:31.220561Z"
    }
   },
   "outputs": [
    {
     "data": {
      "text/html": [
       "<div>\n",
       "<style scoped>\n",
       "    .dataframe tbody tr th:only-of-type {\n",
       "        vertical-align: middle;\n",
       "    }\n",
       "\n",
       "    .dataframe tbody tr th {\n",
       "        vertical-align: top;\n",
       "    }\n",
       "\n",
       "    .dataframe thead th {\n",
       "        text-align: right;\n",
       "    }\n",
       "</style>\n",
       "<table border=\"1\" class=\"dataframe\">\n",
       "  <thead>\n",
       "    <tr style=\"text-align: right;\">\n",
       "      <th></th>\n",
       "      <th>\"Year\"</th>\n",
       "      <th>\"Age\"</th>\n",
       "      <th>\"Name\"</th>\n",
       "      <th>\"Movie\"</th>\n",
       "    </tr>\n",
       "    <tr>\n",
       "      <th>Index</th>\n",
       "      <th></th>\n",
       "      <th></th>\n",
       "      <th></th>\n",
       "      <th></th>\n",
       "    </tr>\n",
       "  </thead>\n",
       "  <tbody>\n",
       "    <tr>\n",
       "      <th>1</th>\n",
       "      <td>1928</td>\n",
       "      <td>44</td>\n",
       "      <td>\"Emil Jannings\"</td>\n",
       "      <td>\"The Last Command</td>\n",
       "    </tr>\n",
       "    <tr>\n",
       "      <th>2</th>\n",
       "      <td>1929</td>\n",
       "      <td>41</td>\n",
       "      <td>\"Warner Baxter\"</td>\n",
       "      <td>\"In Old Arizona\"</td>\n",
       "    </tr>\n",
       "    <tr>\n",
       "      <th>3</th>\n",
       "      <td>1930</td>\n",
       "      <td>62</td>\n",
       "      <td>\"George Arliss\"</td>\n",
       "      <td>\"Disraeli\"</td>\n",
       "    </tr>\n",
       "    <tr>\n",
       "      <th>4</th>\n",
       "      <td>1931</td>\n",
       "      <td>53</td>\n",
       "      <td>\"Lionel Barrymore\"</td>\n",
       "      <td>\"A Free Soul\"</td>\n",
       "    </tr>\n",
       "    <tr>\n",
       "      <th>5</th>\n",
       "      <td>1932</td>\n",
       "      <td>47</td>\n",
       "      <td>\"Wallace Beery\"</td>\n",
       "      <td>\"The Champ\"</td>\n",
       "    </tr>\n",
       "  </tbody>\n",
       "</table>\n",
       "</div>"
      ],
      "text/plain": [
       "        \"Year\"   \"Age\"               \"Name\"             \"Movie\"\n",
       "Index                                                          \n",
       "1         1928      44      \"Emil Jannings\"   \"The Last Command\n",
       "2         1929      41      \"Warner Baxter\"    \"In Old Arizona\"\n",
       "3         1930      62      \"George Arliss\"          \"Disraeli\"\n",
       "4         1931      53   \"Lionel Barrymore\"       \"A Free Soul\"\n",
       "5         1932      47      \"Wallace Beery\"         \"The Champ\""
      ]
     },
     "execution_count": 35,
     "metadata": {},
     "output_type": "execute_result"
    }
   ],
   "source": [
    "df_oscar_age_male.head()"
   ]
  },
  {
   "cell_type": "markdown",
   "id": "0264b12f",
   "metadata": {},
   "source": [
    "#### The head() method returns the first rows, what method returns the last rows?\n",
    "\n"
   ]
  },
  {
   "cell_type": "code",
   "execution_count": 36,
   "id": "8d31ff4e",
   "metadata": {
    "ExecuteTime": {
     "end_time": "2021-08-30T20:02:31.250558Z",
     "start_time": "2021-08-30T20:02:31.236558Z"
    }
   },
   "outputs": [
    {
     "data": {
      "text/html": [
       "<div>\n",
       "<style scoped>\n",
       "    .dataframe tbody tr th:only-of-type {\n",
       "        vertical-align: middle;\n",
       "    }\n",
       "\n",
       "    .dataframe tbody tr th {\n",
       "        vertical-align: top;\n",
       "    }\n",
       "\n",
       "    .dataframe thead th {\n",
       "        text-align: right;\n",
       "    }\n",
       "</style>\n",
       "<table border=\"1\" class=\"dataframe\">\n",
       "  <thead>\n",
       "    <tr style=\"text-align: right;\">\n",
       "      <th></th>\n",
       "      <th>\"Year\"</th>\n",
       "      <th>\"Age\"</th>\n",
       "      <th>\"Name\"</th>\n",
       "      <th>\"Movie\"</th>\n",
       "    </tr>\n",
       "    <tr>\n",
       "      <th>Index</th>\n",
       "      <th></th>\n",
       "      <th></th>\n",
       "      <th></th>\n",
       "      <th></th>\n",
       "    </tr>\n",
       "  </thead>\n",
       "  <tbody>\n",
       "    <tr>\n",
       "      <th>85</th>\n",
       "      <td>2012</td>\n",
       "      <td>39</td>\n",
       "      <td>\"Jean Dujardin\"</td>\n",
       "      <td>\"The Artist\"</td>\n",
       "    </tr>\n",
       "    <tr>\n",
       "      <th>86</th>\n",
       "      <td>2013</td>\n",
       "      <td>55</td>\n",
       "      <td>\"Daniel Day-Lewis\"</td>\n",
       "      <td>\"Lincoln\"</td>\n",
       "    </tr>\n",
       "    <tr>\n",
       "      <th>87</th>\n",
       "      <td>2014</td>\n",
       "      <td>44</td>\n",
       "      <td>\"Matthew McConaughey\"</td>\n",
       "      <td>\"Dallas Buyers Club\"</td>\n",
       "    </tr>\n",
       "    <tr>\n",
       "      <th>88</th>\n",
       "      <td>2015</td>\n",
       "      <td>33</td>\n",
       "      <td>\"Eddie Redmayne\"</td>\n",
       "      <td>\"The Theory of Everything\"\\t</td>\n",
       "    </tr>\n",
       "    <tr>\n",
       "      <th>89</th>\n",
       "      <td>2016</td>\n",
       "      <td>41</td>\n",
       "      <td>\"Leonardo DiCaprio\"</td>\n",
       "      <td>\"The Revenant\"</td>\n",
       "    </tr>\n",
       "  </tbody>\n",
       "</table>\n",
       "</div>"
      ],
      "text/plain": [
       "        \"Year\"   \"Age\"                  \"Name\"                        \"Movie\"\n",
       "Index                                                                        \n",
       "85        2012      39         \"Jean Dujardin\"                   \"The Artist\"\n",
       "86        2013      55      \"Daniel Day-Lewis\"                      \"Lincoln\"\n",
       "87        2014      44   \"Matthew McConaughey\"           \"Dallas Buyers Club\"\n",
       "88        2015      33        \"Eddie Redmayne\"   \"The Theory of Everything\"\\t\n",
       "89        2016      41     \"Leonardo DiCaprio\"                 \"The Revenant\""
      ]
     },
     "execution_count": 36,
     "metadata": {},
     "output_type": "execute_result"
    }
   ],
   "source": [
    "df_oscar_age_male.tail()"
   ]
  },
  {
   "cell_type": "markdown",
   "id": "10e09bc5",
   "metadata": {},
   "source": [
    "### PANDAS Cleaning "
   ]
  },
  {
   "cell_type": "markdown",
   "id": "cb0b82bf",
   "metadata": {},
   "source": [
    "#### Insert the correct syntax for removing rows with empty cells.\n",
    "\n"
   ]
  },
  {
   "cell_type": "code",
   "execution_count": 37,
   "id": "d8729d53",
   "metadata": {
    "ExecuteTime": {
     "end_time": "2021-08-30T20:02:31.265558Z",
     "start_time": "2021-08-30T20:02:31.252563Z"
    }
   },
   "outputs": [
    {
     "data": {
      "text/html": [
       "<div>\n",
       "<style scoped>\n",
       "    .dataframe tbody tr th:only-of-type {\n",
       "        vertical-align: middle;\n",
       "    }\n",
       "\n",
       "    .dataframe tbody tr th {\n",
       "        vertical-align: top;\n",
       "    }\n",
       "\n",
       "    .dataframe thead th {\n",
       "        text-align: right;\n",
       "    }\n",
       "</style>\n",
       "<table border=\"1\" class=\"dataframe\">\n",
       "  <thead>\n",
       "    <tr style=\"text-align: right;\">\n",
       "      <th></th>\n",
       "      <th>0</th>\n",
       "    </tr>\n",
       "  </thead>\n",
       "  <tbody>\n",
       "    <tr>\n",
       "      <th>0</th>\n",
       "      <td>2.0</td>\n",
       "    </tr>\n",
       "    <tr>\n",
       "      <th>1</th>\n",
       "      <td>2.0</td>\n",
       "    </tr>\n",
       "    <tr>\n",
       "      <th>2</th>\n",
       "      <td>2.0</td>\n",
       "    </tr>\n",
       "    <tr>\n",
       "      <th>3</th>\n",
       "      <td>2.0</td>\n",
       "    </tr>\n",
       "    <tr>\n",
       "      <th>4</th>\n",
       "      <td>NaN</td>\n",
       "    </tr>\n",
       "    <tr>\n",
       "      <th>5</th>\n",
       "      <td>4.0</td>\n",
       "    </tr>\n",
       "    <tr>\n",
       "      <th>6</th>\n",
       "      <td>4.0</td>\n",
       "    </tr>\n",
       "    <tr>\n",
       "      <th>7</th>\n",
       "      <td>4.0</td>\n",
       "    </tr>\n",
       "    <tr>\n",
       "      <th>8</th>\n",
       "      <td>4.0</td>\n",
       "    </tr>\n",
       "    <tr>\n",
       "      <th>9</th>\n",
       "      <td>6.0</td>\n",
       "    </tr>\n",
       "    <tr>\n",
       "      <th>10</th>\n",
       "      <td>NaN</td>\n",
       "    </tr>\n",
       "    <tr>\n",
       "      <th>11</th>\n",
       "      <td>NaN</td>\n",
       "    </tr>\n",
       "    <tr>\n",
       "      <th>12</th>\n",
       "      <td>10.0</td>\n",
       "    </tr>\n",
       "  </tbody>\n",
       "</table>\n",
       "</div>"
      ],
      "text/plain": [
       "       0\n",
       "0    2.0\n",
       "1    2.0\n",
       "2    2.0\n",
       "3    2.0\n",
       "4    NaN\n",
       "5    4.0\n",
       "6    4.0\n",
       "7    4.0\n",
       "8    4.0\n",
       "9    6.0\n",
       "10   NaN\n",
       "11   NaN\n",
       "12  10.0"
      ]
     },
     "metadata": {},
     "output_type": "display_data"
    }
   ],
   "source": [
    "df_2 = pd.DataFrame([2,2,2,2,None,4,4,4,4,6,None,None,10])\n",
    "\n",
    "display(df_2)"
   ]
  },
  {
   "cell_type": "code",
   "execution_count": 38,
   "id": "6ebc10ff",
   "metadata": {
    "ExecuteTime": {
     "end_time": "2021-08-30T20:02:31.281558Z",
     "start_time": "2021-08-30T20:02:31.267560Z"
    }
   },
   "outputs": [
    {
     "data": {
      "text/html": [
       "<div>\n",
       "<style scoped>\n",
       "    .dataframe tbody tr th:only-of-type {\n",
       "        vertical-align: middle;\n",
       "    }\n",
       "\n",
       "    .dataframe tbody tr th {\n",
       "        vertical-align: top;\n",
       "    }\n",
       "\n",
       "    .dataframe thead th {\n",
       "        text-align: right;\n",
       "    }\n",
       "</style>\n",
       "<table border=\"1\" class=\"dataframe\">\n",
       "  <thead>\n",
       "    <tr style=\"text-align: right;\">\n",
       "      <th></th>\n",
       "      <th>0</th>\n",
       "    </tr>\n",
       "  </thead>\n",
       "  <tbody>\n",
       "    <tr>\n",
       "      <th>0</th>\n",
       "      <td>2.0</td>\n",
       "    </tr>\n",
       "    <tr>\n",
       "      <th>1</th>\n",
       "      <td>2.0</td>\n",
       "    </tr>\n",
       "    <tr>\n",
       "      <th>2</th>\n",
       "      <td>2.0</td>\n",
       "    </tr>\n",
       "    <tr>\n",
       "      <th>3</th>\n",
       "      <td>2.0</td>\n",
       "    </tr>\n",
       "    <tr>\n",
       "      <th>5</th>\n",
       "      <td>4.0</td>\n",
       "    </tr>\n",
       "    <tr>\n",
       "      <th>6</th>\n",
       "      <td>4.0</td>\n",
       "    </tr>\n",
       "    <tr>\n",
       "      <th>7</th>\n",
       "      <td>4.0</td>\n",
       "    </tr>\n",
       "    <tr>\n",
       "      <th>8</th>\n",
       "      <td>4.0</td>\n",
       "    </tr>\n",
       "    <tr>\n",
       "      <th>9</th>\n",
       "      <td>6.0</td>\n",
       "    </tr>\n",
       "    <tr>\n",
       "      <th>12</th>\n",
       "      <td>10.0</td>\n",
       "    </tr>\n",
       "  </tbody>\n",
       "</table>\n",
       "</div>"
      ],
      "text/plain": [
       "       0\n",
       "0    2.0\n",
       "1    2.0\n",
       "2    2.0\n",
       "3    2.0\n",
       "5    4.0\n",
       "6    4.0\n",
       "7    4.0\n",
       "8    4.0\n",
       "9    6.0\n",
       "12  10.0"
      ]
     },
     "metadata": {},
     "output_type": "display_data"
    }
   ],
   "source": [
    "display(df_2.dropna())"
   ]
  },
  {
   "cell_type": "markdown",
   "id": "87ce9be6",
   "metadata": {},
   "source": [
    "#### Insert the correct syntax for replacing empty cells with the value \"130\".\n",
    "\n"
   ]
  },
  {
   "cell_type": "code",
   "execution_count": 39,
   "id": "eea596b6",
   "metadata": {
    "ExecuteTime": {
     "end_time": "2021-08-30T20:02:31.296559Z",
     "start_time": "2021-08-30T20:02:31.282560Z"
    }
   },
   "outputs": [
    {
     "data": {
      "text/html": [
       "<div>\n",
       "<style scoped>\n",
       "    .dataframe tbody tr th:only-of-type {\n",
       "        vertical-align: middle;\n",
       "    }\n",
       "\n",
       "    .dataframe tbody tr th {\n",
       "        vertical-align: top;\n",
       "    }\n",
       "\n",
       "    .dataframe thead th {\n",
       "        text-align: right;\n",
       "    }\n",
       "</style>\n",
       "<table border=\"1\" class=\"dataframe\">\n",
       "  <thead>\n",
       "    <tr style=\"text-align: right;\">\n",
       "      <th></th>\n",
       "      <th>0</th>\n",
       "    </tr>\n",
       "  </thead>\n",
       "  <tbody>\n",
       "    <tr>\n",
       "      <th>0</th>\n",
       "      <td>2.0</td>\n",
       "    </tr>\n",
       "    <tr>\n",
       "      <th>1</th>\n",
       "      <td>2.0</td>\n",
       "    </tr>\n",
       "    <tr>\n",
       "      <th>2</th>\n",
       "      <td>2.0</td>\n",
       "    </tr>\n",
       "    <tr>\n",
       "      <th>3</th>\n",
       "      <td>2.0</td>\n",
       "    </tr>\n",
       "    <tr>\n",
       "      <th>4</th>\n",
       "      <td>130.0</td>\n",
       "    </tr>\n",
       "    <tr>\n",
       "      <th>5</th>\n",
       "      <td>4.0</td>\n",
       "    </tr>\n",
       "    <tr>\n",
       "      <th>6</th>\n",
       "      <td>4.0</td>\n",
       "    </tr>\n",
       "    <tr>\n",
       "      <th>7</th>\n",
       "      <td>4.0</td>\n",
       "    </tr>\n",
       "    <tr>\n",
       "      <th>8</th>\n",
       "      <td>4.0</td>\n",
       "    </tr>\n",
       "    <tr>\n",
       "      <th>9</th>\n",
       "      <td>6.0</td>\n",
       "    </tr>\n",
       "    <tr>\n",
       "      <th>10</th>\n",
       "      <td>130.0</td>\n",
       "    </tr>\n",
       "    <tr>\n",
       "      <th>11</th>\n",
       "      <td>130.0</td>\n",
       "    </tr>\n",
       "    <tr>\n",
       "      <th>12</th>\n",
       "      <td>10.0</td>\n",
       "    </tr>\n",
       "  </tbody>\n",
       "</table>\n",
       "</div>"
      ],
      "text/plain": [
       "        0\n",
       "0     2.0\n",
       "1     2.0\n",
       "2     2.0\n",
       "3     2.0\n",
       "4   130.0\n",
       "5     4.0\n",
       "6     4.0\n",
       "7     4.0\n",
       "8     4.0\n",
       "9     6.0\n",
       "10  130.0\n",
       "11  130.0\n",
       "12   10.0"
      ]
     },
     "execution_count": 39,
     "metadata": {},
     "output_type": "execute_result"
    }
   ],
   "source": [
    "df_2.fillna(130)"
   ]
  },
  {
   "cell_type": "markdown",
   "id": "ecd1192a",
   "metadata": {},
   "source": [
    "#### Insert the correct argument to make sure that the changes are done for the original DataFrame instead of returning a new one.\n",
    "\n"
   ]
  },
  {
   "cell_type": "code",
   "execution_count": 40,
   "id": "f4681e70",
   "metadata": {
    "ExecuteTime": {
     "end_time": "2021-08-30T20:02:31.311559Z",
     "start_time": "2021-08-30T20:02:31.297560Z"
    }
   },
   "outputs": [
    {
     "data": {
      "text/html": [
       "<div>\n",
       "<style scoped>\n",
       "    .dataframe tbody tr th:only-of-type {\n",
       "        vertical-align: middle;\n",
       "    }\n",
       "\n",
       "    .dataframe tbody tr th {\n",
       "        vertical-align: top;\n",
       "    }\n",
       "\n",
       "    .dataframe thead th {\n",
       "        text-align: right;\n",
       "    }\n",
       "</style>\n",
       "<table border=\"1\" class=\"dataframe\">\n",
       "  <thead>\n",
       "    <tr style=\"text-align: right;\">\n",
       "      <th></th>\n",
       "      <th>0</th>\n",
       "    </tr>\n",
       "  </thead>\n",
       "  <tbody>\n",
       "    <tr>\n",
       "      <th>0</th>\n",
       "      <td>2.0</td>\n",
       "    </tr>\n",
       "    <tr>\n",
       "      <th>1</th>\n",
       "      <td>2.0</td>\n",
       "    </tr>\n",
       "    <tr>\n",
       "      <th>2</th>\n",
       "      <td>2.0</td>\n",
       "    </tr>\n",
       "    <tr>\n",
       "      <th>3</th>\n",
       "      <td>2.0</td>\n",
       "    </tr>\n",
       "    <tr>\n",
       "      <th>5</th>\n",
       "      <td>4.0</td>\n",
       "    </tr>\n",
       "    <tr>\n",
       "      <th>6</th>\n",
       "      <td>4.0</td>\n",
       "    </tr>\n",
       "    <tr>\n",
       "      <th>7</th>\n",
       "      <td>4.0</td>\n",
       "    </tr>\n",
       "    <tr>\n",
       "      <th>8</th>\n",
       "      <td>4.0</td>\n",
       "    </tr>\n",
       "    <tr>\n",
       "      <th>9</th>\n",
       "      <td>6.0</td>\n",
       "    </tr>\n",
       "    <tr>\n",
       "      <th>12</th>\n",
       "      <td>10.0</td>\n",
       "    </tr>\n",
       "  </tbody>\n",
       "</table>\n",
       "</div>"
      ],
      "text/plain": [
       "       0\n",
       "0    2.0\n",
       "1    2.0\n",
       "2    2.0\n",
       "3    2.0\n",
       "5    4.0\n",
       "6    4.0\n",
       "7    4.0\n",
       "8    4.0\n",
       "9    6.0\n",
       "12  10.0"
      ]
     },
     "execution_count": 40,
     "metadata": {},
     "output_type": "execute_result"
    }
   ],
   "source": [
    "df_2.dropna(inplace = True)\n",
    "df_2"
   ]
  },
  {
   "cell_type": "markdown",
   "id": "3d4a2c48",
   "metadata": {},
   "source": [
    "#### Insert the correct syntax for removing duplicates in a DataFrame.\n",
    "\n"
   ]
  },
  {
   "cell_type": "code",
   "execution_count": 41,
   "id": "172d4502",
   "metadata": {
    "ExecuteTime": {
     "end_time": "2021-08-30T20:02:31.326559Z",
     "start_time": "2021-08-30T20:02:31.312559Z"
    }
   },
   "outputs": [
    {
     "data": {
      "text/html": [
       "<div>\n",
       "<style scoped>\n",
       "    .dataframe tbody tr th:only-of-type {\n",
       "        vertical-align: middle;\n",
       "    }\n",
       "\n",
       "    .dataframe tbody tr th {\n",
       "        vertical-align: top;\n",
       "    }\n",
       "\n",
       "    .dataframe thead th {\n",
       "        text-align: right;\n",
       "    }\n",
       "</style>\n",
       "<table border=\"1\" class=\"dataframe\">\n",
       "  <thead>\n",
       "    <tr style=\"text-align: right;\">\n",
       "      <th></th>\n",
       "      <th>0</th>\n",
       "    </tr>\n",
       "  </thead>\n",
       "  <tbody>\n",
       "    <tr>\n",
       "      <th>0</th>\n",
       "      <td>2.0</td>\n",
       "    </tr>\n",
       "    <tr>\n",
       "      <th>5</th>\n",
       "      <td>4.0</td>\n",
       "    </tr>\n",
       "    <tr>\n",
       "      <th>9</th>\n",
       "      <td>6.0</td>\n",
       "    </tr>\n",
       "    <tr>\n",
       "      <th>12</th>\n",
       "      <td>10.0</td>\n",
       "    </tr>\n",
       "  </tbody>\n",
       "</table>\n",
       "</div>"
      ],
      "text/plain": [
       "       0\n",
       "0    2.0\n",
       "5    4.0\n",
       "9    6.0\n",
       "12  10.0"
      ]
     },
     "execution_count": 41,
     "metadata": {},
     "output_type": "execute_result"
    }
   ],
   "source": [
    "df_2.drop_duplicates()"
   ]
  },
  {
   "cell_type": "markdown",
   "id": "bd592512",
   "metadata": {},
   "source": [
    "### PANDAS Correlations "
   ]
  },
  {
   "cell_type": "markdown",
   "id": "26244e6c",
   "metadata": {},
   "source": [
    "#### Insert a correct syntax for finding relationships between columns in a DataFrame.\n",
    "\n"
   ]
  },
  {
   "cell_type": "code",
   "execution_count": 42,
   "id": "d16531e9",
   "metadata": {
    "ExecuteTime": {
     "end_time": "2021-08-30T20:02:31.757591Z",
     "start_time": "2021-08-30T20:02:31.328559Z"
    },
    "scrolled": false
   },
   "outputs": [],
   "source": [
    "# Reference: https://people.sc.fsu.edu/~jburkardt/data/csv/csv.html\n",
    "df_grades = pd.read_csv(\n",
    "    \"https://people.sc.fsu.edu/~jburkardt/data/csv/grades.csv\")\n",
    "\n",
    "df_grades.columns = [\"Last Name\", \"First Name\", \"SSN\", \"Test 1\",\n",
    "                     \"Test 2\", \"Test 3\", \"Test 4\", \"Final\", \"Grade\"]  # Fixes column names\n",
    "\n",
    "# Fix \"Test 1\" Column\n",
    "df_grades[\"Test 1\"] = df_grades[\"Test 1\"].apply(\n",
    "    lambda i: re.search(\"\\d+.\\d+\", i).group(0))\n",
    "\n",
    "# Fix \"Test 1\" Column Values\n",
    "df_grades[\"First Name\"] = df_grades[\"First Name\"].apply(\n",
    "    lambda i: re.search(\"[a-zA-Z]+\", i).group(0))\n",
    "\n",
    "# Add new column\n",
    "df_grades[\"Full Name\"] = df_grades[\"First Name\"] + \" \" + df_grades[\"Last Name\"]\n",
    "\n",
    "# Fix \"Test 1\" Column Values\n",
    "df_grades = df_grades.astype({\"Test 1\": \"float64\"})\n",
    "\n",
    "# Remove Broken rows\n",
    "df_grades.dropna(inplace=True)\n",
    "\n",
    "# Creating Grades with + and -\n",
    "list_grade = [(str(i)+\"+\", str(i), str(i)+\"-\") for i in \"ABCD\"]\n",
    "\n",
    "# Inner tuple unpacking\n",
    "list_grade = [grade for _tuple in list_grade for grade in _tuple]\n",
    "list_grade.append(\"F\")\n",
    "# print(list_grade)\n",
    "\n",
    "# Dict of Grade mapping to int\n",
    "dict_grade_to_num = {grade: 100 - (index * 3)\n",
    "                     for index, grade in enumerate(list_grade)}\n",
    "# print(dict_grade_to_num)\n",
    "\n",
    "# Fix \"Grade\" Column Values\n",
    "df_grades[\"Grade\"] = df_grades[\"Grade\"].apply(\n",
    "    lambda i: re.search(\"[A-Z+-]+\", i).group(0))\n",
    "\n",
    "# Add new column\n",
    "df_grades[\"Grade Value\"] = [dict_grade_to_num[i] for i in df_grades[\"Grade\"]]\n",
    "\n",
    "# Sort by \"Final\" Column\n",
    "df_grades.sort_values(inplace=True, by=\"Final\")"
   ]
  },
  {
   "cell_type": "code",
   "execution_count": 43,
   "id": "a74d3a8f",
   "metadata": {
    "ExecuteTime": {
     "end_time": "2021-08-30T20:02:31.772591Z",
     "start_time": "2021-08-30T20:02:31.758589Z"
    },
    "scrolled": false
   },
   "outputs": [
    {
     "data": {
      "text/html": [
       "<div>\n",
       "<style scoped>\n",
       "    .dataframe tbody tr th:only-of-type {\n",
       "        vertical-align: middle;\n",
       "    }\n",
       "\n",
       "    .dataframe tbody tr th {\n",
       "        vertical-align: top;\n",
       "    }\n",
       "\n",
       "    .dataframe thead th {\n",
       "        text-align: right;\n",
       "    }\n",
       "</style>\n",
       "<table border=\"1\" class=\"dataframe\">\n",
       "  <thead>\n",
       "    <tr style=\"text-align: right;\">\n",
       "      <th></th>\n",
       "      <th>Last Name</th>\n",
       "      <th>First Name</th>\n",
       "      <th>SSN</th>\n",
       "      <th>Test 1</th>\n",
       "      <th>Test 2</th>\n",
       "      <th>Test 3</th>\n",
       "      <th>Test 4</th>\n",
       "      <th>Final</th>\n",
       "      <th>Grade</th>\n",
       "      <th>Full Name</th>\n",
       "      <th>Grade Value</th>\n",
       "    </tr>\n",
       "  </thead>\n",
       "  <tbody>\n",
       "    <tr>\n",
       "      <th>14</th>\n",
       "      <td>George</td>\n",
       "      <td>Boy</td>\n",
       "      <td>\"345-67-3901\"</td>\n",
       "      <td>40.0</td>\n",
       "      <td>1.0</td>\n",
       "      <td>11.0</td>\n",
       "      <td>-1.0</td>\n",
       "      <td>4.0</td>\n",
       "      <td>B</td>\n",
       "      <td>Boy George</td>\n",
       "      <td>88</td>\n",
       "    </tr>\n",
       "    <tr>\n",
       "      <th>10</th>\n",
       "      <td>Carnivore</td>\n",
       "      <td>Art</td>\n",
       "      <td>\"565-89-0123\"</td>\n",
       "      <td>44.0</td>\n",
       "      <td>1.0</td>\n",
       "      <td>80.0</td>\n",
       "      <td>60.0</td>\n",
       "      <td>40.0</td>\n",
       "      <td>D+</td>\n",
       "      <td>Art Carnivore</td>\n",
       "      <td>73</td>\n",
       "    </tr>\n",
       "    <tr>\n",
       "      <th>15</th>\n",
       "      <td>Heffalump</td>\n",
       "      <td>Harvey</td>\n",
       "      <td>\"632-79-9439\"</td>\n",
       "      <td>30.0</td>\n",
       "      <td>1.0</td>\n",
       "      <td>20.0</td>\n",
       "      <td>30.0</td>\n",
       "      <td>40.0</td>\n",
       "      <td>C</td>\n",
       "      <td>Harvey Heffalump</td>\n",
       "      <td>79</td>\n",
       "    </tr>\n",
       "    <tr>\n",
       "      <th>6</th>\n",
       "      <td>Noshow</td>\n",
       "      <td>Cecil</td>\n",
       "      <td>\"345-67-8901\"</td>\n",
       "      <td>45.0</td>\n",
       "      <td>11.0</td>\n",
       "      <td>-1.0</td>\n",
       "      <td>4.0</td>\n",
       "      <td>43.0</td>\n",
       "      <td>F</td>\n",
       "      <td>Cecil Noshow</td>\n",
       "      <td>64</td>\n",
       "    </tr>\n",
       "    <tr>\n",
       "      <th>2</th>\n",
       "      <td>Gerty</td>\n",
       "      <td>Gramma</td>\n",
       "      <td>\"567-89-0123\"</td>\n",
       "      <td>41.0</td>\n",
       "      <td>80.0</td>\n",
       "      <td>60.0</td>\n",
       "      <td>40.0</td>\n",
       "      <td>44.0</td>\n",
       "      <td>C</td>\n",
       "      <td>Gramma Gerty</td>\n",
       "      <td>79</td>\n",
       "    </tr>\n",
       "    <tr>\n",
       "      <th>4</th>\n",
       "      <td>Bumpkin</td>\n",
       "      <td>Fred</td>\n",
       "      <td>\"456-78-9012\"</td>\n",
       "      <td>43.0</td>\n",
       "      <td>78.0</td>\n",
       "      <td>88.0</td>\n",
       "      <td>77.0</td>\n",
       "      <td>45.0</td>\n",
       "      <td>A-</td>\n",
       "      <td>Fred Bumpkin</td>\n",
       "      <td>94</td>\n",
       "    </tr>\n",
       "    <tr>\n",
       "      <th>11</th>\n",
       "      <td>Dandy</td>\n",
       "      <td>Jim</td>\n",
       "      <td>\"087-75-4321\"</td>\n",
       "      <td>47.0</td>\n",
       "      <td>1.0</td>\n",
       "      <td>23.0</td>\n",
       "      <td>36.0</td>\n",
       "      <td>45.0</td>\n",
       "      <td>C+</td>\n",
       "      <td>Jim Dandy</td>\n",
       "      <td>82</td>\n",
       "    </tr>\n",
       "    <tr>\n",
       "      <th>5</th>\n",
       "      <td>Rubble</td>\n",
       "      <td>Betty</td>\n",
       "      <td>\"234-56-7890\"</td>\n",
       "      <td>44.0</td>\n",
       "      <td>90.0</td>\n",
       "      <td>80.0</td>\n",
       "      <td>90.0</td>\n",
       "      <td>46.0</td>\n",
       "      <td>C-</td>\n",
       "      <td>Betty Rubble</td>\n",
       "      <td>76</td>\n",
       "    </tr>\n",
       "    <tr>\n",
       "      <th>3</th>\n",
       "      <td>Android</td>\n",
       "      <td>Electric</td>\n",
       "      <td>\"087-65-4321\"</td>\n",
       "      <td>42.0</td>\n",
       "      <td>23.0</td>\n",
       "      <td>36.0</td>\n",
       "      <td>45.0</td>\n",
       "      <td>47.0</td>\n",
       "      <td>B-</td>\n",
       "      <td>Electric Android</td>\n",
       "      <td>85</td>\n",
       "    </tr>\n",
       "    <tr>\n",
       "      <th>1</th>\n",
       "      <td>Alfred</td>\n",
       "      <td>University</td>\n",
       "      <td>\"123-12-1234\"</td>\n",
       "      <td>41.0</td>\n",
       "      <td>97.0</td>\n",
       "      <td>96.0</td>\n",
       "      <td>97.0</td>\n",
       "      <td>48.0</td>\n",
       "      <td>D+</td>\n",
       "      <td>University Alfred</td>\n",
       "      <td>73</td>\n",
       "    </tr>\n",
       "    <tr>\n",
       "      <th>0</th>\n",
       "      <td>Alfalfa</td>\n",
       "      <td>Aloysius</td>\n",
       "      <td>\"123-45-6789\"</td>\n",
       "      <td>40.0</td>\n",
       "      <td>90.0</td>\n",
       "      <td>100.0</td>\n",
       "      <td>83.0</td>\n",
       "      <td>49.0</td>\n",
       "      <td>D-</td>\n",
       "      <td>Aloysius Alfalfa</td>\n",
       "      <td>67</td>\n",
       "    </tr>\n",
       "    <tr>\n",
       "      <th>7</th>\n",
       "      <td>Buff</td>\n",
       "      <td>Bif</td>\n",
       "      <td>\"632-79-9939\"</td>\n",
       "      <td>46.0</td>\n",
       "      <td>20.0</td>\n",
       "      <td>30.0</td>\n",
       "      <td>40.0</td>\n",
       "      <td>50.0</td>\n",
       "      <td>B+</td>\n",
       "      <td>Bif Buff</td>\n",
       "      <td>91</td>\n",
       "    </tr>\n",
       "    <tr>\n",
       "      <th>12</th>\n",
       "      <td>Elephant</td>\n",
       "      <td>Ima</td>\n",
       "      <td>\"456-71-9012\"</td>\n",
       "      <td>45.0</td>\n",
       "      <td>1.0</td>\n",
       "      <td>78.0</td>\n",
       "      <td>88.0</td>\n",
       "      <td>77.0</td>\n",
       "      <td>B-</td>\n",
       "      <td>Ima Elephant</td>\n",
       "      <td>85</td>\n",
       "    </tr>\n",
       "    <tr>\n",
       "      <th>13</th>\n",
       "      <td>Franklin</td>\n",
       "      <td>Benny</td>\n",
       "      <td>\"234-56-2890\"</td>\n",
       "      <td>50.0</td>\n",
       "      <td>1.0</td>\n",
       "      <td>90.0</td>\n",
       "      <td>80.0</td>\n",
       "      <td>90.0</td>\n",
       "      <td>B-</td>\n",
       "      <td>Benny Franklin</td>\n",
       "      <td>85</td>\n",
       "    </tr>\n",
       "    <tr>\n",
       "      <th>9</th>\n",
       "      <td>Backus</td>\n",
       "      <td>Jim</td>\n",
       "      <td>\"143-12-1234\"</td>\n",
       "      <td>48.0</td>\n",
       "      <td>1.0</td>\n",
       "      <td>97.0</td>\n",
       "      <td>96.0</td>\n",
       "      <td>97.0</td>\n",
       "      <td>A+</td>\n",
       "      <td>Jim Backus</td>\n",
       "      <td>100</td>\n",
       "    </tr>\n",
       "  </tbody>\n",
       "</table>\n",
       "</div>"
      ],
      "text/plain": [
       "    Last Name  First Name                    SSN  Test 1  Test 2  Test 3  \\\n",
       "14     George         Boy          \"345-67-3901\"    40.0     1.0    11.0   \n",
       "10  Carnivore         Art          \"565-89-0123\"    44.0     1.0    80.0   \n",
       "15  Heffalump      Harvey          \"632-79-9439\"    30.0     1.0    20.0   \n",
       "6      Noshow       Cecil          \"345-67-8901\"    45.0    11.0    -1.0   \n",
       "2       Gerty      Gramma          \"567-89-0123\"    41.0    80.0    60.0   \n",
       "4     Bumpkin        Fred          \"456-78-9012\"    43.0    78.0    88.0   \n",
       "11      Dandy         Jim          \"087-75-4321\"    47.0     1.0    23.0   \n",
       "5      Rubble       Betty          \"234-56-7890\"    44.0    90.0    80.0   \n",
       "3     Android    Electric          \"087-65-4321\"    42.0    23.0    36.0   \n",
       "1      Alfred  University          \"123-12-1234\"    41.0    97.0    96.0   \n",
       "0     Alfalfa    Aloysius          \"123-45-6789\"    40.0    90.0   100.0   \n",
       "7        Buff         Bif          \"632-79-9939\"    46.0    20.0    30.0   \n",
       "12   Elephant         Ima          \"456-71-9012\"    45.0     1.0    78.0   \n",
       "13   Franklin       Benny          \"234-56-2890\"    50.0     1.0    90.0   \n",
       "9      Backus         Jim          \"143-12-1234\"    48.0     1.0    97.0   \n",
       "\n",
       "    Test 4     Final Grade          Full Name  Grade Value  \n",
       "14    -1.0       4.0     B         Boy George           88  \n",
       "10    60.0      40.0    D+      Art Carnivore           73  \n",
       "15    30.0      40.0     C   Harvey Heffalump           79  \n",
       "6      4.0      43.0     F       Cecil Noshow           64  \n",
       "2     40.0      44.0     C       Gramma Gerty           79  \n",
       "4     77.0      45.0    A-       Fred Bumpkin           94  \n",
       "11    36.0      45.0    C+          Jim Dandy           82  \n",
       "5     90.0      46.0    C-       Betty Rubble           76  \n",
       "3     45.0      47.0    B-   Electric Android           85  \n",
       "1     97.0      48.0    D+  University Alfred           73  \n",
       "0     83.0      49.0    D-   Aloysius Alfalfa           67  \n",
       "7     40.0      50.0    B+           Bif Buff           91  \n",
       "12    88.0      77.0    B-       Ima Elephant           85  \n",
       "13    80.0      90.0    B-     Benny Franklin           85  \n",
       "9     96.0      97.0    A+         Jim Backus          100  "
      ]
     },
     "metadata": {},
     "output_type": "display_data"
    }
   ],
   "source": [
    "display(df_grades)"
   ]
  },
  {
   "cell_type": "code",
   "execution_count": 44,
   "id": "004fd1a3",
   "metadata": {
    "ExecuteTime": {
     "end_time": "2021-08-30T20:02:31.788590Z",
     "start_time": "2021-08-30T20:02:31.773590Z"
    }
   },
   "outputs": [
    {
     "data": {
      "text/html": [
       "<div>\n",
       "<style scoped>\n",
       "    .dataframe tbody tr th:only-of-type {\n",
       "        vertical-align: middle;\n",
       "    }\n",
       "\n",
       "    .dataframe tbody tr th {\n",
       "        vertical-align: top;\n",
       "    }\n",
       "\n",
       "    .dataframe thead th {\n",
       "        text-align: right;\n",
       "    }\n",
       "</style>\n",
       "<table border=\"1\" class=\"dataframe\">\n",
       "  <thead>\n",
       "    <tr style=\"text-align: right;\">\n",
       "      <th></th>\n",
       "      <th>Test 1</th>\n",
       "      <th>Test 2</th>\n",
       "      <th>Test 3</th>\n",
       "      <th>Test 4</th>\n",
       "      <th>Grade Value</th>\n",
       "    </tr>\n",
       "  </thead>\n",
       "  <tbody>\n",
       "    <tr>\n",
       "      <th>Test 1</th>\n",
       "      <td>1.000000</td>\n",
       "      <td>-0.191763</td>\n",
       "      <td>0.263430</td>\n",
       "      <td>0.293930</td>\n",
       "      <td>0.279255</td>\n",
       "    </tr>\n",
       "    <tr>\n",
       "      <th>Test 2</th>\n",
       "      <td>-0.191763</td>\n",
       "      <td>1.000000</td>\n",
       "      <td>0.480796</td>\n",
       "      <td>0.427210</td>\n",
       "      <td>-0.304409</td>\n",
       "    </tr>\n",
       "    <tr>\n",
       "      <th>Test 3</th>\n",
       "      <td>0.263430</td>\n",
       "      <td>0.480796</td>\n",
       "      <td>1.000000</td>\n",
       "      <td>0.938928</td>\n",
       "      <td>0.101027</td>\n",
       "    </tr>\n",
       "    <tr>\n",
       "      <th>Test 4</th>\n",
       "      <td>0.293930</td>\n",
       "      <td>0.427210</td>\n",
       "      <td>0.938928</td>\n",
       "      <td>1.000000</td>\n",
       "      <td>0.151592</td>\n",
       "    </tr>\n",
       "    <tr>\n",
       "      <th>Grade Value</th>\n",
       "      <td>0.279255</td>\n",
       "      <td>-0.304409</td>\n",
       "      <td>0.101027</td>\n",
       "      <td>0.151592</td>\n",
       "      <td>1.000000</td>\n",
       "    </tr>\n",
       "  </tbody>\n",
       "</table>\n",
       "</div>"
      ],
      "text/plain": [
       "               Test 1    Test 2    Test 3    Test 4  Grade Value\n",
       "Test 1       1.000000 -0.191763  0.263430  0.293930     0.279255\n",
       "Test 2      -0.191763  1.000000  0.480796  0.427210    -0.304409\n",
       "Test 3       0.263430  0.480796  1.000000  0.938928     0.101027\n",
       "Test 4       0.293930  0.427210  0.938928  1.000000     0.151592\n",
       "Grade Value  0.279255 -0.304409  0.101027  0.151592     1.000000"
      ]
     },
     "metadata": {},
     "output_type": "display_data"
    }
   ],
   "source": [
    "display(df_grades.corr(method=\"pearson\"))"
   ]
  },
  {
   "cell_type": "markdown",
   "id": "030ed74d",
   "metadata": {},
   "source": [
    "#### True or false: A correlation of 0.9 is considered a good correletaion.\n",
    "\n"
   ]
  },
  {
   "cell_type": "code",
   "execution_count": 45,
   "id": "7c3999ae",
   "metadata": {
    "ExecuteTime": {
     "end_time": "2021-08-30T20:02:31.804589Z",
     "start_time": "2021-08-30T20:02:31.790591Z"
    }
   },
   "outputs": [
    {
     "data": {
      "text/plain": [
       "True"
      ]
     },
     "execution_count": 45,
     "metadata": {},
     "output_type": "execute_result"
    }
   ],
   "source": [
    "True"
   ]
  },
  {
   "cell_type": "markdown",
   "id": "e32cbd65",
   "metadata": {},
   "source": [
    "#### True or false: A correlation of -0.9 is considered a good correletaion.\n",
    "\n"
   ]
  },
  {
   "cell_type": "code",
   "execution_count": 46,
   "id": "741baa0a",
   "metadata": {
    "ExecuteTime": {
     "end_time": "2021-08-30T20:02:31.819592Z",
     "start_time": "2021-08-30T20:02:31.805590Z"
    }
   },
   "outputs": [
    {
     "data": {
      "text/plain": [
       "True"
      ]
     },
     "execution_count": 46,
     "metadata": {},
     "output_type": "execute_result"
    }
   ],
   "source": [
    "True"
   ]
  },
  {
   "cell_type": "markdown",
   "id": "69149720",
   "metadata": {},
   "source": [
    "### PANDAS Plotting "
   ]
  },
  {
   "cell_type": "markdown",
   "id": "128c3c0c",
   "metadata": {},
   "source": [
    "#### Insert a correct syntax for visualize the data in DataFrame as a diagram (plotting).\n",
    "\n"
   ]
  },
  {
   "cell_type": "code",
   "execution_count": 47,
   "id": "42052d40",
   "metadata": {
    "ExecuteTime": {
     "end_time": "2021-08-30T20:02:31.835591Z",
     "start_time": "2021-08-30T20:02:31.820592Z"
    },
    "scrolled": false
   },
   "outputs": [],
   "source": [
    "# df_grades[3:7].plot(ax=1)\n",
    "\n",
    "df_grades_modified = df_grades[[\"Full Name\",\n",
    "                                \"Test 1\",\n",
    "                                \"Test 2\",\n",
    "                                \"Test 3\",\n",
    "                                \"Test 4\", \n",
    "                                \"Final\"]]\n",
    "\n",
    "df_grades_modified = df_grades_modified.set_index([\"Full Name\"])\n",
    "\n",
    "df_grades_transposed = df_grades_modified.T  # Transposed\n",
    "df_grades_transposed = df_grades_transposed.astype(\"float64\")"
   ]
  },
  {
   "cell_type": "code",
   "execution_count": 48,
   "id": "7b038bd3",
   "metadata": {
    "ExecuteTime": {
     "end_time": "2021-08-30T20:02:31.850591Z",
     "start_time": "2021-08-30T20:02:31.836592Z"
    }
   },
   "outputs": [
    {
     "name": "stdout",
     "output_type": "stream",
     "text": [
      "Full Name\n",
      "Boy George           float64\n",
      "Art Carnivore        float64\n",
      "Harvey Heffalump     float64\n",
      "Cecil Noshow         float64\n",
      "Gramma Gerty         float64\n",
      "Fred Bumpkin         float64\n",
      "Jim Dandy            float64\n",
      "Betty Rubble         float64\n",
      "Electric Android     float64\n",
      "University Alfred    float64\n",
      "Aloysius Alfalfa     float64\n",
      "Bif Buff             float64\n",
      "Ima Elephant         float64\n",
      "Benny Franklin       float64\n",
      "Jim Backus           float64\n",
      "dtype: object\n"
     ]
    }
   ],
   "source": [
    "print(df_grades_transposed.dtypes)"
   ]
  },
  {
   "cell_type": "code",
   "execution_count": 49,
   "id": "7b44c016",
   "metadata": {
    "ExecuteTime": {
     "end_time": "2021-08-30T20:02:31.865592Z",
     "start_time": "2021-08-30T20:02:31.851593Z"
    },
    "scrolled": true
   },
   "outputs": [
    {
     "data": {
      "text/html": [
       "<div>\n",
       "<style scoped>\n",
       "    .dataframe tbody tr th:only-of-type {\n",
       "        vertical-align: middle;\n",
       "    }\n",
       "\n",
       "    .dataframe tbody tr th {\n",
       "        vertical-align: top;\n",
       "    }\n",
       "\n",
       "    .dataframe thead th {\n",
       "        text-align: right;\n",
       "    }\n",
       "</style>\n",
       "<table border=\"1\" class=\"dataframe\">\n",
       "  <thead>\n",
       "    <tr style=\"text-align: right;\">\n",
       "      <th>Full Name</th>\n",
       "      <th>Boy George</th>\n",
       "      <th>Art Carnivore</th>\n",
       "      <th>Harvey Heffalump</th>\n",
       "      <th>Cecil Noshow</th>\n",
       "      <th>Gramma Gerty</th>\n",
       "      <th>Fred Bumpkin</th>\n",
       "      <th>Jim Dandy</th>\n",
       "      <th>Betty Rubble</th>\n",
       "      <th>Electric Android</th>\n",
       "      <th>University Alfred</th>\n",
       "      <th>Aloysius Alfalfa</th>\n",
       "      <th>Bif Buff</th>\n",
       "      <th>Ima Elephant</th>\n",
       "      <th>Benny Franklin</th>\n",
       "      <th>Jim Backus</th>\n",
       "    </tr>\n",
       "  </thead>\n",
       "  <tbody>\n",
       "    <tr>\n",
       "      <th>Test 1</th>\n",
       "      <td>40.0</td>\n",
       "      <td>44.0</td>\n",
       "      <td>30.0</td>\n",
       "      <td>45.0</td>\n",
       "      <td>41.0</td>\n",
       "      <td>43.0</td>\n",
       "      <td>47.0</td>\n",
       "      <td>44.0</td>\n",
       "      <td>42.0</td>\n",
       "      <td>41.0</td>\n",
       "      <td>40.0</td>\n",
       "      <td>46.0</td>\n",
       "      <td>45.0</td>\n",
       "      <td>50.0</td>\n",
       "      <td>48.0</td>\n",
       "    </tr>\n",
       "    <tr>\n",
       "      <th>Test 2</th>\n",
       "      <td>1.0</td>\n",
       "      <td>1.0</td>\n",
       "      <td>1.0</td>\n",
       "      <td>11.0</td>\n",
       "      <td>80.0</td>\n",
       "      <td>78.0</td>\n",
       "      <td>1.0</td>\n",
       "      <td>90.0</td>\n",
       "      <td>23.0</td>\n",
       "      <td>97.0</td>\n",
       "      <td>90.0</td>\n",
       "      <td>20.0</td>\n",
       "      <td>1.0</td>\n",
       "      <td>1.0</td>\n",
       "      <td>1.0</td>\n",
       "    </tr>\n",
       "    <tr>\n",
       "      <th>Test 3</th>\n",
       "      <td>11.0</td>\n",
       "      <td>80.0</td>\n",
       "      <td>20.0</td>\n",
       "      <td>-1.0</td>\n",
       "      <td>60.0</td>\n",
       "      <td>88.0</td>\n",
       "      <td>23.0</td>\n",
       "      <td>80.0</td>\n",
       "      <td>36.0</td>\n",
       "      <td>96.0</td>\n",
       "      <td>100.0</td>\n",
       "      <td>30.0</td>\n",
       "      <td>78.0</td>\n",
       "      <td>90.0</td>\n",
       "      <td>97.0</td>\n",
       "    </tr>\n",
       "    <tr>\n",
       "      <th>Test 4</th>\n",
       "      <td>-1.0</td>\n",
       "      <td>60.0</td>\n",
       "      <td>30.0</td>\n",
       "      <td>4.0</td>\n",
       "      <td>40.0</td>\n",
       "      <td>77.0</td>\n",
       "      <td>36.0</td>\n",
       "      <td>90.0</td>\n",
       "      <td>45.0</td>\n",
       "      <td>97.0</td>\n",
       "      <td>83.0</td>\n",
       "      <td>40.0</td>\n",
       "      <td>88.0</td>\n",
       "      <td>80.0</td>\n",
       "      <td>96.0</td>\n",
       "    </tr>\n",
       "    <tr>\n",
       "      <th>Final</th>\n",
       "      <td>4.0</td>\n",
       "      <td>40.0</td>\n",
       "      <td>40.0</td>\n",
       "      <td>43.0</td>\n",
       "      <td>44.0</td>\n",
       "      <td>45.0</td>\n",
       "      <td>45.0</td>\n",
       "      <td>46.0</td>\n",
       "      <td>47.0</td>\n",
       "      <td>48.0</td>\n",
       "      <td>49.0</td>\n",
       "      <td>50.0</td>\n",
       "      <td>77.0</td>\n",
       "      <td>90.0</td>\n",
       "      <td>97.0</td>\n",
       "    </tr>\n",
       "  </tbody>\n",
       "</table>\n",
       "</div>"
      ],
      "text/plain": [
       "Full Name  Boy George  Art Carnivore  Harvey Heffalump  Cecil Noshow  \\\n",
       "Test 1           40.0           44.0              30.0          45.0   \n",
       "Test 2            1.0            1.0               1.0          11.0   \n",
       "Test 3           11.0           80.0              20.0          -1.0   \n",
       "Test 4           -1.0           60.0              30.0           4.0   \n",
       "Final             4.0           40.0              40.0          43.0   \n",
       "\n",
       "Full Name  Gramma Gerty  Fred Bumpkin  Jim Dandy  Betty Rubble  \\\n",
       "Test 1             41.0          43.0       47.0          44.0   \n",
       "Test 2             80.0          78.0        1.0          90.0   \n",
       "Test 3             60.0          88.0       23.0          80.0   \n",
       "Test 4             40.0          77.0       36.0          90.0   \n",
       "Final              44.0          45.0       45.0          46.0   \n",
       "\n",
       "Full Name  Electric Android  University Alfred  Aloysius Alfalfa  Bif Buff  \\\n",
       "Test 1                 42.0               41.0              40.0      46.0   \n",
       "Test 2                 23.0               97.0              90.0      20.0   \n",
       "Test 3                 36.0               96.0             100.0      30.0   \n",
       "Test 4                 45.0               97.0              83.0      40.0   \n",
       "Final                  47.0               48.0              49.0      50.0   \n",
       "\n",
       "Full Name  Ima Elephant  Benny Franklin  Jim Backus  \n",
       "Test 1             45.0            50.0        48.0  \n",
       "Test 2              1.0             1.0         1.0  \n",
       "Test 3             78.0            90.0        97.0  \n",
       "Test 4             88.0            80.0        96.0  \n",
       "Final              77.0            90.0        97.0  "
      ]
     },
     "metadata": {},
     "output_type": "display_data"
    }
   ],
   "source": [
    "display(df_grades_transposed)"
   ]
  },
  {
   "cell_type": "code",
   "execution_count": 50,
   "id": "45702a22",
   "metadata": {
    "ExecuteTime": {
     "end_time": "2021-08-30T20:02:32.310245Z",
     "start_time": "2021-08-30T20:02:31.866593Z"
    }
   },
   "outputs": [
    {
     "data": {
      "text/plain": [
       "<matplotlib.axes._subplots.AxesSubplot at 0x17eb9731898>"
      ]
     },
     "execution_count": 50,
     "metadata": {},
     "output_type": "execute_result"
    },
    {
     "data": {
      "image/png": "[encoded data removed]",
      "text/plain": [
       "<Figure size 1152x1152 with 1 Axes>"
      ]
     },
     "metadata": {},
     "output_type": "display_data"
    }
   ],
   "source": [
    "df_grades_transposed.plot(figsize=(16,16), fontsize=20)"
   ]
  },
  {
   "cell_type": "markdown",
   "id": "9fdfa108",
   "metadata": {
    "ExecuteTime": {
     "end_time": "2021-08-28T06:55:12.921246Z",
     "start_time": "2021-08-28T06:55:12.904246Z"
    }
   },
   "source": [
    "#### Insert the correct syntax for specifying that the plot should be of type 'scatter'.\n",
    "\n"
   ]
  },
  {
   "cell_type": "code",
   "execution_count": 51,
   "id": "7e1ce691",
   "metadata": {
    "ExecuteTime": {
     "end_time": "2021-08-30T20:02:32.434804Z",
     "start_time": "2021-08-30T20:02:32.311243Z"
    },
    "scrolled": true
   },
   "outputs": [
    {
     "data": {
      "text/plain": [
       "<matplotlib.axes._subplots.AxesSubplot at 0x17ebbdc5940>"
      ]
     },
     "execution_count": 51,
     "metadata": {},
     "output_type": "execute_result"
    },
    {
     "data": {
      "image/png": "[encoded data removed]",
      "text/plain": [
       "<Figure size 432x288 with 1 Axes>"
      ]
     },
     "metadata": {},
     "output_type": "display_data"
    }
   ],
   "source": [
    "df_grades.plot(kind = 'scatter', x = 'Grade Value', y = 'Final', sort_columns=True)"
   ]
  },
  {
   "cell_type": "code",
   "execution_count": 52,
   "id": "f4a0db13",
   "metadata": {
    "ExecuteTime": {
     "end_time": "2021-08-30T20:02:32.450805Z",
     "start_time": "2021-08-30T20:02:32.435803Z"
    }
   },
   "outputs": [],
   "source": [
    "# Sort by \"Grade Value\" Column\n",
    "df_grades.sort_values(inplace=True, by=\"Grade Value\")"
   ]
  },
  {
   "cell_type": "code",
   "execution_count": 53,
   "id": "61168e94",
   "metadata": {
    "ExecuteTime": {
     "end_time": "2021-08-30T20:02:32.559805Z",
     "start_time": "2021-08-30T20:02:32.451803Z"
    }
   },
   "outputs": [
    {
     "data": {
      "text/plain": [
       "<matplotlib.axes._subplots.AxesSubplot at 0x17ebbdd7748>"
      ]
     },
     "execution_count": 53,
     "metadata": {},
     "output_type": "execute_result"
    },
    {
     "data": {
      "image/png": "[encoded data removed]",
      "text/plain": [
       "<Figure size 432x288 with 1 Axes>"
      ]
     },
     "metadata": {},
     "output_type": "display_data"
    }
   ],
   "source": [
    "df_grades.plot(kind = 'scatter', x = 'Grade Value', y = 'Final', sort_columns=True)"
   ]
  },
  {
   "cell_type": "markdown",
   "id": "2ad567da",
   "metadata": {},
   "source": [
    "#### Insert the correct syntax for specifying that the plot should be of type 'histogram'.\n",
    "\n"
   ]
  },
  {
   "cell_type": "code",
   "execution_count": 54,
   "id": "44955acf",
   "metadata": {
    "ExecuteTime": {
     "end_time": "2021-08-30T20:02:32.679804Z",
     "start_time": "2021-08-30T20:02:32.560805Z"
    },
    "scrolled": true
   },
   "outputs": [
    {
     "data": {
      "text/plain": [
       "<matplotlib.axes._subplots.AxesSubplot at 0x17ebb96e710>"
      ]
     },
     "execution_count": 54,
     "metadata": {},
     "output_type": "execute_result"
    },
    {
     "data": {
      "image/png": "[encoded data removed]",
      "text/plain": [
       "<Figure size 432x288 with 1 Axes>"
      ]
     },
     "metadata": {},
     "output_type": "display_data"
    }
   ],
   "source": [
    "df_grades['Grade Value'].plot(kind = 'hist')"
   ]
  },
  {
   "cell_type": "markdown",
   "id": "5a311bae",
   "metadata": {},
   "source": [
    "# Quzies"
   ]
  },
  {
   "cell_type": "markdown",
   "id": "e08ebd03",
   "metadata": {
    "ExecuteTime": {
     "end_time": "2021-08-28T09:10:36.244250Z",
     "start_time": "2021-08-28T09:10:36.229247Z"
    }
   },
   "source": [
    "<img src=\"numpy_result.png\" alt=\"numpy_result.png\" style=\"float:left;\"/>\n",
    "<img src=\"pandas_result.png\" alt=\"pandas_result.png\" style=\"float:left;\"/>"
   ]
  }
 ],
 "metadata": {
  "kernelspec": {
   "display_name": "Python 3.6.8 64-bit",
   "language": "python",
   "name": "python_3.6.8_64-bit"
  },
  "language_info": {
   "codemirror_mode": {
    "name": "ipython",
    "version": 3
   },
   "file_extension": ".py",
   "mimetype": "text/x-python",
   "name": "python",
   "nbconvert_exporter": "python",
   "pygments_lexer": "ipython3",
   "version": "3.6.8"
  },
  "varInspector": {
   "cols": {
    "lenName": 16,
    "lenType": 16,
    "lenVar": 40
   },
   "kernels_config": {
    "python": {
     "delete_cmd_postfix": "",
     "delete_cmd_prefix": "del ",
     "library": "var_list.py",
     "varRefreshCmd": "print(var_dic_list())"
    },
    "r": {
     "delete_cmd_postfix": ") ",
     "delete_cmd_prefix": "rm(",
     "library": "var_list.r",
     "varRefreshCmd": "cat(var_dic_list()) "
    }
   },
   "types_to_exclude": [
    "module",
    "function",
    "builtin_function_or_method",
    "instance",
    "_Feature"
   ],
   "window_display": false
  }
 },
 "nbformat": 4,
 "nbformat_minor": 5
}
