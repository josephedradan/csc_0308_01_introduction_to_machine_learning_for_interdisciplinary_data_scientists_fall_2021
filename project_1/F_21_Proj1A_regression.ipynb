{
 "cells": [
  {
   "cell_type": "markdown",
   "metadata": {
    "id": "FhGuhbZ6M5tl"
   },
   "source": [
    "##### Copyright 2018 The TensorFlow Authors."
   ]
  },
  {
   "cell_type": "code",
   "execution_count": 1,
   "metadata": {
    "ExecuteTime": {
     "end_time": "2021-09-23T00:14:47.645647Z",
     "start_time": "2021-09-23T00:14:47.630647Z"
    },
    "cellView": "form",
    "id": "AwOEIRJC6Une"
   },
   "outputs": [],
   "source": [
    "#@title Licensed under the Apache License, Version 2.0 (the \"License\");\n",
    "# you may not use this file except in compliance with the License.\n",
    "# You may obtain a copy of the License at\n",
    "#\n",
    "# https://www.apache.org/licenses/LICENSE-2.0\n",
    "#\n",
    "# Unless required by applicable law or agreed to in writing, software\n",
    "# distributed under the License is distributed on an \"AS IS\" BASIS,\n",
    "# WITHOUT WARRANTIES OR CONDITIONS OF ANY KIND, either express or implied.\n",
    "# See the License for the specific language governing permissions and\n",
    "# limitations under the License."
   ]
  },
  {
   "cell_type": "markdown",
   "metadata": {
    "id": "j9r1o7HsyNTf"
   },
   "source": []
  },
  {
   "cell_type": "code",
   "execution_count": 2,
   "metadata": {
    "ExecuteTime": {
     "end_time": "2021-09-23T00:14:47.661647Z",
     "start_time": "2021-09-23T00:14:47.647651Z"
    },
    "cellView": "form",
    "id": "KyPEtTqk6VdG"
   },
   "outputs": [],
   "source": [
    "#@title MIT License\n",
    "#\n",
    "# Copyright (c) 2017 François Chollet\n",
    "#\n",
    "# Permission is hereby granted, free of charge, to any person obtaining a\n",
    "# copy of this software and associated documentation files (the \"Software\"),\n",
    "# to deal in the Software without restriction, including without limitation\n",
    "# the rights to use, copy, modify, merge, publish, distribute, sublicense,\n",
    "# and/or sell copies of the Software, and to permit persons to whom the\n",
    "# Software is furnished to do so, subject to the following conditions:\n",
    "#\n",
    "# The above copyright notice and this permission notice shall be included in\n",
    "# all copies or substantial portions of the Software.\n",
    "#\n",
    "# THE SOFTWARE IS PROVIDED \"AS IS\", WITHOUT WARRANTY OF ANY KIND, EXPRESS OR\n",
    "# IMPLIED, INCLUDING BUT NOT LIMITED TO THE WARRANTIES OF MERCHANTABILITY,\n",
    "# FITNESS FOR A PARTICULAR PURPOSE AND NONINFRINGEMENT. IN NO EVENT SHALL\n",
    "# THE AUTHORS OR COPYRIGHT HOLDERS BE LIABLE FOR ANY CLAIM, DAMAGES OR OTHER\n",
    "# LIABILITY, WHETHER IN AN ACTION OF CONTRACT, TORT OR OTHERWISE, ARISING\n",
    "# FROM, OUT OF OR IN CONNECTION WITH THE SOFTWARE OR THE USE OR OTHER\n",
    "# DEALINGS IN THE SOFTWARE."
   ]
  },
  {
   "cell_type": "markdown",
   "metadata": {
    "id": "EIdT9iu_Z4Rb"
   },
   "source": [
    "# Proj1A - Basic Regression: Understanding the ADNI Data Using Regression  \n",
    "\n",
    "> ### **(30 points + 3 extra credit points) || Due by 9/14 11:59pm**\n",
    "\n",
    "\n",
    "\n"
   ]
  },
  {
   "cell_type": "markdown",
   "metadata": {
    "id": "bBIlTPscrIT9"
   },
   "source": [
    "<table class=\"tfo-notebook-buttons\" align=\"left\">\n",
    "  <td>\n",
    "    <a target=\"_blank\" href=\"https://www.tensorflow.org/tutorials/keras/regression\"><img src=\"https://www.tensorflow.org/images/tf_logo_32px.png\" />View on TensorFlow.org</a>\n",
    "  </td>\n",
    "  <td>\n",
    "    <a target=\"_blank\" href=\"https://colab.research.google.com/github/tensorflow/docs/blob/master/site/en/tutorials/keras/regression.ipynb\"><img src=\"https://www.tensorflow.org/images/colab_logo_32px.png\" />Run in Google Colab</a>\n",
    "  </td>\n",
    "  <td>\n",
    "    <a target=\"_blank\" href=\"https://github.com/tensorflow/docs/blob/master/site/en/tutorials/keras/regression.ipynb\"><img src=\"https://www.tensorflow.org/images/GitHub-Mark-32px.png\" />View source on GitHub</a>\n",
    "  </td>\n",
    "  <td>\n",
    "    <a href=\"https://storage.googleapis.com/tensorflow_docs/docs/site/en/tutorials/keras/regression.ipynb\"><img src=\"https://www.tensorflow.org/images/download_logo_32px.png\" />Download notebook</a>\n",
    "  </td>\n",
    "</table>"
   ]
  },
  {
   "cell_type": "markdown",
   "metadata": {
    "id": "AHp3M9ZmrIxj"
   },
   "source": [
    "## Instructions\n",
    "\n",
    "Please make a copy and rename it with your name (ex: Proj1A_Ilmi_Yoon). All grading points should be explored in the notebook but some can be done in a separate pdf file. \n",
    "\n",
    "*Graded questions will be listed with \"Q:\" followed by the corresponding points.* \n",
    "\n",
    "You will be submitting **a pdf** file containing **the url of your own proj1A.**\n",
    "\n",
    "\n",
    "---\n",
    "\n"
   ]
  },
  {
   "cell_type": "markdown",
   "metadata": {
    "colab_type": "toc",
    "id": "nXcCkWJdz43N"
   },
   "source": [
    ">[Proj1A - Basic Regression: Understanding the ADNI Data Using Regression](#scrollTo=EIdT9iu_Z4Rb)\n",
    "\n",
    ">>[1. Load in the Data](#scrollTo=gFh9ne3FZ-On)\n",
    "\n",
    ">>[2. Clean the Data](#scrollTo=3MWuJTKEDM-f)\n",
    "\n",
    ">>[3Inspect the Data](#scrollTo=J4ubs136WLNp)\n",
    "\n",
    ">>[Select a Few Features to Work On and Split Features from Labels](#scrollTo=Db7Auq1yXUvh)\n",
    "\n",
    ">>[Normalization](#scrollTo=mRklxK5s388r)\n",
    "\n",
    ">>>[5.1 The Normalization Layer](#scrollTo=aFJ6ISropeoo)\n",
    "\n",
    ">>[Linear regression](#scrollTo=6o3CrycBXA2s)\n",
    "\n",
    ">>>[6.1. One Variable](#scrollTo=lFby9n0tnHkw)\n",
    "\n",
    ">>>[6.2. Multiple Variables (Features)](#scrollTo=Yk2RmlqPoM9u)\n",
    "\n",
    ">[Extra Credit: A DNN regression](#scrollTo=SmjdzxKzEu1-)\n",
    "\n",
    ">>[Instructions](#scrollTo=DT_aHPsrzO1t)\n",
    "\n",
    ">>[A. Train the Model](#scrollTo=ELz48lsgqC46)\n",
    "\n",
    ">>>[A1. One Variable](#scrollTo=7T4RP1V36gVn)\n",
    "\n",
    ">>>[A2. Full Model](#scrollTo=S_2Btebp2e64)\n",
    "\n",
    ">>[B. Performance](#scrollTo=uiCucdPLfMkZ)\n",
    "\n",
    ">>[C. Make Predictions](#scrollTo=ft603OzXuEZC)\n",
    "\n",
    ">[Conclusion](#scrollTo=vgGQuV-yqYZH)\n",
    "\n"
   ]
  },
  {
   "cell_type": "markdown",
   "metadata": {
    "id": "8F-jbPqgsvIc"
   },
   "source": [
    "## Table of Contents\n",
    "\n",
    "Introduction (Points: 30 points)\n",
    "1. Load in the Data\n",
    "2. Clean the Data\n",
    "3. Inspect the Data\n",
    "4. Select a Few Features to Work On and Split Features from Labels\n",
    "5. Normalization\n",
    "\n",
    "  5.1 The Normalization Layer\n",
    "\n",
    "6. Linear Regression\n",
    "\n",
    "  6.1 One Variable\n",
    " \n",
    "  6.2 Multiple Variable (Features)\n",
    "\n",
    "A DNN Regression (Extra Credit: 3 points)\n",
    "\n",
    "1. Instructions\n",
    "2. A. Train the Model \n",
    "\n",
    "  A1. One Variable \n",
    "  \n",
    "  A2. Full Model\n",
    "\n",
    "3. B. Performance\n",
    "4. C. Make Predictions\n",
    "\n",
    "Conclusion\n",
    "\n",
    "---\n",
    "\n"
   ]
  },
  {
   "cell_type": "markdown",
   "metadata": {
    "id": "Ig9iJgBLsFfz"
   },
   "source": [
    "## Introduction\n",
    "\n",
    "In a **regression** problem, the aim is to *predict the output of a continuous value*, like a price or a probability.\n",
    "\n",
    "Contrast this with a **classification** problem, where the aim is to *select a class from a list of classes* (for example, where a picture contains an apple or an orange, recognizing which fruit is in the picture).\n",
    "\n",
    "This example uses the `tf.keras API`, see [this guide](https://www.tensorflow.org/guide/keras) for details."
   ]
  },
  {
   "cell_type": "code",
   "execution_count": 3,
   "metadata": {
    "ExecuteTime": {
     "end_time": "2021-09-23T00:14:50.467730Z",
     "start_time": "2021-09-23T00:14:47.663651Z"
    },
    "id": "moB4tpEHxKB3"
   },
   "outputs": [],
   "source": [
    "# Use seaborn for pairplot\n",
    "!pip install -q seaborn"
   ]
  },
  {
   "cell_type": "code",
   "execution_count": 4,
   "metadata": {
    "ExecuteTime": {
     "end_time": "2021-09-23T00:14:51.480759Z",
     "start_time": "2021-09-23T00:14:50.468734Z"
    },
    "id": "1rRo8oNqZ-Rj"
   },
   "outputs": [],
   "source": [
    "import matplotlib.pyplot as plt\n",
    "import numpy as np\n",
    "import pandas as pd\n",
    "import seaborn as sns\n",
    "\n",
    "\n",
    "# Make numpy printouts easier to read.\n",
    "np.set_printoptions(precision=3, suppress=True)"
   ]
  },
  {
   "cell_type": "code",
   "execution_count": 5,
   "metadata": {
    "ExecuteTime": {
     "end_time": "2021-09-23T00:14:53.707314Z",
     "start_time": "2021-09-23T00:14:51.482763Z"
    },
    "id": "9xQKvCJ85kCQ"
   },
   "outputs": [
    {
     "name": "stdout",
     "output_type": "stream",
     "text": [
      "2.3.0\n"
     ]
    }
   ],
   "source": [
    "import tensorflow as tf\n",
    "\n",
    "from tensorflow import keras\n",
    "from tensorflow.keras import layers\n",
    "from tensorflow.keras.layers.experimental import preprocessing\n",
    "\n",
    "print(tf.__version__)"
   ]
  },
  {
   "cell_type": "markdown",
   "metadata": {
    "id": "gFh9ne3FZ-On"
   },
   "source": [
    "### 1. Load in the Data\n",
    "First download and import the dataset using pandas:"
   ]
  },
  {
   "cell_type": "code",
   "execution_count": 6,
   "metadata": {
    "ExecuteTime": {
     "end_time": "2021-09-23T00:14:54.330517Z",
     "start_time": "2021-09-23T00:14:53.709318Z"
    },
    "id": "CiX2FI4gZtTt"
   },
   "outputs": [],
   "source": [
    "url = \"https://raw.githubusercontent.com/pleunipennings/CSC508Data/main/PatData.csv\" \n",
    "data = pd.read_csv(url)"
   ]
  },
  {
   "cell_type": "code",
   "execution_count": 7,
   "metadata": {
    "ExecuteTime": {
     "end_time": "2021-09-23T00:14:54.361521Z",
     "start_time": "2021-09-23T00:14:54.331522Z"
    },
    "id": "2oY3pMPagJrO"
   },
   "outputs": [
    {
     "data": {
      "text/html": [
       "<div>\n",
       "<style scoped>\n",
       "    .dataframe tbody tr th:only-of-type {\n",
       "        vertical-align: middle;\n",
       "    }\n",
       "\n",
       "    .dataframe tbody tr th {\n",
       "        vertical-align: top;\n",
       "    }\n",
       "\n",
       "    .dataframe thead th {\n",
       "        text-align: right;\n",
       "    }\n",
       "</style>\n",
       "<table border=\"1\" class=\"dataframe\">\n",
       "  <thead>\n",
       "    <tr style=\"text-align: right;\">\n",
       "      <th></th>\n",
       "      <th>PTID</th>\n",
       "      <th>AGE</th>\n",
       "      <th>PTGENDER</th>\n",
       "      <th>PTEDUCAT</th>\n",
       "      <th>PTETHCAT</th>\n",
       "      <th>PTRACCAT</th>\n",
       "      <th>PTMARRY</th>\n",
       "      <th>APOE4</th>\n",
       "      <th>DX</th>\n",
       "      <th>Ventricles</th>\n",
       "      <th>Hippocampus</th>\n",
       "      <th>WholeBrain</th>\n",
       "      <th>Entorhinal</th>\n",
       "      <th>Fusiform</th>\n",
       "      <th>MidTemp</th>\n",
       "      <th>ICV</th>\n",
       "    </tr>\n",
       "  </thead>\n",
       "  <tbody>\n",
       "    <tr>\n",
       "      <th>1732</th>\n",
       "      <td>941_S_4377</td>\n",
       "      <td>69.3</td>\n",
       "      <td>Female</td>\n",
       "      <td>12</td>\n",
       "      <td>Not Hisp/Latino</td>\n",
       "      <td>White</td>\n",
       "      <td>Widowed</td>\n",
       "      <td>1.0</td>\n",
       "      <td>MCI</td>\n",
       "      <td>19850.0</td>\n",
       "      <td>6276.500000</td>\n",
       "      <td>854605.0</td>\n",
       "      <td>3098.750000</td>\n",
       "      <td>14773.000000</td>\n",
       "      <td>16232.75</td>\n",
       "      <td>1.307478e+06</td>\n",
       "    </tr>\n",
       "    <tr>\n",
       "      <th>1733</th>\n",
       "      <td>941_S_4420</td>\n",
       "      <td>81.4</td>\n",
       "      <td>Male</td>\n",
       "      <td>18</td>\n",
       "      <td>Not Hisp/Latino</td>\n",
       "      <td>White</td>\n",
       "      <td>Married</td>\n",
       "      <td>0.0</td>\n",
       "      <td>MCI</td>\n",
       "      <td>45450.5</td>\n",
       "      <td>7542.250000</td>\n",
       "      <td>1125837.5</td>\n",
       "      <td>4501.750000</td>\n",
       "      <td>16491.250000</td>\n",
       "      <td>17802.75</td>\n",
       "      <td>1.658722e+06</td>\n",
       "    </tr>\n",
       "    <tr>\n",
       "      <th>1734</th>\n",
       "      <td>941_S_4764</td>\n",
       "      <td>82.7</td>\n",
       "      <td>Female</td>\n",
       "      <td>20</td>\n",
       "      <td>Not Hisp/Latino</td>\n",
       "      <td>White</td>\n",
       "      <td>Never married</td>\n",
       "      <td>0.0</td>\n",
       "      <td>MCI</td>\n",
       "      <td>63228.5</td>\n",
       "      <td>6092.500000</td>\n",
       "      <td>915772.5</td>\n",
       "      <td>3933.666667</td>\n",
       "      <td>17667.333333</td>\n",
       "      <td>17832.00</td>\n",
       "      <td>1.483815e+06</td>\n",
       "    </tr>\n",
       "    <tr>\n",
       "      <th>1735</th>\n",
       "      <td>941_S_5124</td>\n",
       "      <td>76.7</td>\n",
       "      <td>Female</td>\n",
       "      <td>20</td>\n",
       "      <td>Not Hisp/Latino</td>\n",
       "      <td>White</td>\n",
       "      <td>Married</td>\n",
       "      <td>0.0</td>\n",
       "      <td>NL</td>\n",
       "      <td>NaN</td>\n",
       "      <td>4691.666667</td>\n",
       "      <td>NaN</td>\n",
       "      <td>NaN</td>\n",
       "      <td>NaN</td>\n",
       "      <td>NaN</td>\n",
       "      <td>1.489683e+06</td>\n",
       "    </tr>\n",
       "    <tr>\n",
       "      <th>1736</th>\n",
       "      <td>941_S_5193</td>\n",
       "      <td>72.5</td>\n",
       "      <td>Female</td>\n",
       "      <td>16</td>\n",
       "      <td>Not Hisp/Latino</td>\n",
       "      <td>White</td>\n",
       "      <td>Married</td>\n",
       "      <td>0.0</td>\n",
       "      <td>NL</td>\n",
       "      <td>22958.5</td>\n",
       "      <td>7009.500000</td>\n",
       "      <td>1026105.0</td>\n",
       "      <td>4007.500000</td>\n",
       "      <td>15812.500000</td>\n",
       "      <td>17461.00</td>\n",
       "      <td>1.465065e+06</td>\n",
       "    </tr>\n",
       "  </tbody>\n",
       "</table>\n",
       "</div>"
      ],
      "text/plain": [
       "            PTID   AGE PTGENDER  PTEDUCAT         PTETHCAT PTRACCAT  \\\n",
       "1732  941_S_4377  69.3   Female        12  Not Hisp/Latino    White   \n",
       "1733  941_S_4420  81.4     Male        18  Not Hisp/Latino    White   \n",
       "1734  941_S_4764  82.7   Female        20  Not Hisp/Latino    White   \n",
       "1735  941_S_5124  76.7   Female        20  Not Hisp/Latino    White   \n",
       "1736  941_S_5193  72.5   Female        16  Not Hisp/Latino    White   \n",
       "\n",
       "            PTMARRY  APOE4   DX  Ventricles  Hippocampus  WholeBrain  \\\n",
       "1732        Widowed    1.0  MCI     19850.0  6276.500000    854605.0   \n",
       "1733        Married    0.0  MCI     45450.5  7542.250000   1125837.5   \n",
       "1734  Never married    0.0  MCI     63228.5  6092.500000    915772.5   \n",
       "1735        Married    0.0   NL         NaN  4691.666667         NaN   \n",
       "1736        Married    0.0   NL     22958.5  7009.500000   1026105.0   \n",
       "\n",
       "       Entorhinal      Fusiform   MidTemp           ICV  \n",
       "1732  3098.750000  14773.000000  16232.75  1.307478e+06  \n",
       "1733  4501.750000  16491.250000  17802.75  1.658722e+06  \n",
       "1734  3933.666667  17667.333333  17832.00  1.483815e+06  \n",
       "1735          NaN           NaN       NaN  1.489683e+06  \n",
       "1736  4007.500000  15812.500000  17461.00  1.465065e+06  "
      ]
     },
     "execution_count": 7,
     "metadata": {},
     "output_type": "execute_result"
    }
   ],
   "source": [
    "dataset = data.copy()\n",
    "dataset.tail()"
   ]
  },
  {
   "cell_type": "code",
   "execution_count": 8,
   "metadata": {
    "ExecuteTime": {
     "end_time": "2021-09-23T00:14:54.377524Z",
     "start_time": "2021-09-23T00:14:54.363525Z"
    },
    "id": "s_fWRV8xhOUr"
   },
   "outputs": [
    {
     "data": {
      "text/plain": [
       "MCI                586\n",
       "Dementia           577\n",
       "NL                 423\n",
       "MCI to Dementia    108\n",
       "NL to MCI           29\n",
       "NL to Dementia       3\n",
       "MCI to NL            3\n",
       "Dementia to MCI      1\n",
       "Name: DX, dtype: int64"
      ]
     },
     "execution_count": 8,
     "metadata": {},
     "output_type": "execute_result"
    }
   ],
   "source": [
    "dataset['DX'].value_counts()"
   ]
  },
  {
   "cell_type": "markdown",
   "metadata": {
    "id": "M-I7yjN1hRdb"
   },
   "source": [
    "So, I would like to take out everything in the dataset **EXCEPT** the following levels: NL, MCI and Dementia. \n",
    "\n",
    "*NL = cognitively normal , MCI = mild cognitive impairement.*"
   ]
  },
  {
   "cell_type": "code",
   "execution_count": 9,
   "metadata": {
    "ExecuteTime": {
     "end_time": "2021-09-23T00:14:54.393531Z",
     "start_time": "2021-09-23T00:14:54.379523Z"
    },
    "id": "C0Nfsz_BhWaU"
   },
   "outputs": [],
   "source": [
    "index_to_drop = dataset[ (dataset['DX'] != \"MCI\") & (dataset['DX'] != \"NL\") & (dataset['DX'] != \"Dementia\")].index\n",
    "  \n",
    "# drop these given row indices from data\n",
    "dataset = dataset.drop(index_to_drop)"
   ]
  },
  {
   "cell_type": "code",
   "execution_count": 10,
   "metadata": {
    "ExecuteTime": {
     "end_time": "2021-09-23T00:14:54.409531Z",
     "start_time": "2021-09-23T00:14:54.394532Z"
    },
    "id": "GKebSjP-hb2L"
   },
   "outputs": [
    {
     "data": {
      "text/plain": [
       "MCI         586\n",
       "Dementia    577\n",
       "NL          423\n",
       "Name: DX, dtype: int64"
      ]
     },
     "execution_count": 10,
     "metadata": {},
     "output_type": "execute_result"
    }
   ],
   "source": [
    "dataset['DX'].value_counts()"
   ]
  },
  {
   "cell_type": "markdown",
   "metadata": {
    "id": "3MWuJTKEDM-f"
   },
   "source": [
    "### 2. Clean the Data\n",
    "\n",
    "The dataset contains a few unknown values. To see how many unknown values, use the following code:"
   ]
  },
  {
   "cell_type": "code",
   "execution_count": 11,
   "metadata": {
    "ExecuteTime": {
     "end_time": "2021-09-23T00:14:54.425532Z",
     "start_time": "2021-09-23T00:14:54.410533Z"
    },
    "id": "JEJHhN65a2VV"
   },
   "outputs": [
    {
     "data": {
      "text/plain": [
       "PTID            0\n",
       "AGE             0\n",
       "PTGENDER        0\n",
       "PTEDUCAT        0\n",
       "PTETHCAT        0\n",
       "PTRACCAT        0\n",
       "PTMARRY         0\n",
       "APOE4           6\n",
       "DX              0\n",
       "Ventricles     20\n",
       "Hippocampus    50\n",
       "WholeBrain     12\n",
       "Entorhinal     92\n",
       "Fusiform       92\n",
       "MidTemp        92\n",
       "ICV             1\n",
       "dtype: int64"
      ]
     },
     "execution_count": 11,
     "metadata": {},
     "output_type": "execute_result"
    }
   ],
   "source": [
    "dataset.isna().sum()"
   ]
  },
  {
   "cell_type": "markdown",
   "metadata": {
    "id": "9UPN0KBHa_WI"
   },
   "source": [
    "Drop those rows to keep this initial tutorial simple.\n",
    "\n",
    "Q: **(1 point)** What are other ways to process these rows instead of dropping? "
   ]
  },
  {
   "cell_type": "code",
   "execution_count": 12,
   "metadata": {
    "ExecuteTime": {
     "end_time": "2021-09-23T00:14:54.441533Z",
     "start_time": "2021-09-23T00:14:54.427532Z"
    },
    "id": "4ZUDosChC1UN"
   },
   "outputs": [],
   "source": [
    "dataset = dataset.dropna()"
   ]
  },
  {
   "cell_type": "markdown",
   "metadata": {
    "id": "Y6SLJuXALT8y"
   },
   "source": [
    "Categorical Data needs to be properly handled using one-hot-encoding. \n",
    "\n",
    "Q: **(2 points)** Explain in 200 words what is one-hot-encoding and why it is necessary to handle categorical data.\n",
    "\n",
    "Q: **(1 point)** Make one more categorical feature into one-hot-encoding "
   ]
  },
  {
   "cell_type": "code",
   "execution_count": 13,
   "metadata": {
    "ExecuteTime": {
     "end_time": "2021-09-23T00:14:54.473531Z",
     "start_time": "2021-09-23T00:14:54.443536Z"
    },
    "id": "wjHrglKphmJ7"
   },
   "outputs": [
    {
     "data": {
      "text/html": [
       "<div>\n",
       "<style scoped>\n",
       "    .dataframe tbody tr th:only-of-type {\n",
       "        vertical-align: middle;\n",
       "    }\n",
       "\n",
       "    .dataframe tbody tr th {\n",
       "        vertical-align: top;\n",
       "    }\n",
       "\n",
       "    .dataframe thead th {\n",
       "        text-align: right;\n",
       "    }\n",
       "</style>\n",
       "<table border=\"1\" class=\"dataframe\">\n",
       "  <thead>\n",
       "    <tr style=\"text-align: right;\">\n",
       "      <th></th>\n",
       "      <th>PTID</th>\n",
       "      <th>AGE</th>\n",
       "      <th>PTEDUCAT</th>\n",
       "      <th>PTETHCAT</th>\n",
       "      <th>PTRACCAT</th>\n",
       "      <th>PTMARRY</th>\n",
       "      <th>APOE4</th>\n",
       "      <th>DX</th>\n",
       "      <th>Ventricles</th>\n",
       "      <th>Hippocampus</th>\n",
       "      <th>WholeBrain</th>\n",
       "      <th>Entorhinal</th>\n",
       "      <th>Fusiform</th>\n",
       "      <th>MidTemp</th>\n",
       "      <th>ICV</th>\n",
       "      <th>Female</th>\n",
       "      <th>Male</th>\n",
       "    </tr>\n",
       "  </thead>\n",
       "  <tbody>\n",
       "    <tr>\n",
       "      <th>1730</th>\n",
       "      <td>941_S_4365</td>\n",
       "      <td>80.3</td>\n",
       "      <td>20</td>\n",
       "      <td>Not Hisp/Latino</td>\n",
       "      <td>White</td>\n",
       "      <td>Married</td>\n",
       "      <td>0.0</td>\n",
       "      <td>NL</td>\n",
       "      <td>55885.2</td>\n",
       "      <td>7350.80</td>\n",
       "      <td>1105758.0</td>\n",
       "      <td>4097.500000</td>\n",
       "      <td>19869.000000</td>\n",
       "      <td>20101.25</td>\n",
       "      <td>1656876.0</td>\n",
       "      <td>0</td>\n",
       "      <td>1</td>\n",
       "    </tr>\n",
       "    <tr>\n",
       "      <th>1732</th>\n",
       "      <td>941_S_4377</td>\n",
       "      <td>69.3</td>\n",
       "      <td>12</td>\n",
       "      <td>Not Hisp/Latino</td>\n",
       "      <td>White</td>\n",
       "      <td>Widowed</td>\n",
       "      <td>1.0</td>\n",
       "      <td>MCI</td>\n",
       "      <td>19850.0</td>\n",
       "      <td>6276.50</td>\n",
       "      <td>854605.0</td>\n",
       "      <td>3098.750000</td>\n",
       "      <td>14773.000000</td>\n",
       "      <td>16232.75</td>\n",
       "      <td>1307477.5</td>\n",
       "      <td>1</td>\n",
       "      <td>0</td>\n",
       "    </tr>\n",
       "    <tr>\n",
       "      <th>1733</th>\n",
       "      <td>941_S_4420</td>\n",
       "      <td>81.4</td>\n",
       "      <td>18</td>\n",
       "      <td>Not Hisp/Latino</td>\n",
       "      <td>White</td>\n",
       "      <td>Married</td>\n",
       "      <td>0.0</td>\n",
       "      <td>MCI</td>\n",
       "      <td>45450.5</td>\n",
       "      <td>7542.25</td>\n",
       "      <td>1125837.5</td>\n",
       "      <td>4501.750000</td>\n",
       "      <td>16491.250000</td>\n",
       "      <td>17802.75</td>\n",
       "      <td>1658722.5</td>\n",
       "      <td>0</td>\n",
       "      <td>1</td>\n",
       "    </tr>\n",
       "    <tr>\n",
       "      <th>1734</th>\n",
       "      <td>941_S_4764</td>\n",
       "      <td>82.7</td>\n",
       "      <td>20</td>\n",
       "      <td>Not Hisp/Latino</td>\n",
       "      <td>White</td>\n",
       "      <td>Never married</td>\n",
       "      <td>0.0</td>\n",
       "      <td>MCI</td>\n",
       "      <td>63228.5</td>\n",
       "      <td>6092.50</td>\n",
       "      <td>915772.5</td>\n",
       "      <td>3933.666667</td>\n",
       "      <td>17667.333333</td>\n",
       "      <td>17832.00</td>\n",
       "      <td>1483815.0</td>\n",
       "      <td>1</td>\n",
       "      <td>0</td>\n",
       "    </tr>\n",
       "    <tr>\n",
       "      <th>1736</th>\n",
       "      <td>941_S_5193</td>\n",
       "      <td>72.5</td>\n",
       "      <td>16</td>\n",
       "      <td>Not Hisp/Latino</td>\n",
       "      <td>White</td>\n",
       "      <td>Married</td>\n",
       "      <td>0.0</td>\n",
       "      <td>NL</td>\n",
       "      <td>22958.5</td>\n",
       "      <td>7009.50</td>\n",
       "      <td>1026105.0</td>\n",
       "      <td>4007.500000</td>\n",
       "      <td>15812.500000</td>\n",
       "      <td>17461.00</td>\n",
       "      <td>1465065.0</td>\n",
       "      <td>1</td>\n",
       "      <td>0</td>\n",
       "    </tr>\n",
       "  </tbody>\n",
       "</table>\n",
       "</div>"
      ],
      "text/plain": [
       "            PTID   AGE  PTEDUCAT         PTETHCAT PTRACCAT        PTMARRY  \\\n",
       "1730  941_S_4365  80.3        20  Not Hisp/Latino    White        Married   \n",
       "1732  941_S_4377  69.3        12  Not Hisp/Latino    White        Widowed   \n",
       "1733  941_S_4420  81.4        18  Not Hisp/Latino    White        Married   \n",
       "1734  941_S_4764  82.7        20  Not Hisp/Latino    White  Never married   \n",
       "1736  941_S_5193  72.5        16  Not Hisp/Latino    White        Married   \n",
       "\n",
       "      APOE4   DX  Ventricles  Hippocampus  WholeBrain   Entorhinal  \\\n",
       "1730    0.0   NL     55885.2      7350.80   1105758.0  4097.500000   \n",
       "1732    1.0  MCI     19850.0      6276.50    854605.0  3098.750000   \n",
       "1733    0.0  MCI     45450.5      7542.25   1125837.5  4501.750000   \n",
       "1734    0.0  MCI     63228.5      6092.50    915772.5  3933.666667   \n",
       "1736    0.0   NL     22958.5      7009.50   1026105.0  4007.500000   \n",
       "\n",
       "          Fusiform   MidTemp        ICV  Female  Male  \n",
       "1730  19869.000000  20101.25  1656876.0       0     1  \n",
       "1732  14773.000000  16232.75  1307477.5       1     0  \n",
       "1733  16491.250000  17802.75  1658722.5       0     1  \n",
       "1734  17667.333333  17832.00  1483815.0       1     0  \n",
       "1736  15812.500000  17461.00  1465065.0       1     0  "
      ]
     },
     "execution_count": 13,
     "metadata": {},
     "output_type": "execute_result"
    }
   ],
   "source": [
    "one_hot_data = pd.get_dummies(dataset, columns=['PTGENDER'], prefix='', prefix_sep='')\n",
    "one_hot_data.tail()"
   ]
  },
  {
   "cell_type": "markdown",
   "metadata": {
    "id": "pA2Ccz-VMD-6"
   },
   "source": [
    "Q: **(1 point)** Explain why DX column is mapped to numeric values as below."
   ]
  },
  {
   "cell_type": "code",
   "execution_count": 14,
   "metadata": {
    "ExecuteTime": {
     "end_time": "2021-09-23T00:14:54.488532Z",
     "start_time": "2021-09-23T00:14:54.474535Z"
    },
    "id": "Ny2VXtnu5Ji-"
   },
   "outputs": [],
   "source": [
    "cleanup_DX = {\"DX\": {\"NL\": 1, \"MCI\": 2, \"Dementia\": 3}}\n",
    "one_hot_data = one_hot_data.replace(cleanup_DX)"
   ]
  },
  {
   "cell_type": "code",
   "execution_count": 15,
   "metadata": {
    "ExecuteTime": {
     "end_time": "2021-09-23T00:14:54.520532Z",
     "start_time": "2021-09-23T00:14:54.489532Z"
    },
    "id": "OKox-aKF5efn"
   },
   "outputs": [
    {
     "data": {
      "text/html": [
       "<div>\n",
       "<style scoped>\n",
       "    .dataframe tbody tr th:only-of-type {\n",
       "        vertical-align: middle;\n",
       "    }\n",
       "\n",
       "    .dataframe tbody tr th {\n",
       "        vertical-align: top;\n",
       "    }\n",
       "\n",
       "    .dataframe thead th {\n",
       "        text-align: right;\n",
       "    }\n",
       "</style>\n",
       "<table border=\"1\" class=\"dataframe\">\n",
       "  <thead>\n",
       "    <tr style=\"text-align: right;\">\n",
       "      <th></th>\n",
       "      <th>PTID</th>\n",
       "      <th>AGE</th>\n",
       "      <th>PTEDUCAT</th>\n",
       "      <th>PTETHCAT</th>\n",
       "      <th>PTRACCAT</th>\n",
       "      <th>PTMARRY</th>\n",
       "      <th>APOE4</th>\n",
       "      <th>DX</th>\n",
       "      <th>Ventricles</th>\n",
       "      <th>Hippocampus</th>\n",
       "      <th>WholeBrain</th>\n",
       "      <th>Entorhinal</th>\n",
       "      <th>Fusiform</th>\n",
       "      <th>MidTemp</th>\n",
       "      <th>ICV</th>\n",
       "      <th>Female</th>\n",
       "      <th>Male</th>\n",
       "    </tr>\n",
       "  </thead>\n",
       "  <tbody>\n",
       "    <tr>\n",
       "      <th>1724</th>\n",
       "      <td>941_S_4036</td>\n",
       "      <td>74.0</td>\n",
       "      <td>20</td>\n",
       "      <td>Not Hisp/Latino</td>\n",
       "      <td>White</td>\n",
       "      <td>Married</td>\n",
       "      <td>0.0</td>\n",
       "      <td>2</td>\n",
       "      <td>9936.6</td>\n",
       "      <td>7916.20</td>\n",
       "      <td>1042420.0</td>\n",
       "      <td>4523.400000</td>\n",
       "      <td>22559.600000</td>\n",
       "      <td>18902.80</td>\n",
       "      <td>1445052.0</td>\n",
       "      <td>0</td>\n",
       "      <td>1</td>\n",
       "    </tr>\n",
       "    <tr>\n",
       "      <th>1725</th>\n",
       "      <td>941_S_4066</td>\n",
       "      <td>78.7</td>\n",
       "      <td>18</td>\n",
       "      <td>Not Hisp/Latino</td>\n",
       "      <td>White</td>\n",
       "      <td>Married</td>\n",
       "      <td>0.0</td>\n",
       "      <td>1</td>\n",
       "      <td>54990.0</td>\n",
       "      <td>5900.00</td>\n",
       "      <td>894850.0</td>\n",
       "      <td>3239.000000</td>\n",
       "      <td>18757.000000</td>\n",
       "      <td>16903.00</td>\n",
       "      <td>1396030.0</td>\n",
       "      <td>1</td>\n",
       "      <td>0</td>\n",
       "    </tr>\n",
       "    <tr>\n",
       "      <th>1727</th>\n",
       "      <td>941_S_4187</td>\n",
       "      <td>62.0</td>\n",
       "      <td>16</td>\n",
       "      <td>Not Hisp/Latino</td>\n",
       "      <td>White</td>\n",
       "      <td>Married</td>\n",
       "      <td>0.0</td>\n",
       "      <td>2</td>\n",
       "      <td>15189.0</td>\n",
       "      <td>8575.20</td>\n",
       "      <td>1287988.0</td>\n",
       "      <td>4444.600000</td>\n",
       "      <td>25651.400000</td>\n",
       "      <td>24870.60</td>\n",
       "      <td>1608678.0</td>\n",
       "      <td>0</td>\n",
       "      <td>1</td>\n",
       "    </tr>\n",
       "    <tr>\n",
       "      <th>1728</th>\n",
       "      <td>941_S_4255</td>\n",
       "      <td>72.4</td>\n",
       "      <td>16</td>\n",
       "      <td>Not Hisp/Latino</td>\n",
       "      <td>White</td>\n",
       "      <td>Never married</td>\n",
       "      <td>1.0</td>\n",
       "      <td>1</td>\n",
       "      <td>34095.8</td>\n",
       "      <td>6494.60</td>\n",
       "      <td>1068386.0</td>\n",
       "      <td>3692.800000</td>\n",
       "      <td>19417.000000</td>\n",
       "      <td>21324.00</td>\n",
       "      <td>1582688.0</td>\n",
       "      <td>0</td>\n",
       "      <td>1</td>\n",
       "    </tr>\n",
       "    <tr>\n",
       "      <th>1729</th>\n",
       "      <td>941_S_4292</td>\n",
       "      <td>70.9</td>\n",
       "      <td>15</td>\n",
       "      <td>Not Hisp/Latino</td>\n",
       "      <td>White</td>\n",
       "      <td>Married</td>\n",
       "      <td>0.0</td>\n",
       "      <td>1</td>\n",
       "      <td>24753.4</td>\n",
       "      <td>7727.60</td>\n",
       "      <td>1035434.0</td>\n",
       "      <td>3859.600000</td>\n",
       "      <td>17155.200000</td>\n",
       "      <td>20151.60</td>\n",
       "      <td>1461196.0</td>\n",
       "      <td>0</td>\n",
       "      <td>1</td>\n",
       "    </tr>\n",
       "    <tr>\n",
       "      <th>1730</th>\n",
       "      <td>941_S_4365</td>\n",
       "      <td>80.3</td>\n",
       "      <td>20</td>\n",
       "      <td>Not Hisp/Latino</td>\n",
       "      <td>White</td>\n",
       "      <td>Married</td>\n",
       "      <td>0.0</td>\n",
       "      <td>1</td>\n",
       "      <td>55885.2</td>\n",
       "      <td>7350.80</td>\n",
       "      <td>1105758.0</td>\n",
       "      <td>4097.500000</td>\n",
       "      <td>19869.000000</td>\n",
       "      <td>20101.25</td>\n",
       "      <td>1656876.0</td>\n",
       "      <td>0</td>\n",
       "      <td>1</td>\n",
       "    </tr>\n",
       "    <tr>\n",
       "      <th>1732</th>\n",
       "      <td>941_S_4377</td>\n",
       "      <td>69.3</td>\n",
       "      <td>12</td>\n",
       "      <td>Not Hisp/Latino</td>\n",
       "      <td>White</td>\n",
       "      <td>Widowed</td>\n",
       "      <td>1.0</td>\n",
       "      <td>2</td>\n",
       "      <td>19850.0</td>\n",
       "      <td>6276.50</td>\n",
       "      <td>854605.0</td>\n",
       "      <td>3098.750000</td>\n",
       "      <td>14773.000000</td>\n",
       "      <td>16232.75</td>\n",
       "      <td>1307477.5</td>\n",
       "      <td>1</td>\n",
       "      <td>0</td>\n",
       "    </tr>\n",
       "    <tr>\n",
       "      <th>1733</th>\n",
       "      <td>941_S_4420</td>\n",
       "      <td>81.4</td>\n",
       "      <td>18</td>\n",
       "      <td>Not Hisp/Latino</td>\n",
       "      <td>White</td>\n",
       "      <td>Married</td>\n",
       "      <td>0.0</td>\n",
       "      <td>2</td>\n",
       "      <td>45450.5</td>\n",
       "      <td>7542.25</td>\n",
       "      <td>1125837.5</td>\n",
       "      <td>4501.750000</td>\n",
       "      <td>16491.250000</td>\n",
       "      <td>17802.75</td>\n",
       "      <td>1658722.5</td>\n",
       "      <td>0</td>\n",
       "      <td>1</td>\n",
       "    </tr>\n",
       "    <tr>\n",
       "      <th>1734</th>\n",
       "      <td>941_S_4764</td>\n",
       "      <td>82.7</td>\n",
       "      <td>20</td>\n",
       "      <td>Not Hisp/Latino</td>\n",
       "      <td>White</td>\n",
       "      <td>Never married</td>\n",
       "      <td>0.0</td>\n",
       "      <td>2</td>\n",
       "      <td>63228.5</td>\n",
       "      <td>6092.50</td>\n",
       "      <td>915772.5</td>\n",
       "      <td>3933.666667</td>\n",
       "      <td>17667.333333</td>\n",
       "      <td>17832.00</td>\n",
       "      <td>1483815.0</td>\n",
       "      <td>1</td>\n",
       "      <td>0</td>\n",
       "    </tr>\n",
       "    <tr>\n",
       "      <th>1736</th>\n",
       "      <td>941_S_5193</td>\n",
       "      <td>72.5</td>\n",
       "      <td>16</td>\n",
       "      <td>Not Hisp/Latino</td>\n",
       "      <td>White</td>\n",
       "      <td>Married</td>\n",
       "      <td>0.0</td>\n",
       "      <td>1</td>\n",
       "      <td>22958.5</td>\n",
       "      <td>7009.50</td>\n",
       "      <td>1026105.0</td>\n",
       "      <td>4007.500000</td>\n",
       "      <td>15812.500000</td>\n",
       "      <td>17461.00</td>\n",
       "      <td>1465065.0</td>\n",
       "      <td>1</td>\n",
       "      <td>0</td>\n",
       "    </tr>\n",
       "  </tbody>\n",
       "</table>\n",
       "</div>"
      ],
      "text/plain": [
       "            PTID   AGE  PTEDUCAT         PTETHCAT PTRACCAT        PTMARRY  \\\n",
       "1724  941_S_4036  74.0        20  Not Hisp/Latino    White        Married   \n",
       "1725  941_S_4066  78.7        18  Not Hisp/Latino    White        Married   \n",
       "1727  941_S_4187  62.0        16  Not Hisp/Latino    White        Married   \n",
       "1728  941_S_4255  72.4        16  Not Hisp/Latino    White  Never married   \n",
       "1729  941_S_4292  70.9        15  Not Hisp/Latino    White        Married   \n",
       "1730  941_S_4365  80.3        20  Not Hisp/Latino    White        Married   \n",
       "1732  941_S_4377  69.3        12  Not Hisp/Latino    White        Widowed   \n",
       "1733  941_S_4420  81.4        18  Not Hisp/Latino    White        Married   \n",
       "1734  941_S_4764  82.7        20  Not Hisp/Latino    White  Never married   \n",
       "1736  941_S_5193  72.5        16  Not Hisp/Latino    White        Married   \n",
       "\n",
       "      APOE4  DX  Ventricles  Hippocampus  WholeBrain   Entorhinal  \\\n",
       "1724    0.0   2      9936.6      7916.20   1042420.0  4523.400000   \n",
       "1725    0.0   1     54990.0      5900.00    894850.0  3239.000000   \n",
       "1727    0.0   2     15189.0      8575.20   1287988.0  4444.600000   \n",
       "1728    1.0   1     34095.8      6494.60   1068386.0  3692.800000   \n",
       "1729    0.0   1     24753.4      7727.60   1035434.0  3859.600000   \n",
       "1730    0.0   1     55885.2      7350.80   1105758.0  4097.500000   \n",
       "1732    1.0   2     19850.0      6276.50    854605.0  3098.750000   \n",
       "1733    0.0   2     45450.5      7542.25   1125837.5  4501.750000   \n",
       "1734    0.0   2     63228.5      6092.50    915772.5  3933.666667   \n",
       "1736    0.0   1     22958.5      7009.50   1026105.0  4007.500000   \n",
       "\n",
       "          Fusiform   MidTemp        ICV  Female  Male  \n",
       "1724  22559.600000  18902.80  1445052.0       0     1  \n",
       "1725  18757.000000  16903.00  1396030.0       1     0  \n",
       "1727  25651.400000  24870.60  1608678.0       0     1  \n",
       "1728  19417.000000  21324.00  1582688.0       0     1  \n",
       "1729  17155.200000  20151.60  1461196.0       0     1  \n",
       "1730  19869.000000  20101.25  1656876.0       0     1  \n",
       "1732  14773.000000  16232.75  1307477.5       1     0  \n",
       "1733  16491.250000  17802.75  1658722.5       0     1  \n",
       "1734  17667.333333  17832.00  1483815.0       1     0  \n",
       "1736  15812.500000  17461.00  1465065.0       1     0  "
      ]
     },
     "execution_count": 15,
     "metadata": {},
     "output_type": "execute_result"
    }
   ],
   "source": [
    "one_hot_data.tail(10)"
   ]
  },
  {
   "cell_type": "code",
   "execution_count": 16,
   "metadata": {
    "ExecuteTime": {
     "end_time": "2021-09-23T00:14:54.536532Z",
     "start_time": "2021-09-23T00:14:54.521533Z"
    },
    "id": "qn-IGhUE7_1H"
   },
   "outputs": [],
   "source": [
    "train_dataset = one_hot_data.sample(frac=0.8, random_state=0)\n",
    "test_dataset = one_hot_data.drop(train_dataset.index)"
   ]
  },
  {
   "cell_type": "markdown",
   "metadata": {
    "id": "J4ubs136WLNp"
   },
   "source": [
    "### 3. Inspect the Data\n",
    "\n",
    "Have a quick look at the joint distribution of a few pairs of columns from the training set. *Can you find the data that show their relationship clearly?*\n",
    "\n",
    "Q: **(2 points)** Please work with different columns and write what you have learned from the visualization of the data.  "
   ]
  },
  {
   "cell_type": "code",
   "execution_count": 17,
   "metadata": {
    "ExecuteTime": {
     "end_time": "2021-09-23T00:14:57.182577Z",
     "start_time": "2021-09-23T00:14:54.537532Z"
    },
    "id": "SPKLN_f0gssF"
   },
   "outputs": [
    {
     "data": {
      "text/plain": [
       "<seaborn.axisgrid.PairGrid at 0x224ad419eb0>"
      ]
     },
     "execution_count": 17,
     "metadata": {},
     "output_type": "execute_result"
    },
    {
     "data": {
      "image/png": "[encoded data removed]",
      "text/plain": [
       "<Figure size 900x900 with 30 Axes>"
      ]
     },
     "metadata": {
      "needs_background": "light"
     },
     "output_type": "display_data"
    }
   ],
   "source": [
    "sns.pairplot(train_dataset[[\"AGE\", \"Hippocampus\", \"PTEDUCAT\", \"WholeBrain\", \"DX\"]], diag_kind=\"kde\")"
   ]
  },
  {
   "cell_type": "markdown",
   "metadata": {
    "id": "gavKO_6DWRMP"
   },
   "source": [
    "Also look at the overall statistics, note how each feature covers a very different range:"
   ]
  },
  {
   "cell_type": "code",
   "execution_count": 18,
   "metadata": {
    "ExecuteTime": {
     "end_time": "2021-09-23T00:14:57.230614Z",
     "start_time": "2021-09-23T00:14:57.183578Z"
    },
    "id": "yi2FzC3T21jR"
   },
   "outputs": [
    {
     "data": {
      "text/html": [
       "<div>\n",
       "<style scoped>\n",
       "    .dataframe tbody tr th:only-of-type {\n",
       "        vertical-align: middle;\n",
       "    }\n",
       "\n",
       "    .dataframe tbody tr th {\n",
       "        vertical-align: top;\n",
       "    }\n",
       "\n",
       "    .dataframe thead th {\n",
       "        text-align: right;\n",
       "    }\n",
       "</style>\n",
       "<table border=\"1\" class=\"dataframe\">\n",
       "  <thead>\n",
       "    <tr style=\"text-align: right;\">\n",
       "      <th></th>\n",
       "      <th>count</th>\n",
       "      <th>mean</th>\n",
       "      <th>std</th>\n",
       "      <th>min</th>\n",
       "      <th>25%</th>\n",
       "      <th>50%</th>\n",
       "      <th>75%</th>\n",
       "      <th>max</th>\n",
       "    </tr>\n",
       "  </thead>\n",
       "  <tbody>\n",
       "    <tr>\n",
       "      <th>AGE</th>\n",
       "      <td>1183.0</td>\n",
       "      <td>7.354328e+01</td>\n",
       "      <td>7.186444</td>\n",
       "      <td>54.400000</td>\n",
       "      <td>6.910000e+01</td>\n",
       "      <td>7.360000e+01</td>\n",
       "      <td>7.850000e+01</td>\n",
       "      <td>9.140000e+01</td>\n",
       "    </tr>\n",
       "    <tr>\n",
       "      <th>PTEDUCAT</th>\n",
       "      <td>1183.0</td>\n",
       "      <td>1.592899e+01</td>\n",
       "      <td>2.878245</td>\n",
       "      <td>4.000000</td>\n",
       "      <td>1.400000e+01</td>\n",
       "      <td>1.600000e+01</td>\n",
       "      <td>1.800000e+01</td>\n",
       "      <td>2.000000e+01</td>\n",
       "    </tr>\n",
       "    <tr>\n",
       "      <th>APOE4</th>\n",
       "      <td>1183.0</td>\n",
       "      <td>5.714286e-01</td>\n",
       "      <td>0.666908</td>\n",
       "      <td>0.000000</td>\n",
       "      <td>0.000000e+00</td>\n",
       "      <td>0.000000e+00</td>\n",
       "      <td>1.000000e+00</td>\n",
       "      <td>2.000000e+00</td>\n",
       "    </tr>\n",
       "    <tr>\n",
       "      <th>DX</th>\n",
       "      <td>1183.0</td>\n",
       "      <td>2.091293e+00</td>\n",
       "      <td>0.790243</td>\n",
       "      <td>1.000000</td>\n",
       "      <td>1.000000e+00</td>\n",
       "      <td>2.000000e+00</td>\n",
       "      <td>3.000000e+00</td>\n",
       "      <td>3.000000e+00</td>\n",
       "    </tr>\n",
       "    <tr>\n",
       "      <th>Ventricles</th>\n",
       "      <td>1183.0</td>\n",
       "      <td>4.228182e+04</td>\n",
       "      <td>23852.178487</td>\n",
       "      <td>6069.500000</td>\n",
       "      <td>2.461721e+04</td>\n",
       "      <td>3.727520e+04</td>\n",
       "      <td>5.366138e+04</td>\n",
       "      <td>1.514055e+05</td>\n",
       "    </tr>\n",
       "    <tr>\n",
       "      <th>Hippocampus</th>\n",
       "      <td>1183.0</td>\n",
       "      <td>6.631566e+03</td>\n",
       "      <td>1237.390482</td>\n",
       "      <td>2894.500000</td>\n",
       "      <td>5.735750e+03</td>\n",
       "      <td>6.717167e+03</td>\n",
       "      <td>7.537117e+03</td>\n",
       "      <td>1.094188e+04</td>\n",
       "    </tr>\n",
       "    <tr>\n",
       "      <th>WholeBrain</th>\n",
       "      <td>1183.0</td>\n",
       "      <td>1.013104e+06</td>\n",
       "      <td>111468.502835</td>\n",
       "      <td>712985.400000</td>\n",
       "      <td>9.358254e+05</td>\n",
       "      <td>1.008554e+06</td>\n",
       "      <td>1.089934e+06</td>\n",
       "      <td>1.425556e+06</td>\n",
       "    </tr>\n",
       "    <tr>\n",
       "      <th>Entorhinal</th>\n",
       "      <td>1183.0</td>\n",
       "      <td>3.398071e+03</td>\n",
       "      <td>785.824008</td>\n",
       "      <td>1143.000000</td>\n",
       "      <td>2.874750e+03</td>\n",
       "      <td>3.443000e+03</td>\n",
       "      <td>3.945167e+03</td>\n",
       "      <td>5.931000e+03</td>\n",
       "    </tr>\n",
       "    <tr>\n",
       "      <th>Fusiform</th>\n",
       "      <td>1183.0</td>\n",
       "      <td>1.706231e+04</td>\n",
       "      <td>2772.266839</td>\n",
       "      <td>8863.666667</td>\n",
       "      <td>1.520095e+04</td>\n",
       "      <td>1.708750e+04</td>\n",
       "      <td>1.887675e+04</td>\n",
       "      <td>2.863750e+04</td>\n",
       "    </tr>\n",
       "    <tr>\n",
       "      <th>MidTemp</th>\n",
       "      <td>1183.0</td>\n",
       "      <td>1.904685e+04</td>\n",
       "      <td>3155.796565</td>\n",
       "      <td>8850.333333</td>\n",
       "      <td>1.705983e+04</td>\n",
       "      <td>1.905550e+04</td>\n",
       "      <td>2.118038e+04</td>\n",
       "      <td>2.902000e+04</td>\n",
       "    </tr>\n",
       "    <tr>\n",
       "      <th>ICV</th>\n",
       "      <td>1183.0</td>\n",
       "      <td>1.527770e+06</td>\n",
       "      <td>166353.445485</td>\n",
       "      <td>870835.471000</td>\n",
       "      <td>1.408898e+06</td>\n",
       "      <td>1.513443e+06</td>\n",
       "      <td>1.634956e+06</td>\n",
       "      <td>2.070530e+06</td>\n",
       "    </tr>\n",
       "    <tr>\n",
       "      <th>Female</th>\n",
       "      <td>1183.0</td>\n",
       "      <td>4.488588e-01</td>\n",
       "      <td>0.497588</td>\n",
       "      <td>0.000000</td>\n",
       "      <td>0.000000e+00</td>\n",
       "      <td>0.000000e+00</td>\n",
       "      <td>1.000000e+00</td>\n",
       "      <td>1.000000e+00</td>\n",
       "    </tr>\n",
       "    <tr>\n",
       "      <th>Male</th>\n",
       "      <td>1183.0</td>\n",
       "      <td>5.511412e-01</td>\n",
       "      <td>0.497588</td>\n",
       "      <td>0.000000</td>\n",
       "      <td>0.000000e+00</td>\n",
       "      <td>1.000000e+00</td>\n",
       "      <td>1.000000e+00</td>\n",
       "      <td>1.000000e+00</td>\n",
       "    </tr>\n",
       "  </tbody>\n",
       "</table>\n",
       "</div>"
      ],
      "text/plain": [
       "              count          mean            std            min           25%  \\\n",
       "AGE          1183.0  7.354328e+01       7.186444      54.400000  6.910000e+01   \n",
       "PTEDUCAT     1183.0  1.592899e+01       2.878245       4.000000  1.400000e+01   \n",
       "APOE4        1183.0  5.714286e-01       0.666908       0.000000  0.000000e+00   \n",
       "DX           1183.0  2.091293e+00       0.790243       1.000000  1.000000e+00   \n",
       "Ventricles   1183.0  4.228182e+04   23852.178487    6069.500000  2.461721e+04   \n",
       "Hippocampus  1183.0  6.631566e+03    1237.390482    2894.500000  5.735750e+03   \n",
       "WholeBrain   1183.0  1.013104e+06  111468.502835  712985.400000  9.358254e+05   \n",
       "Entorhinal   1183.0  3.398071e+03     785.824008    1143.000000  2.874750e+03   \n",
       "Fusiform     1183.0  1.706231e+04    2772.266839    8863.666667  1.520095e+04   \n",
       "MidTemp      1183.0  1.904685e+04    3155.796565    8850.333333  1.705983e+04   \n",
       "ICV          1183.0  1.527770e+06  166353.445485  870835.471000  1.408898e+06   \n",
       "Female       1183.0  4.488588e-01       0.497588       0.000000  0.000000e+00   \n",
       "Male         1183.0  5.511412e-01       0.497588       0.000000  0.000000e+00   \n",
       "\n",
       "                      50%           75%           max  \n",
       "AGE          7.360000e+01  7.850000e+01  9.140000e+01  \n",
       "PTEDUCAT     1.600000e+01  1.800000e+01  2.000000e+01  \n",
       "APOE4        0.000000e+00  1.000000e+00  2.000000e+00  \n",
       "DX           2.000000e+00  3.000000e+00  3.000000e+00  \n",
       "Ventricles   3.727520e+04  5.366138e+04  1.514055e+05  \n",
       "Hippocampus  6.717167e+03  7.537117e+03  1.094188e+04  \n",
       "WholeBrain   1.008554e+06  1.089934e+06  1.425556e+06  \n",
       "Entorhinal   3.443000e+03  3.945167e+03  5.931000e+03  \n",
       "Fusiform     1.708750e+04  1.887675e+04  2.863750e+04  \n",
       "MidTemp      1.905550e+04  2.118038e+04  2.902000e+04  \n",
       "ICV          1.513443e+06  1.634956e+06  2.070530e+06  \n",
       "Female       0.000000e+00  1.000000e+00  1.000000e+00  \n",
       "Male         1.000000e+00  1.000000e+00  1.000000e+00  "
      ]
     },
     "execution_count": 18,
     "metadata": {},
     "output_type": "execute_result"
    }
   ],
   "source": [
    "train_dataset.describe().transpose()"
   ]
  },
  {
   "cell_type": "markdown",
   "metadata": {
    "id": "ZlOUYti2OIqY"
   },
   "source": [
    "The code below allows you to look into different groups of data -- normal patients, mild patients and dimential patients. \n",
    "\n",
    "Q: **(3 points)** Play with the total data and/or each group data and its regression on age, DX, and other columns "
   ]
  },
  {
   "cell_type": "code",
   "execution_count": 19,
   "metadata": {
    "ExecuteTime": {
     "end_time": "2021-09-23T00:14:57.277614Z",
     "start_time": "2021-09-23T00:14:57.232616Z"
    },
    "id": "jb10GVpP7f4F"
   },
   "outputs": [
    {
     "data": {
      "text/html": [
       "<div>\n",
       "<style scoped>\n",
       "    .dataframe tbody tr th:only-of-type {\n",
       "        vertical-align: middle;\n",
       "    }\n",
       "\n",
       "    .dataframe tbody tr th {\n",
       "        vertical-align: top;\n",
       "    }\n",
       "\n",
       "    .dataframe thead th {\n",
       "        text-align: right;\n",
       "    }\n",
       "</style>\n",
       "<table border=\"1\" class=\"dataframe\">\n",
       "  <thead>\n",
       "    <tr style=\"text-align: right;\">\n",
       "      <th></th>\n",
       "      <th>count</th>\n",
       "      <th>mean</th>\n",
       "      <th>std</th>\n",
       "      <th>min</th>\n",
       "      <th>25%</th>\n",
       "      <th>50%</th>\n",
       "      <th>75%</th>\n",
       "      <th>max</th>\n",
       "    </tr>\n",
       "  </thead>\n",
       "  <tbody>\n",
       "    <tr>\n",
       "      <th>AGE</th>\n",
       "      <td>320.0</td>\n",
       "      <td>7.370250e+01</td>\n",
       "      <td>5.535573</td>\n",
       "      <td>59.70</td>\n",
       "      <td>7.017500e+01</td>\n",
       "      <td>7.315000e+01</td>\n",
       "      <td>7.712500e+01</td>\n",
       "      <td>8.960000e+01</td>\n",
       "    </tr>\n",
       "    <tr>\n",
       "      <th>PTEDUCAT</th>\n",
       "      <td>320.0</td>\n",
       "      <td>1.644375e+01</td>\n",
       "      <td>2.672856</td>\n",
       "      <td>6.00</td>\n",
       "      <td>1.500000e+01</td>\n",
       "      <td>1.600000e+01</td>\n",
       "      <td>1.800000e+01</td>\n",
       "      <td>2.000000e+01</td>\n",
       "    </tr>\n",
       "    <tr>\n",
       "      <th>APOE4</th>\n",
       "      <td>320.0</td>\n",
       "      <td>2.781250e-01</td>\n",
       "      <td>0.462537</td>\n",
       "      <td>0.00</td>\n",
       "      <td>0.000000e+00</td>\n",
       "      <td>0.000000e+00</td>\n",
       "      <td>1.000000e+00</td>\n",
       "      <td>2.000000e+00</td>\n",
       "    </tr>\n",
       "    <tr>\n",
       "      <th>DX</th>\n",
       "      <td>320.0</td>\n",
       "      <td>1.000000e+00</td>\n",
       "      <td>0.000000</td>\n",
       "      <td>1.00</td>\n",
       "      <td>1.000000e+00</td>\n",
       "      <td>1.000000e+00</td>\n",
       "      <td>1.000000e+00</td>\n",
       "      <td>1.000000e+00</td>\n",
       "    </tr>\n",
       "    <tr>\n",
       "      <th>Ventricles</th>\n",
       "      <td>320.0</td>\n",
       "      <td>3.315768e+04</td>\n",
       "      <td>17108.432145</td>\n",
       "      <td>7296.00</td>\n",
       "      <td>2.088250e+04</td>\n",
       "      <td>3.012520e+04</td>\n",
       "      <td>4.195965e+04</td>\n",
       "      <td>1.183093e+05</td>\n",
       "    </tr>\n",
       "    <tr>\n",
       "      <th>Hippocampus</th>\n",
       "      <td>320.0</td>\n",
       "      <td>7.396946e+03</td>\n",
       "      <td>893.617120</td>\n",
       "      <td>5004.20</td>\n",
       "      <td>6.789125e+03</td>\n",
       "      <td>7.402750e+03</td>\n",
       "      <td>7.968625e+03</td>\n",
       "      <td>1.094188e+04</td>\n",
       "    </tr>\n",
       "    <tr>\n",
       "      <th>WholeBrain</th>\n",
       "      <td>320.0</td>\n",
       "      <td>1.028703e+06</td>\n",
       "      <td>100214.930766</td>\n",
       "      <td>746249.00</td>\n",
       "      <td>9.619510e+05</td>\n",
       "      <td>1.027795e+06</td>\n",
       "      <td>1.093710e+06</td>\n",
       "      <td>1.318260e+06</td>\n",
       "    </tr>\n",
       "    <tr>\n",
       "      <th>Entorhinal</th>\n",
       "      <td>320.0</td>\n",
       "      <td>3.825325e+03</td>\n",
       "      <td>584.601182</td>\n",
       "      <td>2266.25</td>\n",
       "      <td>3.433100e+03</td>\n",
       "      <td>3.812000e+03</td>\n",
       "      <td>4.180767e+03</td>\n",
       "      <td>5.931000e+03</td>\n",
       "    </tr>\n",
       "    <tr>\n",
       "      <th>Fusiform</th>\n",
       "      <td>320.0</td>\n",
       "      <td>1.790285e+04</td>\n",
       "      <td>2316.413292</td>\n",
       "      <td>11512.80</td>\n",
       "      <td>1.635162e+04</td>\n",
       "      <td>1.779383e+04</td>\n",
       "      <td>1.944112e+04</td>\n",
       "      <td>2.629933e+04</td>\n",
       "    </tr>\n",
       "    <tr>\n",
       "      <th>MidTemp</th>\n",
       "      <td>320.0</td>\n",
       "      <td>2.018060e+04</td>\n",
       "      <td>2619.002084</td>\n",
       "      <td>12397.00</td>\n",
       "      <td>1.842235e+04</td>\n",
       "      <td>2.005933e+04</td>\n",
       "      <td>2.173790e+04</td>\n",
       "      <td>2.867360e+04</td>\n",
       "    </tr>\n",
       "    <tr>\n",
       "      <th>ICV</th>\n",
       "      <td>320.0</td>\n",
       "      <td>1.497202e+06</td>\n",
       "      <td>150201.143850</td>\n",
       "      <td>1072705.00</td>\n",
       "      <td>1.390010e+06</td>\n",
       "      <td>1.484282e+06</td>\n",
       "      <td>1.604820e+06</td>\n",
       "      <td>1.914737e+06</td>\n",
       "    </tr>\n",
       "    <tr>\n",
       "      <th>Female</th>\n",
       "      <td>320.0</td>\n",
       "      <td>5.437500e-01</td>\n",
       "      <td>0.498862</td>\n",
       "      <td>0.00</td>\n",
       "      <td>0.000000e+00</td>\n",
       "      <td>1.000000e+00</td>\n",
       "      <td>1.000000e+00</td>\n",
       "      <td>1.000000e+00</td>\n",
       "    </tr>\n",
       "    <tr>\n",
       "      <th>Male</th>\n",
       "      <td>320.0</td>\n",
       "      <td>4.562500e-01</td>\n",
       "      <td>0.498862</td>\n",
       "      <td>0.00</td>\n",
       "      <td>0.000000e+00</td>\n",
       "      <td>0.000000e+00</td>\n",
       "      <td>1.000000e+00</td>\n",
       "      <td>1.000000e+00</td>\n",
       "    </tr>\n",
       "  </tbody>\n",
       "</table>\n",
       "</div>"
      ],
      "text/plain": [
       "             count          mean            std         min           25%  \\\n",
       "AGE          320.0  7.370250e+01       5.535573       59.70  7.017500e+01   \n",
       "PTEDUCAT     320.0  1.644375e+01       2.672856        6.00  1.500000e+01   \n",
       "APOE4        320.0  2.781250e-01       0.462537        0.00  0.000000e+00   \n",
       "DX           320.0  1.000000e+00       0.000000        1.00  1.000000e+00   \n",
       "Ventricles   320.0  3.315768e+04   17108.432145     7296.00  2.088250e+04   \n",
       "Hippocampus  320.0  7.396946e+03     893.617120     5004.20  6.789125e+03   \n",
       "WholeBrain   320.0  1.028703e+06  100214.930766   746249.00  9.619510e+05   \n",
       "Entorhinal   320.0  3.825325e+03     584.601182     2266.25  3.433100e+03   \n",
       "Fusiform     320.0  1.790285e+04    2316.413292    11512.80  1.635162e+04   \n",
       "MidTemp      320.0  2.018060e+04    2619.002084    12397.00  1.842235e+04   \n",
       "ICV          320.0  1.497202e+06  150201.143850  1072705.00  1.390010e+06   \n",
       "Female       320.0  5.437500e-01       0.498862        0.00  0.000000e+00   \n",
       "Male         320.0  4.562500e-01       0.498862        0.00  0.000000e+00   \n",
       "\n",
       "                      50%           75%           max  \n",
       "AGE          7.315000e+01  7.712500e+01  8.960000e+01  \n",
       "PTEDUCAT     1.600000e+01  1.800000e+01  2.000000e+01  \n",
       "APOE4        0.000000e+00  1.000000e+00  2.000000e+00  \n",
       "DX           1.000000e+00  1.000000e+00  1.000000e+00  \n",
       "Ventricles   3.012520e+04  4.195965e+04  1.183093e+05  \n",
       "Hippocampus  7.402750e+03  7.968625e+03  1.094188e+04  \n",
       "WholeBrain   1.027795e+06  1.093710e+06  1.318260e+06  \n",
       "Entorhinal   3.812000e+03  4.180767e+03  5.931000e+03  \n",
       "Fusiform     1.779383e+04  1.944112e+04  2.629933e+04  \n",
       "MidTemp      2.005933e+04  2.173790e+04  2.867360e+04  \n",
       "ICV          1.484282e+06  1.604820e+06  1.914737e+06  \n",
       "Female       1.000000e+00  1.000000e+00  1.000000e+00  \n",
       "Male         0.000000e+00  1.000000e+00  1.000000e+00  "
      ]
     },
     "execution_count": 19,
     "metadata": {},
     "output_type": "execute_result"
    }
   ],
   "source": [
    "index_to_drop = train_dataset[ (train_dataset['DX'] != 1) ].index\n",
    "\n",
    "# drop these given row indices from data\n",
    "train_dataset = train_dataset.drop(index_to_drop)\n",
    "train_dataset.describe().transpose()"
   ]
  },
  {
   "cell_type": "markdown",
   "metadata": {
    "id": "Db7Auq1yXUvh"
   },
   "source": [
    "### 4. Select a Few Features to Work On and Split Features from Labels\n",
    "\n",
    "Separate the target value (the \"label\") from the features. **This label is the value that you will train the model to predict.**"
   ]
  },
  {
   "cell_type": "code",
   "execution_count": 20,
   "metadata": {
    "ExecuteTime": {
     "end_time": "2021-09-23T00:14:57.293616Z",
     "start_time": "2021-09-23T00:14:57.279616Z"
    },
    "id": "t2sluJdCW7jN"
   },
   "outputs": [],
   "source": [
    "train_features = train_dataset[[\"Hippocampus\", \"WholeBrain\", \"Entorhinal\"]]\n",
    "test_features = test_dataset[[\"Hippocampus\", \"WholeBrain\", \"Entorhinal\"]]\n",
    "\n",
    "\n",
    "train_labels = train_dataset[\"AGE\"]\n",
    "test_labels = test_dataset[\"AGE\"]"
   ]
  },
  {
   "cell_type": "markdown",
   "metadata": {
    "id": "mRklxK5s388r"
   },
   "source": [
    "## 5. Normalization\n",
    "\n",
    "In the table of statistics it's easy to see how different the ranges of each feature are.\n",
    "\n",
    "Q: **(2 points)** Write in 100 words why normalization is important.\n",
    "\n",
    "*Note*: There is no advantage to normalizing the one-hot features, it is done here for simplicity. For more details on how to use the preprocessing layers, refer the [Working with preprocessing layers](https://www.tensorflow.org/guide/keras/preprocessing_layers) guide and the [Classify structured data using Keras preprocessing layers](https://www.tensorflow.org/tutorials/structured_data/preprocessing_layers) tutorial."
   ]
  },
  {
   "cell_type": "code",
   "execution_count": 21,
   "metadata": {
    "ExecuteTime": {
     "end_time": "2021-09-23T00:14:57.309614Z",
     "start_time": "2021-09-23T00:14:57.294615Z"
    },
    "id": "IcmY6lKKbkw8"
   },
   "outputs": [
    {
     "data": {
      "text/html": [
       "<div>\n",
       "<style scoped>\n",
       "    .dataframe tbody tr th:only-of-type {\n",
       "        vertical-align: middle;\n",
       "    }\n",
       "\n",
       "    .dataframe tbody tr th {\n",
       "        vertical-align: top;\n",
       "    }\n",
       "\n",
       "    .dataframe thead th {\n",
       "        text-align: right;\n",
       "    }\n",
       "</style>\n",
       "<table border=\"1\" class=\"dataframe\">\n",
       "  <thead>\n",
       "    <tr style=\"text-align: right;\">\n",
       "      <th></th>\n",
       "      <th>mean</th>\n",
       "      <th>std</th>\n",
       "    </tr>\n",
       "  </thead>\n",
       "  <tbody>\n",
       "    <tr>\n",
       "      <th>Hippocampus</th>\n",
       "      <td>7.396946e+03</td>\n",
       "      <td>893.617120</td>\n",
       "    </tr>\n",
       "    <tr>\n",
       "      <th>WholeBrain</th>\n",
       "      <td>1.028703e+06</td>\n",
       "      <td>100214.930766</td>\n",
       "    </tr>\n",
       "    <tr>\n",
       "      <th>Entorhinal</th>\n",
       "      <td>3.825325e+03</td>\n",
       "      <td>584.601182</td>\n",
       "    </tr>\n",
       "  </tbody>\n",
       "</table>\n",
       "</div>"
      ],
      "text/plain": [
       "                     mean            std\n",
       "Hippocampus  7.396946e+03     893.617120\n",
       "WholeBrain   1.028703e+06  100214.930766\n",
       "Entorhinal   3.825325e+03     584.601182"
      ]
     },
     "execution_count": 21,
     "metadata": {},
     "output_type": "execute_result"
    }
   ],
   "source": [
    "train_features.describe().transpose()[['mean', 'std']]"
   ]
  },
  {
   "cell_type": "markdown",
   "metadata": {
    "id": "aFJ6ISropeoo"
   },
   "source": [
    "### 5.1 The Normalization Layer\n",
    "The `preprocessing.Normalization` layer is a clean and simple way to build that preprocessing into your model.\n",
    "\n",
    "The first step is to create the layer:"
   ]
  },
  {
   "cell_type": "code",
   "execution_count": 22,
   "metadata": {
    "ExecuteTime": {
     "end_time": "2021-09-23T00:14:57.325613Z",
     "start_time": "2021-09-23T00:14:57.310615Z"
    },
    "id": "JlC5ooJrgjQF"
   },
   "outputs": [],
   "source": [
    "normalizer = preprocessing.Normalization(axis=-1)"
   ]
  },
  {
   "cell_type": "markdown",
   "metadata": {
    "id": "XYA2Ap6nVOha"
   },
   "source": [
    "Then `.adapt()` it to the data:"
   ]
  },
  {
   "cell_type": "code",
   "execution_count": 23,
   "metadata": {
    "ExecuteTime": {
     "end_time": "2021-09-23T00:14:57.341614Z",
     "start_time": "2021-09-23T00:14:57.327617Z"
    },
    "id": "CrBbbjbwV91f"
   },
   "outputs": [],
   "source": [
    "normalizer.adapt(np.array(train_features))"
   ]
  },
  {
   "cell_type": "markdown",
   "metadata": {
    "id": "oZccMR5yV9YV"
   },
   "source": [
    "The following code calculates the mean and variance, and stores them in the layer. "
   ]
  },
  {
   "cell_type": "code",
   "execution_count": 24,
   "metadata": {
    "ExecuteTime": {
     "end_time": "2021-09-23T00:14:57.356613Z",
     "start_time": "2021-09-23T00:14:57.342615Z"
    },
    "id": "GGn-ukwxSPtx"
   },
   "outputs": [
    {
     "name": "stdout",
     "output_type": "stream",
     "text": [
      "[   7396.946 1028702.56     3825.325]\n"
     ]
    }
   ],
   "source": [
    "print(normalizer.mean.numpy())"
   ]
  },
  {
   "cell_type": "markdown",
   "metadata": {
    "id": "oGWKaF9GSRuN"
   },
   "source": [
    "When the layer is called, it returns the input data with each feature independently normalized:"
   ]
  },
  {
   "cell_type": "code",
   "execution_count": 25,
   "metadata": {
    "ExecuteTime": {
     "end_time": "2021-09-23T00:14:57.372599Z",
     "start_time": "2021-09-23T00:14:57.358617Z"
    },
    "id": "2l7zFL_XWIRu"
   },
   "outputs": [
    {
     "name": "stdout",
     "output_type": "stream",
     "text": [
      "First example: [[   8380.83 1078901.67    4630.5 ]]\n",
      "\n",
      "Normalized: [[1.1  0.5  1.38]]\n"
     ]
    }
   ],
   "source": [
    "first = np.array(train_features[:1])\n",
    "\n",
    "with np.printoptions(precision=2, suppress=True):\n",
    "  print('First example:', first)\n",
    "  print()\n",
    "  print('Normalized:', normalizer(first).numpy())"
   ]
  },
  {
   "cell_type": "markdown",
   "metadata": {
    "id": "6o3CrycBXA2s"
   },
   "source": [
    "## 6. Linear regression\n",
    "\n",
    "Before building a DNN model, start with a linear regression."
   ]
  },
  {
   "cell_type": "markdown",
   "metadata": {
    "id": "lFby9n0tnHkw"
   },
   "source": [
    "### 6.1. One Variable\n",
    "\n",
    "Start with a single-variable linear regression, to predict `AGE` from `hippocampus`.\n",
    "\n",
    "Q: **(5 points)** Please pick different variable or lable to explore the relationship of the features. \n",
    "\n",
    "Try and show at least 3 different variations.\n",
    "Training a model with `tf.keras` typically starts by defining the model architecture.\n",
    "\n",
    "In this case use a `keras.Sequential` model. This model represents a sequence of steps. In this case there are two steps:\n",
    "\n",
    "* Normalize the input `hippocampus`.\n",
    "* Apply a linear transformation ($y = mx+b$) to produce 1 output using `layers.Dense`.\n",
    "\n",
    "The number of _inputs_ can either be set by the `input_shape` argument, or automatically when the model is run for the first time."
   ]
  },
  {
   "cell_type": "markdown",
   "metadata": {
    "id": "Xp3gAFn3TPv8"
   },
   "source": [
    "First create the hippocampus `Normalization` layer:"
   ]
  },
  {
   "cell_type": "code",
   "execution_count": 26,
   "metadata": {
    "ExecuteTime": {
     "end_time": "2021-09-23T00:14:57.388123Z",
     "start_time": "2021-09-23T00:14:57.376599Z"
    },
    "id": "1gJAy0fKs1TS"
   },
   "outputs": [],
   "source": [
    "hippocampus = np.array(train_features['Hippocampus'])\n",
    "\n",
    "\n",
    "hippocampus_normalizer = preprocessing.Normalization(input_shape=[1,], axis=None)\n",
    "hippocampus_normalizer.adapt(hippocampus)"
   ]
  },
  {
   "cell_type": "markdown",
   "metadata": {
    "id": "4NVlHJY2TWlC"
   },
   "source": [
    "Build the sequential model:"
   ]
  },
  {
   "cell_type": "code",
   "execution_count": 27,
   "metadata": {
    "ExecuteTime": {
     "end_time": "2021-09-23T00:14:57.419518Z",
     "start_time": "2021-09-23T00:14:57.390121Z"
    },
    "id": "c0sXM7qLlKfZ"
   },
   "outputs": [
    {
     "name": "stdout",
     "output_type": "stream",
     "text": [
      "Model: \"sequential\"\n",
      "_________________________________________________________________\n",
      "Layer (type)                 Output Shape              Param #   \n",
      "=================================================================\n",
      "normalization_1 (Normalizati (None, 1)                 3         \n",
      "_________________________________________________________________\n",
      "dense (Dense)                (None, 1)                 2         \n",
      "=================================================================\n",
      "Total params: 5\n",
      "Trainable params: 2\n",
      "Non-trainable params: 3\n",
      "_________________________________________________________________\n"
     ]
    }
   ],
   "source": [
    "hippocampus_model = tf.keras.Sequential([\n",
    "    hippocampus_normalizer,\n",
    "    layers.Dense(units=1)\n",
    "])\n",
    "\n",
    "hippocampus_model.summary()"
   ]
  },
  {
   "cell_type": "markdown",
   "metadata": {
    "id": "eObQu9fDnXGL"
   },
   "source": [
    "This model will predict `AGE` from `hippocampus`.\n",
    "\n",
    "Run the untrained model on the first 10 horse-power values. The output won't be good, but you'll see that it has the expected shape, `(10,1)`:"
   ]
  },
  {
   "cell_type": "code",
   "execution_count": 28,
   "metadata": {
    "ExecuteTime": {
     "end_time": "2021-09-23T00:14:57.530522Z",
     "start_time": "2021-09-23T00:14:57.421522Z"
    },
    "id": "UfV1HS6bns-s"
   },
   "outputs": [
    {
     "data": {
      "text/plain": [
       "array([[-0.228],\n",
       "       [ 0.065],\n",
       "       [ 0.379],\n",
       "       [ 0.046],\n",
       "       [ 0.072],\n",
       "       [-0.308],\n",
       "       [-0.203],\n",
       "       [ 0.159],\n",
       "       [ 0.051],\n",
       "       [-0.064]], dtype=float32)"
      ]
     },
     "execution_count": 28,
     "metadata": {},
     "output_type": "execute_result"
    }
   ],
   "source": [
    "hippocampus_model.predict(hippocampus[:10])"
   ]
  },
  {
   "cell_type": "markdown",
   "metadata": {
    "id": "CSkanJlmmFBX"
   },
   "source": [
    "Once the model is built, configure the training procedure using the `Model.compile()` method. The most important arguments to compile are the `loss` and the `optimizer` since these define what will be optimized (`mean_absolute_error`) and how (using the `optimizers.Adam`)."
   ]
  },
  {
   "cell_type": "code",
   "execution_count": 29,
   "metadata": {
    "ExecuteTime": {
     "end_time": "2021-09-23T00:14:57.545522Z",
     "start_time": "2021-09-23T00:14:57.531522Z"
    },
    "id": "JxA_3lpOm-SK"
   },
   "outputs": [],
   "source": [
    "hippocampus_model.compile(\n",
    "    optimizer=tf.optimizers.Adam(learning_rate=0.1),\n",
    "    loss='mean_absolute_error')"
   ]
  },
  {
   "cell_type": "markdown",
   "metadata": {
    "id": "Z3q1I9TwnRSC"
   },
   "source": [
    "Once the training is configured, use `Model.fit()` to execute the training:\n",
    "\n",
    "Q: **(5 points)** Explore different hyperparameters such as learning rate, epochs, batch sizes. Please document your explorations and reflections."
   ]
  },
  {
   "cell_type": "code",
   "execution_count": 30,
   "metadata": {
    "ExecuteTime": {
     "end_time": "2021-09-23T00:14:59.482042Z",
     "start_time": "2021-09-23T00:14:57.546526Z"
    },
    "id": "-iSrNy59nRAp",
    "scrolled": false
   },
   "outputs": [
    {
     "name": "stdout",
     "output_type": "stream",
     "text": [
      "Epoch 1/100\n",
      "8/8 [==============================] - 0s 14ms/step - loss: 73.5144 - val_loss: 72.2972\n",
      "Epoch 2/100\n",
      "8/8 [==============================] - 0s 2ms/step - loss: 72.7024 - val_loss: 71.5125\n",
      "Epoch 3/100\n",
      "8/8 [==============================] - 0s 2ms/step - loss: 71.9005 - val_loss: 70.7160\n",
      "Epoch 4/100\n",
      "8/8 [==============================] - 0s 1ms/step - loss: 71.0975 - val_loss: 69.9318\n",
      "Epoch 5/100\n",
      "8/8 [==============================] - 0s 2ms/step - loss: 70.2934 - val_loss: 69.1443\n",
      "Epoch 6/100\n",
      "8/8 [==============================] - 0s 2ms/step - loss: 69.4924 - val_loss: 68.3597\n",
      "Epoch 7/100\n",
      "8/8 [==============================] - 0s 2ms/step - loss: 68.6871 - val_loss: 67.5709\n",
      "Epoch 8/100\n",
      "8/8 [==============================] - 0s 2ms/step - loss: 67.8911 - val_loss: 66.7932\n",
      "Epoch 9/100\n",
      "8/8 [==============================] - 0s 1ms/step - loss: 67.0800 - val_loss: 65.9991\n",
      "Epoch 10/100\n",
      "8/8 [==============================] - 0s 2ms/step - loss: 66.2792 - val_loss: 65.2116\n",
      "Epoch 11/100\n",
      "8/8 [==============================] - 0s 2ms/step - loss: 65.4814 - val_loss: 64.4315\n",
      "Epoch 12/100\n",
      "8/8 [==============================] - 0s 2ms/step - loss: 64.6723 - val_loss: 63.6426\n",
      "Epoch 13/100\n",
      "8/8 [==============================] - 0s 2ms/step - loss: 63.8680 - val_loss: 62.8497\n",
      "Epoch 14/100\n",
      "8/8 [==============================] - 0s 2ms/step - loss: 63.0706 - val_loss: 62.0663\n",
      "Epoch 15/100\n",
      "8/8 [==============================] - 0s 1ms/step - loss: 62.2660 - val_loss: 61.2804\n",
      "Epoch 16/100\n",
      "8/8 [==============================] - 0s 1ms/step - loss: 61.4597 - val_loss: 60.4828\n",
      "Epoch 17/100\n",
      "8/8 [==============================] - 0s 2ms/step - loss: 60.6617 - val_loss: 59.7010\n",
      "Epoch 18/100\n",
      "8/8 [==============================] - 0s 1ms/step - loss: 59.8567 - val_loss: 58.9018\n",
      "Epoch 19/100\n",
      "8/8 [==============================] - 0s 2ms/step - loss: 59.0542 - val_loss: 58.1190\n",
      "Epoch 20/100\n",
      "8/8 [==============================] - 0s 2ms/step - loss: 58.2505 - val_loss: 57.3350\n",
      "Epoch 21/100\n",
      "8/8 [==============================] - 0s 2ms/step - loss: 57.4488 - val_loss: 56.5507\n",
      "Epoch 22/100\n",
      "8/8 [==============================] - 0s 1ms/step - loss: 56.6409 - val_loss: 55.7599\n",
      "Epoch 23/100\n",
      "8/8 [==============================] - 0s 2ms/step - loss: 55.8398 - val_loss: 54.9621\n",
      "Epoch 24/100\n",
      "8/8 [==============================] - 0s 2ms/step - loss: 55.0369 - val_loss: 54.1739\n",
      "Epoch 25/100\n",
      "8/8 [==============================] - 0s 1ms/step - loss: 54.2333 - val_loss: 53.3843\n",
      "Epoch 26/100\n",
      "8/8 [==============================] - 0s 2ms/step - loss: 53.4382 - val_loss: 52.6060\n",
      "Epoch 27/100\n",
      "8/8 [==============================] - 0s 2ms/step - loss: 52.6282 - val_loss: 51.8179\n",
      "Epoch 28/100\n",
      "8/8 [==============================] - 0s 2ms/step - loss: 51.8237 - val_loss: 51.0269\n",
      "Epoch 29/100\n",
      "8/8 [==============================] - 0s 2ms/step - loss: 51.0221 - val_loss: 50.2283\n",
      "Epoch 30/100\n",
      "8/8 [==============================] - 0s 2ms/step - loss: 50.2199 - val_loss: 49.4434\n",
      "Epoch 31/100\n",
      "8/8 [==============================] - 0s 2ms/step - loss: 49.4165 - val_loss: 48.6562\n",
      "Epoch 32/100\n",
      "8/8 [==============================] - 0s 2ms/step - loss: 48.6135 - val_loss: 47.8623\n",
      "Epoch 33/100\n",
      "8/8 [==============================] - 0s 2ms/step - loss: 47.8118 - val_loss: 47.0763\n",
      "Epoch 34/100\n",
      "8/8 [==============================] - 0s 2ms/step - loss: 47.0120 - val_loss: 46.2964\n",
      "Epoch 35/100\n",
      "8/8 [==============================] - 0s 2ms/step - loss: 46.2028 - val_loss: 45.5038\n",
      "Epoch 36/100\n",
      "8/8 [==============================] - 0s 2ms/step - loss: 45.4003 - val_loss: 44.7124\n",
      "Epoch 37/100\n",
      "8/8 [==============================] - 0s 2ms/step - loss: 44.6024 - val_loss: 43.9321\n",
      "Epoch 38/100\n",
      "8/8 [==============================] - 0s 2ms/step - loss: 43.7940 - val_loss: 43.1390\n",
      "Epoch 39/100\n",
      "8/8 [==============================] - 0s 2ms/step - loss: 43.0037 - val_loss: 42.3631\n",
      "Epoch 40/100\n",
      "8/8 [==============================] - 0s 2ms/step - loss: 42.1872 - val_loss: 41.5701\n",
      "Epoch 41/100\n",
      "8/8 [==============================] - 0s 2ms/step - loss: 41.3850 - val_loss: 40.7782\n",
      "Epoch 42/100\n",
      "8/8 [==============================] - 0s 2ms/step - loss: 40.5831 - val_loss: 39.9874\n",
      "Epoch 43/100\n",
      "8/8 [==============================] - 0s 2ms/step - loss: 39.7800 - val_loss: 39.2004\n",
      "Epoch 44/100\n",
      "8/8 [==============================] - 0s 2ms/step - loss: 38.9776 - val_loss: 38.4141\n",
      "Epoch 45/100\n",
      "8/8 [==============================] - 0s 2ms/step - loss: 38.1743 - val_loss: 37.6255\n",
      "Epoch 46/100\n",
      "8/8 [==============================] - 0s 2ms/step - loss: 37.3761 - val_loss: 36.8461\n",
      "Epoch 47/100\n",
      "8/8 [==============================] - 0s 2ms/step - loss: 36.5687 - val_loss: 36.0458\n",
      "Epoch 48/100\n",
      "8/8 [==============================] - 0s 2ms/step - loss: 35.7653 - val_loss: 35.2602\n",
      "Epoch 49/100\n",
      "8/8 [==============================] - 0s 2ms/step - loss: 34.9620 - val_loss: 34.4738\n",
      "Epoch 50/100\n",
      "8/8 [==============================] - 0s 2ms/step - loss: 34.1675 - val_loss: 33.6971\n",
      "Epoch 51/100\n",
      "8/8 [==============================] - 0s 2ms/step - loss: 33.3547 - val_loss: 32.9068\n",
      "Epoch 52/100\n",
      "8/8 [==============================] - 0s 2ms/step - loss: 32.5509 - val_loss: 32.1129\n",
      "Epoch 53/100\n",
      "8/8 [==============================] - 0s 2ms/step - loss: 31.7525 - val_loss: 31.3295\n",
      "Epoch 54/100\n",
      "8/8 [==============================] - 0s 2ms/step - loss: 30.9472 - val_loss: 30.5361\n",
      "Epoch 55/100\n",
      "8/8 [==============================] - 0s 2ms/step - loss: 30.1468 - val_loss: 29.7487\n",
      "Epoch 56/100\n",
      "8/8 [==============================] - 0s 2ms/step - loss: 29.3436 - val_loss: 28.9655\n",
      "Epoch 57/100\n",
      "8/8 [==============================] - 0s 2ms/step - loss: 28.5404 - val_loss: 28.1768\n",
      "Epoch 58/100\n",
      "8/8 [==============================] - 0s 2ms/step - loss: 27.7529 - val_loss: 27.3702\n",
      "Epoch 59/100\n",
      "8/8 [==============================] - 0s 14ms/step - loss: 26.9631 - val_loss: 26.5717\n",
      "Epoch 60/100\n",
      "8/8 [==============================] - 0s 2ms/step - loss: 26.1731 - val_loss: 25.7780\n",
      "Epoch 61/100\n",
      "8/8 [==============================] - 0s 2ms/step - loss: 25.3843 - val_loss: 24.9794\n",
      "Epoch 62/100\n",
      "8/8 [==============================] - 0s 2ms/step - loss: 24.5932 - val_loss: 24.1889\n",
      "Epoch 63/100\n",
      "8/8 [==============================] - 0s 2ms/step - loss: 23.8111 - val_loss: 23.3870\n",
      "Epoch 64/100\n",
      "8/8 [==============================] - 0s 1ms/step - loss: 23.0308 - val_loss: 22.5860\n",
      "Epoch 65/100\n",
      "8/8 [==============================] - 0s 2ms/step - loss: 22.2468 - val_loss: 21.7954\n",
      "Epoch 66/100\n",
      "8/8 [==============================] - 0s 2ms/step - loss: 21.4700 - val_loss: 21.0001\n",
      "Epoch 67/100\n",
      "8/8 [==============================] - 0s 1ms/step - loss: 20.7028 - val_loss: 20.1907\n",
      "Epoch 68/100\n",
      "8/8 [==============================] - 0s 2ms/step - loss: 19.9225 - val_loss: 19.3929\n",
      "Epoch 69/100\n",
      "8/8 [==============================] - 0s 1ms/step - loss: 19.1683 - val_loss: 18.5755\n",
      "Epoch 70/100\n",
      "8/8 [==============================] - 0s 2ms/step - loss: 18.3790 - val_loss: 17.7842\n",
      "Epoch 71/100\n",
      "8/8 [==============================] - 0s 1ms/step - loss: 17.6202 - val_loss: 16.9931\n",
      "Epoch 72/100\n",
      "8/8 [==============================] - 0s 2ms/step - loss: 16.8745 - val_loss: 16.1860\n",
      "Epoch 73/100\n",
      "8/8 [==============================] - 0s 2ms/step - loss: 16.1088 - val_loss: 15.3983\n",
      "Epoch 74/100\n",
      "8/8 [==============================] - 0s 1ms/step - loss: 15.3345 - val_loss: 14.6299\n",
      "Epoch 75/100\n",
      "8/8 [==============================] - 0s 2ms/step - loss: 14.5908 - val_loss: 13.8421\n",
      "Epoch 76/100\n",
      "8/8 [==============================] - 0s 2ms/step - loss: 13.8129 - val_loss: 13.0808\n",
      "Epoch 77/100\n",
      "8/8 [==============================] - 0s 1ms/step - loss: 13.0679 - val_loss: 12.3075\n",
      "Epoch 78/100\n",
      "8/8 [==============================] - 0s 1ms/step - loss: 12.3170 - val_loss: 11.5358\n",
      "Epoch 79/100\n",
      "8/8 [==============================] - 0s 2ms/step - loss: 11.5866 - val_loss: 10.7542\n",
      "Epoch 80/100\n",
      "8/8 [==============================] - 0s 1ms/step - loss: 10.8401 - val_loss: 10.0037\n",
      "Epoch 81/100\n",
      "8/8 [==============================] - 0s 2ms/step - loss: 10.1076 - val_loss: 9.2673\n",
      "Epoch 82/100\n",
      "8/8 [==============================] - 0s 1ms/step - loss: 9.4101 - val_loss: 8.5005\n",
      "Epoch 83/100\n"
     ]
    },
    {
     "name": "stdout",
     "output_type": "stream",
     "text": [
      "8/8 [==============================] - 0s 2ms/step - loss: 8.7295 - val_loss: 7.7622\n",
      "Epoch 84/100\n",
      "8/8 [==============================] - 0s 1ms/step - loss: 8.0810 - val_loss: 7.0885\n",
      "Epoch 85/100\n",
      "8/8 [==============================] - 0s 2ms/step - loss: 7.4859 - val_loss: 6.4698\n",
      "Epoch 86/100\n",
      "8/8 [==============================] - 0s 1ms/step - loss: 6.9327 - val_loss: 5.9129\n",
      "Epoch 87/100\n",
      "8/8 [==============================] - 0s 2ms/step - loss: 6.4007 - val_loss: 5.4199\n",
      "Epoch 88/100\n",
      "8/8 [==============================] - 0s 2ms/step - loss: 5.9938 - val_loss: 5.0420\n",
      "Epoch 89/100\n",
      "8/8 [==============================] - 0s 2ms/step - loss: 5.6225 - val_loss: 4.7238\n",
      "Epoch 90/100\n",
      "8/8 [==============================] - 0s 2ms/step - loss: 5.2934 - val_loss: 4.4765\n",
      "Epoch 91/100\n",
      "8/8 [==============================] - 0s 1ms/step - loss: 5.0386 - val_loss: 4.3038\n",
      "Epoch 92/100\n",
      "8/8 [==============================] - 0s 2ms/step - loss: 4.7961 - val_loss: 4.1656\n",
      "Epoch 93/100\n",
      "8/8 [==============================] - 0s 1ms/step - loss: 4.6271 - val_loss: 4.0870\n",
      "Epoch 94/100\n",
      "8/8 [==============================] - 0s 2ms/step - loss: 4.5020 - val_loss: 3.9800\n",
      "Epoch 95/100\n",
      "8/8 [==============================] - 0s 2ms/step - loss: 4.3871 - val_loss: 3.9042\n",
      "Epoch 96/100\n",
      "8/8 [==============================] - 0s 1ms/step - loss: 4.3074 - val_loss: 3.8450\n",
      "Epoch 97/100\n",
      "8/8 [==============================] - 0s 2ms/step - loss: 4.2518 - val_loss: 3.8146\n",
      "Epoch 98/100\n",
      "8/8 [==============================] - 0s 1ms/step - loss: 4.2073 - val_loss: 3.8041\n",
      "Epoch 99/100\n",
      "8/8 [==============================] - 0s 2ms/step - loss: 4.1755 - val_loss: 3.7879\n",
      "Epoch 100/100\n",
      "8/8 [==============================] - 0s 1ms/step - loss: 4.1478 - val_loss: 3.7894\n",
      "Wall time: 1.92 s\n"
     ]
    }
   ],
   "source": [
    "%%time\n",
    "history = hippocampus_model.fit(\n",
    "    train_features['Hippocampus'], train_labels,\n",
    "    epochs=100,\n",
    "    # suppress logging\n",
    "    verbose=1,\n",
    "    # Calculate validation results on 20% of the training data\n",
    "    validation_split = 0.2)"
   ]
  },
  {
   "cell_type": "markdown",
   "metadata": {
    "id": "tQm3pc0FYPQB"
   },
   "source": [
    "Visualize the model's training progress using the stats stored in the `history` object."
   ]
  },
  {
   "cell_type": "code",
   "execution_count": 31,
   "metadata": {
    "ExecuteTime": {
     "end_time": "2021-09-23T00:14:59.498042Z",
     "start_time": "2021-09-23T00:14:59.483044Z"
    },
    "id": "YCAwD_y4AdC3"
   },
   "outputs": [
    {
     "data": {
      "text/html": [
       "<div>\n",
       "<style scoped>\n",
       "    .dataframe tbody tr th:only-of-type {\n",
       "        vertical-align: middle;\n",
       "    }\n",
       "\n",
       "    .dataframe tbody tr th {\n",
       "        vertical-align: top;\n",
       "    }\n",
       "\n",
       "    .dataframe thead th {\n",
       "        text-align: right;\n",
       "    }\n",
       "</style>\n",
       "<table border=\"1\" class=\"dataframe\">\n",
       "  <thead>\n",
       "    <tr style=\"text-align: right;\">\n",
       "      <th></th>\n",
       "      <th>loss</th>\n",
       "      <th>val_loss</th>\n",
       "      <th>epoch</th>\n",
       "    </tr>\n",
       "  </thead>\n",
       "  <tbody>\n",
       "    <tr>\n",
       "      <th>95</th>\n",
       "      <td>4.307411</td>\n",
       "      <td>3.844972</td>\n",
       "      <td>95</td>\n",
       "    </tr>\n",
       "    <tr>\n",
       "      <th>96</th>\n",
       "      <td>4.251817</td>\n",
       "      <td>3.814562</td>\n",
       "      <td>96</td>\n",
       "    </tr>\n",
       "    <tr>\n",
       "      <th>97</th>\n",
       "      <td>4.207250</td>\n",
       "      <td>3.804058</td>\n",
       "      <td>97</td>\n",
       "    </tr>\n",
       "    <tr>\n",
       "      <th>98</th>\n",
       "      <td>4.175464</td>\n",
       "      <td>3.787922</td>\n",
       "      <td>98</td>\n",
       "    </tr>\n",
       "    <tr>\n",
       "      <th>99</th>\n",
       "      <td>4.147795</td>\n",
       "      <td>3.789414</td>\n",
       "      <td>99</td>\n",
       "    </tr>\n",
       "  </tbody>\n",
       "</table>\n",
       "</div>"
      ],
      "text/plain": [
       "        loss  val_loss  epoch\n",
       "95  4.307411  3.844972     95\n",
       "96  4.251817  3.814562     96\n",
       "97  4.207250  3.804058     97\n",
       "98  4.175464  3.787922     98\n",
       "99  4.147795  3.789414     99"
      ]
     },
     "execution_count": 31,
     "metadata": {},
     "output_type": "execute_result"
    }
   ],
   "source": [
    "hist = pd.DataFrame(history.history)\n",
    "hist['epoch'] = history.epoch\n",
    "hist.tail()"
   ]
  },
  {
   "cell_type": "code",
   "execution_count": 32,
   "metadata": {
    "ExecuteTime": {
     "end_time": "2021-09-23T00:14:59.514044Z",
     "start_time": "2021-09-23T00:14:59.500046Z"
    },
    "id": "9E54UoZunqhc"
   },
   "outputs": [],
   "source": [
    "def plot_loss(history):\n",
    "  plt.plot(history.history['loss'], label='loss')\n",
    "  plt.plot(history.history['val_loss'], label='val_loss')\n",
    "  plt.ylim([0, 100])\n",
    "  plt.xlabel('Epoch')\n",
    "  plt.ylabel('Error [MPG]')\n",
    "  plt.legend()\n",
    "  plt.grid(True)"
   ]
  },
  {
   "cell_type": "code",
   "execution_count": 33,
   "metadata": {
    "ExecuteTime": {
     "end_time": "2021-09-23T00:14:59.624456Z",
     "start_time": "2021-09-23T00:14:59.515045Z"
    },
    "id": "yYsQYrIZyqjz"
   },
   "outputs": [
    {
     "data": {
      "image/png": "[encoded data removed]",
      "text/plain": [
       "<Figure size 432x288 with 1 Axes>"
      ]
     },
     "metadata": {
      "needs_background": "light"
     },
     "output_type": "display_data"
    }
   ],
   "source": [
    "plot_loss(history)"
   ]
  },
  {
   "cell_type": "markdown",
   "metadata": {
    "id": "CMNrt8X2ebXd"
   },
   "source": [
    "Collect the results on the test set, for later:"
   ]
  },
  {
   "cell_type": "code",
   "execution_count": 34,
   "metadata": {
    "ExecuteTime": {
     "end_time": "2021-09-23T00:14:59.720455Z",
     "start_time": "2021-09-23T00:14:59.626456Z"
    },
    "id": "kDZ8EvNYrDtx"
   },
   "outputs": [],
   "source": [
    "test_results = {}\n",
    "\n",
    "test_results['hippocampus_model'] = hippocampus_model.evaluate(\n",
    "    test_features['Hippocampus'],\n",
    "    test_labels, verbose=0)"
   ]
  },
  {
   "cell_type": "markdown",
   "metadata": {
    "id": "F0qutYAKwoda"
   },
   "source": [
    "Since this is a single variable regression it's easy to look at the model's predictions as a function of the input:\n",
    "\n",
    "Q: **(1 point)** Replace the hard-coded constants with the min & max of this variable to work with other variables without changing it."
   ]
  },
  {
   "cell_type": "code",
   "execution_count": 35,
   "metadata": {
    "ExecuteTime": {
     "end_time": "2021-09-23T00:14:59.783457Z",
     "start_time": "2021-09-23T00:14:59.722456Z"
    },
    "id": "xDS2JEtOn9Jn"
   },
   "outputs": [],
   "source": [
    "x = tf.linspace(3000, 11000, 100)\n",
    "y = hippocampus_model.predict(x)"
   ]
  },
  {
   "cell_type": "markdown",
   "metadata": {
    "id": "x00t3uv2UhrV"
   },
   "source": [
    "Q: **(1 point)** The name of feature 'Hippocampus' and the label 'age' should be replaced as variables, so exploring different variables will be easy without making changes every time. "
   ]
  },
  {
   "cell_type": "code",
   "execution_count": 36,
   "metadata": {
    "ExecuteTime": {
     "end_time": "2021-09-23T00:14:59.798455Z",
     "start_time": "2021-09-23T00:14:59.784456Z"
    },
    "id": "rttFCTU8czsI"
   },
   "outputs": [],
   "source": [
    "def plot_hippocampus(x, y):\n",
    "  plt.scatter(train_features['Hippocampus'], train_labels, label='Data')\n",
    "  plt.plot(x, y, color='k', label='Predictions')\n",
    "  plt.xlabel('Hippocampus')\n",
    "  plt.ylabel('AGE')\n",
    "  plt.legend()"
   ]
  },
  {
   "cell_type": "code",
   "execution_count": 37,
   "metadata": {
    "ExecuteTime": {
     "end_time": "2021-09-23T00:14:59.924456Z",
     "start_time": "2021-09-23T00:14:59.800456Z"
    },
    "id": "7l9ZiAOEUNBL"
   },
   "outputs": [
    {
     "data": {
      "image/png": "[encoded data removed]",
      "text/plain": [
       "<Figure size 432x288 with 1 Axes>"
      ]
     },
     "metadata": {
      "needs_background": "light"
     },
     "output_type": "display_data"
    }
   ],
   "source": [
    "plot_hippocampus(x,y)"
   ]
  },
  {
   "cell_type": "markdown",
   "metadata": {
    "id": "Yk2RmlqPoM9u"
   },
   "source": [
    "### 6.2. Multiple Variables (Features)"
   ]
  },
  {
   "cell_type": "markdown",
   "metadata": {
    "id": "PribnwDHUksC"
   },
   "source": [
    "You can use an almost identical setup to make predictions based on multiple inputs. This model still does the same $y = mx+b$ except that $m$ is a matrix and $b$ is a vector.\n",
    "\n",
    "This time use the `Normalization` layer that was adapted to the whole dataset."
   ]
  },
  {
   "cell_type": "code",
   "execution_count": 38,
   "metadata": {
    "ExecuteTime": {
     "end_time": "2021-09-23T00:14:59.956456Z",
     "start_time": "2021-09-23T00:14:59.925456Z"
    },
    "id": "ssnVcKg7oMe6"
   },
   "outputs": [
    {
     "name": "stdout",
     "output_type": "stream",
     "text": [
      "Model: \"sequential_1\"\n",
      "_________________________________________________________________\n",
      "Layer (type)                 Output Shape              Param #   \n",
      "=================================================================\n",
      "normalization (Normalization (None, 3)                 7         \n",
      "_________________________________________________________________\n",
      "dense_1 (Dense)              (None, 1)                 4         \n",
      "=================================================================\n",
      "Total params: 11\n",
      "Trainable params: 4\n",
      "Non-trainable params: 7\n",
      "_________________________________________________________________\n"
     ]
    }
   ],
   "source": [
    "linear_model = tf.keras.Sequential([\n",
    "    normalizer,\n",
    "    layers.Dense(units=1)\n",
    "])\n",
    "\n",
    "linear_model.summary()"
   ]
  },
  {
   "cell_type": "markdown",
   "metadata": {
    "id": "IHlx6WeIWyAr"
   },
   "source": [
    "When you call this model on a batch of inputs, it produces `units=1` outputs for each example."
   ]
  },
  {
   "cell_type": "code",
   "execution_count": 39,
   "metadata": {
    "ExecuteTime": {
     "end_time": "2021-09-23T00:15:00.019853Z",
     "start_time": "2021-09-23T00:14:59.957457Z"
    },
    "id": "DynfJV18WiuT"
   },
   "outputs": [
    {
     "data": {
      "text/plain": [
       "array([[ 1.295],\n",
       "       [-1.127],\n",
       "       [-2.568],\n",
       "       [-0.031],\n",
       "       [-0.719],\n",
       "       [ 1.505],\n",
       "       [ 1.454],\n",
       "       [-1.126],\n",
       "       [-1.736],\n",
       "       [ 0.265]], dtype=float32)"
      ]
     },
     "execution_count": 39,
     "metadata": {},
     "output_type": "execute_result"
    }
   ],
   "source": [
    "linear_model.predict(train_features[:10])"
   ]
  },
  {
   "cell_type": "markdown",
   "metadata": {
    "id": "hvHKH3rPXHmq"
   },
   "source": [
    "When you call the model it's weight matrices will be built. Now you can see that the `kernel` (the $m$ in $y=mx+b$) has a shape of `(9,1)`."
   ]
  },
  {
   "cell_type": "code",
   "execution_count": 40,
   "metadata": {
    "ExecuteTime": {
     "end_time": "2021-09-23T00:15:00.035857Z",
     "start_time": "2021-09-23T00:15:00.020860Z"
    },
    "id": "DwJ4Fq0RXBQf"
   },
   "outputs": [
    {
     "data": {
      "text/plain": [
       "<tf.Variable 'dense_1/kernel:0' shape=(3, 1) dtype=float32, numpy=\n",
       "array([[0.659],\n",
       "       [0.541],\n",
       "       [0.215]], dtype=float32)>"
      ]
     },
     "execution_count": 40,
     "metadata": {},
     "output_type": "execute_result"
    }
   ],
   "source": [
    "linear_model.layers[1].kernel"
   ]
  },
  {
   "cell_type": "markdown",
   "metadata": {
    "id": "eINAc6rZXzOt"
   },
   "source": [
    "Use the same `compile` and `fit` calls as for the single input `hippocampus` model:"
   ]
  },
  {
   "cell_type": "code",
   "execution_count": 41,
   "metadata": {
    "ExecuteTime": {
     "end_time": "2021-09-23T00:15:00.051857Z",
     "start_time": "2021-09-23T00:15:00.036859Z"
    },
    "id": "A0Sv_Ybr0szp"
   },
   "outputs": [],
   "source": [
    "linear_model.compile(\n",
    "    optimizer=tf.optimizers.Adam(learning_rate=0.1),\n",
    "    loss='mean_absolute_error')"
   ]
  },
  {
   "cell_type": "code",
   "execution_count": 42,
   "metadata": {
    "ExecuteTime": {
     "end_time": "2021-09-23T00:15:01.400860Z",
     "start_time": "2021-09-23T00:15:00.052859Z"
    },
    "id": "EZoOYORvoTSe"
   },
   "outputs": [
    {
     "name": "stdout",
     "output_type": "stream",
     "text": [
      "Wall time: 1.34 s\n"
     ]
    }
   ],
   "source": [
    "%%time\n",
    "history = linear_model.fit(\n",
    "    train_features, train_labels, \n",
    "    epochs=100,\n",
    "    # suppress logging\n",
    "    verbose=0,\n",
    "    # Calculate validation results on 20% of the training data\n",
    "    validation_split = 0.2)"
   ]
  },
  {
   "cell_type": "markdown",
   "metadata": {
    "id": "EdxiCbiNYK2F"
   },
   "source": [
    "Using all the inputs achieves a much lower training and validation error than the `hippocampus` model: "
   ]
  },
  {
   "cell_type": "code",
   "execution_count": 43,
   "metadata": {
    "ExecuteTime": {
     "end_time": "2021-09-23T00:15:01.512859Z",
     "start_time": "2021-09-23T00:15:01.402861Z"
    },
    "id": "4sWO3W0koYgu"
   },
   "outputs": [
    {
     "data": {
      "image/png": "[encoded data removed]",
      "text/plain": [
       "<Figure size 432x288 with 1 Axes>"
      ]
     },
     "metadata": {
      "needs_background": "light"
     },
     "output_type": "display_data"
    }
   ],
   "source": [
    "plot_loss(history)"
   ]
  },
  {
   "cell_type": "markdown",
   "metadata": {
    "id": "NyN49hIWe_NH"
   },
   "source": [
    "Collect the results on the test set, for later:"
   ]
  },
  {
   "cell_type": "code",
   "execution_count": 44,
   "metadata": {
    "ExecuteTime": {
     "end_time": "2021-09-23T00:15:01.607861Z",
     "start_time": "2021-09-23T00:15:01.514861Z"
    },
    "id": "jNC3D1DGsGgK"
   },
   "outputs": [],
   "source": [
    "test_results['linear_model'] = linear_model.evaluate(\n",
    "    test_features, test_labels, verbose=0)"
   ]
  },
  {
   "cell_type": "code",
   "execution_count": 45,
   "metadata": {
    "ExecuteTime": {
     "end_time": "2021-09-23T00:15:01.764860Z",
     "start_time": "2021-09-23T00:15:01.609859Z"
    },
    "id": "S3TLap5Ewnmf"
   },
   "outputs": [
    {
     "data": {
      "image/png": "[encoded data removed]",
      "text/plain": [
       "<Figure size 432x288 with 1 Axes>"
      ]
     },
     "metadata": {
      "needs_background": "light"
     },
     "output_type": "display_data"
    }
   ],
   "source": [
    "test_predictions = linear_model.predict(test_features).flatten()\n",
    "\n",
    "a = plt.axes(aspect='equal')\n",
    "plt.scatter(test_labels, test_predictions)\n",
    "plt.xlabel('True Values [AGE]')\n",
    "plt.ylabel('Predictions [AGE]')\n",
    "lims = [60, 90]\n",
    "plt.xlim(lims)\n",
    "plt.ylim(lims)\n",
    "_ = plt.plot(lims, lims)\n"
   ]
  },
  {
   "cell_type": "markdown",
   "metadata": {
    "id": "ORo1vWhDw64X"
   },
   "source": [
    "Q: **(6 points)** Explore different features as train_features and label and see what relationship help you understand the ADNI data set better. Show that you explored at least 3 different combinations of features and label and write your reflection in 200 words or more"
   ]
  },
  {
   "cell_type": "markdown",
   "metadata": {
    "id": "SmjdzxKzEu1-"
   },
   "source": [
    "# Extra Credit: A DNN regression"
   ]
  },
  {
   "cell_type": "markdown",
   "metadata": {
    "id": "DT_aHPsrzO1t"
   },
   "source": [
    "## Instructions\n",
    "\n",
    " DNN regression is for extra credit. You don't have to do the below parts. \n",
    " \n",
    " Q: **(Extra Credit = 3 points)** If you like to explore, then please go ahead and compare with the linear regression and write a reflection in 200 words.\n",
    "\n",
    "The previous section implemented linear models for single and multiple inputs.\n",
    "\n",
    "This section implements single-input and multiple-input DNN models. The code is basically the same except the model is expanded to include some \"hidden\" non-linear layers. The word \"hidden\" here just means not directly connected to the inputs or outputs."
   ]
  },
  {
   "cell_type": "markdown",
   "metadata": {
    "id": "6SWtkIjhrZwa"
   },
   "source": [
    "These models will contain a few more layers than the linear model:\n",
    "\n",
    "* The normalization layer;\n",
    "* Two hidden, nonlinear, `Dense` layers using the `relu` nonlinearity; and\n",
    "* A linear single-output layer.\n",
    "\n",
    "Both will use the same training procedure so the `compile` method is included in the `build_and_compile_model` function below."
   ]
  },
  {
   "cell_type": "code",
   "execution_count": 46,
   "metadata": {
    "ExecuteTime": {
     "end_time": "2021-09-23T00:15:01.780860Z",
     "start_time": "2021-09-23T00:15:01.766858Z"
    },
    "id": "c26juK7ZG8j-"
   },
   "outputs": [],
   "source": [
    "def build_and_compile_model(norm):\n",
    "  model = keras.Sequential([\n",
    "      norm,\n",
    "      layers.Dense(64, activation='relu'),\n",
    "      layers.Dense(64, activation='relu'),\n",
    "      layers.Dense(1)\n",
    "  ])\n",
    "\n",
    "  model.compile(loss='mean_absolute_error',\n",
    "                optimizer=tf.keras.optimizers.Adam(0.001))\n",
    "  return model"
   ]
  },
  {
   "cell_type": "markdown",
   "metadata": {
    "id": "ELz48lsgqC46"
   },
   "source": [
    "## A. Train the Model"
   ]
  },
  {
   "cell_type": "markdown",
   "metadata": {
    "id": "7T4RP1V36gVn"
   },
   "source": [
    "### A1. One Variable"
   ]
  },
  {
   "cell_type": "markdown",
   "metadata": {
    "id": "xvu9gtxTZR5V"
   },
   "source": [
    "Start with a DNN model for a single input, \"hippocampus\":"
   ]
  },
  {
   "cell_type": "code",
   "execution_count": 47,
   "metadata": {
    "ExecuteTime": {
     "end_time": "2021-09-23T00:15:01.812858Z",
     "start_time": "2021-09-23T00:15:01.782858Z"
    },
    "id": "cGbPb-PHGbhs"
   },
   "outputs": [],
   "source": [
    "dnn_hippocampus_model = build_and_compile_model(hippocampus_normalizer)"
   ]
  },
  {
   "cell_type": "markdown",
   "metadata": {
    "id": "Sj49Og4YGULr"
   },
   "source": [
    "This model has quite a few more trainable parameters than the linear models."
   ]
  },
  {
   "cell_type": "code",
   "execution_count": 48,
   "metadata": {
    "ExecuteTime": {
     "end_time": "2021-09-23T00:15:01.828858Z",
     "start_time": "2021-09-23T00:15:01.813858Z"
    },
    "id": "ReAD0n6MsFK-"
   },
   "outputs": [
    {
     "name": "stdout",
     "output_type": "stream",
     "text": [
      "Model: \"sequential_2\"\n",
      "_________________________________________________________________\n",
      "Layer (type)                 Output Shape              Param #   \n",
      "=================================================================\n",
      "normalization_1 (Normalizati (None, 1)                 3         \n",
      "_________________________________________________________________\n",
      "dense_2 (Dense)              (None, 64)                128       \n",
      "_________________________________________________________________\n",
      "dense_3 (Dense)              (None, 64)                4160      \n",
      "_________________________________________________________________\n",
      "dense_4 (Dense)              (None, 1)                 65        \n",
      "=================================================================\n",
      "Total params: 4,356\n",
      "Trainable params: 4,353\n",
      "Non-trainable params: 3\n",
      "_________________________________________________________________\n"
     ]
    }
   ],
   "source": [
    "dnn_hippocampus_model.summary()"
   ]
  },
  {
   "cell_type": "markdown",
   "metadata": {
    "id": "0-qWCsh6DlyH"
   },
   "source": [
    "Train the model:"
   ]
  },
  {
   "cell_type": "code",
   "execution_count": 49,
   "metadata": {
    "ExecuteTime": {
     "end_time": "2021-09-23T00:15:03.367242Z",
     "start_time": "2021-09-23T00:15:01.830860Z"
    },
    "id": "sD7qHCmNIOY0"
   },
   "outputs": [
    {
     "name": "stdout",
     "output_type": "stream",
     "text": [
      "Wall time: 1.53 s\n"
     ]
    }
   ],
   "source": [
    "%%time\n",
    "history = dnn_hippocampus_model.fit(\n",
    "    train_features['Hippocampus'], train_labels,\n",
    "    validation_split=0.2,\n",
    "    verbose=0, epochs=100)"
   ]
  },
  {
   "cell_type": "markdown",
   "metadata": {
    "id": "dArGGxHxcKjN"
   },
   "source": [
    "This model does slightly better than the linear-hippocampus model."
   ]
  },
  {
   "cell_type": "code",
   "execution_count": 50,
   "metadata": {
    "ExecuteTime": {
     "end_time": "2021-09-23T00:15:03.479145Z",
     "start_time": "2021-09-23T00:15:03.368245Z"
    },
    "id": "NcF6UWjdCU8T"
   },
   "outputs": [
    {
     "data": {
      "image/png": "[encoded data removed]",
      "text/plain": [
       "<Figure size 432x288 with 1 Axes>"
      ]
     },
     "metadata": {
      "needs_background": "light"
     },
     "output_type": "display_data"
    }
   ],
   "source": [
    "plot_loss(history)"
   ]
  },
  {
   "cell_type": "markdown",
   "metadata": {
    "id": "TG1snlpR2QCK"
   },
   "source": [
    "If you plot the predictions as a function of `hippocampus`, you'll see how this model takes advantage of the nonlinearity provided by the hidden layers:"
   ]
  },
  {
   "cell_type": "code",
   "execution_count": 51,
   "metadata": {
    "ExecuteTime": {
     "end_time": "2021-09-23T00:15:03.543145Z",
     "start_time": "2021-09-23T00:15:03.480146Z"
    },
    "id": "hPF53Rem14NS"
   },
   "outputs": [],
   "source": [
    "x = tf.linspace(3000.0, 11000, 100)\n",
    "y = dnn_hippocampus_model.predict(x)"
   ]
  },
  {
   "cell_type": "code",
   "execution_count": 52,
   "metadata": {
    "ExecuteTime": {
     "end_time": "2021-09-23T00:15:03.670145Z",
     "start_time": "2021-09-23T00:15:03.544147Z"
    },
    "id": "rsf9rD8I17Wq"
   },
   "outputs": [
    {
     "data": {
      "image/png": "[encoded data removed]",
      "text/plain": [
       "<Figure size 432x288 with 1 Axes>"
      ]
     },
     "metadata": {
      "needs_background": "light"
     },
     "output_type": "display_data"
    }
   ],
   "source": [
    "plot_hippocampus(x, y)"
   ]
  },
  {
   "cell_type": "markdown",
   "metadata": {
    "id": "WxCJKIUpe4io"
   },
   "source": [
    "Collect the results on the test set, for later:"
   ]
  },
  {
   "cell_type": "code",
   "execution_count": 53,
   "metadata": {
    "ExecuteTime": {
     "end_time": "2021-09-23T00:15:03.782145Z",
     "start_time": "2021-09-23T00:15:03.671148Z"
    },
    "id": "bJjM0dU52XtN"
   },
   "outputs": [],
   "source": [
    "test_results['dnn_hippocampus_model'] = dnn_hippocampus_model.evaluate(\n",
    "    test_features['Hippocampus'], test_labels,\n",
    "    verbose=0)"
   ]
  },
  {
   "cell_type": "markdown",
   "metadata": {
    "id": "S_2Btebp2e64"
   },
   "source": [
    "### A2. Full Model"
   ]
  },
  {
   "cell_type": "markdown",
   "metadata": {
    "id": "aKFtezDldLSf"
   },
   "source": [
    "If you repeat this process using all the inputs it slightly improves the performance on the validation dataset."
   ]
  },
  {
   "cell_type": "code",
   "execution_count": 54,
   "metadata": {
    "ExecuteTime": {
     "end_time": "2021-09-23T00:15:03.814145Z",
     "start_time": "2021-09-23T00:15:03.784145Z"
    },
    "id": "c0mhscXh2k36"
   },
   "outputs": [
    {
     "name": "stdout",
     "output_type": "stream",
     "text": [
      "Model: \"sequential_3\"\n",
      "_________________________________________________________________\n",
      "Layer (type)                 Output Shape              Param #   \n",
      "=================================================================\n",
      "normalization (Normalization (None, 3)                 7         \n",
      "_________________________________________________________________\n",
      "dense_5 (Dense)              (None, 64)                256       \n",
      "_________________________________________________________________\n",
      "dense_6 (Dense)              (None, 64)                4160      \n",
      "_________________________________________________________________\n",
      "dense_7 (Dense)              (None, 1)                 65        \n",
      "=================================================================\n",
      "Total params: 4,488\n",
      "Trainable params: 4,481\n",
      "Non-trainable params: 7\n",
      "_________________________________________________________________\n"
     ]
    }
   ],
   "source": [
    "dnn_model = build_and_compile_model(normalizer)\n",
    "dnn_model.summary()"
   ]
  },
  {
   "cell_type": "code",
   "execution_count": 55,
   "metadata": {
    "ExecuteTime": {
     "end_time": "2021-09-23T00:15:05.352461Z",
     "start_time": "2021-09-23T00:15:03.815146Z"
    },
    "id": "CXDENACl2tuW"
   },
   "outputs": [
    {
     "name": "stdout",
     "output_type": "stream",
     "text": [
      "Wall time: 1.53 s\n"
     ]
    }
   ],
   "source": [
    "%%time\n",
    "history = dnn_model.fit(\n",
    "    train_features, train_labels,\n",
    "    validation_split=0.2,\n",
    "    verbose=0, epochs=100)"
   ]
  },
  {
   "cell_type": "code",
   "execution_count": 56,
   "metadata": {
    "ExecuteTime": {
     "end_time": "2021-09-23T00:15:05.464461Z",
     "start_time": "2021-09-23T00:15:05.354461Z"
    },
    "id": "-9Dbj0fX23RQ"
   },
   "outputs": [
    {
     "data": {
      "image/png": "[encoded data removed]",
      "text/plain": [
       "<Figure size 432x288 with 1 Axes>"
      ]
     },
     "metadata": {
      "needs_background": "light"
     },
     "output_type": "display_data"
    }
   ],
   "source": [
    "plot_loss(history)"
   ]
  },
  {
   "cell_type": "markdown",
   "metadata": {
    "id": "hWoVYS34fJPZ"
   },
   "source": [
    "Collect the results on the test set:"
   ]
  },
  {
   "cell_type": "code",
   "execution_count": 57,
   "metadata": {
    "ExecuteTime": {
     "end_time": "2021-09-23T00:15:05.575460Z",
     "start_time": "2021-09-23T00:15:05.466462Z"
    },
    "id": "-bZIa96W3c7K"
   },
   "outputs": [],
   "source": [
    "test_results['dnn_model'] = dnn_model.evaluate(test_features, test_labels, verbose=0)"
   ]
  },
  {
   "cell_type": "markdown",
   "metadata": {
    "id": "uiCucdPLfMkZ"
   },
   "source": [
    "## B. Performance"
   ]
  },
  {
   "cell_type": "markdown",
   "metadata": {
    "id": "rDf1xebEfWBw"
   },
   "source": [
    "Now that all the models are trained check the test-set performance and see how they did:"
   ]
  },
  {
   "cell_type": "code",
   "execution_count": 58,
   "metadata": {
    "ExecuteTime": {
     "end_time": "2021-09-23T00:15:05.591461Z",
     "start_time": "2021-09-23T00:15:05.576462Z"
    },
    "id": "e5_ooufM5iH2"
   },
   "outputs": [
    {
     "data": {
      "text/html": [
       "<div>\n",
       "<style scoped>\n",
       "    .dataframe tbody tr th:only-of-type {\n",
       "        vertical-align: middle;\n",
       "    }\n",
       "\n",
       "    .dataframe tbody tr th {\n",
       "        vertical-align: top;\n",
       "    }\n",
       "\n",
       "    .dataframe thead th {\n",
       "        text-align: right;\n",
       "    }\n",
       "</style>\n",
       "<table border=\"1\" class=\"dataframe\">\n",
       "  <thead>\n",
       "    <tr style=\"text-align: right;\">\n",
       "      <th></th>\n",
       "      <th>Mean absolute error [AGE]</th>\n",
       "    </tr>\n",
       "  </thead>\n",
       "  <tbody>\n",
       "    <tr>\n",
       "      <th>hippocampus_model</th>\n",
       "      <td>5.187626</td>\n",
       "    </tr>\n",
       "    <tr>\n",
       "      <th>linear_model</th>\n",
       "      <td>5.150182</td>\n",
       "    </tr>\n",
       "    <tr>\n",
       "      <th>dnn_hippocampus_model</th>\n",
       "      <td>6.162558</td>\n",
       "    </tr>\n",
       "    <tr>\n",
       "      <th>dnn_model</th>\n",
       "      <td>6.064388</td>\n",
       "    </tr>\n",
       "  </tbody>\n",
       "</table>\n",
       "</div>"
      ],
      "text/plain": [
       "                       Mean absolute error [AGE]\n",
       "hippocampus_model                       5.187626\n",
       "linear_model                            5.150182\n",
       "dnn_hippocampus_model                   6.162558\n",
       "dnn_model                               6.064388"
      ]
     },
     "execution_count": 58,
     "metadata": {},
     "output_type": "execute_result"
    }
   ],
   "source": [
    "pd.DataFrame(test_results, index=['Mean absolute error [AGE]']).T"
   ]
  },
  {
   "cell_type": "markdown",
   "metadata": {
    "id": "DABIVzsCf-QI"
   },
   "source": [
    "These results match the validation error seen during training."
   ]
  },
  {
   "cell_type": "markdown",
   "metadata": {
    "id": "ft603OzXuEZC"
   },
   "source": [
    "## C. Make Predictions\n",
    "\n",
    "Finally, predict have a look at the errors made by the model when making predictions on the test set:"
   ]
  },
  {
   "cell_type": "code",
   "execution_count": 59,
   "metadata": {
    "ExecuteTime": {
     "end_time": "2021-09-23T00:15:05.750460Z",
     "start_time": "2021-09-23T00:15:05.592461Z"
    },
    "id": "Xe7RXH3N3CWU"
   },
   "outputs": [
    {
     "data": {
      "image/png": "[encoded data removed]",
      "text/plain": [
       "<Figure size 432x288 with 1 Axes>"
      ]
     },
     "metadata": {
      "needs_background": "light"
     },
     "output_type": "display_data"
    }
   ],
   "source": [
    "test_predictions = dnn_model.predict(test_features).flatten()\n",
    "\n",
    "a = plt.axes(aspect='equal')\n",
    "plt.scatter(test_labels, test_predictions)\n",
    "plt.xlabel('True Values [AGE]')\n",
    "plt.ylabel('Predictions [AGE]')\n",
    "lims = [60, 90]\n",
    "plt.xlim(lims)\n",
    "plt.ylim(lims)\n",
    "_ = plt.plot(lims, lims)\n"
   ]
  },
  {
   "cell_type": "markdown",
   "metadata": {
    "id": "19wyogbOSU5t"
   },
   "source": [
    "It looks like the model predicts reasonably well. \n",
    "\n",
    "Now take a look at the error distribution:"
   ]
  },
  {
   "cell_type": "code",
   "execution_count": 73,
   "metadata": {
    "ExecuteTime": {
     "end_time": "2021-09-23T00:20:24.416665Z",
     "start_time": "2021-09-23T00:20:24.294940Z"
    },
    "id": "f-OHX4DiXd8x"
   },
   "outputs": [
    {
     "data": {
      "image/png": "[encoded data removed]",
      "text/plain": [
       "<Figure size 432x288 with 1 Axes>"
      ]
     },
     "metadata": {
      "needs_background": "light"
     },
     "output_type": "display_data"
    }
   ],
   "source": [
    "# print(test_predictions)\n",
    "# print(test_labels)\n",
    "error = test_predictions - test_labels\n",
    "plt.hist(error, bins=25)\n",
    "plt.xlabel('Prediction Error [MPG]')\n",
    "_ = plt.ylabel('Count')"
   ]
  },
  {
   "cell_type": "markdown",
   "metadata": {
    "id": "KSyaHUfDT-mZ"
   },
   "source": [
    "If you're happy with the model save it for later use:"
   ]
  },
  {
   "cell_type": "code",
   "execution_count": 61,
   "metadata": {
    "ExecuteTime": {
     "end_time": "2021-09-23T00:15:06.843522Z",
     "start_time": "2021-09-23T00:15:06.023463Z"
    },
    "id": "4-WwLlmfT-mb"
   },
   "outputs": [
    {
     "name": "stdout",
     "output_type": "stream",
     "text": [
      "WARNING:tensorflow:From C:\\Users\\Joseph\\anaconda3\\lib\\site-packages\\tensorflow\\python\\training\\tracking\\tracking.py:111: Model.state_updates (from tensorflow.python.keras.engine.training) is deprecated and will be removed in a future version.\n",
      "Instructions for updating:\n",
      "This property should not be used in TensorFlow 2.0, as updates are applied automatically.\n",
      "WARNING:tensorflow:From C:\\Users\\Joseph\\anaconda3\\lib\\site-packages\\tensorflow\\python\\training\\tracking\\tracking.py:111: Layer.updates (from tensorflow.python.keras.engine.base_layer) is deprecated and will be removed in a future version.\n",
      "Instructions for updating:\n",
      "This property should not be used in TensorFlow 2.0, as updates are applied automatically.\n",
      "INFO:tensorflow:Assets written to: dnn_model\\assets\n"
     ]
    }
   ],
   "source": [
    "dnn_model.save('dnn_model')"
   ]
  },
  {
   "cell_type": "markdown",
   "metadata": {
    "id": "Benlnl8UT-me"
   },
   "source": [
    "If you reload the model, it gives identical output:"
   ]
  },
  {
   "cell_type": "code",
   "execution_count": 62,
   "metadata": {
    "ExecuteTime": {
     "end_time": "2021-09-23T00:15:07.638622Z",
     "start_time": "2021-09-23T00:15:06.845524Z"
    },
    "id": "dyyyj2zVT-mf"
   },
   "outputs": [],
   "source": [
    "reloaded = tf.keras.models.load_model('dnn_model')\n",
    "\n",
    "test_results['reloaded'] = reloaded.evaluate(\n",
    "    test_features, test_labels, verbose=0)"
   ]
  },
  {
   "cell_type": "code",
   "execution_count": 63,
   "metadata": {
    "ExecuteTime": {
     "end_time": "2021-09-23T00:15:07.654622Z",
     "start_time": "2021-09-23T00:15:07.640623Z"
    },
    "id": "f_GchJ2tg-2o"
   },
   "outputs": [
    {
     "data": {
      "text/html": [
       "<div>\n",
       "<style scoped>\n",
       "    .dataframe tbody tr th:only-of-type {\n",
       "        vertical-align: middle;\n",
       "    }\n",
       "\n",
       "    .dataframe tbody tr th {\n",
       "        vertical-align: top;\n",
       "    }\n",
       "\n",
       "    .dataframe thead th {\n",
       "        text-align: right;\n",
       "    }\n",
       "</style>\n",
       "<table border=\"1\" class=\"dataframe\">\n",
       "  <thead>\n",
       "    <tr style=\"text-align: right;\">\n",
       "      <th></th>\n",
       "      <th>Mean absolute error [MPG]</th>\n",
       "    </tr>\n",
       "  </thead>\n",
       "  <tbody>\n",
       "    <tr>\n",
       "      <th>hippocampus_model</th>\n",
       "      <td>5.187626</td>\n",
       "    </tr>\n",
       "    <tr>\n",
       "      <th>linear_model</th>\n",
       "      <td>5.150182</td>\n",
       "    </tr>\n",
       "    <tr>\n",
       "      <th>dnn_hippocampus_model</th>\n",
       "      <td>6.162558</td>\n",
       "    </tr>\n",
       "    <tr>\n",
       "      <th>dnn_model</th>\n",
       "      <td>6.064388</td>\n",
       "    </tr>\n",
       "    <tr>\n",
       "      <th>reloaded</th>\n",
       "      <td>6.064388</td>\n",
       "    </tr>\n",
       "  </tbody>\n",
       "</table>\n",
       "</div>"
      ],
      "text/plain": [
       "                       Mean absolute error [MPG]\n",
       "hippocampus_model                       5.187626\n",
       "linear_model                            5.150182\n",
       "dnn_hippocampus_model                   6.162558\n",
       "dnn_model                               6.064388\n",
       "reloaded                                6.064388"
      ]
     },
     "execution_count": 63,
     "metadata": {},
     "output_type": "execute_result"
    }
   ],
   "source": [
    "pd.DataFrame(test_results, index=['Mean absolute error [MPG]']).T"
   ]
  },
  {
   "cell_type": "markdown",
   "metadata": {
    "id": "vgGQuV-yqYZH"
   },
   "source": [
    "# Conclusion\n",
    "\n",
    "This notebook introduced a few techniques to handle a regression problem. Here are a few more tips that may help:\n",
    "\n",
    "* [Mean Squared Error (MSE)](https://www.tensorflow.org/api_docs/python/tf/losses/MeanSquaredError) and [Mean Absolute Error (MAE)](https://www.tensorflow.org/api_docs/python/tf/losses/MeanAbsoluteError) are common loss functions used for regression problems. Mean Absolute Error is less sensitive to outliers. Different loss functions are used for classification problems.\n",
    "* Similarly, evaluation metrics used for regression differ from classification.\n",
    "* When numeric input data features have values with different ranges, each feature should be scaled independently to the same range.\n",
    "* Overfitting is a common problem for DNN models, it wasn't a problem for this tutorial. See the [overfit and underfit](overfit_and_underfit.ipynb) tutorial for more help with this.\n"
   ]
  }
 ],
 "metadata": {
  "accelerator": "GPU",
  "colab": {
   "collapsed_sections": [],
   "name": "F 21 Proj1A regression.ipynb",
   "private_outputs": true,
   "provenance": [],
   "toc_visible": true
  },
  "kernelspec": {
   "display_name": "Python 3",
   "language": "python",
   "name": "python3"
  },
  "language_info": {
   "codemirror_mode": {
    "name": "ipython",
    "version": 3
   },
   "file_extension": ".py",
   "mimetype": "text/x-python",
   "name": "python",
   "nbconvert_exporter": "python",
   "pygments_lexer": "ipython3",
   "version": "3.8.8"
  },
  "varInspector": {
   "cols": {
    "lenName": 16,
    "lenType": 16,
    "lenVar": 40
   },
   "kernels_config": {
    "python": {
     "delete_cmd_postfix": "",
     "delete_cmd_prefix": "del ",
     "library": "var_list.py",
     "varRefreshCmd": "print(var_dic_list())"
    },
    "r": {
     "delete_cmd_postfix": ") ",
     "delete_cmd_prefix": "rm(",
     "library": "var_list.r",
     "varRefreshCmd": "cat(var_dic_list()) "
    }
   },
   "types_to_exclude": [
    "module",
    "function",
    "builtin_function_or_method",
    "instance",
    "_Feature"
   ],
   "window_display": false
  }
 },
 "nbformat": 4,
 "nbformat_minor": 1
}
