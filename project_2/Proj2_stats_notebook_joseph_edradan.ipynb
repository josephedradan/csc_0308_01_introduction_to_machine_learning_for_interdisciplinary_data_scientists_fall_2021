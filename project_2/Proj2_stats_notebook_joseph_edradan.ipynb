{
 "cells": [
  {
   "cell_type": "markdown",
   "metadata": {
    "id": "B5BwydUSUwMI"
   },
   "source": [
    "## Instructions\n",
    "\n",
    "Please make a copy and rename it with your name (ex: Proj6_Ilmi_Yoon). All grading points should be explored in the notebook but some can be done in a separate pdf file. \n",
    "\n",
    "*Graded questions will be listed with \"# pt\" followed by the corresponding points.* \n",
    "\n",
    "You will be submitting **a pdf** file containing **the url of your own proj6.**\n",
    "\n",
    "\n",
    "---"
   ]
  },
  {
   "cell_type": "markdown",
   "metadata": {
    "id": "CDkeefJmU1eo"
   },
   "source": [
    "**Hypothesis testing**\n",
    "===\n",
    "\n",
    "**Outline**\n",
    "\n",
    "At the end of this week, you will be a pro at:\n",
    "- **hypothesis testing** \n",
    "  *  is there something interesting/meaningful going on in my data?\n",
    "    - one-sample t-test\n",
    "    - two-sample t-test\n",
    "- **correcting for multiple testing**\n",
    "  *  doing thousands of hypothesis tests at a time will increase your likelihood of incorrect conclusions\n",
    "  *  you'll learn how to account for that\n",
    "- **false discovery rates**\n",
    "  *  you could be a perfectionist (\"even one wrong conclusion is the worst\"), aka family-wise error rate (FWER) \n",
    "  *  or become a pragmatic (\"of my significant discoveries, i expect x% of them to be false positives.\"), aka false discovery rate (FDR)\n",
    "- **permutation tests**\n",
    "  *  if your assumptions about your data are wrong, you may over/underestimate your confidence in your conclusions\n",
    "  *  assume as little as possible about the data with a permutation test\n",
    "\n",
    "\n"
   ]
  },
  {
   "cell_type": "markdown",
   "metadata": {
    "id": "W060VxUSEEww"
   },
   "source": [
    "**Examples**\n",
    "\n",
    "In class, we will talk about 3 examples:\n",
    "- confidence intervals\n",
    "  - how much time do Americans spend on average per day on Netflix? \n",
    "\n",
    "- one-sample t-test \n",
    "  - do Americans spend more time on average per day on Netflix compared to before the pandemic?\n",
    "\n",
    "- two-sample t-test \n",
    "  - does exercise affect baseline blood pressure? \n",
    "  \n",
    "\n",
    "\n",
    "**Your project**\n",
    "- RNA sequencing: which genes differentiate the different immune cells in your blood?\n",
    "  - two-sample t-test\n",
    "  - multiple testing correction\n",
    "\n",
    "\n",
    "\n"
   ]
  },
  {
   "cell_type": "markdown",
   "metadata": {
    "id": "sDIvIz8FExOS"
   },
   "source": [
    "**How do you make the best of this week?**\n",
    "- start seeing all statistics reported around you, and think of how they relate to what we have learned. \n",
    "- do rigorous statistics in your work from now on"
   ]
  },
  {
   "cell_type": "markdown",
   "metadata": {
    "id": "oc9sI2hjFOv-"
   },
   "source": [
    "**LET'S BEGIN!**\n",
    "\n",
    "==============================================================="
   ]
  },
  {
   "cell_type": "code",
   "execution_count": 1,
   "metadata": {
    "ExecuteTime": {
     "end_time": "2021-10-17T07:01:01.526615Z",
     "start_time": "2021-10-17T07:01:00.306090Z"
    },
    "id": "mf4OMECoWUyy"
   },
   "outputs": [],
   "source": [
    "# import python packages\n",
    "\n",
    "import numpy as np\n",
    "import scipy as sp\n",
    "import scipy.stats as st\n",
    "import pandas as pd\n",
    "import seaborn as sns\n",
    "import matplotlib.pyplot as plt\n",
    "\n",
    "from IPython.display import display"
   ]
  },
  {
   "cell_type": "code",
   "execution_count": 2,
   "metadata": {
    "ExecuteTime": {
     "end_time": "2021-10-17T07:01:01.542615Z",
     "start_time": "2021-10-17T07:01:01.528615Z"
    },
    "id": "hrHhGEGUiTPB"
   },
   "outputs": [],
   "source": [
    "rng = np.random.RandomState(\n",
    "    1234)  # this will ensure the reproducibility of the notebook"
   ]
  },
  {
   "cell_type": "markdown",
   "metadata": {
    "id": "0kCwywmv1hJ3"
   },
   "source": [
    "**EXAMPLE I:** \n",
    "===\n",
    "\n",
    "How much time do subscribers spend on average each day on Netflix?\n",
    "--\n",
    "\n",
    "Example discussed in class (Lecture 1). The data we are working with are simulated, but the mean time spent on Netflix is inspired by https://www.pcmag.com/news/us-netflix-subscribers-watch-32-hours-and-use-96-gb-of-data-per-day (average of 3.2 hours for subscribers).\n",
    "\n",
    "\n"
   ]
  },
  {
   "cell_type": "code",
   "execution_count": 3,
   "metadata": {
    "ExecuteTime": {
     "end_time": "2021-10-17T07:01:01.669615Z",
     "start_time": "2021-10-17T07:01:01.544616Z"
    },
    "colab": {
     "base_uri": "https://localhost:8080/",
     "height": 378
    },
    "id": "SdUAfFDf185T",
    "outputId": "9af36c44-62d8-473b-8442-d0328be3e82c"
   },
   "outputs": [
    {
     "name": "stdout",
     "output_type": "stream",
     "text": [
      "Population mean 2.94\n",
      "- Sample mean 3.07\n",
      "Population standard deviation 1.12\n",
      "- Biased sample standard deviation 0.82\n",
      "- Unbiased sample standard deviation 1.01\n"
     ]
    },
    {
     "data": {
      "image/png": "[encoded data removed]",
      "text/plain": [
       "<Figure size 432x288 with 1 Axes>"
      ]
     },
     "metadata": {
      "needs_background": "light"
     },
     "output_type": "display_data"
    }
   ],
   "source": [
    "# Summarizing data\n",
    "# ================\n",
    "population = np.array([1, 1.8, 2, 3.2, 3.3, 4, 4, 4.2])\n",
    "our_sample = np.array([2, 3.2, 4])\n",
    "\n",
    "# means\n",
    "population_mean = np.mean(population)\n",
    "print('Population mean', population_mean.round(2))\n",
    "\n",
    "sample_mean = np.mean(our_sample)\n",
    "print('- Sample mean', sample_mean.round(2))\n",
    "\n",
    "# standard deviations\n",
    "population_sd = np.std(population)\n",
    "print('Population standard deviation', population_sd.round(2))\n",
    "# biased sample sd\n",
    "biased_sample_sd = np.sqrt(\n",
    "    (np.power(our_sample - sample_mean, 2).sum()) / our_sample.shape[0])\n",
    "print('- Biased sample standard deviation', biased_sample_sd.round(2))\n",
    "# unbiased sample sd\n",
    "unbiased_sample_sd = np.sqrt(\n",
    "    (np.power(our_sample - sample_mean, 2).sum()) / (our_sample.shape[0] - 1))\n",
    "print('- Unbiased sample standard deviation', unbiased_sample_sd.round(2))\n",
    "\n",
    "plt.hist(population, range(0, 6), color='black')\n",
    "plt.yticks([0, 1, 2])\n",
    "plt.xlabel('Number of hours spent\\nper day on Netflix')\n",
    "plt.ylabel('Number of observations')\n",
    "plt.show()"
   ]
  },
  {
   "cell_type": "code",
   "execution_count": 4,
   "metadata": {
    "ExecuteTime": {
     "end_time": "2021-10-17T07:01:01.684616Z",
     "start_time": "2021-10-17T07:01:01.671616Z"
    },
    "colab": {
     "base_uri": "https://localhost:8080/"
    },
    "id": "KSPSqEdj4TTO",
    "outputId": "ee6756c9-b489-4e6a-8e4d-0211a22447bf"
   },
   "outputs": [
    {
     "name": "stdout",
     "output_type": "stream",
     "text": [
      "Population mean 3.22\n",
      "- Sample mean 3.24\n",
      "Population standard deviation 0.97\n",
      "- Biased sample standard deviation 0.98\n",
      "- Unbiased sample standard deviation 0.99\n"
     ]
    }
   ],
   "source": [
    "# larger example\n",
    "\n",
    "MEAN_NETFLIX = 3.2\n",
    "SD_NETFLIX = 1\n",
    "population = rng.normal(loc=MEAN_NETFLIX, scale=SD_NETFLIX, size=1000)\n",
    "population[population < 0] = 0\n",
    "our_sample = population[0:100]\n",
    "\n",
    "# means\n",
    "population_mean = np.mean(population)\n",
    "print('Population mean', population_mean.round(2))\n",
    "\n",
    "sample_mean = np.mean(our_sample)\n",
    "print('- Sample mean', sample_mean.round(2))\n",
    "\n",
    "# standard deviations\n",
    "population_sd = np.std(population)\n",
    "print('Population standard deviation', population_sd.round(2))\n",
    "# biased sample sd\n",
    "biased_sample_sd = np.sqrt(\n",
    "    (np.power(our_sample - sample_mean, 2).sum()) / our_sample.shape[0])\n",
    "print('- Biased sample standard deviation', biased_sample_sd.round(2))\n",
    "# unbiased sample sd\n",
    "unbiased_sample_sd = np.sqrt(\n",
    "    (np.power(our_sample - sample_mean, 2).sum()) / (our_sample.shape[0] - 1))\n",
    "print('- Unbiased sample standard deviation', unbiased_sample_sd.round(2))"
   ]
  },
  {
   "cell_type": "code",
   "execution_count": 5,
   "metadata": {
    "ExecuteTime": {
     "end_time": "2021-10-17T07:01:02.300616Z",
     "start_time": "2021-10-17T07:01:01.685616Z"
    },
    "colab": {
     "base_uri": "https://localhost:8080/",
     "height": 1000
    },
    "id": "uh0DWJRc7Gvo",
    "outputId": "ac30c165-d36f-40e8-9efa-93aa8b2bb1e0"
   },
   "outputs": [
    {
     "data": {
      "image/png": "[encoded data removed]",
      "text/plain": [
       "<Figure size 432x288 with 1 Axes>"
      ]
     },
     "metadata": {
      "needs_background": "light"
     },
     "output_type": "display_data"
    },
    {
     "data": {
      "image/png": "[encoded data removed]",
      "text/plain": [
       "<Figure size 432x288 with 1 Axes>"
      ]
     },
     "metadata": {
      "needs_background": "light"
     },
     "output_type": "display_data"
    },
    {
     "name": "stderr",
     "output_type": "stream",
     "text": [
      "C:\\Users\\Joseph\\anaconda3\\lib\\site-packages\\seaborn\\distributions.py:2619: FutureWarning: `distplot` is a deprecated function and will be removed in a future version. Please adapt your code to use either `displot` (a figure-level function with similar flexibility) or `histplot` (an axes-level function for histograms).\n",
      "  warnings.warn(msg, FutureWarning)\n"
     ]
    },
    {
     "data": {
      "image/png": "[encoded data removed]",
      "text/plain": [
       "<Figure size 432x288 with 1 Axes>"
      ]
     },
     "metadata": {
      "needs_background": "light"
     },
     "output_type": "display_data"
    },
    {
     "name": "stderr",
     "output_type": "stream",
     "text": [
      "C:\\Users\\Joseph\\anaconda3\\lib\\site-packages\\seaborn\\distributions.py:2619: FutureWarning: `distplot` is a deprecated function and will be removed in a future version. Please adapt your code to use either `displot` (a figure-level function with similar flexibility) or `histplot` (an axes-level function for histograms).\n",
      "  warnings.warn(msg, FutureWarning)\n"
     ]
    },
    {
     "data": {
      "image/png": "[encoded data removed]",
      "text/plain": [
       "<Figure size 432x288 with 1 Axes>"
      ]
     },
     "metadata": {
      "needs_background": "light"
     },
     "output_type": "display_data"
    },
    {
     "name": "stderr",
     "output_type": "stream",
     "text": [
      "C:\\Users\\Joseph\\anaconda3\\lib\\site-packages\\seaborn\\distributions.py:2619: FutureWarning: `distplot` is a deprecated function and will be removed in a future version. Please adapt your code to use either `displot` (a figure-level function with similar flexibility) or `kdeplot` (an axes-level function for kernel density plots).\n",
      "  warnings.warn(msg, FutureWarning)\n",
      "C:\\Users\\Joseph\\anaconda3\\lib\\site-packages\\seaborn\\distributions.py:2619: FutureWarning: `distplot` is a deprecated function and will be removed in a future version. Please adapt your code to use either `displot` (a figure-level function with similar flexibility) or `kdeplot` (an axes-level function for kernel density plots).\n",
      "  warnings.warn(msg, FutureWarning)\n"
     ]
    },
    {
     "data": {
      "image/png": "[encoded data removed]",
      "text/plain": [
       "<Figure size 432x288 with 1 Axes>"
      ]
     },
     "metadata": {
      "needs_background": "light"
     },
     "output_type": "display_data"
    }
   ],
   "source": [
    "# representing sets of datapoints\n",
    "# ===============================\n",
    "\n",
    "# histograms\n",
    "plt.hist(population, [x * 0.6 for x in range(10)],\n",
    "         color='lightgray',\n",
    "         edgecolor='black')\n",
    "plt.xlabel('Number of hours spent on Netflix\\nper day', fontsize=15)\n",
    "plt.ylabel('Number of respondents', fontsize=15)\n",
    "plt.xlim(0, 6)\n",
    "plt.show()\n",
    "\n",
    "plt.hist(our_sample, [x * 0.6 for x in range(10)],\n",
    "         color='lightblue',\n",
    "         edgecolor='black')\n",
    "plt.xlabel('Number of hours spent on Netflix\\nper day', fontsize=15)\n",
    "plt.ylabel('Number of respondents', fontsize=15)\n",
    "plt.xlim(0, 6)\n",
    "plt.show()\n",
    "\n",
    "# densities\n",
    "sns.distplot(population,\n",
    "             hist=True,\n",
    "             kde=True,\n",
    "             bins=[x * 0.6 for x in range(10)],\n",
    "             color='black',\n",
    "             hist_kws={\n",
    "                 'edgecolor': 'black',\n",
    "                 'color': 'black'\n",
    "             },\n",
    "             kde_kws={'linewidth': 4})\n",
    "plt.xlabel('Number of hours spent on Netflix\\nper day', fontsize=15)\n",
    "plt.ylabel('Density', fontsize=15)\n",
    "plt.xlim(0, 6)\n",
    "plt.show()\n",
    "\n",
    "sns.distplot(our_sample,\n",
    "             hist=True,\n",
    "             kde=True,\n",
    "             bins=[x * 0.6 for x in range(10)],\n",
    "             color='blue',\n",
    "             hist_kws={\n",
    "                 'edgecolor': 'black',\n",
    "                 'color': 'lightblue'\n",
    "             },\n",
    "             kde_kws={'linewidth': 4})\n",
    "plt.xlabel('Number of hours spent on Netflix\\nper day', fontsize=15)\n",
    "plt.ylabel('Density', fontsize=15)\n",
    "plt.xlim(0, 6)\n",
    "plt.show()\n",
    "# put both data in the same plot\n",
    "fig, plots = plt.subplots(1)\n",
    "sns.distplot(population,\n",
    "             hist=False,\n",
    "             kde=True,\n",
    "             bins=[x * 0.6 for x in range(10)],\n",
    "             color='black',\n",
    "             hist_kws={\n",
    "                 'edgecolor': 'black',\n",
    "                 'color': 'black'\n",
    "             },\n",
    "             kde_kws={'linewidth': 4},\n",
    "             ax=plots)\n",
    "plots.set_xlim(0, 6)\n",
    "sns.distplot(our_sample,\n",
    "             hist=False,\n",
    "             kde=True,\n",
    "             bins=[x * 0.6 for x in range(10)],\n",
    "             color='blue',\n",
    "             hist_kws={\n",
    "                 'edgecolor': 'black',\n",
    "                 'color': 'black'\n",
    "             },\n",
    "             kde_kws={'linewidth': 4},\n",
    "             ax=plots)\n",
    "plots.set_xlabel('Number of hours spent on Netflix\\nper day', fontsize=15)\n",
    "plots.set_ylabel('Density', fontsize=15)\n",
    "x = plots.lines[-1].get_xdata()\n",
    "y = plots.lines[-1].get_ydata()\n",
    "plots.fill_between(x, 0, y, where=x < 2, color='lightblue', alpha=0.3)\n",
    "plt.xlim(0, 6)\n",
    "plt.show()"
   ]
  },
  {
   "cell_type": "code",
   "execution_count": 6,
   "metadata": {
    "ExecuteTime": {
     "end_time": "2021-10-17T07:01:02.426616Z",
     "start_time": "2021-10-17T07:01:02.302619Z"
    },
    "colab": {
     "base_uri": "https://localhost:8080/",
     "height": 374
    },
    "id": "fJ4sqUMzbqqS",
    "outputId": "feb73f9e-7c8d-48f2-b20f-ffe9967daf4c"
   },
   "outputs": [
    {
     "name": "stderr",
     "output_type": "stream",
     "text": [
      "C:\\Users\\Joseph\\anaconda3\\lib\\site-packages\\seaborn\\distributions.py:2619: FutureWarning: `distplot` is a deprecated function and will be removed in a future version. Please adapt your code to use either `displot` (a figure-level function with similar flexibility) or `kdeplot` (an axes-level function for kernel density plots).\n",
      "  warnings.warn(msg, FutureWarning)\n"
     ]
    },
    {
     "data": {
      "image/png": "[encoded data removed]",
      "text/plain": [
       "<Figure size 432x288 with 1 Axes>"
      ]
     },
     "metadata": {
      "needs_background": "light"
     },
     "output_type": "display_data"
    },
    {
     "data": {
      "text/plain": [
       "0.695"
      ]
     },
     "execution_count": 6,
     "metadata": {},
     "output_type": "execute_result"
    }
   ],
   "source": [
    "# put both data in the same plot\n",
    "fig, plots = plt.subplots(1)\n",
    "sns.distplot(population,\n",
    "             hist=False,\n",
    "             kde=True,\n",
    "             bins=[x * 0.6 for x in range(10)],\n",
    "             color='black',\n",
    "             hist_kws={\n",
    "                 'edgecolor': 'black',\n",
    "                 'color': 'black'\n",
    "             },\n",
    "             kde_kws={'linewidth': 4},\n",
    "             ax=plots)\n",
    "plots.set_xlim(0, 6)\n",
    "x = plots.lines[-1].get_xdata()\n",
    "y = plots.lines[-1].get_ydata()\n",
    "plots.fill_between(x, 0, y, where=(x < 4) & (x > 2), color='gray', alpha=0.3)\n",
    "plt.xlim(0, 6)\n",
    "plots.set_xlabel('Number of hours spent on Netflix\\nper day', fontsize=15)\n",
    "plots.set_ylabel('Density', fontsize=15)\n",
    "plt.show()\n",
    "\n",
    "np.multiply((population <= 4), (population >= 2)).sum() / population.shape[0]"
   ]
  },
  {
   "cell_type": "code",
   "execution_count": 7,
   "metadata": {
    "ExecuteTime": {
     "end_time": "2021-10-17T07:01:02.692735Z",
     "start_time": "2021-10-17T07:01:02.428620Z"
    },
    "colab": {
     "base_uri": "https://localhost:8080/",
     "height": 372
    },
    "id": "QRMqdsV4UE4-",
    "outputId": "f297e9f4-7368-489f-c2d7-ef0a100680a4"
   },
   "outputs": [
    {
     "name": "stdout",
     "output_type": "stream",
     "text": [
      "Mean of the means 3.200662775723913\n",
      "SEM (SD of the means) 0.2988581948852605\n"
     ]
    },
    {
     "data": {
      "image/png": "[encoded data removed]",
      "text/plain": [
       "<Figure size 432x288 with 1 Axes>"
      ]
     },
     "metadata": {
      "needs_background": "light"
     },
     "output_type": "display_data"
    },
    {
     "name": "stdout",
     "output_type": "stream",
     "text": [
      "within 1 means SD: 0.682\n",
      "within 1 means SD: 0.96\n"
     ]
    }
   ],
   "source": [
    "# brute force confidence interval\n",
    "N_POPULATION = 10000\n",
    "N_SAMPLE = 1000\n",
    "population = np.random.normal(loc=MEAN_NETFLIX,\n",
    "                              scale=SD_NETFLIX,\n",
    "                              size=N_POPULATION)\n",
    "population[population < 0] = 0\n",
    "sample_means = []\n",
    "for i in range(N_SAMPLE):\n",
    "    sample_i = np.random.choice(population, 10)\n",
    "    mean_i = np.mean(sample_i)\n",
    "    sample_means.append(mean_i)\n",
    "sample_means = np.array(sample_means)\n",
    "\n",
    "# sd of the mean\n",
    "means_mean = np.mean(sample_means)\n",
    "means_sd = np.std(sample_means)\n",
    "print('Mean of the means', means_mean)\n",
    "print('SEM (SD of the means)', means_sd)\n",
    "\n",
    "plt.hist(sample_means, 100, color='red')\n",
    "plt.xlabel('Number of hours spent on Netflix\\nper day\\nMEANS OF SAMPLES')\n",
    "plt.xlim(0, 6)\n",
    "plt.axvline(x=means_mean, color='black')\n",
    "plt.axvline(x=means_mean - means_sd, color='black', linestyle='--')\n",
    "plt.axvline(x=means_mean + means_sd, color='black', linestyle='--')\n",
    "plt.show()\n",
    "\n",
    "# compute what fraction of points are within 1 means_sd from means_mean\n",
    "within_1sd = 0\n",
    "within_2sd = 0\n",
    "for i in range(sample_means.shape[0]):\n",
    "    m = sample_means[i]\n",
    "    if m >= (means_mean - means_sd) and m <= (means_mean + means_sd):\n",
    "        within_1sd += 1\n",
    "    if m >= (means_mean - 2 * means_sd) and m <= (means_mean + 2 * means_sd):\n",
    "        within_2sd += 1\n",
    "print('within 1 means SD:', within_1sd / sample_means.shape[0])\n",
    "print('within 1 means SD:', within_2sd / sample_means.shape[0])"
   ]
  },
  {
   "cell_type": "code",
   "execution_count": 8,
   "metadata": {
    "ExecuteTime": {
     "end_time": "2021-10-17T07:01:02.708735Z",
     "start_time": "2021-10-17T07:01:02.694734Z"
    },
    "colab": {
     "base_uri": "https://localhost:8080/"
    },
    "id": "NQ8_eFECX27f",
    "outputId": "0dc89b0a-10e9-4ab9-e64c-80be7defa342"
   },
   "outputs": [
    {
     "name": "stdout",
     "output_type": "stream",
     "text": [
      "SEM (SD of the means), empirically calculated 0.3\n",
      "SEM computed in python 0.31\n"
     ]
    }
   ],
   "source": [
    "from scipy import stats\n",
    "\n",
    "print('SEM (SD of the means), empirically calculated', means_sd.round(2))\n",
    "print('SEM computed in python', stats.sem(sample_i).round(2))"
   ]
  },
  {
   "cell_type": "code",
   "execution_count": 9,
   "metadata": {
    "ExecuteTime": {
     "end_time": "2021-10-17T07:01:02.724735Z",
     "start_time": "2021-10-17T07:01:02.710159Z"
    },
    "colab": {
     "base_uri": "https://localhost:8080/"
    },
    "id": "3L90s1QxX2-T",
    "outputId": "8cd48ac2-34f3-4189-b313-b956e4ebaf52"
   },
   "outputs": [
    {
     "name": "stdout",
     "output_type": "stream",
     "text": [
      "[1.62 1.58 3.25 1.52 4.6  2.36 4.01 3.15 3.73 2.39]\n",
      "2.8206757978474783\n",
      "1.0381608736065147\n",
      "t 3.82\n",
      "p-value 0.004113\n"
     ]
    }
   ],
   "source": [
    "# one sample t test in python\n",
    "from scipy.stats import ttest_1samp\n",
    "\n",
    "MEAN_NETFLIX = 3.2\n",
    "SD_NETFLIX = 1\n",
    "population = rng.normal(loc=MEAN_NETFLIX, scale=SD_NETFLIX, size=1000)\n",
    "population[population < 0] = 0\n",
    "our_sample = population[0:10]\n",
    "print(our_sample.round(2))\n",
    "print(our_sample.mean())\n",
    "print(our_sample.std())\n",
    "\n",
    "TEST_VALUE = 1.5\n",
    "\n",
    "t, pvalue = ttest_1samp(our_sample, popmean=TEST_VALUE)\n",
    "print('t', t.round(2))\n",
    "print('p-value', pvalue.round(6))"
   ]
  },
  {
   "cell_type": "code",
   "execution_count": 10,
   "metadata": {
    "ExecuteTime": {
     "end_time": "2021-10-17T07:01:03.886829Z",
     "start_time": "2021-10-17T07:01:02.726730Z"
    },
    "colab": {
     "base_uri": "https://localhost:8080/",
     "height": 1000
    },
    "id": "zCilaeTkwnJX",
    "outputId": "d1bb661d-b37e-4145-c842-01d68b073252"
   },
   "outputs": [
    {
     "name": "stdout",
     "output_type": "stream",
     "text": [
      "         mean    ci_low   ci_high\n",
      "0    2.402453  1.666818  3.138088\n",
      "1    2.431981  1.803825  3.060136\n",
      "2    2.490971  1.768728  3.213215\n",
      "3    2.508070  1.960430  3.055710\n",
      "4    2.568376  2.094432  3.042320\n",
      "..        ...       ...       ...\n",
      "195  3.806920  3.379062  4.234779\n",
      "196  3.810729  3.259852  4.361606\n",
      "197  3.879203  3.324349  4.434057\n",
      "198  3.931127  3.367419  4.494836\n",
      "199  3.968597  3.479258  4.457936\n",
      "\n",
      "[200 rows x 3 columns]\n"
     ]
    },
    {
     "data": {
      "image/png": "[encoded data removed]",
      "text/plain": [
       "<Figure size 432x288 with 1 Axes>"
      ]
     },
     "metadata": {
      "needs_background": "light"
     },
     "output_type": "display_data"
    },
    {
     "name": "stdout",
     "output_type": "stream",
     "text": [
      "         mean    ci_low   ci_high\n",
      "0    2.436565  1.649705  3.223425\n",
      "1    2.507312  1.610755  3.403868\n",
      "2    2.519164  1.703390  3.334938\n",
      "3    2.571835  1.655687  3.487983\n",
      "4    2.596913  1.676822  3.517004\n",
      "..        ...       ...       ...\n",
      "195  3.968420  3.355299  4.581542\n",
      "196  3.986570  3.392665  4.580474\n",
      "197  4.001465  3.443643  4.559286\n",
      "198  4.009062  2.867746  5.150378\n",
      "199  4.077588  3.472086  4.683089\n",
      "\n",
      "[200 rows x 3 columns]\n"
     ]
    },
    {
     "data": {
      "image/png": "[encoded data removed]",
      "text/plain": [
       "<Figure size 432x288 with 1 Axes>"
      ]
     },
     "metadata": {
      "needs_background": "light"
     },
     "output_type": "display_data"
    },
    {
     "name": "stdout",
     "output_type": "stream",
     "text": [
      "         mean    ci_low   ci_high\n",
      "0    2.213155 -0.943213  5.369522\n",
      "1    2.507705 -1.819640  6.835050\n",
      "2    2.540248 -0.678341  5.758838\n",
      "3    2.585134  0.243661  4.926606\n",
      "4    2.603773 -0.272673  5.480219\n",
      "..        ...       ...       ...\n",
      "195  3.835064  1.111421  6.558707\n",
      "196  3.850504  0.630361  7.070648\n",
      "197  3.922232  1.016352  6.828112\n",
      "198  4.000242  1.751025  6.249460\n",
      "199  4.029971  1.744495  6.315447\n",
      "\n",
      "[200 rows x 3 columns]\n"
     ]
    },
    {
     "data": {
      "image/png": "[encoded data removed]",
      "text/plain": [
       "<Figure size 432x288 with 1 Axes>"
      ]
     },
     "metadata": {
      "needs_background": "light"
     },
     "output_type": "display_data"
    }
   ],
   "source": [
    "# confidence intervals\n",
    "# =====================\n",
    "# take 100 samples\n",
    "# compute their confidence intervals\n",
    "# plot them\n",
    "\n",
    "import scipy.stats as st\n",
    "\n",
    "N_SAMPLE = 200\n",
    "for CONFIDENCE in [0.9, 0.98, 0.999999]:\n",
    "    population = rng.normal(loc=MEAN_NETFLIX,\n",
    "                            scale=SD_NETFLIX,\n",
    "                            size=N_POPULATION)\n",
    "    population[population < 0] = 0\n",
    "    sample_means = []\n",
    "    ci_lows = []\n",
    "    ci_highs = []\n",
    "    for i in range(N_SAMPLE):\n",
    "        sample_i = np.random.choice(population, 10)\n",
    "        mean_i = np.mean(sample_i)\n",
    "        ci = st.t.interval(alpha=CONFIDENCE,\n",
    "                           df=sample_i.shape[0] - 1,\n",
    "                           loc=mean_i,\n",
    "                           scale=st.sem(sample_i))\n",
    "        ci_lows.append(ci[0])\n",
    "        ci_highs.append(ci[1])\n",
    "        sample_means.append(mean_i)\n",
    "\n",
    "    data = pd.DataFrame({\n",
    "        'mean': sample_means,\n",
    "        'ci_low': ci_lows,\n",
    "        'ci_high': ci_highs\n",
    "    })\n",
    "    data = data.sort_values(by='mean')\n",
    "    data.index = range(N_SAMPLE)\n",
    "    print(data)\n",
    "\n",
    "    for i in range(N_SAMPLE):\n",
    "        color = 'gray'\n",
    "        if MEAN_NETFLIX > data['ci_high'][i] or MEAN_NETFLIX < data['ci_low'][\n",
    "                i]:\n",
    "            color = 'red'\n",
    "        plt.plot((data['ci_low'][i], data['ci_high'][i]), (i, i), color=color)\n",
    "    # plt.scatter(data['mean'],range(N_SAMPLE),color='black')\n",
    "    plt.axvline(x=MEAN_NETFLIX, color='black', linestyle='--')\n",
    "    plt.xlabel('Mean time spent on Netflix')\n",
    "    plt.ylabel('Sampling iteration')\n",
    "    plt.xlim(0, 10)\n",
    "    plt.show()"
   ]
  },
  {
   "cell_type": "code",
   "execution_count": 11,
   "metadata": {
    "ExecuteTime": {
     "end_time": "2021-10-17T07:01:04.979832Z",
     "start_time": "2021-10-17T07:01:03.888830Z"
    },
    "colab": {
     "base_uri": "https://localhost:8080/",
     "height": 1000
    },
    "id": "u7bCgQHu5TwO",
    "outputId": "1d403aed-e5df-4fcc-9dc2-5bdeb4c5ea25"
   },
   "outputs": [
    {
     "name": "stdout",
     "output_type": "stream",
     "text": [
      "         mean    ci_low   ci_high\n",
      "0    2.969053  2.799277  3.138829\n",
      "1    2.993751  2.828897  3.158606\n",
      "2    2.999015  2.813406  3.184625\n",
      "3    3.003185  2.839578  3.166791\n",
      "4    3.005230  2.842377  3.168082\n",
      "..        ...       ...       ...\n",
      "195  3.398147  3.238210  3.558084\n",
      "196  3.408661  3.244767  3.572555\n",
      "197  3.446471  3.257613  3.635328\n",
      "198  3.466612  3.295777  3.637448\n",
      "199  3.468613  3.318244  3.618981\n",
      "\n",
      "[200 rows x 3 columns]\n"
     ]
    },
    {
     "data": {
      "image/png": "[encoded data removed]",
      "text/plain": [
       "<Figure size 432x288 with 1 Axes>"
      ]
     },
     "metadata": {
      "needs_background": "light"
     },
     "output_type": "display_data"
    },
    {
     "name": "stdout",
     "output_type": "stream",
     "text": [
      "         mean    ci_low   ci_high\n",
      "0    2.841327  2.563581  3.119074\n",
      "1    2.959173  2.726262  3.192084\n",
      "2    2.967609  2.709617  3.225601\n",
      "3    2.970082  2.741467  3.198698\n",
      "4    2.976759  2.732980  3.220538\n",
      "..        ...       ...       ...\n",
      "195  3.413133  3.155653  3.670612\n",
      "196  3.424450  3.183226  3.665674\n",
      "197  3.437641  3.197034  3.678247\n",
      "198  3.437929  3.219864  3.655994\n",
      "199  3.514062  3.272604  3.755519\n",
      "\n",
      "[200 rows x 3 columns]\n"
     ]
    },
    {
     "data": {
      "image/png": "[encoded data removed]",
      "text/plain": [
       "<Figure size 432x288 with 1 Axes>"
      ]
     },
     "metadata": {
      "needs_background": "light"
     },
     "output_type": "display_data"
    },
    {
     "name": "stdout",
     "output_type": "stream",
     "text": [
      "         mean    ci_low   ci_high\n",
      "0    2.913970  2.374145  3.453796\n",
      "1    2.999851  2.526067  3.473634\n",
      "2    3.010650  2.486242  3.535057\n",
      "3    3.018132  2.421762  3.614502\n",
      "4    3.019434  2.528077  3.510790\n",
      "..        ...       ...       ...\n",
      "195  3.387739  2.835059  3.940419\n",
      "196  3.405684  2.880907  3.930460\n",
      "197  3.410004  2.831661  3.988348\n",
      "198  3.421772  2.902902  3.940642\n",
      "199  3.429945  2.957999  3.901891\n",
      "\n",
      "[200 rows x 3 columns]\n"
     ]
    },
    {
     "data": {
      "image/png": "[encoded data removed]",
      "text/plain": [
       "<Figure size 432x288 with 1 Axes>"
      ]
     },
     "metadata": {
      "needs_background": "light"
     },
     "output_type": "display_data"
    }
   ],
   "source": [
    "# confidence intervals\n",
    "# =====================\n",
    "# take 100 samples\n",
    "# compute their confidence intervals\n",
    "# plot them\n",
    "\n",
    "import scipy.stats as st\n",
    "\n",
    "N_SAMPLE = 200\n",
    "for CONFIDENCE in [0.9, 0.98, 0.999999]:\n",
    "    population = rng.normal(loc=MEAN_NETFLIX,\n",
    "                            scale=SD_NETFLIX,\n",
    "                            size=N_POPULATION)\n",
    "    population[population < 0] = 0\n",
    "    sample_means = []\n",
    "    ci_lows = []\n",
    "    ci_highs = []\n",
    "    for i in range(N_SAMPLE):\n",
    "        sample_i = np.random.choice(population, 100)\n",
    "        mean_i = np.mean(sample_i)\n",
    "        ci = st.t.interval(alpha=CONFIDENCE,\n",
    "                           df=sample_i.shape[0] - 1,\n",
    "                           loc=mean_i,\n",
    "                           scale=st.sem(sample_i))\n",
    "        ci_lows.append(ci[0])\n",
    "        ci_highs.append(ci[1])\n",
    "        sample_means.append(mean_i)\n",
    "\n",
    "    data = pd.DataFrame({\n",
    "        'mean': sample_means,\n",
    "        'ci_low': ci_lows,\n",
    "        'ci_high': ci_highs\n",
    "    })\n",
    "    data = data.sort_values(by='mean')\n",
    "    data.index = range(N_SAMPLE)\n",
    "    print(data)\n",
    "\n",
    "    for i in range(N_SAMPLE):\n",
    "        color = 'gray'\n",
    "        if MEAN_NETFLIX > data['ci_high'][i] or MEAN_NETFLIX < data['ci_low'][\n",
    "                i]:\n",
    "            color = 'red'\n",
    "        plt.plot((data['ci_low'][i], data['ci_high'][i]), (i, i), color=color)\n",
    "    # plt.scatter(data['mean'],range(N_SAMPLE),color='black')\n",
    "    plt.axvline(x=MEAN_NETFLIX, color='black', linestyle='--')\n",
    "    plt.xlabel('Mean time spent on Netflix')\n",
    "    plt.ylabel('Sampling iteration')\n",
    "    plt.xlim(0, 10)\n",
    "    plt.show()"
   ]
  },
  {
   "cell_type": "markdown",
   "metadata": {
    "id": "s-zIgbHycxdj"
   },
   "source": [
    "**EXAMPLE II:** \n",
    "===\n",
    "\n",
    "Is exercise associated with lower baseline blood pressure?\n",
    "--\n",
    "\n",
    "We will simulate data with control mean 120 mmHg, treatment mean 116 mmHg and population sd 5 for both conditions."
   ]
  },
  {
   "cell_type": "code",
   "execution_count": 12,
   "metadata": {
    "ExecuteTime": {
     "end_time": "2021-10-17T07:01:04.994829Z",
     "start_time": "2021-10-17T07:01:04.982833Z"
    },
    "colab": {
     "base_uri": "https://localhost:8080/"
    },
    "id": "fcoAFoyHK4vS",
    "outputId": "b5f03ede-56b4-4b85-e3a1-e3383e25b368"
   },
   "outputs": [
    {
     "name": "stdout",
     "output_type": "stream",
     "text": [
      "           BP condition\n",
      "0  128.121727     couch\n",
      "1  116.941218     couch\n",
      "2  117.359141     couch\n",
      "3  114.635157     couch\n",
      "4  124.327038     couch\n",
      "5  108.492307     couch\n",
      "6  128.724059     couch\n",
      "7  116.193965     couch\n",
      "8  121.595195     couch\n",
      "9  118.753148     couch\n",
      "0  123.310540  exercise\n",
      "1  105.699296  exercise\n",
      "2  114.387914  exercise\n",
      "3  114.079728  exercise\n",
      "4  121.668847  exercise\n",
      "5  110.500544  exercise\n",
      "6  115.137859  exercise\n",
      "7  111.610708  exercise\n",
      "8  116.211069  exercise\n",
      "9  118.914076  exercise\n"
     ]
    }
   ],
   "source": [
    "# simulate dataset\n",
    "# =====================\n",
    "\n",
    "\n",
    "def sample_condition_values(condition_mean,\n",
    "                            condition_var,\n",
    "                            condition_N,\n",
    "                            condition=''):\n",
    "\n",
    "    condition_values = np.random.normal(loc=condition_mean,\n",
    "                                        scale=condition_var,\n",
    "                                        size=condition_N)\n",
    "\n",
    "    data_condition_here = pd.DataFrame({\n",
    "        'BP': condition_values,\n",
    "        'condition': condition\n",
    "    })\n",
    "    return (data_condition_here)\n",
    "\n",
    "\n",
    "# =========================================================================\n",
    "N_per_condition = 10\n",
    "ctrl_mean = 120\n",
    "test_mean = 116\n",
    "v = 5\n",
    "\n",
    "np.random.seed(1)\n",
    "\n",
    "data_ctrl = sample_condition_values(condition_mean=ctrl_mean,\n",
    "                                    condition_N=N_per_condition,\n",
    "                                    condition_var=v,\n",
    "                                    condition='couch')\n",
    "\n",
    "data_test = sample_condition_values(condition_mean=test_mean,\n",
    "                                    condition_N=N_per_condition,\n",
    "                                    condition_var=v,\n",
    "                                    condition='exercise')\n",
    "\n",
    "data = pd.concat([data_ctrl, data_test], axis=0)\n",
    "print(data)"
   ]
  },
  {
   "cell_type": "code",
   "execution_count": 13,
   "metadata": {
    "ExecuteTime": {
     "end_time": "2021-10-17T07:01:05.161831Z",
     "start_time": "2021-10-17T07:01:04.996833Z"
    },
    "colab": {
     "base_uri": "https://localhost:8080/",
     "height": 153
    },
    "id": "mEqRU0j0ph5A",
    "outputId": "e2beda7d-aea9-49a7-a8f2-d343b8915fa6"
   },
   "outputs": [
    {
     "data": {
      "image/png": "[encoded data removed]",
      "text/plain": [
       "<Figure size 216x144 with 1 Axes>"
      ]
     },
     "metadata": {
      "needs_background": "light"
     },
     "output_type": "display_data"
    }
   ],
   "source": [
    "# visualize data\n",
    "# =====================\n",
    "\n",
    "sns.catplot(x='condition', y='BP', data=data, height=2, aspect=1.5)\n",
    "plt.ylabel('BP')\n",
    "plt.show()"
   ]
  },
  {
   "cell_type": "code",
   "execution_count": 14,
   "metadata": {
    "ExecuteTime": {
     "end_time": "2021-10-17T07:01:05.625830Z",
     "start_time": "2021-10-17T07:01:05.162833Z"
    },
    "colab": {
     "base_uri": "https://localhost:8080/",
     "height": 1000
    },
    "id": "qBhXjFRZcfW_",
    "outputId": "e591527a-431a-426c-e45d-fddca3673bac"
   },
   "outputs": [
    {
     "data": {
      "image/png": "[encoded data removed]",
      "text/plain": [
       "<Figure size 360x360 with 1 Axes>"
      ]
     },
     "metadata": {
      "needs_background": "light"
     },
     "output_type": "display_data"
    },
    {
     "data": {
      "image/png": "[encoded data removed]",
      "text/plain": [
       "<Figure size 360x360 with 1 Axes>"
      ]
     },
     "metadata": {
      "needs_background": "light"
     },
     "output_type": "display_data"
    },
    {
     "data": {
      "image/png": "[encoded data removed]",
      "text/plain": [
       "<Figure size 360x360 with 1 Axes>"
      ]
     },
     "metadata": {
      "needs_background": "light"
     },
     "output_type": "display_data"
    },
    {
     "data": {
      "image/png": "[encoded data removed]",
      "text/plain": [
       "<Figure size 432x288 with 1 Axes>"
      ]
     },
     "metadata": {
      "needs_background": "light"
     },
     "output_type": "display_data"
    }
   ],
   "source": [
    "sns.catplot(\n",
    "    data=data,\n",
    "    x='condition',\n",
    "    y='BP',\n",
    "    jitter=1,\n",
    ")\n",
    "plt.show()\n",
    "\n",
    "sns.catplot(\n",
    "    data=data,\n",
    "    x='condition',\n",
    "    y='BP',\n",
    "    kind='box',\n",
    ")\n",
    "plt.show()\n",
    "\n",
    "sns.catplot(\n",
    "    data=data,\n",
    "    x='condition',\n",
    "    y='BP',\n",
    "    kind='violin',\n",
    ")\n",
    "plt.show()\n",
    "\n",
    "fig, plots = plt.subplots(1)\n",
    "sns.boxplot(\n",
    "    data=data,\n",
    "    x='condition',\n",
    "    y='BP',\n",
    "    ax=plots,\n",
    ")\n",
    "sns.stripplot(\n",
    "    data=data,\n",
    "    x='condition',\n",
    "    y='BP',\n",
    "    jitter=1,\n",
    "    ax=plots,\n",
    "    alpha=0.25,\n",
    ")\n",
    "\n",
    "plt.show()"
   ]
  },
  {
   "cell_type": "markdown",
   "metadata": {
    "id": "gcqede6WNj0t"
   },
   "source": [
    "In our hypothesis test, we ask if these two groups differ significantly from each other. It's a bit hard to say just from looking at the plot. \n",
    "\n",
    "This is where statistics comes in. It's time to:\n",
    "\n",
    "*3. Think about how much the data surprise you, given your null model*\n",
    "\n",
    "We'll convert this step to some math, as follows:\n",
    "\n",
    "**Step 1. summarize the difference between the groups with a number.**\n",
    "\n",
    "This is called a **test statistic** \n",
    "\n",
    "\"How to define the test statistic?\" you say?\n",
    "\n",
    "The world is your oyster. You are free to choose anything you wish. \n",
    "\n",
    "(Later, we'll see that some choices come with nice math, which is why they are typically used. But a test statistic could be anything)\n",
    "\n",
    "To demonstrate this intuition, let's come up with a very basic test statistic. For example, let's compute the difference between the BP in the 2 groups.\n",
    "\n"
   ]
  },
  {
   "cell_type": "code",
   "execution_count": 15,
   "metadata": {
    "ExecuteTime": {
     "end_time": "2021-10-17T07:01:05.640830Z",
     "start_time": "2021-10-17T07:01:05.626833Z"
    },
    "colab": {
     "base_uri": "https://localhost:8080/"
    },
    "id": "EW2sfuM0P-8l",
    "outputId": "c126d984-64dd-4043-ece9-4d0ae280833a"
   },
   "outputs": [
    {
     "name": "stdout",
     "output_type": "stream",
     "text": [
      "test statistic = -4.362237456546268\n"
     ]
    }
   ],
   "source": [
    "mean_ctrl = np.mean(data[data['condition'] == 'couch']['BP'])\n",
    "mean_test = np.mean(data[data['condition'] == 'exercise']['BP'])\n",
    "\n",
    "test_stat = mean_test - mean_ctrl\n",
    "print('test statistic =', test_stat)"
   ]
  },
  {
   "cell_type": "markdown",
   "metadata": {
    "id": "oxJpPee2RICp"
   },
   "source": [
    "What is this number telling us? Is the BP significantly different between the 2 conditions? It's impossible to say looking at only this number.\n",
    "\n",
    "We have to ask ourselves, well, what did you expect?\n",
    "\n",
    "This takes us to the next step.\n"
   ]
  },
  {
   "cell_type": "markdown",
   "metadata": {
    "id": "_LEBm7luPH5a"
   },
   "source": [
    "\n",
    "**ii) think about what the test statistic would be if in reality there were no difference between the 2 groups. It will be a distribution, not just a single number, because you would expect to see some variation in the test statistic whenever you do an experiment, due to sampling noise, and due to variation in the population.**\n",
    "\n",
    "Here is where the wasteful part comes in. You go and repeat the measurement on 1000 different couch grouos. Then, for each of these, you compute the same test statistic = the difference between the mean in that sample and your original couch group.\n"
   ]
  },
  {
   "cell_type": "code",
   "execution_count": 16,
   "metadata": {
    "ExecuteTime": {
     "end_time": "2021-10-17T07:01:06.268831Z",
     "start_time": "2021-10-17T07:01:05.642834Z"
    },
    "colab": {
     "base_uri": "https://localhost:8080/"
    },
    "id": "K6lI09JuQlLx",
    "outputId": "40585c66-a5b3-4332-cd42-666ede1ac626"
   },
   "outputs": [
    {
     "name": "stdout",
     "output_type": "stream",
     "text": [
      "            BP     condition\n",
      "0   128.121727     control_0\n",
      "1   116.941218     control_0\n",
      "2   117.359141     control_0\n",
      "3   114.635157     control_0\n",
      "4   124.327038     control_0\n",
      "..         ...           ...\n",
      "5   120.846771  control_1000\n",
      "6   123.368115  control_1000\n",
      "7   118.363992  control_1000\n",
      "8   118.473504  control_1000\n",
      "9   122.624327  control_1000\n",
      "\n",
      "[10010 rows x 2 columns]\n"
     ]
    }
   ],
   "source": [
    "np.random.seed(1)\n",
    "data_exp2 = sample_condition_values(condition_mean=ctrl_mean,\n",
    "                                    condition_N=N_per_condition,\n",
    "                                    condition_var=v,\n",
    "                                    condition='control_0')\n",
    "\n",
    "for i in range(1, 1001):\n",
    "    data_exp2 = pd.concat([\n",
    "        data_exp2,\n",
    "        sample_condition_values(condition_mean=ctrl_mean,\n",
    "                                condition_N=N_per_condition,\n",
    "                                condition_var=v,\n",
    "                                condition='control_' + str(i))\n",
    "    ])\n",
    "\n",
    "print(data_exp2)"
   ]
  },
  {
   "cell_type": "code",
   "execution_count": 17,
   "metadata": {
    "ExecuteTime": {
     "end_time": "2021-10-17T07:01:06.388834Z",
     "start_time": "2021-10-17T07:01:06.270834Z"
    },
    "colab": {
     "base_uri": "https://localhost:8080/",
     "height": 415
    },
    "id": "S_ORBJPcRZSt",
    "outputId": "ef146b59-5dca-4c46-cd14-900de5d0d716"
   },
   "outputs": [
    {
     "name": "stdout",
     "output_type": "stream",
     "text": [
      "                      BP\n",
      "condition               \n",
      "control_0     119.514296\n",
      "control_1     119.152058\n",
      "control_10    120.201086\n",
      "control_100   118.518008\n",
      "control_1000  119.698545\n"
     ]
    },
    {
     "data": {
      "text/plain": [
       "<matplotlib.lines.Line2D at 0x258e6f5b850>"
      ]
     },
     "execution_count": 17,
     "metadata": {},
     "output_type": "execute_result"
    },
    {
     "data": {
      "image/png": "[encoded data removed]",
      "text/plain": [
       "<Figure size 432x288 with 1 Axes>"
      ]
     },
     "metadata": {
      "needs_background": "light"
     },
     "output_type": "display_data"
    }
   ],
   "source": [
    "# now, let's plot the distribution of the test statistic under the null hypothesis\n",
    "\n",
    "# get mean of each control\n",
    "exp2_means = data_exp2.groupby('condition').mean()\n",
    "print(exp2_means.head())\n",
    "\n",
    "null_test_stats = exp2_means - ctrl_mean\n",
    "\n",
    "plt.hist(np.array(null_test_stats).flatten(), 20, color='black')\n",
    "plt.xlabel('Test statistic')\n",
    "plt.axvline(x=test_stat, color='red')"
   ]
  },
  {
   "cell_type": "code",
   "execution_count": 18,
   "metadata": {
    "ExecuteTime": {
     "end_time": "2021-10-17T07:01:06.404831Z",
     "start_time": "2021-10-17T07:01:06.389830Z"
    },
    "colab": {
     "base_uri": "https://localhost:8080/",
     "height": 450
    },
    "id": "LllCmosohvw0",
    "outputId": "b81204b0-1548-4b62-cebb-08e7dfc4a57a"
   },
   "outputs": [
    {
     "data": {
      "text/html": [
       "<div>\n",
       "<style scoped>\n",
       "    .dataframe tbody tr th:only-of-type {\n",
       "        vertical-align: middle;\n",
       "    }\n",
       "\n",
       "    .dataframe tbody tr th {\n",
       "        vertical-align: top;\n",
       "    }\n",
       "\n",
       "    .dataframe thead th {\n",
       "        text-align: right;\n",
       "    }\n",
       "</style>\n",
       "<table border=\"1\" class=\"dataframe\">\n",
       "  <thead>\n",
       "    <tr style=\"text-align: right;\">\n",
       "      <th></th>\n",
       "      <th>BP</th>\n",
       "    </tr>\n",
       "    <tr>\n",
       "      <th>condition</th>\n",
       "      <th></th>\n",
       "    </tr>\n",
       "  </thead>\n",
       "  <tbody>\n",
       "    <tr>\n",
       "      <th>control_0</th>\n",
       "      <td>-0.485704</td>\n",
       "    </tr>\n",
       "    <tr>\n",
       "      <th>control_1</th>\n",
       "      <td>-0.847942</td>\n",
       "    </tr>\n",
       "    <tr>\n",
       "      <th>control_10</th>\n",
       "      <td>0.201086</td>\n",
       "    </tr>\n",
       "    <tr>\n",
       "      <th>control_100</th>\n",
       "      <td>-1.481992</td>\n",
       "    </tr>\n",
       "    <tr>\n",
       "      <th>control_1000</th>\n",
       "      <td>-0.301455</td>\n",
       "    </tr>\n",
       "    <tr>\n",
       "      <th>...</th>\n",
       "      <td>...</td>\n",
       "    </tr>\n",
       "    <tr>\n",
       "      <th>control_995</th>\n",
       "      <td>0.112184</td>\n",
       "    </tr>\n",
       "    <tr>\n",
       "      <th>control_996</th>\n",
       "      <td>2.795058</td>\n",
       "    </tr>\n",
       "    <tr>\n",
       "      <th>control_997</th>\n",
       "      <td>1.345734</td>\n",
       "    </tr>\n",
       "    <tr>\n",
       "      <th>control_998</th>\n",
       "      <td>-0.379900</td>\n",
       "    </tr>\n",
       "    <tr>\n",
       "      <th>control_999</th>\n",
       "      <td>-0.927936</td>\n",
       "    </tr>\n",
       "  </tbody>\n",
       "</table>\n",
       "<p>1001 rows × 1 columns</p>\n",
       "</div>"
      ],
      "text/plain": [
       "                    BP\n",
       "condition             \n",
       "control_0    -0.485704\n",
       "control_1    -0.847942\n",
       "control_10    0.201086\n",
       "control_100  -1.481992\n",
       "control_1000 -0.301455\n",
       "...                ...\n",
       "control_995   0.112184\n",
       "control_996   2.795058\n",
       "control_997   1.345734\n",
       "control_998  -0.379900\n",
       "control_999  -0.927936\n",
       "\n",
       "[1001 rows x 1 columns]"
      ]
     },
     "execution_count": 18,
     "metadata": {},
     "output_type": "execute_result"
    }
   ],
   "source": [
    "null_test_stats"
   ]
  },
  {
   "cell_type": "code",
   "execution_count": 19,
   "metadata": {
    "ExecuteTime": {
     "end_time": "2021-10-17T07:01:06.420830Z",
     "start_time": "2021-10-17T07:01:06.406833Z"
    },
    "colab": {
     "base_uri": "https://localhost:8080/"
    },
    "id": "6EThWnaJhiLP",
    "outputId": "1968bd5f-9690-419e-fd51-59b8855112f2"
   },
   "outputs": [
    {
     "name": "stdout",
     "output_type": "stream",
     "text": [
      "control_179 5.185586379422304\n",
      "control_43 4.129129723892561\n",
      "control_665 4.129526751544148\n",
      "control_775 4.117971581535585\n",
      "control_838 4.442499228276958\n",
      "control_952 4.185169220649826\n",
      "control_970 4.141431724614719\n"
     ]
    }
   ],
   "source": [
    "for i in range(null_test_stats.shape[0]):\n",
    "    if null_test_stats['BP'][i] > 4:\n",
    "        print(null_test_stats.index[i], null_test_stats['BP'][i])"
   ]
  },
  {
   "cell_type": "code",
   "execution_count": 20,
   "metadata": {
    "ExecuteTime": {
     "end_time": "2021-10-17T07:01:06.436830Z",
     "start_time": "2021-10-17T07:01:06.422833Z"
    },
    "colab": {
     "base_uri": "https://localhost:8080/"
    },
    "id": "bPy1HINxh8vL",
    "outputId": "f62bd3a6-3f20-44cc-b398-3fd2e699be26"
   },
   "outputs": [
    {
     "name": "stdout",
     "output_type": "stream",
     "text": [
      "control_161 -4.148404587530905\n",
      "control_202 -4.336675796802723\n",
      "control_234 -4.137633016906577\n",
      "control_854 -4.612546175530198\n",
      "control_955 -4.0685297239182034\n"
     ]
    }
   ],
   "source": [
    "for i in range(null_test_stats.shape[0]):\n",
    "    if null_test_stats['BP'][i] < -4:\n",
    "        print(null_test_stats.index[i], null_test_stats['BP'][i])"
   ]
  },
  {
   "cell_type": "code",
   "execution_count": 21,
   "metadata": {
    "ExecuteTime": {
     "end_time": "2021-10-17T07:01:06.595830Z",
     "start_time": "2021-10-17T07:01:06.438834Z"
    },
    "colab": {
     "base_uri": "https://localhost:8080/",
     "height": 184
    },
    "id": "dbX7sggqhcw9",
    "outputId": "ac2f6c5f-0886-44fc-b84e-2bfc9eb022a8"
   },
   "outputs": [
    {
     "data": {
      "text/plain": [
       "<seaborn.axisgrid.FacetGrid at 0x258e43d60a0>"
      ]
     },
     "execution_count": 21,
     "metadata": {},
     "output_type": "execute_result"
    },
    {
     "data": {
      "image/png": "[encoded data removed]",
      "text/plain": [
       "<Figure size 288x144 with 1 Axes>"
      ]
     },
     "metadata": {
      "needs_background": "light"
     },
     "output_type": "display_data"
    }
   ],
   "source": [
    "sns.catplot(\n",
    "    data=data_exp2,\n",
    "    x='condition',\n",
    "    y='BP',\n",
    "    order=[\n",
    "        'control_0',\n",
    "        'control_1',\n",
    "        'control_2',\n",
    "        'control_3',\n",
    "        'control_4',\n",
    "        'control_5',  # 'control_6',\n",
    "        # 'control_7','control_8','control_9','control_10',\n",
    "        'control_179',\n",
    "        'control_161',\n",
    "    ],\n",
    "    color='black',  # kind='box',\n",
    "    aspect=2,\n",
    "    height=2)"
   ]
  },
  {
   "cell_type": "code",
   "execution_count": 22,
   "metadata": {
    "ExecuteTime": {
     "end_time": "2021-10-17T07:01:07.281844Z",
     "start_time": "2021-10-17T07:01:06.597830Z"
    },
    "colab": {
     "base_uri": "https://localhost:8080/",
     "height": 1000
    },
    "id": "tF02qimpgbs2",
    "outputId": "593e0a1d-ac10-4296-a493-62ba91bdca00"
   },
   "outputs": [
    {
     "data": {
      "image/png": "[encoded data removed]",
      "text/plain": [
       "<Figure size 432x288 with 1 Axes>"
      ]
     },
     "metadata": {
      "needs_background": "light"
     },
     "output_type": "display_data"
    },
    {
     "data": {
      "image/png": "[encoded data removed]",
      "text/plain": [
       "<Figure size 432x288 with 1 Axes>"
      ]
     },
     "metadata": {
      "needs_background": "light"
     },
     "output_type": "display_data"
    },
    {
     "data": {
      "image/png": "[encoded data removed]",
      "text/plain": [
       "<Figure size 432x288 with 1 Axes>"
      ]
     },
     "metadata": {
      "needs_background": "light"
     },
     "output_type": "display_data"
    },
    {
     "data": {
      "image/png": "[encoded data removed]",
      "text/plain": [
       "<Figure size 432x288 with 1 Axes>"
      ]
     },
     "metadata": {
      "needs_background": "light"
     },
     "output_type": "display_data"
    },
    {
     "data": {
      "image/png": "[encoded data removed]",
      "text/plain": [
       "<Figure size 432x288 with 1 Axes>"
      ]
     },
     "metadata": {
      "needs_background": "light"
     },
     "output_type": "display_data"
    },
    {
     "data": {
      "image/png": "[encoded data removed]",
      "text/plain": [
       "<Figure size 432x288 with 1 Axes>"
      ]
     },
     "metadata": {
      "needs_background": "light"
     },
     "output_type": "display_data"
    },
    {
     "data": {
      "image/png": "[encoded data removed]",
      "text/plain": [
       "<Figure size 432x288 with 1 Axes>"
      ]
     },
     "metadata": {
      "needs_background": "light"
     },
     "output_type": "display_data"
    }
   ],
   "source": [
    "x = 5\n",
    "plt.hist(\n",
    "    np.array(null_test_stats[1:2]).flatten(),\n",
    "    range(-4, 4),\n",
    "    color='black',\n",
    ")\n",
    "plt.xlabel('Test statistic (t)')\n",
    "plt.xlim(-x, x)\n",
    "plt.ylim(0, 5)\n",
    "plt.show()\n",
    "# plt.axvline(x=t_stat,color='red')\n",
    "\n",
    "plt.hist(\n",
    "    np.array(null_test_stats[1:3]).flatten(),\n",
    "    range(-4, 4),\n",
    "    color='black',\n",
    ")\n",
    "plt.xlabel('Test statistic (t)')\n",
    "plt.xlim(-x, x)\n",
    "plt.ylim(0, 5)\n",
    "\n",
    "plt.show()\n",
    "# plt.axvline(x=t_stat,color='red')\n",
    "\n",
    "plt.hist(\n",
    "    np.array(null_test_stats[1:4]).flatten(),\n",
    "    range(-4, 4),\n",
    "    color='black',\n",
    ")\n",
    "plt.xlabel('Test statistic (t)')\n",
    "plt.xlim(-x, x)\n",
    "plt.ylim(0, 5)\n",
    "\n",
    "plt.show()\n",
    "# plt.axvline(x=t_stat,color='red')\n",
    "\n",
    "plt.hist(\n",
    "    np.array(null_test_stats[1:5]).flatten(),\n",
    "    range(-4, 4),\n",
    "    color='black',\n",
    ")\n",
    "plt.xlabel('Test statistic (t)')\n",
    "plt.xlim(-x, x)\n",
    "plt.ylim(0, 5)\n",
    "\n",
    "plt.show()\n",
    "# plt.axvline(x=t_stat,color='red')\n",
    "\n",
    "plt.hist(\n",
    "    np.array(null_test_stats[1:6]).flatten(),\n",
    "    range(-4, 4),\n",
    "    color='black',\n",
    ")\n",
    "plt.xlabel('Test statistic (t)')\n",
    "plt.xlim(-x, x)\n",
    "plt.ylim(0, 5)\n",
    "\n",
    "plt.show()\n",
    "# plt.axvline(x=t_stat,color='red')\n",
    "\n",
    "plt.hist(\n",
    "    np.array(null_test_stats).flatten(),\n",
    "    20,\n",
    "    color='black',\n",
    ")\n",
    "plt.xlabel('Test statistic (t)')\n",
    "plt.xlim(-x, x)\n",
    "# plt.ylim(0,5)\n",
    "plt.show()\n",
    "\n",
    "plt.hist(\n",
    "    np.array(null_test_stats).flatten(),\n",
    "    20,\n",
    "    color='black',\n",
    ")\n",
    "plt.xlabel('Test statistic (t)')\n",
    "plt.xlim(-x, x)\n",
    "# plt.ylim(0,5)\n",
    "plt.axvline(x=test_stat, color='red')\n",
    "plt.show()"
   ]
  },
  {
   "cell_type": "markdown",
   "metadata": {
    "id": "5EaLU6M4Tow0"
   },
   "source": [
    "In black we have the distribution of test statistics we obtained from the 1000 experiments measuring couch participants. In other words, this is the distribution of the test statistic under the null hypothesis.\n",
    "\n",
    "The red line shows the test statistic from our comparison of exercise group vs with couch group."
   ]
  },
  {
   "cell_type": "markdown",
   "metadata": {
    "id": "8ivsL0ypUaC0"
   },
   "source": [
    "**Is our difference in expression significant?**\n",
    "\n",
    "if the null is true, in other words, if in reality there is no difference between couch and exercise, what is the probability of seeing such an extreme difference between their means (in other words, such an extreme test statistic)?\n",
    "\n",
    "We can compute this from the plot above. We go to our null distribution, and count how many times we got a more extreme test statistic in our null experiment than the one we got for the couch vs exercise comparison.\n",
    "\n"
   ]
  },
  {
   "cell_type": "code",
   "execution_count": 23,
   "metadata": {
    "ExecuteTime": {
     "end_time": "2021-10-17T07:01:07.297842Z",
     "start_time": "2021-10-17T07:01:07.283846Z"
    },
    "colab": {
     "base_uri": "https://localhost:8080/"
    },
    "id": "lMqQT22YRZXL",
    "outputId": "fce58bbe-f68b-4dbe-f373-a01f853115a9"
   },
   "outputs": [
    {
     "name": "stdout",
     "output_type": "stream",
     "text": [
      "3 times we got a more extreme test statistic under the null\n",
      "0.003 fraction of the time we got a more extreme test statistic under the null\n"
     ]
    }
   ],
   "source": [
    "count_more_extreme = int(np.sum(np.abs(null_test_stats) >= np.abs(test_stat)))\n",
    "print(count_more_extreme,\n",
    "      'times we got a more extreme test statistic under the null')\n",
    "print(\n",
    "    count_more_extreme / 1000,\n",
    "    'fraction of the time we got a more extreme test statistic under the null')"
   ]
  },
  {
   "cell_type": "markdown",
   "metadata": {
    "id": "SGntRQJ1VQPM"
   },
   "source": [
    "What we computed above is called a **p-value**. Now, this is a very often misunderstood term, so let's think about it deeply. \n",
    "\n",
    "Deeply.\n",
    "\n",
    "Deeply.\n",
    "\n",
    "About what it is, what it is not.\n",
    "\n",
    "**P-values**\n",
    "--\n",
    "\n",
    "To remember what a p-value is, you decide to make a promise to me and more importantly yourself, that from now on, any sentence in which you mention a p-value will start with \"if the null were true, ...\".\n",
    "\n",
    "**A p-value IS:**\n",
    "- if the null were true, the probability of observing something as extreme or more extreme than your test statistic.\n",
    "- it's the quantification of your \"whoa!\", given your null hypothesis. More \"whoa!\" = smaller p-value.\n",
    "\n",
    "**A p-value is NOT:**\n",
    "- the probability that the null hypothesis is wrong. We don't know the probability of that. That's sort of up to the universe. \n",
    "- the probability that the null hypothesis is wrong. This is so important, that it's worth putting it on the list twice.\n",
    "\n",
    "Why is this distinction so important? \n",
    "\n",
    "First, because we can be very good at estimating what happens under the null. It's much more challenging to think about other scenarios. For instance, if you needed to make a model for the BP being different between 2 conditions, how different do you expect them to be? Is the average couch group at 120 and the exercise at 110? Or the couch at 125 and exercise at 130? Do you make a model for each option and grow old estimating all possible models?\n",
    "\n",
    "Second, it's also a matter of being conservative. It's common courtesy to assume the 2 conditions are the same. I expect you to come to me and convince me that it would be REALLY unlikely to observe what we have just seen given the null, to make it worthwhile my time. It would be weird to just assume the BP is different between the 2 conditions and have to prove that they are the same. We'd be swimming in false positives.\n",
    "\n",
    "**Statistical significance**\n",
    "\n",
    "Now that we have a p-value, you need to ask yourself where you set a cutoff for something being unlikely enough to be \"significant\", or worth your attention. Usually, that's 0.05, or 0.01, or 0.1. Yes, essentially it's a somewhat arbitrary small number.\n",
    "\n",
    "I reiterate: this does not mean that the exercise group is different from the couch group for sure. If you were to do the experiment 1000 times with groups of participants assigned to \"couch\", in a small subset of your experiments, you'll get a test statistic as or more extreme than the one we found in our experiment comparing. But given that it's unlikely to get this result under the null hypohesis, you call it a significant difference, one that makes you think.\n",
    "\n",
    "In summary: \n",
    "- you look at your p-value - and you think about the probability of getting your result under the null, as you need to include these words in any sentence with p-values -\n",
    "- compare it with your significance threshold \n",
    "- if it is less than that threshold, you call that difference in expression significant between KO and control.\n",
    "\n",
    "**Technical note: one-tailed vs two-tailed tests**\n",
    "\n",
    "*Depending on what you believe would be the possible alternative to your null hypothesis (conveniently called the alternative hypothesis), you may compute the p-value differently.*\n",
    "\n",
    "*Specifically, in our example above, we computed the p-value by asking:*\n",
    "- *if the null were true, what is the probability of obtaining a test statistic as extreme or more extreme than the one we've seen. That means we asked whether there were test statistics larger than our test statistic, or lower than minus our test statistic. This is called a two-tailed test, because we looked at both sides (both tails) of the distribution under the null.*\n",
    "\n",
    "*If your alternative hypothesis were that the treatment specifically decreases baseline blood pressure, you'd compute the p-value differently, as you'd look under the null at only what fraction of the time you've seen a test statistic lower than the one we've seen. This is a one-tailed test.*\n",
    "\n",
    "*Of course, this is not an invitation to use one-tailed tests to try to get more significant p-values, since by definition the p-values from a one-tailed test will be smaller than those for a two-tailed test. You should define your alternative hypothesis based on deep thought. I personally like to be as conservative as possible, and as such strongly prefer two-tailed tests.*\n",
    "\n",
    "\n",
    "\n",
    "\n",
    "\n",
    "\n",
    "\n"
   ]
  },
  {
   "cell_type": "markdown",
   "metadata": {
    "id": "xIVAVdOoMUrO"
   },
   "source": [
    "**Hypothesis testing in a nutshell**\n",
    "\n",
    "- come up with a **null hypothesis**. \n",
    "  * In our case: the gene does not change in expression.\n",
    "- collect some data\n",
    "  * yay, we love data!\n",
    "- define a **test statistic** to measure your quantity of interest. \n",
    "  * here we looked at the difference between means, but as we'll see below, there are more sophisticated ways to go about it.\n",
    "- figure out the **distribution of the test statistic under the null** hypothesis\n",
    "  * here, we did this by repeating the measurement on the same type of cells 1000 times. Next, we'll learn that under certain conditions we can comoute this distribution analytically, rather than having to do thousands of experiments.\n",
    "- compute a **p-value**\n",
    "  * that tells you if the null were true, the probability of getting your test statistic or something even more outrageous\n",
    "- decide if **significant**\n",
    "  * is p-value below a pre-defined threshold\n",
    "\n",
    "If you deeply understand this, you're on a very good path to understand a LARGE fraction of all statistics you'll find in genomics."
   ]
  },
  {
   "cell_type": "markdown",
   "metadata": {
    "id": "W1HZ29TgNKzs"
   },
   "source": [
    "**PART II. EXAMPLE HYPOTHESIS TESTING USING THE T-TEST**\n",
    "---\n",
    "\n",
    "Now, let's do a t-test.\n",
    "\n"
   ]
  },
  {
   "cell_type": "code",
   "execution_count": 24,
   "metadata": {
    "ExecuteTime": {
     "end_time": "2021-10-17T07:01:07.313845Z",
     "start_time": "2021-10-17T07:01:07.299847Z"
    },
    "colab": {
     "base_uri": "https://localhost:8080/"
    },
    "id": "IsKMhpmZFwS3",
    "outputId": "a8724e6c-3c74-4785-fce9-ab78d61bf94c"
   },
   "outputs": [
    {
     "name": "stdout",
     "output_type": "stream",
     "text": [
      "-1.6837025738594624 0.10950131551739636\n"
     ]
    }
   ],
   "source": [
    "from scipy.stats import ttest_ind\n",
    "\n",
    "t_stat, pvalue = ttest_ind(\n",
    "    data[data['condition'] == 'exercise']['BP'],\n",
    "    data[data['condition'] == 'couch']['BP'],\n",
    ")\n",
    "print(t_stat, pvalue)"
   ]
  },
  {
   "cell_type": "code",
   "execution_count": 25,
   "metadata": {
    "ExecuteTime": {
     "end_time": "2021-10-17T07:01:09.429132Z",
     "start_time": "2021-10-17T07:01:07.315846Z"
    },
    "colab": {
     "base_uri": "https://localhost:8080/",
     "height": 313
    },
    "id": "M-P_atPqLHV5",
    "outputId": "a4b3a25d-456f-4f55-f221-753664e606fe"
   },
   "outputs": [
    {
     "name": "stdout",
     "output_type": "stream",
     "text": [
      "10 times we got a more extreme test statistic under the null\n",
      "0.01 fraction of the time we got a more extreme test statistic under the null = p-value\n"
     ]
    },
    {
     "data": {
      "image/png": "[encoded data removed]",
      "text/plain": [
       "<Figure size 432x288 with 1 Axes>"
      ]
     },
     "metadata": {
      "needs_background": "light"
     },
     "output_type": "display_data"
    }
   ],
   "source": [
    "# as before, compare to the distribution\n",
    "null_test_stats = []\n",
    "for i in range(1000):\n",
    "    current_t, current_pvalue = ttest_ind(\n",
    "        data_exp2[data_exp2['condition'] == 'control_' + str(i)]['BP'],\n",
    "        data_exp2[data_exp2['condition'] == 'control_0']['BP'],\n",
    "    )\n",
    "    null_test_stats.append(current_t)\n",
    "\n",
    "plt.hist(np.array(null_test_stats).flatten(), color='black')\n",
    "plt.xlabel('Test statistic (t)')\n",
    "plt.axvline(x=t_stat, color='red')\n",
    "\n",
    "count_more_extreme = int(np.sum(np.abs(null_test_stats) >= np.abs(t_stat)))\n",
    "print(count_more_extreme,\n",
    "      'times we got a more extreme test statistic under the null')\n",
    "print(\n",
    "    count_more_extreme / 1000,\n",
    "    'fraction of the time we got a more extreme test statistic under the null = p-value'\n",
    ")"
   ]
  },
  {
   "cell_type": "markdown",
   "metadata": {
    "id": "QyDL1jX6R1lk"
   },
   "source": [
    "Now, the exciting thing is that we didn't have to perform the second experiment to get an empirical distribution of the test statistic under the null. Rather, we were able to estimate it analytically. And indeed, the p-value we obtained from the t-test is similar to the one we got from our big experiment!\n"
   ]
  },
  {
   "cell_type": "markdown",
   "metadata": {
    "id": "orydznyJSUfw"
   },
   "source": [
    "Ok, so by now, you should be pros at hypothesis tests.\n",
    "\n",
    "Remember: decide on the null, compute test statistic, get the distribution of the test statistic under the null, compute a p-value, decide if significant."
   ]
  },
  {
   "cell_type": "markdown",
   "metadata": {
    "id": "xxdKxLjGSlmO"
   },
   "source": [
    "There are of course many other types of hypothesis tests that don't look at the difference between groups as we did here. For instace, in GWAS, you want to see if a mutation is enriched in a disease cohort compared to healthy samples, and you do a chi-square test. \n",
    "Or maybe you have more than 2 conditions. Then you do ANOVA, rather than a t-test.\n"
   ]
  },
  {
   "cell_type": "markdown",
   "metadata": {
    "id": "x6i4NGSR6RxY"
   },
   "source": [
    "**PROJECT: EXAMPLE III:** \n",
    "===\n",
    "\n",
    "RNA sequencing: which genes are characteristic for different types of immune cells in your body?\n",
    "--"
   ]
  },
  {
   "cell_type": "markdown",
   "metadata": {
    "id": "IfN6A98G6vwD"
   },
   "source": [
    "Motivation\n",
    "--\n",
    "\n",
    "Although all cells in our body have the same DNA, they can have wildly different functions. That is because they activate different genes, for example your brain cells turn on genes that lead to production of neurotransmitters while liver cells activate genes encoding enzymes.\n",
    "\n",
    "Here, you will compare different types of immune cells (e.g. B-cells that make your antibodies, and T-cells which fight infections), and identify which genes are specifically active in each type of cell."
   ]
  },
  {
   "cell_type": "code",
   "execution_count": 26,
   "metadata": {
    "ExecuteTime": {
     "end_time": "2021-10-17T07:01:09.445130Z",
     "start_time": "2021-10-17T07:01:09.430131Z"
    },
    "id": "mnqfPq06Y1dC"
   },
   "outputs": [],
   "source": [
    "# install scanpy\n",
    "# !pip install scanpy"
   ]
  },
  {
   "cell_type": "markdown",
   "metadata": {
    "id": "Z4SYgYLVpnKA"
   },
   "source": [
    "RNA sequencing\n",
    "--\n",
    "\n",
    "RNA sequencing allows us to quantify the extent to which each gene is active in a sample. When a gene is active, its DNA is transcribed into mRNA and then translated into protein. With RNA sequencing, we are counting how frequent mRNAs for each gene occur in a sample. Genes that are more active will have higher counts, while genes that are not made into mRNA will have 0 counts.\n",
    "\n",
    "Data\n",
    "--\n",
    "\n",
    "The code below will download the data for you, and organize it into a data frame, where:\n",
    "- every row is a different gene\n",
    "- every column is a different sample. \n",
    "  - We have 6 samples, 3 of T cells (called \"CD4 T cells\" and B cells (\"B cells\").\n",
    "- every value is the number of reads from each gene in each sample. \n",
    "  - Note: the values have been normalized to be comparable between samples."
   ]
  },
  {
   "cell_type": "code",
   "execution_count": 27,
   "metadata": {
    "ExecuteTime": {
     "end_time": "2021-10-17T07:01:10.757166Z",
     "start_time": "2021-10-17T07:01:09.447130Z"
    },
    "id": "6PF9LhSEEcPq"
   },
   "outputs": [
    {
     "data": {
      "text/html": [
       "<div>\n",
       "<style scoped>\n",
       "    .dataframe tbody tr th:only-of-type {\n",
       "        vertical-align: middle;\n",
       "    }\n",
       "\n",
       "    .dataframe tbody tr th {\n",
       "        vertical-align: top;\n",
       "    }\n",
       "\n",
       "    .dataframe thead th {\n",
       "        text-align: right;\n",
       "    }\n",
       "</style>\n",
       "<table border=\"1\" class=\"dataframe\">\n",
       "  <thead>\n",
       "    <tr style=\"text-align: right;\">\n",
       "      <th></th>\n",
       "      <th>CD4 T cells.rep1</th>\n",
       "      <th>CD4 T cells.rep2</th>\n",
       "      <th>CD4 T cells.rep3</th>\n",
       "      <th>B cells.rep1</th>\n",
       "      <th>B cells.rep2</th>\n",
       "      <th>B cells.rep3</th>\n",
       "    </tr>\n",
       "    <tr>\n",
       "      <th>index</th>\n",
       "      <th></th>\n",
       "      <th></th>\n",
       "      <th></th>\n",
       "      <th></th>\n",
       "      <th></th>\n",
       "      <th></th>\n",
       "    </tr>\n",
       "  </thead>\n",
       "  <tbody>\n",
       "    <tr>\n",
       "      <th>MALAT1</th>\n",
       "      <td>8303.0</td>\n",
       "      <td>7334.0</td>\n",
       "      <td>7697.0</td>\n",
       "      <td>5246.0</td>\n",
       "      <td>5336.0</td>\n",
       "      <td>4950.0</td>\n",
       "    </tr>\n",
       "    <tr>\n",
       "      <th>B2M</th>\n",
       "      <td>4493.0</td>\n",
       "      <td>4675.0</td>\n",
       "      <td>4546.0</td>\n",
       "      <td>2861.0</td>\n",
       "      <td>2844.0</td>\n",
       "      <td>2796.0</td>\n",
       "    </tr>\n",
       "    <tr>\n",
       "      <th>TMSB4X</th>\n",
       "      <td>4198.0</td>\n",
       "      <td>4297.0</td>\n",
       "      <td>3932.0</td>\n",
       "      <td>2551.0</td>\n",
       "      <td>2066.0</td>\n",
       "      <td>2276.0</td>\n",
       "    </tr>\n",
       "    <tr>\n",
       "      <th>RPL10</th>\n",
       "      <td>3615.0</td>\n",
       "      <td>3565.0</td>\n",
       "      <td>3965.0</td>\n",
       "      <td>3163.0</td>\n",
       "      <td>2830.0</td>\n",
       "      <td>2753.0</td>\n",
       "    </tr>\n",
       "    <tr>\n",
       "      <th>RPL13</th>\n",
       "      <td>3501.0</td>\n",
       "      <td>3556.0</td>\n",
       "      <td>3679.0</td>\n",
       "      <td>2997.0</td>\n",
       "      <td>2636.0</td>\n",
       "      <td>2506.0</td>\n",
       "    </tr>\n",
       "  </tbody>\n",
       "</table>\n",
       "</div>"
      ],
      "text/plain": [
       "        CD4 T cells.rep1  CD4 T cells.rep2  CD4 T cells.rep3  B cells.rep1  \\\n",
       "index                                                                        \n",
       "MALAT1            8303.0            7334.0            7697.0        5246.0   \n",
       "B2M               4493.0            4675.0            4546.0        2861.0   \n",
       "TMSB4X            4198.0            4297.0            3932.0        2551.0   \n",
       "RPL10             3615.0            3565.0            3965.0        3163.0   \n",
       "RPL13             3501.0            3556.0            3679.0        2997.0   \n",
       "\n",
       "        B cells.rep2  B cells.rep3  \n",
       "index                               \n",
       "MALAT1        5336.0        4950.0  \n",
       "B2M           2844.0        2796.0  \n",
       "TMSB4X        2066.0        2276.0  \n",
       "RPL10         2830.0        2753.0  \n",
       "RPL13         2636.0        2506.0  "
      ]
     },
     "metadata": {},
     "output_type": "display_data"
    },
    {
     "data": {
      "text/html": [
       "<div>\n",
       "<style scoped>\n",
       "    .dataframe tbody tr th:only-of-type {\n",
       "        vertical-align: middle;\n",
       "    }\n",
       "\n",
       "    .dataframe tbody tr th {\n",
       "        vertical-align: top;\n",
       "    }\n",
       "\n",
       "    .dataframe thead th {\n",
       "        text-align: right;\n",
       "    }\n",
       "</style>\n",
       "<table border=\"1\" class=\"dataframe\">\n",
       "  <thead>\n",
       "    <tr style=\"text-align: right;\">\n",
       "      <th></th>\n",
       "      <th>CD4 T cells.rep1</th>\n",
       "      <th>CD4 T cells.rep2</th>\n",
       "      <th>CD4 T cells.rep3</th>\n",
       "      <th>B cells.rep1</th>\n",
       "      <th>B cells.rep2</th>\n",
       "      <th>B cells.rep3</th>\n",
       "    </tr>\n",
       "    <tr>\n",
       "      <th>index</th>\n",
       "      <th></th>\n",
       "      <th></th>\n",
       "      <th></th>\n",
       "      <th></th>\n",
       "      <th></th>\n",
       "      <th></th>\n",
       "    </tr>\n",
       "  </thead>\n",
       "  <tbody>\n",
       "    <tr>\n",
       "      <th>MALAT1</th>\n",
       "      <td>8303.0</td>\n",
       "      <td>7334.0</td>\n",
       "      <td>7697.0</td>\n",
       "      <td>5246.0</td>\n",
       "      <td>5336.0</td>\n",
       "      <td>4950.0</td>\n",
       "    </tr>\n",
       "    <tr>\n",
       "      <th>B2M</th>\n",
       "      <td>4493.0</td>\n",
       "      <td>4675.0</td>\n",
       "      <td>4546.0</td>\n",
       "      <td>2861.0</td>\n",
       "      <td>2844.0</td>\n",
       "      <td>2796.0</td>\n",
       "    </tr>\n",
       "    <tr>\n",
       "      <th>TMSB4X</th>\n",
       "      <td>4198.0</td>\n",
       "      <td>4297.0</td>\n",
       "      <td>3932.0</td>\n",
       "      <td>2551.0</td>\n",
       "      <td>2066.0</td>\n",
       "      <td>2276.0</td>\n",
       "    </tr>\n",
       "    <tr>\n",
       "      <th>RPL10</th>\n",
       "      <td>3615.0</td>\n",
       "      <td>3565.0</td>\n",
       "      <td>3965.0</td>\n",
       "      <td>3163.0</td>\n",
       "      <td>2830.0</td>\n",
       "      <td>2753.0</td>\n",
       "    </tr>\n",
       "    <tr>\n",
       "      <th>RPL13</th>\n",
       "      <td>3501.0</td>\n",
       "      <td>3556.0</td>\n",
       "      <td>3679.0</td>\n",
       "      <td>2997.0</td>\n",
       "      <td>2636.0</td>\n",
       "      <td>2506.0</td>\n",
       "    </tr>\n",
       "    <tr>\n",
       "      <th>...</th>\n",
       "      <td>...</td>\n",
       "      <td>...</td>\n",
       "      <td>...</td>\n",
       "      <td>...</td>\n",
       "      <td>...</td>\n",
       "      <td>...</td>\n",
       "    </tr>\n",
       "    <tr>\n",
       "      <th>C9orf169</th>\n",
       "      <td>0.0</td>\n",
       "      <td>0.0</td>\n",
       "      <td>0.0</td>\n",
       "      <td>0.0</td>\n",
       "      <td>1.0</td>\n",
       "      <td>0.0</td>\n",
       "    </tr>\n",
       "    <tr>\n",
       "      <th>TPRN</th>\n",
       "      <td>0.0</td>\n",
       "      <td>0.0</td>\n",
       "      <td>0.0</td>\n",
       "      <td>1.0</td>\n",
       "      <td>0.0</td>\n",
       "      <td>0.0</td>\n",
       "    </tr>\n",
       "    <tr>\n",
       "      <th>LRRC26</th>\n",
       "      <td>0.0</td>\n",
       "      <td>0.0</td>\n",
       "      <td>0.0</td>\n",
       "      <td>0.0</td>\n",
       "      <td>0.0</td>\n",
       "      <td>0.0</td>\n",
       "    </tr>\n",
       "    <tr>\n",
       "      <th>UAP1L1</th>\n",
       "      <td>0.0</td>\n",
       "      <td>0.0</td>\n",
       "      <td>1.0</td>\n",
       "      <td>0.0</td>\n",
       "      <td>1.0</td>\n",
       "      <td>1.0</td>\n",
       "    </tr>\n",
       "    <tr>\n",
       "      <th>AK8</th>\n",
       "      <td>0.0</td>\n",
       "      <td>0.0</td>\n",
       "      <td>0.0</td>\n",
       "      <td>2.0</td>\n",
       "      <td>2.0</td>\n",
       "      <td>0.0</td>\n",
       "    </tr>\n",
       "  </tbody>\n",
       "</table>\n",
       "<p>13714 rows × 6 columns</p>\n",
       "</div>"
      ],
      "text/plain": [
       "          CD4 T cells.rep1  CD4 T cells.rep2  CD4 T cells.rep3  B cells.rep1  \\\n",
       "index                                                                          \n",
       "MALAT1              8303.0            7334.0            7697.0        5246.0   \n",
       "B2M                 4493.0            4675.0            4546.0        2861.0   \n",
       "TMSB4X              4198.0            4297.0            3932.0        2551.0   \n",
       "RPL10               3615.0            3565.0            3965.0        3163.0   \n",
       "RPL13               3501.0            3556.0            3679.0        2997.0   \n",
       "...                    ...               ...               ...           ...   \n",
       "C9orf169               0.0               0.0               0.0           0.0   \n",
       "TPRN                   0.0               0.0               0.0           1.0   \n",
       "LRRC26                 0.0               0.0               0.0           0.0   \n",
       "UAP1L1                 0.0               0.0               1.0           0.0   \n",
       "AK8                    0.0               0.0               0.0           2.0   \n",
       "\n",
       "          B cells.rep2  B cells.rep3  \n",
       "index                                 \n",
       "MALAT1          5336.0        4950.0  \n",
       "B2M             2844.0        2796.0  \n",
       "TMSB4X          2066.0        2276.0  \n",
       "RPL10           2830.0        2753.0  \n",
       "RPL13           2636.0        2506.0  \n",
       "...                ...           ...  \n",
       "C9orf169           1.0           0.0  \n",
       "TPRN               0.0           0.0  \n",
       "LRRC26             0.0           0.0  \n",
       "UAP1L1             1.0           1.0  \n",
       "AK8                2.0           0.0  \n",
       "\n",
       "[13714 rows x 6 columns]"
      ]
     },
     "metadata": {},
     "output_type": "display_data"
    },
    {
     "name": "stdout",
     "output_type": "stream",
     "text": [
      "data.max()\n"
     ]
    },
    {
     "data": {
      "text/plain": [
       "CD4 T cells.rep1    8303.0\n",
       "CD4 T cells.rep2    7334.0\n",
       "CD4 T cells.rep3    7697.0\n",
       "B cells.rep1        5246.0\n",
       "B cells.rep2        5336.0\n",
       "B cells.rep3        4950.0\n",
       "dtype: float64"
      ]
     },
     "metadata": {},
     "output_type": "display_data"
    },
    {
     "name": "stdout",
     "output_type": "stream",
     "text": [
      "data.min()\n"
     ]
    },
    {
     "data": {
      "text/plain": [
       "CD4 T cells.rep1    0.0\n",
       "CD4 T cells.rep2    0.0\n",
       "CD4 T cells.rep3    0.0\n",
       "B cells.rep1        0.0\n",
       "B cells.rep2        0.0\n",
       "B cells.rep3        0.0\n",
       "dtype: float64"
      ]
     },
     "metadata": {},
     "output_type": "display_data"
    }
   ],
   "source": [
    "import scanpy as sc\n",
    "\n",
    "\n",
    "def prep_data():\n",
    "    adata = sc.datasets.pbmc3k_processed()\n",
    "    counts = pd.DataFrame(np.expm1(adata.raw.X.toarray()),\n",
    "                          index=adata.raw.obs_names,\n",
    "                          columns=adata.raw.var_names)\n",
    "\n",
    "    # make 3 reps T-cells and 3 reps B-cells\n",
    "    cells_per_bulk = 100\n",
    "    celltype = 'CD4 T cells'\n",
    "    cells = adata.obs_names[adata.obs['louvain'] == celltype]\n",
    "    bulks = pd.DataFrame(columns=[celltype+'.rep1', celltype+'.rep2', celltype+'.rep3'],\n",
    "                         index=adata.raw.var_names)\n",
    "\n",
    "    for i in range(3):\n",
    "        cells_here = cells[(i*100):((i+1)*100)]\n",
    "        bulks[celltype+'.rep' +\n",
    "              str(i+1)] = list(counts.loc[cells_here, :].sum(axis=0))\n",
    "    bulk_t = bulks\n",
    "\n",
    "    celltype = 'B cells'\n",
    "    cells = adata.obs_names[adata.obs['louvain'] == celltype]\n",
    "    bulks = pd.DataFrame(columns=[celltype+'.rep1', celltype+'.rep2', celltype+'.rep3'],\n",
    "                         index=adata.raw.var_names)\n",
    "\n",
    "    for i in range(3):\n",
    "        cells_here = cells[(i*100):((i+1)*100)]\n",
    "        bulks[celltype+'.rep' +\n",
    "              str(i+1)] = list(counts.loc[cells_here, :].sum(axis=0))\n",
    "\n",
    "    bulks = pd.concat([bulk_t, bulks], axis=1)\n",
    "    bulks = bulks.sort_values(by=bulks.columns[0], ascending=False)\n",
    "    return(bulks)\n",
    "\n",
    "\n",
    "data = prep_data()\n",
    "\n",
    "\n",
    "\"\"\"\n",
    "1. every row is a different gene\n",
    "\n",
    "2. every column is a different sample.\n",
    "    We have 6 samples, 3 of T cells (called \"CD4 T cells\" and B cells (\"B cells\").\n",
    "    \n",
    "3. every value is the number of reads from each gene in each sample.\n",
    "    Note: the values have been normalized to be comparable between samples.\n",
    "\n",
    "\"\"\"\n",
    "\n",
    "display(data.head())\n",
    "display(data)\n",
    "\n",
    "print(f\"data.max()\")\n",
    "display(data.max())\n",
    "print(\"data.min()\")\n",
    "display(data.min())"
   ]
  },
  {
   "cell_type": "markdown",
   "metadata": {
    "id": "9LvE0wZnr4th"
   },
   "source": [
    "**Let's explore the dataset**\n",
    "\n",
    "**(1 pt)** What are the names of the samples?\n",
    "\n",
    "    CD4 T cells.rep1\t\n",
    "    CD4 T cells.rep2\t\n",
    "    CD4 T cells.rep3\t\n",
    "    B cells.rep1\t\n",
    "    B cells.rep2\t\n",
    "    B cells.rep3\n",
    "\n",
    "**(2 pts)** What is the highest recorded value? What is the lowest?\n",
    "    \n",
    "    Highest recorded value is 8303.0\n",
    "    Lowest recorded value is 0.0\n"
   ]
  },
  {
   "cell_type": "code",
   "execution_count": 28,
   "metadata": {
    "ExecuteTime": {
     "end_time": "2021-10-17T07:01:10.772239Z",
     "start_time": "2021-10-17T07:01:10.759162Z"
    },
    "id": "tZSVE-rqr3oj"
   },
   "outputs": [],
   "source": [
    "# write code to answer the questions here"
   ]
  },
  {
   "cell_type": "markdown",
   "metadata": {
    "id": "27T483mPqpJJ"
   },
   "source": [
    "**Exploring the data**\n",
    "\n",
    "One gene that is different between our 2 cell types is IL7R. \n",
    "\n",
    "**(1 pt)** Plot the distribution of the IL7R gene in the 2 conditions. Which cell type (CD4 T cells or B cells) has the higher level of this gene?\n",
    "\n",
    "    CD4 T cells have more of the IL7R gene.\n",
    "\n",
    "**(1 pt)** How many samples do we have for each condition?\n",
    "    \n",
    "    3 Samples for each Condition\n",
    "    \n",
    "    For Condition: CD4 T cells\n",
    "        CD4 T cells.rep1    \n",
    "        CD4 T cells.rep2    \n",
    "        CD4 T cells.rep3\n",
    "    \n",
    "    For Condition: B cells\n",
    "        B cells.rep1    \n",
    "        B cells.rep2    \n",
    "        B cells.rep3\n"
   ]
  },
  {
   "cell_type": "code",
   "execution_count": 29,
   "metadata": {
    "ExecuteTime": {
     "end_time": "2021-10-17T07:01:10.913237Z",
     "start_time": "2021-10-17T07:01:10.773238Z"
    },
    "id": "52k4faUTqm8s"
   },
   "outputs": [
    {
     "data": {
      "text/html": [
       "<div>\n",
       "<style scoped>\n",
       "    .dataframe tbody tr th:only-of-type {\n",
       "        vertical-align: middle;\n",
       "    }\n",
       "\n",
       "    .dataframe tbody tr th {\n",
       "        vertical-align: top;\n",
       "    }\n",
       "\n",
       "    .dataframe thead th {\n",
       "        text-align: right;\n",
       "    }\n",
       "</style>\n",
       "<table border=\"1\" class=\"dataframe\">\n",
       "  <thead>\n",
       "    <tr style=\"text-align: right;\">\n",
       "      <th></th>\n",
       "      <th>IL7R</th>\n",
       "      <th>condition</th>\n",
       "    </tr>\n",
       "  </thead>\n",
       "  <tbody>\n",
       "    <tr>\n",
       "      <th>CD4 T cells.rep1</th>\n",
       "      <td>175.0</td>\n",
       "      <td>CD4 T cells</td>\n",
       "    </tr>\n",
       "    <tr>\n",
       "      <th>CD4 T cells.rep2</th>\n",
       "      <td>128.0</td>\n",
       "      <td>CD4 T cells</td>\n",
       "    </tr>\n",
       "    <tr>\n",
       "      <th>CD4 T cells.rep3</th>\n",
       "      <td>146.0</td>\n",
       "      <td>CD4 T cells</td>\n",
       "    </tr>\n",
       "    <tr>\n",
       "      <th>B cells.rep1</th>\n",
       "      <td>13.0</td>\n",
       "      <td>B cells</td>\n",
       "    </tr>\n",
       "    <tr>\n",
       "      <th>B cells.rep2</th>\n",
       "      <td>10.0</td>\n",
       "      <td>B cells</td>\n",
       "    </tr>\n",
       "    <tr>\n",
       "      <th>B cells.rep3</th>\n",
       "      <td>20.0</td>\n",
       "      <td>B cells</td>\n",
       "    </tr>\n",
       "  </tbody>\n",
       "</table>\n",
       "</div>"
      ],
      "text/plain": [
       "                   IL7R    condition\n",
       "CD4 T cells.rep1  175.0  CD4 T cells\n",
       "CD4 T cells.rep2  128.0  CD4 T cells\n",
       "CD4 T cells.rep3  146.0  CD4 T cells\n",
       "B cells.rep1       13.0      B cells\n",
       "B cells.rep2       10.0      B cells\n",
       "B cells.rep3       20.0      B cells"
      ]
     },
     "metadata": {},
     "output_type": "display_data"
    },
    {
     "data": {
      "text/plain": [
       "<seaborn.axisgrid.FacetGrid at 0x258e43ea340>"
      ]
     },
     "execution_count": 29,
     "metadata": {},
     "output_type": "execute_result"
    },
    {
     "data": {
      "image/png": "[encoded data removed]",
      "text/plain": [
       "<Figure size 360x360 with 1 Axes>"
      ]
     },
     "metadata": {
      "needs_background": "light"
     },
     "output_type": "display_data"
    }
   ],
   "source": [
    "# inspect the data\n",
    "GENE = 'IL7R'\n",
    "\n",
    "long_data = pd.DataFrame({\n",
    "    GENE: data.loc[GENE, :],  # Column GENE name with all Rows that have the gene GENE\n",
    "    'condition': [x.split('.')[0] for x in data.columns],\n",
    "    \n",
    "})\n",
    "display(long_data)\n",
    "\n",
    "sns.catplot(data=long_data, x='condition', y=GENE)"
   ]
  },
  {
   "cell_type": "markdown",
   "metadata": {
    "id": "sqVvQHdEuf8s"
   },
   "source": [
    "**Two-sample t-test for one gene across 2 conditions**\n",
    "\n",
    "We are now going to check whether the gene IL7R is differentially active in CD4 T cells vs B cells. \n",
    "\n",
    "**(1 pt)** What is the null hypothesis?\n",
    "\n",
    "    IL7R is not differentially active in CD4 T cells vs B cells.\n",
    "    There is no statistical difference for IL7R being active in CD4 T cells vs B cells.\n",
    "\n",
    "**(1 pt)** Based on your plot of the gene in the two conditions, and the fact that there looks like there might be a difference, what do you expect the sign of the t-statistic to be (CD4 T cells vs B cells)?\n",
    "\n",
    "    The sign will be positive, we reject the null hypothesis.\n"
   ]
  },
  {
   "cell_type": "markdown",
   "metadata": {
    "id": "y06nbXQIuhay"
   },
   "source": [
    "We are going to use the function ttest_ind to perform our t-test. You can read about it here: https://docs.scipy.org/doc/scipy/reference/generated/scipy.stats.ttest_ind.html."
   ]
  },
  {
   "cell_type": "markdown",
   "metadata": {
    "id": "czpIaUoRsCYs"
   },
   "source": [
    "\n",
    "\n",
    "**(1 pt)** What is the t-statistic?\n",
    "    \n",
    "    T-statistic is the value calculated when you replace the population standard deviation with the sample standard \n",
    "    deviation because you don't know the population standard deviation. The value calculated is used to determine \n",
    "    whether you reject the null hypothesis or not. The value is 9.66\n",
    "\n",
    "**(1 pt)** What is the p-value?\n",
    "    \n",
    "    The value is 0.00064\n",
    "\n",
    "**(1 pt)** Describe in your own words what the p-value means.\n",
    "    \n",
    "    The p-value is the probability of how likely it is to get a result given that the null hypothesis is true. \n",
    "    Since we rejected it, it should be low. Smaller p-value means that we have more evidence to say \n",
    "    that the null hypothesis is probably wrong.\n",
    "    Recall the Null Hypothesis is \"There is no statistical difference for IL7R being active \n",
    "    in CD4 T cells vs B cells.\"\n",
    "\n",
    "**(1 pt)** Is the p-value significant at alpha = 0.05?\n",
    "\n",
    "    P-value is not equal to alpha (0.05 != 0.00064) so we reject null hypothesis that \"There is no statistical \n",
    "    difference for IL7R being active in CD4 T cells vs B cells\" and we say that the p-value is significant.\n"
   ]
  },
  {
   "cell_type": "code",
   "execution_count": 30,
   "metadata": {
    "ExecuteTime": {
     "end_time": "2021-10-17T07:01:10.929239Z",
     "start_time": "2021-10-17T07:01:10.915238Z"
    },
    "id": "hU57ZuTzEcer"
   },
   "outputs": [
    {
     "name": "stdout",
     "output_type": "stream",
     "text": [
      "t statistic 9.66\n",
      "p-value 0.00064\n"
     ]
    }
   ],
   "source": [
    "# pick 1 gene, do 1 t-test\n",
    "from scipy.stats import ttest_ind\n",
    "GENE = 'IL7R'\n",
    "COND1 = ['CD4 T cells.rep'+str(x+1) for x in range(3)]\n",
    "COND2 = ['B cells.rep'+str(x+1) for x in range(3)]\n",
    "\n",
    "# plot gene across samples\n",
    "\n",
    "# t-test\n",
    "t_stat, pvalue = ttest_ind(data.loc[GENE, COND1], data.loc[GENE, COND2])\n",
    "print('t statistic', t_stat.round(2))\n",
    "print('p-value', pvalue.round(5))"
   ]
  },
  {
   "cell_type": "markdown",
   "metadata": {
    "id": "UgJrYBcAt2fc"
   },
   "source": [
    "**Two-sample t-tests for each gene across 2 conditions**\n",
    "\n",
    "We are now going to repeat our analysis from before for all genes in our dataset.\n",
    "\n",
    "**(1 pt)** How many genes are present in our dataset?\n",
    "    \n",
    "    13714\n"
   ]
  },
  {
   "cell_type": "code",
   "execution_count": 31,
   "metadata": {
    "ExecuteTime": {
     "end_time": "2021-10-17T07:01:35.439766Z",
     "start_time": "2021-10-17T07:01:10.931239Z"
    },
    "id": "F8VM7kt1MkBa"
   },
   "outputs": [
    {
     "data": {
      "text/plain": [
       "Index(['MALAT1', 'B2M', 'TMSB4X', 'RPL10', 'RPL13', 'RPL13A', 'RPS6', 'RPS18',\n",
       "       'RPS2', 'RPS3',\n",
       "       ...\n",
       "       'AKR1C3', 'AKR1E2', 'ZMYND19', 'NOXA1', 'TOR4A', 'C9orf169', 'TPRN',\n",
       "       'LRRC26', 'UAP1L1', 'AK8'],\n",
       "      dtype='object', name='index', length=13714)"
      ]
     },
     "metadata": {},
     "output_type": "display_data"
    },
    {
     "name": "stdout",
     "output_type": "stream",
     "text": [
      "13714\n",
      "####################\n"
     ]
    },
    {
     "data": {
      "text/html": [
       "<div>\n",
       "<style scoped>\n",
       "    .dataframe tbody tr th:only-of-type {\n",
       "        vertical-align: middle;\n",
       "    }\n",
       "\n",
       "    .dataframe tbody tr th {\n",
       "        vertical-align: top;\n",
       "    }\n",
       "\n",
       "    .dataframe thead th {\n",
       "        text-align: right;\n",
       "    }\n",
       "</style>\n",
       "<table border=\"1\" class=\"dataframe\">\n",
       "  <thead>\n",
       "    <tr style=\"text-align: right;\">\n",
       "      <th></th>\n",
       "      <th>t</th>\n",
       "      <th>p</th>\n",
       "      <th>lfc</th>\n",
       "    </tr>\n",
       "    <tr>\n",
       "      <th>index</th>\n",
       "      <th></th>\n",
       "      <th></th>\n",
       "      <th></th>\n",
       "    </tr>\n",
       "  </thead>\n",
       "  <tbody>\n",
       "    <tr>\n",
       "      <th>MALAT1</th>\n",
       "      <td>8.505903</td>\n",
       "      <td>0.001048</td>\n",
       "      <td>0.587097</td>\n",
       "    </tr>\n",
       "    <tr>\n",
       "      <th>B2M</th>\n",
       "      <td>30.250931</td>\n",
       "      <td>0.000007</td>\n",
       "      <td>0.689751</td>\n",
       "    </tr>\n",
       "    <tr>\n",
       "      <th>TMSB4X</th>\n",
       "      <td>10.377681</td>\n",
       "      <td>0.000487</td>\n",
       "      <td>0.849995</td>\n",
       "    </tr>\n",
       "    <tr>\n",
       "      <th>RPL10</th>\n",
       "      <td>4.494062</td>\n",
       "      <td>0.010872</td>\n",
       "      <td>0.349595</td>\n",
       "    </tr>\n",
       "    <tr>\n",
       "      <th>RPL13</th>\n",
       "      <td>5.548563</td>\n",
       "      <td>0.005162</td>\n",
       "      <td>0.399405</td>\n",
       "    </tr>\n",
       "    <tr>\n",
       "      <th>...</th>\n",
       "      <td>...</td>\n",
       "      <td>...</td>\n",
       "      <td>...</td>\n",
       "    </tr>\n",
       "    <tr>\n",
       "      <th>C9orf169</th>\n",
       "      <td>-1.0</td>\n",
       "      <td>0.373901</td>\n",
       "      <td>-0.415037</td>\n",
       "    </tr>\n",
       "    <tr>\n",
       "      <th>TPRN</th>\n",
       "      <td>-1.0</td>\n",
       "      <td>0.373901</td>\n",
       "      <td>-0.415037</td>\n",
       "    </tr>\n",
       "    <tr>\n",
       "      <th>LRRC26</th>\n",
       "      <td>NaN</td>\n",
       "      <td>NaN</td>\n",
       "      <td>0.0</td>\n",
       "    </tr>\n",
       "    <tr>\n",
       "      <th>UAP1L1</th>\n",
       "      <td>-0.707107</td>\n",
       "      <td>0.518519</td>\n",
       "      <td>-0.321928</td>\n",
       "    </tr>\n",
       "    <tr>\n",
       "      <th>AK8</th>\n",
       "      <td>-2.0</td>\n",
       "      <td>0.116117</td>\n",
       "      <td>-1.222392</td>\n",
       "    </tr>\n",
       "  </tbody>\n",
       "</table>\n",
       "<p>13714 rows × 3 columns</p>\n",
       "</div>"
      ],
      "text/plain": [
       "                  t         p       lfc\n",
       "index                                  \n",
       "MALAT1     8.505903  0.001048  0.587097\n",
       "B2M       30.250931  0.000007  0.689751\n",
       "TMSB4X    10.377681  0.000487  0.849995\n",
       "RPL10      4.494062  0.010872  0.349595\n",
       "RPL13      5.548563  0.005162  0.399405\n",
       "...             ...       ...       ...\n",
       "C9orf169       -1.0  0.373901 -0.415037\n",
       "TPRN           -1.0  0.373901 -0.415037\n",
       "LRRC26          NaN       NaN       0.0\n",
       "UAP1L1    -0.707107  0.518519 -0.321928\n",
       "AK8            -2.0  0.116117 -1.222392\n",
       "\n",
       "[13714 rows x 3 columns]"
      ]
     },
     "metadata": {},
     "output_type": "display_data"
    }
   ],
   "source": [
    "display(data.index)\n",
    "print(len(data.index))\n",
    "print(\"#\" * 20)\n",
    "\n",
    "# all genes t-tests\n",
    "PSEUDOCOUNT = 1\n",
    "results = pd.DataFrame(index=data.index,\n",
    "                       columns=['t', 'p', 'lfc'])\n",
    "for gene in data.index:\n",
    "    t_stat, pvalue = ttest_ind(data.loc[gene, COND1], data.loc[gene, COND2])\n",
    "    lfc = np.log2((data.loc[gene, COND1].mean()+PSEUDOCOUNT) /\n",
    "                  (data.loc[gene, COND2].mean()+PSEUDOCOUNT))\n",
    "    results.loc[gene, 't'] = t_stat\n",
    "    results.loc[gene, 'p'] = pvalue\n",
    "    results.loc[gene, 'lfc'] = lfc\n",
    "\n",
    "display(results)"
   ]
  },
  {
   "cell_type": "markdown",
   "metadata": {
    "id": "J5brF3iouawl"
   },
   "source": [
    "**Ranking discoveries by either significance or fold change**\n",
    "\n",
    "For each gene, we have obtained:\n",
    "- a t-statistic\n",
    "- a p-value for the difference between the 2 conditions\n",
    "- a log2 fold change between CD4 T cells and B cells\n",
    "\n",
    "We can inspect how fold changes relate to the significance of the differences. \n",
    "\n",
    "**(1 pt)** What do you expect the relationship to be between significance/p-values and fold changes?\n",
    "\n",
    "    The bigger the fold change is from 0, the bigger the p-value.\n",
    " \n"
   ]
  },
  {
   "cell_type": "code",
   "execution_count": 32,
   "metadata": {
    "ExecuteTime": {
     "end_time": "2021-10-17T07:01:35.564764Z",
     "start_time": "2021-10-17T07:01:35.440766Z"
    },
    "colab": {
     "base_uri": "https://localhost:8080/",
     "height": 279
    },
    "id": "2-MATQB2Qxhn",
    "outputId": "4952e3a6-6a90-4486-8fdc-c951a378a99c"
   },
   "outputs": [
    {
     "data": {
      "image/png": "[encoded data removed]",
      "text/plain": [
       "<Figure size 432x288 with 1 Axes>"
      ]
     },
     "metadata": {
      "needs_background": "light"
     },
     "output_type": "display_data"
    }
   ],
   "source": [
    "# volcano plot\n",
    "######\n",
    "results['p'] = results['p'].fillna(1)\n",
    "\n",
    "PS2 = 1e-7\n",
    "plt.scatter(results['lfc'], -np.log10(results['p']+PS2),\n",
    "            s=5, alpha=0.5, color='black')\n",
    "plt.xlabel('Log2 fold change (CD4 T cells/B cells)')\n",
    "plt.ylabel('-log10(p-value)')\n",
    "plt.show()"
   ]
  },
  {
   "cell_type": "markdown",
   "metadata": {
    "id": "CZQrBGNjwLaM"
   },
   "source": [
    "**Multiple testing correction**\n",
    "\n",
    "Now, we will explore how the number of differentially active genes differs depending on how we correct for multiple tests.\n",
    "\n",
    "**(1 pt)** How many genes pass the significance level of 0.05, without performing any correction for multiple testing?\n",
    "\n",
    "    1607"
   ]
  },
  {
   "cell_type": "code",
   "execution_count": 33,
   "metadata": {
    "ExecuteTime": {
     "end_time": "2021-10-17T07:01:35.579765Z",
     "start_time": "2021-10-17T07:01:35.566765Z"
    },
    "id": "WOO1tsl9wf0Y"
   },
   "outputs": [
    {
     "name": "stdout",
     "output_type": "stream",
     "text": [
      "1607\n"
     ]
    },
    {
     "data": {
      "text/html": [
       "<div>\n",
       "<style scoped>\n",
       "    .dataframe tbody tr th:only-of-type {\n",
       "        vertical-align: middle;\n",
       "    }\n",
       "\n",
       "    .dataframe tbody tr th {\n",
       "        vertical-align: top;\n",
       "    }\n",
       "\n",
       "    .dataframe thead th {\n",
       "        text-align: right;\n",
       "    }\n",
       "</style>\n",
       "<table border=\"1\" class=\"dataframe\">\n",
       "  <thead>\n",
       "    <tr style=\"text-align: right;\">\n",
       "      <th></th>\n",
       "      <th>t</th>\n",
       "      <th>p</th>\n",
       "      <th>lfc</th>\n",
       "    </tr>\n",
       "    <tr>\n",
       "      <th>index</th>\n",
       "      <th></th>\n",
       "      <th></th>\n",
       "      <th></th>\n",
       "    </tr>\n",
       "  </thead>\n",
       "  <tbody>\n",
       "    <tr>\n",
       "      <th>IL7R</th>\n",
       "      <td>9.661191</td>\n",
       "      <td>0.000642</td>\n",
       "      <td>3.296617</td>\n",
       "    </tr>\n",
       "  </tbody>\n",
       "</table>\n",
       "</div>"
      ],
      "text/plain": [
       "              t         p       lfc\n",
       "index                              \n",
       "IL7R   9.661191  0.000642  3.296617"
      ]
     },
     "metadata": {},
     "output_type": "display_data"
    }
   ],
   "source": [
    "ALPHA = 0.05\n",
    "print((results['p'] <= ALPHA).sum())\n",
    "display(results[results.index == GENE])"
   ]
  },
  {
   "cell_type": "markdown",
   "metadata": {
    "id": "vYFu2uQuzNw3"
   },
   "source": [
    "We will use a function that adjusts our p-values using different methods, called \"multipletests\". You can read about it here: https://www.statsmodels.org/dev/generated/statsmodels.stats.multitest.multipletests.html\n",
    "\n",
    "We will use the following settings:\n",
    "- for Bonferroni correction, we set method='bonferroni'. This will multiply our p-values by the number of tests we did. If the resulting values are greated than 1 they will be clipped to 1.\n",
    "- for Benjamini-Hochberg correction, we set method='fdr_bh'"
   ]
  },
  {
   "cell_type": "markdown",
   "metadata": {
    "id": "GGJYXFOEwsDR"
   },
   "source": [
    "The Bonferroni Correction - Clearly Explained: https://youtu.be/HLzS5wPqWR0?t=220\n",
    "\n",
    "What is the Bonferroni Correction?: https://www.youtube.com/watch?v=rMuNniCTsOw\n",
    "\n",
    "**(2 pts)** How many genes pass the significance level of 0.05, after correcting for multiple testing using the Bonferroni method? What is the revised p-value threshold?\n",
    "\n",
    "    63 genes pass the significance level of 0.05. The revised p-value threshold is .05/13714 = 3.6*10^-6\n",
    "    Use 13714 for the number of tests because that's how the python implementation works...\n",
    "    Equation: \n",
    "        Bonferroni corrected alpha = alpha / k \n",
    "        where k is the number of tests\n",
    "\n",
    "**(1 pt)** Would the gene we tested before, IL7R, pass this threshold?\n",
    "\n",
    "    Yes, using the method of multiplying the p-value by the number of tests, you get corrected p-value greater than 1.\n",
    "    1 >= alpha (alpha = 0.05)\n",
    "    "
   ]
  },
  {
   "cell_type": "code",
   "execution_count": 34,
   "metadata": {
    "ExecuteTime": {
     "end_time": "2021-10-17T07:01:36.055764Z",
     "start_time": "2021-10-17T07:01:35.581766Z"
    },
    "id": "-3eBU0XIw8CV",
    "scrolled": false
   },
   "outputs": [
    {
     "data": {
      "image/png": "[encoded data removed]",
      "text/plain": [
       "<Figure size 432x288 with 1 Axes>"
      ]
     },
     "metadata": {
      "needs_background": "light"
     },
     "output_type": "display_data"
    },
    {
     "data": {
      "image/png": "[encoded data removed]",
      "text/plain": [
       "<Figure size 432x288 with 1 Axes>"
      ]
     },
     "metadata": {
      "needs_background": "light"
     },
     "output_type": "display_data"
    },
    {
     "name": "stdout",
     "output_type": "stream",
     "text": [
      "DE Bonferroni 63\n",
      "Alpha: 0.05\n"
     ]
    },
    {
     "data": {
      "text/html": [
       "<div>\n",
       "<style scoped>\n",
       "    .dataframe tbody tr th:only-of-type {\n",
       "        vertical-align: middle;\n",
       "    }\n",
       "\n",
       "    .dataframe tbody tr th {\n",
       "        vertical-align: top;\n",
       "    }\n",
       "\n",
       "    .dataframe thead th {\n",
       "        text-align: right;\n",
       "    }\n",
       "</style>\n",
       "<table border=\"1\" class=\"dataframe\">\n",
       "  <thead>\n",
       "    <tr style=\"text-align: right;\">\n",
       "      <th></th>\n",
       "      <th>p</th>\n",
       "      <th>p.adj.bonferroni</th>\n",
       "    </tr>\n",
       "    <tr>\n",
       "      <th>index</th>\n",
       "      <th></th>\n",
       "      <th></th>\n",
       "    </tr>\n",
       "  </thead>\n",
       "  <tbody>\n",
       "    <tr>\n",
       "      <th>MALAT1</th>\n",
       "      <td>0.001048</td>\n",
       "      <td>1.000000</td>\n",
       "    </tr>\n",
       "    <tr>\n",
       "      <th>B2M</th>\n",
       "      <td>0.000007</td>\n",
       "      <td>0.097545</td>\n",
       "    </tr>\n",
       "    <tr>\n",
       "      <th>TMSB4X</th>\n",
       "      <td>0.000487</td>\n",
       "      <td>1.000000</td>\n",
       "    </tr>\n",
       "    <tr>\n",
       "      <th>RPL10</th>\n",
       "      <td>0.010872</td>\n",
       "      <td>1.000000</td>\n",
       "    </tr>\n",
       "    <tr>\n",
       "      <th>RPL13</th>\n",
       "      <td>0.005162</td>\n",
       "      <td>1.000000</td>\n",
       "    </tr>\n",
       "    <tr>\n",
       "      <th>...</th>\n",
       "      <td>...</td>\n",
       "      <td>...</td>\n",
       "    </tr>\n",
       "    <tr>\n",
       "      <th>C9orf169</th>\n",
       "      <td>0.373901</td>\n",
       "      <td>1.000000</td>\n",
       "    </tr>\n",
       "    <tr>\n",
       "      <th>TPRN</th>\n",
       "      <td>0.373901</td>\n",
       "      <td>1.000000</td>\n",
       "    </tr>\n",
       "    <tr>\n",
       "      <th>LRRC26</th>\n",
       "      <td>1.000000</td>\n",
       "      <td>1.000000</td>\n",
       "    </tr>\n",
       "    <tr>\n",
       "      <th>UAP1L1</th>\n",
       "      <td>0.518519</td>\n",
       "      <td>1.000000</td>\n",
       "    </tr>\n",
       "    <tr>\n",
       "      <th>AK8</th>\n",
       "      <td>0.116117</td>\n",
       "      <td>1.000000</td>\n",
       "    </tr>\n",
       "  </tbody>\n",
       "</table>\n",
       "<p>13714 rows × 2 columns</p>\n",
       "</div>"
      ],
      "text/plain": [
       "                 p  p.adj.bonferroni\n",
       "index                               \n",
       "MALAT1    0.001048          1.000000\n",
       "B2M       0.000007          0.097545\n",
       "TMSB4X    0.000487          1.000000\n",
       "RPL10     0.010872          1.000000\n",
       "RPL13     0.005162          1.000000\n",
       "...            ...               ...\n",
       "C9orf169  0.373901          1.000000\n",
       "TPRN      0.373901          1.000000\n",
       "LRRC26    1.000000          1.000000\n",
       "UAP1L1    0.518519          1.000000\n",
       "AK8       0.116117          1.000000\n",
       "\n",
       "[13714 rows x 2 columns]"
      ]
     },
     "metadata": {},
     "output_type": "display_data"
    },
    {
     "name": "stdout",
     "output_type": "stream",
     "text": [
      "Describe\n"
     ]
    },
    {
     "data": {
      "text/html": [
       "<div>\n",
       "<style scoped>\n",
       "    .dataframe tbody tr th:only-of-type {\n",
       "        vertical-align: middle;\n",
       "    }\n",
       "\n",
       "    .dataframe tbody tr th {\n",
       "        vertical-align: top;\n",
       "    }\n",
       "\n",
       "    .dataframe thead th {\n",
       "        text-align: right;\n",
       "    }\n",
       "</style>\n",
       "<table border=\"1\" class=\"dataframe\">\n",
       "  <thead>\n",
       "    <tr style=\"text-align: right;\">\n",
       "      <th></th>\n",
       "      <th>p</th>\n",
       "      <th>p.adj.bonferroni</th>\n",
       "    </tr>\n",
       "  </thead>\n",
       "  <tbody>\n",
       "    <tr>\n",
       "      <th>count</th>\n",
       "      <td>13714.000000</td>\n",
       "      <td>13714.000000</td>\n",
       "    </tr>\n",
       "    <tr>\n",
       "      <th>mean</th>\n",
       "      <td>0.457995</td>\n",
       "      <td>0.994119</td>\n",
       "    </tr>\n",
       "    <tr>\n",
       "      <th>std</th>\n",
       "      <td>0.334468</td>\n",
       "      <td>0.074063</td>\n",
       "    </tr>\n",
       "    <tr>\n",
       "      <th>min</th>\n",
       "      <td>0.000000</td>\n",
       "      <td>0.000000</td>\n",
       "    </tr>\n",
       "    <tr>\n",
       "      <th>25%</th>\n",
       "      <td>0.158302</td>\n",
       "      <td>1.000000</td>\n",
       "    </tr>\n",
       "    <tr>\n",
       "      <th>50%</th>\n",
       "      <td>0.373901</td>\n",
       "      <td>1.000000</td>\n",
       "    </tr>\n",
       "    <tr>\n",
       "      <th>75%</th>\n",
       "      <td>0.724659</td>\n",
       "      <td>1.000000</td>\n",
       "    </tr>\n",
       "    <tr>\n",
       "      <th>max</th>\n",
       "      <td>1.000000</td>\n",
       "      <td>1.000000</td>\n",
       "    </tr>\n",
       "  </tbody>\n",
       "</table>\n",
       "</div>"
      ],
      "text/plain": [
       "                  p  p.adj.bonferroni\n",
       "count  13714.000000      13714.000000\n",
       "mean       0.457995          0.994119\n",
       "std        0.334468          0.074063\n",
       "min        0.000000          0.000000\n",
       "25%        0.158302          1.000000\n",
       "50%        0.373901          1.000000\n",
       "75%        0.724659          1.000000\n",
       "max        1.000000          1.000000"
      ]
     },
     "metadata": {},
     "output_type": "display_data"
    },
    {
     "name": "stdout",
     "output_type": "stream",
     "text": [
      "df_p_and_p_adj_threshold\n"
     ]
    },
    {
     "data": {
      "text/html": [
       "<div>\n",
       "<style scoped>\n",
       "    .dataframe tbody tr th:only-of-type {\n",
       "        vertical-align: middle;\n",
       "    }\n",
       "\n",
       "    .dataframe tbody tr th {\n",
       "        vertical-align: top;\n",
       "    }\n",
       "\n",
       "    .dataframe thead th {\n",
       "        text-align: right;\n",
       "    }\n",
       "</style>\n",
       "<table border=\"1\" class=\"dataframe\">\n",
       "  <thead>\n",
       "    <tr style=\"text-align: right;\">\n",
       "      <th></th>\n",
       "      <th>p</th>\n",
       "      <th>p.adj.bonferroni</th>\n",
       "    </tr>\n",
       "    <tr>\n",
       "      <th>index</th>\n",
       "      <th></th>\n",
       "      <th></th>\n",
       "    </tr>\n",
       "  </thead>\n",
       "  <tbody>\n",
       "    <tr>\n",
       "      <th>S100A4</th>\n",
       "      <td>4.045699e-07</td>\n",
       "      <td>0.005548</td>\n",
       "    </tr>\n",
       "    <tr>\n",
       "      <th>CD7</th>\n",
       "      <td>1.773449e-06</td>\n",
       "      <td>0.024321</td>\n",
       "    </tr>\n",
       "    <tr>\n",
       "      <th>HLA-DRA</th>\n",
       "      <td>2.884188e-06</td>\n",
       "      <td>0.039554</td>\n",
       "    </tr>\n",
       "    <tr>\n",
       "      <th>HLA-DPB1</th>\n",
       "      <td>1.652882e-06</td>\n",
       "      <td>0.022668</td>\n",
       "    </tr>\n",
       "    <tr>\n",
       "      <th>HLA-DQA2</th>\n",
       "      <td>7.526898e-07</td>\n",
       "      <td>0.010322</td>\n",
       "    </tr>\n",
       "    <tr>\n",
       "      <th>...</th>\n",
       "      <td>...</td>\n",
       "      <td>...</td>\n",
       "    </tr>\n",
       "    <tr>\n",
       "      <th>RP11-326C3.12</th>\n",
       "      <td>0.000000e+00</td>\n",
       "      <td>0.000000</td>\n",
       "    </tr>\n",
       "    <tr>\n",
       "      <th>TBC1D12</th>\n",
       "      <td>0.000000e+00</td>\n",
       "      <td>0.000000</td>\n",
       "    </tr>\n",
       "    <tr>\n",
       "      <th>NUDT13</th>\n",
       "      <td>0.000000e+00</td>\n",
       "      <td>0.000000</td>\n",
       "    </tr>\n",
       "    <tr>\n",
       "      <th>ZNF485</th>\n",
       "      <td>0.000000e+00</td>\n",
       "      <td>0.000000</td>\n",
       "    </tr>\n",
       "    <tr>\n",
       "      <th>CACFD1</th>\n",
       "      <td>0.000000e+00</td>\n",
       "      <td>0.000000</td>\n",
       "    </tr>\n",
       "  </tbody>\n",
       "</table>\n",
       "<p>63 rows × 2 columns</p>\n",
       "</div>"
      ],
      "text/plain": [
       "                          p  p.adj.bonferroni\n",
       "index                                        \n",
       "S100A4         4.045699e-07          0.005548\n",
       "CD7            1.773449e-06          0.024321\n",
       "HLA-DRA        2.884188e-06          0.039554\n",
       "HLA-DPB1       1.652882e-06          0.022668\n",
       "HLA-DQA2       7.526898e-07          0.010322\n",
       "...                     ...               ...\n",
       "RP11-326C3.12  0.000000e+00          0.000000\n",
       "TBC1D12        0.000000e+00          0.000000\n",
       "NUDT13         0.000000e+00          0.000000\n",
       "ZNF485         0.000000e+00          0.000000\n",
       "CACFD1         0.000000e+00          0.000000\n",
       "\n",
       "[63 rows x 2 columns]"
      ]
     },
     "metadata": {},
     "output_type": "display_data"
    },
    {
     "name": "stdout",
     "output_type": "stream",
     "text": [
      "Did Gene IL7R pass alpha? False\n",
      "Is Gene IL7R in results? True\n"
     ]
    },
    {
     "data": {
      "text/html": [
       "<div>\n",
       "<style scoped>\n",
       "    .dataframe tbody tr th:only-of-type {\n",
       "        vertical-align: middle;\n",
       "    }\n",
       "\n",
       "    .dataframe tbody tr th {\n",
       "        vertical-align: top;\n",
       "    }\n",
       "\n",
       "    .dataframe thead th {\n",
       "        text-align: right;\n",
       "    }\n",
       "</style>\n",
       "<table border=\"1\" class=\"dataframe\">\n",
       "  <thead>\n",
       "    <tr style=\"text-align: right;\">\n",
       "      <th></th>\n",
       "      <th>p</th>\n",
       "      <th>p.adj.bonferroni</th>\n",
       "    </tr>\n",
       "    <tr>\n",
       "      <th>index</th>\n",
       "      <th></th>\n",
       "      <th></th>\n",
       "    </tr>\n",
       "  </thead>\n",
       "  <tbody>\n",
       "    <tr>\n",
       "      <th>IL7R</th>\n",
       "      <td>0.000642</td>\n",
       "      <td>1.0</td>\n",
       "    </tr>\n",
       "  </tbody>\n",
       "</table>\n",
       "</div>"
      ],
      "text/plain": [
       "              p  p.adj.bonferroni\n",
       "index                            \n",
       "IL7R   0.000642               1.0"
      ]
     },
     "metadata": {},
     "output_type": "display_data"
    }
   ],
   "source": [
    "# pd.set_option('display.max_rows', 100)\n",
    "\n",
    "# multiple testing correction\n",
    "\n",
    "# bonferroni\n",
    "from statsmodels.stats.multitest import multipletests\n",
    "results['p.adj.bonferroni'] = multipletests(\n",
    "    results['p'], \n",
    "    method='bonferroni')[1]\n",
    "\n",
    "# False Discovery Rate (Are a tool to weed out bad data the looks good)\n",
    "FDR = ALPHA\n",
    "\n",
    "# Graph 1\n",
    "plt.hist(results['p'], 100)\n",
    "plt.axvline(x=FDR, color='red', linestyle='--')\n",
    "plt.xlabel('Unadjusted p-values')\n",
    "plt.ylabel('Number of genes')\n",
    "plt.show()\n",
    "\n",
    "# Graph 2\n",
    "plt.hist(results['p.adj.bonferroni'], 100)\n",
    "# plt.ylim(0,200)\n",
    "plt.axvline(x=FDR, color='red', linestyle='--')\n",
    "plt.xlabel('P-values (Bonferroni corrected)')\n",
    "plt.ylabel('Number of genes')\n",
    "plt.show()\n",
    "\n",
    "print('DE Bonferroni', (results['p.adj.bonferroni'] <= FDR).sum())\n",
    "print(\"Alpha:\",FDR)\n",
    "df_p_and_p_adj = results[['p', 'p.adj.bonferroni']]\n",
    "display(df_p_and_p_adj)\n",
    "\n",
    "print(\"Describe\")\n",
    "display(df_p_and_p_adj.describe())\n",
    "\n",
    "df_p_and_p_adj_new = df_p_and_p_adj[results['p.adj.bonferroni'] <= FDR]\n",
    "# Df of rows where 'p.adj.bonferroni' <= FDR\n",
    "print(\"df_p_and_p_adj_threshold\")\n",
    "display(df_p_and_p_adj_new)\n",
    "\n",
    "# Recall GENE is \"IL7R\"\n",
    "print(\"Did Gene IL7R pass alpha?\", GENE in df_p_and_p_adj_new.index)\n",
    "\n",
    "print(\"Is Gene IL7R in results?\", GENE in df_p_and_p_adj.index)\n",
    "display(df_p_and_p_adj[df_p_and_p_adj.index == GENE])"
   ]
  },
  {
   "cell_type": "markdown",
   "metadata": {
    "id": "bhi5yXqVxe6q"
   },
   "source": [
    "**(1 pt)** How many genes pass the significance level of 0.05, after correcting for multiple testing using the Benjamini-Hochberg method? \n",
    "\n",
    "    220"
   ]
  },
  {
   "cell_type": "code",
   "execution_count": 35,
   "metadata": {
    "ExecuteTime": {
     "end_time": "2021-10-17T07:01:36.561766Z",
     "start_time": "2021-10-17T07:01:36.057767Z"
    },
    "id": "rT5SEacFMkFq"
   },
   "outputs": [
    {
     "data": {
      "image/png": "[encoded data removed]",
      "text/plain": [
       "<Figure size 432x288 with 1 Axes>"
      ]
     },
     "metadata": {
      "needs_background": "light"
     },
     "output_type": "display_data"
    },
    {
     "data": {
      "image/png": "[encoded data removed]",
      "text/plain": [
       "<Figure size 432x288 with 1 Axes>"
      ]
     },
     "metadata": {
      "needs_background": "light"
     },
     "output_type": "display_data"
    },
    {
     "name": "stdout",
     "output_type": "stream",
     "text": [
      "DE BH 220\n"
     ]
    }
   ],
   "source": [
    "results['p.adj.bh'] = multipletests(results['p'], method='fdr_bh')[1]\n",
    "\n",
    "FDR = 0.05\n",
    "plt.hist(results['p'], 100)\n",
    "plt.axvline(x=FDR, color='red', linestyle='--')\n",
    "plt.xlabel('Unadjusted p-values')\n",
    "plt.ylabel('Number of genes')\n",
    "plt.show()\n",
    "plt.hist(results['p.adj.bh'], 100)\n",
    "plt.ylim(0, 2000)\n",
    "plt.axvline(x=FDR, color='red', linestyle='--')\n",
    "plt.xlabel('P-values (Benjamini-Hochberg corrected)')\n",
    "plt.ylabel('Number of genes')\n",
    "plt.show()\n",
    "\n",
    "print('DE BH', (results['p.adj.bh'] <= FDR).sum())"
   ]
  },
  {
   "cell_type": "markdown",
   "metadata": {
    "id": "sVPbHSXRxwg0"
   },
   "source": [
    "Bonferroni is too strict: https://www.youtube.com/watch?v=E5dJePO8PWs\n",
    "\n",
    "**(1 pt)** Which multiple testing correction is the most stringent? \n",
    "    \n",
    "    Bonferroni, because most of the corrected p-values resulted in a value of 1 or were greater than 1 so then \n",
    "    they were constrained to 1.\n",
    "\n",
    "Finally, let's look at our results. Print the significant differential genes and look up a few on the internet."
   ]
  },
  {
   "cell_type": "code",
   "execution_count": 36,
   "metadata": {
    "ExecuteTime": {
     "end_time": "2021-10-17T07:01:36.577764Z",
     "start_time": "2021-10-17T07:01:36.563764Z"
    },
    "id": "xirIOEPpqfuZ"
   },
   "outputs": [
    {
     "data": {
      "text/html": [
       "<div>\n",
       "<style scoped>\n",
       "    .dataframe tbody tr th:only-of-type {\n",
       "        vertical-align: middle;\n",
       "    }\n",
       "\n",
       "    .dataframe tbody tr th {\n",
       "        vertical-align: top;\n",
       "    }\n",
       "\n",
       "    .dataframe thead th {\n",
       "        text-align: right;\n",
       "    }\n",
       "</style>\n",
       "<table border=\"1\" class=\"dataframe\">\n",
       "  <thead>\n",
       "    <tr style=\"text-align: right;\">\n",
       "      <th></th>\n",
       "      <th>t</th>\n",
       "      <th>p</th>\n",
       "      <th>lfc</th>\n",
       "      <th>p.adj.bonferroni</th>\n",
       "      <th>p.adj.bh</th>\n",
       "    </tr>\n",
       "    <tr>\n",
       "      <th>index</th>\n",
       "      <th></th>\n",
       "      <th></th>\n",
       "      <th></th>\n",
       "      <th></th>\n",
       "      <th></th>\n",
       "    </tr>\n",
       "  </thead>\n",
       "  <tbody>\n",
       "    <tr>\n",
       "      <th>LINC00926</th>\n",
       "      <td>-39.81515</td>\n",
       "      <td>2.377572e-06</td>\n",
       "      <td>-6.0268</td>\n",
       "      <td>0.032606</td>\n",
       "      <td>0.000533</td>\n",
       "    </tr>\n",
       "    <tr>\n",
       "      <th>VPREB3</th>\n",
       "      <td>-39.686585</td>\n",
       "      <td>2.408465e-06</td>\n",
       "      <td>-5.994353</td>\n",
       "      <td>0.033030</td>\n",
       "      <td>0.000533</td>\n",
       "    </tr>\n",
       "    <tr>\n",
       "      <th>HLA-DRA</th>\n",
       "      <td>-37.934082</td>\n",
       "      <td>2.884188e-06</td>\n",
       "      <td>-5.272478</td>\n",
       "      <td>0.039554</td>\n",
       "      <td>0.000628</td>\n",
       "    </tr>\n",
       "    <tr>\n",
       "      <th>HLA-DQA2</th>\n",
       "      <td>-53.104008</td>\n",
       "      <td>7.526898e-07</td>\n",
       "      <td>-5.009984</td>\n",
       "      <td>0.010322</td>\n",
       "      <td>0.000178</td>\n",
       "    </tr>\n",
       "    <tr>\n",
       "      <th>HLA-DPB1</th>\n",
       "      <td>-43.611113</td>\n",
       "      <td>1.652882e-06</td>\n",
       "      <td>-4.356583</td>\n",
       "      <td>0.022668</td>\n",
       "      <td>0.000384</td>\n",
       "    </tr>\n",
       "    <tr>\n",
       "      <th>...</th>\n",
       "      <td>...</td>\n",
       "      <td>...</td>\n",
       "      <td>...</td>\n",
       "      <td>...</td>\n",
       "      <td>...</td>\n",
       "    </tr>\n",
       "    <tr>\n",
       "      <th>SVIL</th>\n",
       "      <td>inf</td>\n",
       "      <td>0.000000e+00</td>\n",
       "      <td>1.584963</td>\n",
       "      <td>0.000000</td>\n",
       "      <td>0.000000</td>\n",
       "    </tr>\n",
       "    <tr>\n",
       "      <th>GPR146</th>\n",
       "      <td>inf</td>\n",
       "      <td>0.000000e+00</td>\n",
       "      <td>2.0</td>\n",
       "      <td>0.000000</td>\n",
       "      <td>0.000000</td>\n",
       "    </tr>\n",
       "    <tr>\n",
       "      <th>KMT2B</th>\n",
       "      <td>inf</td>\n",
       "      <td>0.000000e+00</td>\n",
       "      <td>2.0</td>\n",
       "      <td>0.000000</td>\n",
       "      <td>0.000000</td>\n",
       "    </tr>\n",
       "    <tr>\n",
       "      <th>S100A4</th>\n",
       "      <td>62.029947</td>\n",
       "      <td>4.045699e-07</td>\n",
       "      <td>2.208399</td>\n",
       "      <td>0.005548</td>\n",
       "      <td>0.000097</td>\n",
       "    </tr>\n",
       "    <tr>\n",
       "      <th>CD7</th>\n",
       "      <td>42.848862</td>\n",
       "      <td>1.773449e-06</td>\n",
       "      <td>3.513879</td>\n",
       "      <td>0.024321</td>\n",
       "      <td>0.000405</td>\n",
       "    </tr>\n",
       "  </tbody>\n",
       "</table>\n",
       "<p>63 rows × 5 columns</p>\n",
       "</div>"
      ],
      "text/plain": [
       "                   t             p       lfc  p.adj.bonferroni  p.adj.bh\n",
       "index                                                                   \n",
       "LINC00926  -39.81515  2.377572e-06   -6.0268          0.032606  0.000533\n",
       "VPREB3    -39.686585  2.408465e-06 -5.994353          0.033030  0.000533\n",
       "HLA-DRA   -37.934082  2.884188e-06 -5.272478          0.039554  0.000628\n",
       "HLA-DQA2  -53.104008  7.526898e-07 -5.009984          0.010322  0.000178\n",
       "HLA-DPB1  -43.611113  1.652882e-06 -4.356583          0.022668  0.000384\n",
       "...              ...           ...       ...               ...       ...\n",
       "SVIL             inf  0.000000e+00  1.584963          0.000000  0.000000\n",
       "GPR146           inf  0.000000e+00       2.0          0.000000  0.000000\n",
       "KMT2B            inf  0.000000e+00       2.0          0.000000  0.000000\n",
       "S100A4     62.029947  4.045699e-07  2.208399          0.005548  0.000097\n",
       "CD7        42.848862  1.773449e-06  3.513879          0.024321  0.000405\n",
       "\n",
       "[63 rows x 5 columns]"
      ]
     },
     "execution_count": 36,
     "metadata": {},
     "output_type": "execute_result"
    }
   ],
   "source": [
    "results.loc[results['p.adj.bonferroni'] <= FDR, :].sort_values(by='lfc')"
   ]
  },
  {
   "cell_type": "markdown",
   "metadata": {
    "id": "O7tq8TOn16_y"
   },
   "source": [
    "For example, CD7 is a gene found on T cells, whereas HLA genes are found on B cells."
   ]
  },
  {
   "cell_type": "code",
   "execution_count": null,
   "metadata": {},
   "outputs": [],
   "source": []
  }
 ],
 "metadata": {
  "colab": {
   "collapsed_sections": [],
   "name": "Proj2_stats_notebook.ipynb",
   "provenance": []
  },
  "kernelspec": {
   "display_name": "Python 3.8.11 64-bit Anaconda (Only works with Anaconda's Jupyter)",
   "language": "python",
   "name": "python_3.8.11_64-bit_anaconda"
  },
  "language_info": {
   "codemirror_mode": {
    "name": "ipython",
    "version": 3
   },
   "file_extension": ".py",
   "mimetype": "text/x-python",
   "name": "python",
   "nbconvert_exporter": "python",
   "pygments_lexer": "ipython3",
   "version": "3.8.12"
  },
  "toc": {
   "base_numbering": 1,
   "nav_menu": {},
   "number_sections": true,
   "sideBar": true,
   "skip_h1_title": false,
   "title_cell": "Table of Contents",
   "title_sidebar": "Contents",
   "toc_cell": false,
   "toc_position": {},
   "toc_section_display": true,
   "toc_window_display": false
  }
 },
 "nbformat": 4,
 "nbformat_minor": 1
}
