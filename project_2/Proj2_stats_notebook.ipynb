{
  "nbformat": 4,
  "nbformat_minor": 0,
  "metadata": {
    "colab": {
      "name": "Proj2_stats_notebook.ipynb",
      "provenance": [],
      "collapsed_sections": []
    },
    "kernelspec": {
      "name": "python3",
      "display_name": "Python 3"
    }
  },
  "cells": [
    {
      "cell_type": "markdown",
      "metadata": {
        "id": "B5BwydUSUwMI"
      },
      "source": [
        "## Instructions\n",
        "\n",
        "Please make a copy and rename it with your name (ex: Proj6_Ilmi_Yoon). All grading points should be explored in the notebook but some can be done in a separate pdf file. \n",
        "\n",
        "*Graded questions will be listed with \"Q:\" followed by the corresponding points.* \n",
        "\n",
        "You will be submitting **a pdf** file containing **the url of your own proj6.**\n",
        "\n",
        "\n",
        "---"
      ]
    },
    {
      "cell_type": "markdown",
      "metadata": {
        "id": "CDkeefJmU1eo"
      },
      "source": [
        "**Hypothesis testing**\n",
        "===\n",
        "\n",
        "**Outline**\n",
        "\n",
        "At the end of this week, you will be a pro at:\n",
        "- **hypothesis testing** \n",
        "  *  is there something interesting/meaningful going on in my data?\n",
        "    - one-sample t-test\n",
        "    - two-sample t-test\n",
        "- **correcting for multiple testing**\n",
        "  *  doing thousands of hypothesis tests at a time will increase your likelihood of incorrect conclusions\n",
        "  *  you'll learn how to account for that\n",
        "- **false discovery rates**\n",
        "  *  you could be a perfectionist (\"even one wrong conclusion is the worst\"), aka family-wise error rate (FWER) \n",
        "  *  or become a pragmatic (\"of my significant discoveries, i expect x% of them to be false positives.\"), aka false discovery rate (FDR)\n",
        "- **permutation tests**\n",
        "  *  if your assumptions about your data are wrong, you may over/underestimate your confidence in your conclusions\n",
        "  *  assume as little as possible about the data with a permutation test\n",
        "\n",
        "\n"
      ]
    },
    {
      "cell_type": "markdown",
      "metadata": {
        "id": "W060VxUSEEww"
      },
      "source": [
        "**Examples**\n",
        "\n",
        "In class, we will talk about 3 examples:\n",
        "- confidence intervals\n",
        "  - how much time do Americans spend on average per day on Netflix? \n",
        "\n",
        "- one-sample t-test \n",
        "  - do Americans spend more time on average per day on Netflix compared to before the pandemic?\n",
        "\n",
        "- two-sample t-test \n",
        "  - does exercise affect baseline blood pressure? \n",
        "  \n",
        "\n",
        "\n",
        "**Your project**\n",
        "- RNA sequencing: which genes differentiate the different immune cells in your blood?\n",
        "  - two-sample t-test\n",
        "  - multiple testing correction\n",
        "\n",
        "\n",
        "\n"
      ]
    },
    {
      "cell_type": "markdown",
      "metadata": {
        "id": "sDIvIz8FExOS"
      },
      "source": [
        "**How do you make the best of this week?**\n",
        "- start seeing all statistics reported around you, and think of how they relate to what we have learned. \n",
        "- do rigorous statistics in your work from now on"
      ]
    },
    {
      "cell_type": "markdown",
      "metadata": {
        "id": "oc9sI2hjFOv-"
      },
      "source": [
        "**LET'S BEGIN!**\n",
        "\n",
        "==============================================================="
      ]
    },
    {
      "cell_type": "code",
      "metadata": {
        "id": "mf4OMECoWUyy"
      },
      "source": [
        "#import python packages\n",
        "\n",
        "import numpy as np\n",
        "import scipy as sp\n",
        "import scipy.stats as st\n",
        "import pandas as pd\n",
        "import seaborn as sns\n",
        "import matplotlib.pyplot as plt"
      ],
      "execution_count": null,
      "outputs": []
    },
    {
      "cell_type": "code",
      "metadata": {
        "id": "hrHhGEGUiTPB"
      },
      "source": [
        "rng=np.random.RandomState(1234) #this will ensure the reproducibility of the notebook"
      ],
      "execution_count": null,
      "outputs": []
    },
    {
      "cell_type": "markdown",
      "metadata": {
        "id": "0kCwywmv1hJ3"
      },
      "source": [
        "**EXAMPLE I:** \n",
        "===\n",
        "\n",
        "How much time do subscribers spend on average each day on Netflix?\n",
        "--\n",
        "\n",
        "Example discussed in class (Lecture 1). The data we are working with are simulated, but the mean time spent on Netflix is inspired by https://www.pcmag.com/news/us-netflix-subscribers-watch-32-hours-and-use-96-gb-of-data-per-day (average of 3.2 hours for subscribers).\n",
        "\n",
        "\n"
      ]
    },
    {
      "cell_type": "code",
      "metadata": {
        "colab": {
          "base_uri": "https://localhost:8080/",
          "height": 378
        },
        "id": "SdUAfFDf185T",
        "outputId": "9af36c44-62d8-473b-8442-d0328be3e82c"
      },
      "source": [
        "#Summarizing data\n",
        "#================\n",
        "population=np.array([1,1.8,2,3.2,3.3,4,4,4.2])\n",
        "our_sample=np.array([2,3.2,4])\n",
        "\n",
        "#means\n",
        "population_mean=np.mean(population)\n",
        "print('Population mean',population_mean.round(2))\n",
        "\n",
        "sample_mean=np.mean(our_sample)\n",
        "print('- Sample mean',sample_mean.round(2))\n",
        "\n",
        "#standard deviations\n",
        "population_sd=np.std(population)\n",
        "print('Population standard deviation',population_sd.round(2))\n",
        "#biased sample sd\n",
        "biased_sample_sd=np.sqrt((np.power(our_sample-sample_mean,2).sum())/our_sample.shape[0])\n",
        "print('- Biased sample standard deviation',biased_sample_sd.round(2))\n",
        "#unbiased sample sd\n",
        "unbiased_sample_sd=np.sqrt((np.power(our_sample-sample_mean,2).sum())/(our_sample.shape[0]-1))\n",
        "print('- Unbiased sample standard deviation',unbiased_sample_sd.round(2))\n",
        "\n",
        "plt.hist(population,range(0,6),color='black')\n",
        "plt.yticks([0,1,2])\n",
        "plt.xlabel('Number of hours spent\\nper day on Netflix')\n",
        "plt.ylabel('Number of observations')\n",
        "plt.show()"
      ],
      "execution_count": null,
      "outputs": [
        {
          "output_type": "stream",
          "name": "stdout",
          "text": [
            "Population mean 2.94\n",
            "- Sample mean 3.07\n",
            "Population standard deviation 1.12\n",
            "- Biased sample standard deviation 0.82\n",
            "- Unbiased sample standard deviation 1.01\n"
          ]
        },
        {
          "output_type": "display_data",
          "data": {
            "image/png": "[encoded data removed]",
            "text/plain": [
              "<Figure size 432x288 with 1 Axes>"
            ]
          },
          "metadata": {
            "needs_background": "light"
          }
        }
      ]
    },
    {
      "cell_type": "code",
      "metadata": {
        "colab": {
          "base_uri": "https://localhost:8080/"
        },
        "id": "KSPSqEdj4TTO",
        "outputId": "ee6756c9-b489-4e6a-8e4d-0211a22447bf"
      },
      "source": [
        "#larger example\n",
        "\n",
        "MEAN_NETFLIX=3.2\n",
        "SD_NETFLIX=1\n",
        "population=rng.normal(loc=MEAN_NETFLIX, \n",
        "                            scale=SD_NETFLIX, \n",
        "                            size=1000)\n",
        "population[population<0]=0\n",
        "our_sample=population[0:100]\n",
        "\n",
        "#means\n",
        "population_mean=np.mean(population)\n",
        "print('Population mean',population_mean.round(2))\n",
        "\n",
        "sample_mean=np.mean(our_sample)\n",
        "print('- Sample mean',sample_mean.round(2))\n",
        "\n",
        "#standard deviations\n",
        "population_sd=np.std(population)\n",
        "print('Population standard deviation',population_sd.round(2))\n",
        "#biased sample sd\n",
        "biased_sample_sd=np.sqrt((np.power(our_sample-sample_mean,2).sum())/our_sample.shape[0])\n",
        "print('- Biased sample standard deviation',biased_sample_sd.round(2))\n",
        "#unbiased sample sd\n",
        "unbiased_sample_sd=np.sqrt((np.power(our_sample-sample_mean,2).sum())/(our_sample.shape[0]-1))\n",
        "print('- Unbiased sample standard deviation',unbiased_sample_sd.round(2))"
      ],
      "execution_count": null,
      "outputs": [
        {
          "output_type": "stream",
          "name": "stdout",
          "text": [
            "Population mean 3.2\n",
            "- Sample mean 3.08\n",
            "Population standard deviation 1.01\n",
            "- Biased sample standard deviation 1.02\n",
            "- Unbiased sample standard deviation 1.03\n"
          ]
        }
      ]
    },
    {
      "cell_type": "code",
      "metadata": {
        "colab": {
          "base_uri": "https://localhost:8080/",
          "height": 1000
        },
        "id": "uh0DWJRc7Gvo",
        "outputId": "ac30c165-d36f-40e8-9efa-93aa8b2bb1e0"
      },
      "source": [
        "#representing sets of datapoints\n",
        "#===============================\n",
        "\n",
        "#histograms\n",
        "plt.hist(population,[x*0.6 for x in range(10)],color='lightgray',edgecolor='black')\n",
        "plt.xlabel('Number of hours spent on Netflix\\nper day',fontsize=15)\n",
        "plt.ylabel('Number of respondents',fontsize=15)\n",
        "plt.xlim(0,6)\n",
        "plt.show()\n",
        "\n",
        "plt.hist(our_sample,[x*0.6 for x in range(10)],color='lightblue',edgecolor='black')\n",
        "plt.xlabel('Number of hours spent on Netflix\\nper day',fontsize=15)\n",
        "plt.ylabel('Number of respondents',fontsize=15)\n",
        "plt.xlim(0,6)\n",
        "plt.show()\n",
        "\n",
        "#densities\n",
        "sns.distplot(population, hist=True, kde=True, \n",
        "             bins=[x*0.6 for x in range(10)], color = 'black', \n",
        "             hist_kws={'edgecolor':'black','color':'black'},\n",
        "             kde_kws={'linewidth': 4})\n",
        "plt.xlabel('Number of hours spent on Netflix\\nper day',fontsize=15)\n",
        "plt.ylabel('Density',fontsize=15)\n",
        "plt.xlim(0,6)\n",
        "plt.show()\n",
        "\n",
        "sns.distplot(our_sample, hist=True, kde=True, \n",
        "             bins=[x*0.6 for x in range(10)], color = 'blue', \n",
        "             hist_kws={'edgecolor':'black','color':'lightblue'},\n",
        "             kde_kws={'linewidth': 4})\n",
        "plt.xlabel('Number of hours spent on Netflix\\nper day',fontsize=15)\n",
        "plt.ylabel('Density',fontsize=15)\n",
        "plt.xlim(0,6)\n",
        "plt.show()\n",
        "#put both data in the same plot\n",
        "fig,plots=plt.subplots(1)\n",
        "sns.distplot(population, hist=False, kde=True, \n",
        "             bins=[x*0.6 for x in range(10)], color = 'black', \n",
        "             hist_kws={'edgecolor':'black','color':'black'},\n",
        "             kde_kws={'linewidth': 4},ax=plots)\n",
        "plots.set_xlim(0,6)\n",
        "sns.distplot(our_sample, hist=False, kde=True, \n",
        "             bins=[x*0.6 for x in range(10)], color = 'blue', \n",
        "             hist_kws={'edgecolor':'black','color':'black'},\n",
        "             kde_kws={'linewidth': 4},ax=plots)\n",
        "plots.set_xlabel('Number of hours spent on Netflix\\nper day',fontsize=15)\n",
        "plots.set_ylabel('Density',fontsize=15)\n",
        "x = plots.lines[-1].get_xdata()\n",
        "y = plots.lines[-1].get_ydata()\n",
        "plots.fill_between(x, 0, y, where=x < 2, color='lightblue', alpha=0.3)\n",
        "plt.xlim(0,6)\n",
        "plt.show()\n",
        "\n"
      ],
      "execution_count": null,
      "outputs": [
        {
          "output_type": "display_data",
          "data": {
            "image/png": "[encoded data removed]",
            "text/plain": [
              "<Figure size 432x288 with 1 Axes>"
            ]
          },
          "metadata": {
            "needs_background": "light"
          }
        },
        {
          "output_type": "display_data",
          "data": {
            "image/png": "[encoded data removed]",
            "text/plain": [
              "<Figure size 432x288 with 1 Axes>"
            ]
          },
          "metadata": {
            "needs_background": "light"
          }
        },
        {
          "output_type": "stream",
          "name": "stderr",
          "text": [
            "/usr/local/lib/python3.7/dist-packages/seaborn/distributions.py:2619: FutureWarning: `distplot` is a deprecated function and will be removed in a future version. Please adapt your code to use either `displot` (a figure-level function with similar flexibility) or `histplot` (an axes-level function for histograms).\n",
            "  warnings.warn(msg, FutureWarning)\n"
          ]
        },
        {
          "output_type": "display_data",
          "data": {
            "image/png": "[encoded data removed]",
            "text/plain": [
              "<Figure size 432x288 with 1 Axes>"
            ]
          },
          "metadata": {
            "needs_background": "light"
          }
        },
        {
          "output_type": "stream",
          "name": "stderr",
          "text": [
            "/usr/local/lib/python3.7/dist-packages/seaborn/distributions.py:2619: FutureWarning: `distplot` is a deprecated function and will be removed in a future version. Please adapt your code to use either `displot` (a figure-level function with similar flexibility) or `histplot` (an axes-level function for histograms).\n",
            "  warnings.warn(msg, FutureWarning)\n"
          ]
        },
        {
          "output_type": "display_data",
          "data": {
            "image/png": "[encoded data removed]",
            "text/plain": [
              "<Figure size 432x288 with 1 Axes>"
            ]
          },
          "metadata": {
            "needs_background": "light"
          }
        },
        {
          "output_type": "stream",
          "name": "stderr",
          "text": [
            "/usr/local/lib/python3.7/dist-packages/seaborn/distributions.py:2619: FutureWarning: `distplot` is a deprecated function and will be removed in a future version. Please adapt your code to use either `displot` (a figure-level function with similar flexibility) or `kdeplot` (an axes-level function for kernel density plots).\n",
            "  warnings.warn(msg, FutureWarning)\n",
            "/usr/local/lib/python3.7/dist-packages/seaborn/distributions.py:2619: FutureWarning: `distplot` is a deprecated function and will be removed in a future version. Please adapt your code to use either `displot` (a figure-level function with similar flexibility) or `kdeplot` (an axes-level function for kernel density plots).\n",
            "  warnings.warn(msg, FutureWarning)\n"
          ]
        },
        {
          "output_type": "display_data",
          "data": {
            "image/png": "[encoded data removed]",
            "text/plain": [
              "<Figure size 432x288 with 1 Axes>"
            ]
          },
          "metadata": {
            "needs_background": "light"
          }
        }
      ]
    },
    {
      "cell_type": "code",
      "metadata": {
        "colab": {
          "base_uri": "https://localhost:8080/",
          "height": 374
        },
        "id": "fJ4sqUMzbqqS",
        "outputId": "feb73f9e-7c8d-48f2-b20f-ffe9967daf4c"
      },
      "source": [
        "\n",
        "#put both data in the same plot\n",
        "fig,plots=plt.subplots(1)\n",
        "sns.distplot(population, hist=False, kde=True, \n",
        "             bins=[x*0.6 for x in range(10)], color = 'black', \n",
        "             hist_kws={'edgecolor':'black','color':'black'},\n",
        "             kde_kws={'linewidth': 4},ax=plots)\n",
        "plots.set_xlim(0,6)\n",
        "x = plots.lines[-1].get_xdata()\n",
        "y = plots.lines[-1].get_ydata()\n",
        "plots.fill_between(x, 0, y, where=(x < 4) & (x>2), color='gray', alpha=0.3)\n",
        "plt.xlim(0,6)\n",
        "plots.set_xlabel('Number of hours spent on Netflix\\nper day',fontsize=15)\n",
        "plots.set_ylabel('Density',fontsize=15)\n",
        "plt.show()\n",
        "\n",
        "np.multiply((population<=4),(population>=2)).sum()/population.shape[0]"
      ],
      "execution_count": null,
      "outputs": [
        {
          "output_type": "stream",
          "name": "stderr",
          "text": [
            "/usr/local/lib/python3.7/dist-packages/seaborn/distributions.py:2619: FutureWarning: `distplot` is a deprecated function and will be removed in a future version. Please adapt your code to use either `displot` (a figure-level function with similar flexibility) or `kdeplot` (an axes-level function for kernel density plots).\n",
            "  warnings.warn(msg, FutureWarning)\n"
          ]
        },
        {
          "output_type": "display_data",
          "data": {
            "image/png": "[encoded data removed]",
            "text/plain": [
              "<Figure size 432x288 with 1 Axes>"
            ]
          },
          "metadata": {
            "needs_background": "light"
          }
        },
        {
          "output_type": "execute_result",
          "data": {
            "text/plain": [
              "0.66"
            ]
          },
          "metadata": {},
          "execution_count": 63
        }
      ]
    },
    {
      "cell_type": "code",
      "metadata": {
        "colab": {
          "base_uri": "https://localhost:8080/",
          "height": 372
        },
        "id": "QRMqdsV4UE4-",
        "outputId": "f297e9f4-7368-489f-c2d7-ef0a100680a4"
      },
      "source": [
        "#brute force confidence interval\n",
        "N_POPULATION=10000\n",
        "N_SAMPLE=1000\n",
        "population=np.random.normal(loc=MEAN_NETFLIX, \n",
        "                            scale=SD_NETFLIX, \n",
        "                            size=N_POPULATION)\n",
        "population[population<0]=0\n",
        "sample_means=[]\n",
        "for i in range(N_SAMPLE):\n",
        "  sample_i=np.random.choice(population,10)\n",
        "  mean_i=np.mean(sample_i)\n",
        "  sample_means.append(mean_i)\n",
        "sample_means=np.array(sample_means)\n",
        "\n",
        "#sd of the mean\n",
        "means_mean=np.mean(sample_means)\n",
        "means_sd=np.std(sample_means)\n",
        "print('Mean of the means',means_mean)\n",
        "print('SEM (SD of the means)',means_sd)\n",
        "\n",
        "\n",
        "plt.hist(sample_means,100,color='red')\n",
        "plt.xlabel('Number of hours spent on Netflix\\nper day\\nMEANS OF SAMPLES')\n",
        "plt.xlim(0,6)\n",
        "plt.axvline(x=means_mean,color='black')\n",
        "plt.axvline(x=means_mean-means_sd,color='black',linestyle='--')\n",
        "plt.axvline(x=means_mean+means_sd,color='black',linestyle='--')\n",
        "plt.show()\n",
        "\n",
        "#compute what fraction of points are within 1 means_sd from means_mean\n",
        "within_1sd=0\n",
        "within_2sd=0\n",
        "for i in range(sample_means.shape[0]):\n",
        "  m=sample_means[i]\n",
        "  if m>=(means_mean-means_sd) and m<=(means_mean+means_sd):\n",
        "    within_1sd+=1\n",
        "  if m>=(means_mean-2*means_sd) and m<=(means_mean+2*means_sd):\n",
        "    within_2sd+=1\n",
        "print('within 1 means SD:',within_1sd/sample_means.shape[0])\n",
        "print('within 1 means SD:',within_2sd/sample_means.shape[0])"
      ],
      "execution_count": null,
      "outputs": [
        {
          "output_type": "stream",
          "name": "stdout",
          "text": [
            "Mean of the means 3.192691940571528\n",
            "SEM (SD of the means) 0.3152080550600408\n"
          ]
        },
        {
          "output_type": "display_data",
          "data": {
            "image/png": "[encoded data removed]",
            "text/plain": [
              "<Figure size 432x288 with 1 Axes>"
            ]
          },
          "metadata": {
            "needs_background": "light"
          }
        },
        {
          "output_type": "stream",
          "name": "stdout",
          "text": [
            "within 1 means SD: 0.692\n",
            "within 1 means SD: 0.949\n"
          ]
        }
      ]
    },
    {
      "cell_type": "code",
      "metadata": {
        "colab": {
          "base_uri": "https://localhost:8080/"
        },
        "id": "NQ8_eFECX27f",
        "outputId": "0dc89b0a-10e9-4ab9-e64c-80be7defa342"
      },
      "source": [
        "from scipy import stats\n",
        "print('SEM (SD of the means), empirically calculated',means_sd.round(2))\n",
        "print('SEM computed in python',stats.sem(sample_i).round(2))\n"
      ],
      "execution_count": null,
      "outputs": [
        {
          "output_type": "stream",
          "name": "stdout",
          "text": [
            "SEM (SD of the means), empirically calculated 0.32\n",
            "SEM computed in python 0.1\n"
          ]
        }
      ]
    },
    {
      "cell_type": "code",
      "metadata": {
        "colab": {
          "base_uri": "https://localhost:8080/"
        },
        "id": "3L90s1QxX2-T",
        "outputId": "8cd48ac2-34f3-4189-b313-b956e4ebaf52"
      },
      "source": [
        "#one sample t test in python\n",
        "from scipy.stats import ttest_1samp\n",
        "\n",
        "MEAN_NETFLIX=3.2\n",
        "SD_NETFLIX=1\n",
        "population=rng.normal(loc=MEAN_NETFLIX, \n",
        "                            scale=SD_NETFLIX, \n",
        "                            size=1000)\n",
        "population[population<0]=0\n",
        "our_sample=population[0:10]\n",
        "print(our_sample.round(2))\n",
        "print(our_sample.mean())\n",
        "print(our_sample.std())\n",
        "\n",
        "TEST_VALUE=1.5\n",
        "\n",
        "t, pvalue = ttest_1samp(our_sample, popmean=TEST_VALUE)\n",
        "print('t', t.round(2))  \n",
        "print('p-value', pvalue.round(6))"
      ],
      "execution_count": null,
      "outputs": [
        {
          "output_type": "stream",
          "name": "stdout",
          "text": [
            "[3.83 3.2  2.45 1.82 1.1  4.73 3.32 3.42 4.15 3.72]\n",
            "3.1734125285846737\n",
            "1.0411894874646919\n",
            "t 4.82\n",
            "p-value 0.000945\n"
          ]
        }
      ]
    },
    {
      "cell_type": "code",
      "metadata": {
        "colab": {
          "base_uri": "https://localhost:8080/",
          "height": 1000
        },
        "id": "zCilaeTkwnJX",
        "outputId": "d1bb661d-b37e-4145-c842-01d68b073252"
      },
      "source": [
        "#confidence intervals\n",
        "#=====================\n",
        "#take 100 samples\n",
        "#compute their confidence intervals\n",
        "#plot them\n",
        "\n",
        "import scipy.stats as st\n",
        "\n",
        "N_SAMPLE=200\n",
        "for CONFIDENCE in [0.9,0.98,0.999999]:\n",
        "  population=rng.normal(loc=MEAN_NETFLIX, \n",
        "                              scale=SD_NETFLIX, \n",
        "                              size=N_POPULATION)\n",
        "  population[population<0]=0\n",
        "  sample_means=[]\n",
        "  ci_lows=[]\n",
        "  ci_highs=[]\n",
        "  for i in range(N_SAMPLE):\n",
        "    sample_i=np.random.choice(population,10)\n",
        "    mean_i=np.mean(sample_i)\n",
        "    ci=st.t.interval(alpha=CONFIDENCE, \n",
        "                  df=sample_i.shape[0]-1, loc=mean_i, scale=st.sem(sample_i))\n",
        "    ci_lows.append(ci[0])\n",
        "    ci_highs.append(ci[1])\n",
        "    sample_means.append(mean_i)\n",
        "\n",
        "  data=pd.DataFrame({'mean':sample_means,'ci_low':ci_lows,'ci_high':ci_highs})\n",
        "  data=data.sort_values(by='mean')\n",
        "  data.index=range(N_SAMPLE)\n",
        "  print(data)\n",
        "\n",
        "  for i in range(N_SAMPLE):\n",
        "    color='gray'\n",
        "    if MEAN_NETFLIX>data['ci_high'][i] or MEAN_NETFLIX<data['ci_low'][i]:\n",
        "      color='red'\n",
        "    plt.plot((data['ci_low'][i],data['ci_high'][i]),(i,i),color=color)\n",
        "  #plt.scatter(data['mean'],range(N_SAMPLE),color='black')\n",
        "  plt.axvline(x=MEAN_NETFLIX,color='black',linestyle='--')\n",
        "  plt.xlabel('Mean time spent on Netflix')\n",
        "  plt.ylabel('Sampling iteration')\n",
        "  plt.xlim(0,10)\n",
        "  plt.show()"
      ],
      "execution_count": null,
      "outputs": [
        {
          "output_type": "stream",
          "name": "stdout",
          "text": [
            "         mean    ci_low   ci_high\n",
            "0    2.136938  1.632139  2.641738\n",
            "1    2.481386  1.907396  3.055377\n",
            "2    2.520910  1.823693  3.218128\n",
            "3    2.549344  2.118067  2.980621\n",
            "4    2.566326  1.992720  3.139931\n",
            "..        ...       ...       ...\n",
            "195  3.730213  3.082196  4.378231\n",
            "196  3.732513  3.208059  4.256966\n",
            "197  3.733835  3.098641  4.369030\n",
            "198  3.741224  3.395961  4.086487\n",
            "199  3.788107  3.369755  4.206459\n",
            "\n",
            "[200 rows x 3 columns]\n"
          ]
        },
        {
          "output_type": "display_data",
          "data": {
            "image/png": "[encoded data removed]",
            "text/plain": [
              "<Figure size 432x288 with 1 Axes>"
            ]
          },
          "metadata": {
            "needs_background": "light"
          }
        },
        {
          "output_type": "stream",
          "name": "stdout",
          "text": [
            "         mean    ci_low   ci_high\n",
            "0    2.362349  1.333874  3.390824\n",
            "1    2.524877  2.035202  3.014552\n",
            "2    2.526406  1.920348  3.132465\n",
            "3    2.533800  1.498456  3.569145\n",
            "4    2.569846  1.312939  3.826753\n",
            "..        ...       ...       ...\n",
            "195  3.849661  3.404211  4.295112\n",
            "196  3.878057  3.155299  4.600814\n",
            "197  3.937684  3.282928  4.592441\n",
            "198  3.973523  2.726376  5.220671\n",
            "199  3.996119  3.082488  4.909751\n",
            "\n",
            "[200 rows x 3 columns]\n"
          ]
        },
        {
          "output_type": "display_data",
          "data": {
            "image/png": "[encoded data removed]",
            "text/plain": [
              "<Figure size 432x288 with 1 Axes>"
            ]
          },
          "metadata": {
            "needs_background": "light"
          }
        },
        {
          "output_type": "stream",
          "name": "stdout",
          "text": [
            "         mean    ci_low   ci_high\n",
            "0    2.269876 -1.972457  6.512209\n",
            "1    2.369863 -1.177526  5.917251\n",
            "2    2.407352 -0.221507  5.036211\n",
            "3    2.480424 -1.482523  6.443370\n",
            "4    2.534649 -1.566742  6.636039\n",
            "..        ...       ...       ...\n",
            "195  3.954138 -0.329114  8.237390\n",
            "196  4.000022 -0.617891  8.617936\n",
            "197  4.002798  1.442385  6.563212\n",
            "198  4.019756 -0.306491  8.346003\n",
            "199  4.171900  0.520083  7.823716\n",
            "\n",
            "[200 rows x 3 columns]\n"
          ]
        },
        {
          "output_type": "display_data",
          "data": {
            "image/png": "[encoded data removed]",
            "text/plain": [
              "<Figure size 432x288 with 1 Axes>"
            ]
          },
          "metadata": {
            "needs_background": "light"
          }
        }
      ]
    },
    {
      "cell_type": "code",
      "metadata": {
        "colab": {
          "base_uri": "https://localhost:8080/",
          "height": 1000
        },
        "id": "u7bCgQHu5TwO",
        "outputId": "1d403aed-e5df-4fcc-9dc2-5bdeb4c5ea25"
      },
      "source": [
        "#confidence intervals\n",
        "#=====================\n",
        "#take 100 samples\n",
        "#compute their confidence intervals\n",
        "#plot them\n",
        "\n",
        "import scipy.stats as st\n",
        "\n",
        "N_SAMPLE=200\n",
        "for CONFIDENCE in [0.9,0.98,0.999999]:\n",
        "  population=rng.normal(loc=MEAN_NETFLIX, \n",
        "                              scale=SD_NETFLIX, \n",
        "                              size=N_POPULATION)\n",
        "  population[population<0]=0\n",
        "  sample_means=[]\n",
        "  ci_lows=[]\n",
        "  ci_highs=[]\n",
        "  for i in range(N_SAMPLE):\n",
        "    sample_i=np.random.choice(population,100)\n",
        "    mean_i=np.mean(sample_i)\n",
        "    ci=st.t.interval(alpha=CONFIDENCE, \n",
        "                  df=sample_i.shape[0]-1, loc=mean_i, scale=st.sem(sample_i))\n",
        "    ci_lows.append(ci[0])\n",
        "    ci_highs.append(ci[1])\n",
        "    sample_means.append(mean_i)\n",
        "\n",
        "  data=pd.DataFrame({'mean':sample_means,'ci_low':ci_lows,'ci_high':ci_highs})\n",
        "  data=data.sort_values(by='mean')\n",
        "  data.index=range(N_SAMPLE)\n",
        "  print(data)\n",
        "\n",
        "  for i in range(N_SAMPLE):\n",
        "    color='gray'\n",
        "    if MEAN_NETFLIX>data['ci_high'][i] or MEAN_NETFLIX<data['ci_low'][i]:\n",
        "      color='red'\n",
        "    plt.plot((data['ci_low'][i],data['ci_high'][i]),(i,i),color=color)\n",
        "  #plt.scatter(data['mean'],range(N_SAMPLE),color='black')\n",
        "  plt.axvline(x=MEAN_NETFLIX,color='black',linestyle='--')\n",
        "  plt.xlabel('Mean time spent on Netflix')\n",
        "  plt.ylabel('Sampling iteration')\n",
        "  plt.xlim(0,10)\n",
        "  plt.show()"
      ],
      "execution_count": null,
      "outputs": [
        {
          "output_type": "stream",
          "name": "stdout",
          "text": [
            "         mean    ci_low   ci_high\n",
            "0    2.894510  2.742479  3.046541\n",
            "1    2.924917  2.787540  3.062294\n",
            "2    2.927754  2.755033  3.100474\n",
            "3    2.953070  2.782888  3.123252\n",
            "4    2.962804  2.791351  3.134257\n",
            "..        ...       ...       ...\n",
            "195  3.392770  3.230987  3.554553\n",
            "196  3.402213  3.262365  3.542062\n",
            "197  3.426463  3.264160  3.588766\n",
            "198  3.432061  3.259206  3.604917\n",
            "199  3.481930  3.327403  3.636457\n",
            "\n",
            "[200 rows x 3 columns]\n"
          ]
        },
        {
          "output_type": "display_data",
          "data": {
            "image/png": "[encoded data removed]",
            "text/plain": [
              "<Figure size 432x288 with 1 Axes>"
            ]
          },
          "metadata": {
            "needs_background": "light"
          }
        },
        {
          "output_type": "stream",
          "name": "stdout",
          "text": [
            "         mean    ci_low   ci_high\n",
            "0    2.978512  2.755525  3.201498\n",
            "1    2.981311  2.748859  3.213763\n",
            "2    2.982734  2.755265  3.210203\n",
            "3    2.987803  2.735778  3.239827\n",
            "4    3.003430  2.770203  3.236658\n",
            "..        ...       ...       ...\n",
            "195  3.406815  3.156025  3.657606\n",
            "196  3.418403  3.203900  3.632906\n",
            "197  3.435479  3.194554  3.676405\n",
            "198  3.442286  3.202970  3.681603\n",
            "199  3.445235  3.222121  3.668349\n",
            "\n",
            "[200 rows x 3 columns]\n"
          ]
        },
        {
          "output_type": "display_data",
          "data": {
            "image/png": "[encoded data removed]",
            "text/plain": [
              "<Figure size 432x288 with 1 Axes>"
            ]
          },
          "metadata": {
            "needs_background": "light"
          }
        },
        {
          "output_type": "stream",
          "name": "stdout",
          "text": [
            "         mean    ci_low   ci_high\n",
            "0    2.949218  2.474642  3.423794\n",
            "1    2.987837  2.468377  3.507298\n",
            "2    2.996135  2.417697  3.574573\n",
            "3    3.017742  2.520718  3.514766\n",
            "4    3.021956  2.479008  3.564904\n",
            "..        ...       ...       ...\n",
            "195  3.388517  2.892577  3.884458\n",
            "196  3.394489  2.876250  3.912728\n",
            "197  3.421806  2.884018  3.959594\n",
            "198  3.435756  2.908423  3.963090\n",
            "199  3.454330  2.868716  4.039944\n",
            "\n",
            "[200 rows x 3 columns]\n"
          ]
        },
        {
          "output_type": "display_data",
          "data": {
            "image/png": "[encoded data removed]",
            "text/plain": [
              "<Figure size 432x288 with 1 Axes>"
            ]
          },
          "metadata": {
            "needs_background": "light"
          }
        }
      ]
    },
    {
      "cell_type": "markdown",
      "metadata": {
        "id": "s-zIgbHycxdj"
      },
      "source": [
        "**EXAMPLE II:** \n",
        "===\n",
        "\n",
        "Is exercise associated with lower baseline blood pressure?\n",
        "--\n",
        "\n",
        "We will simulate data with control mean 120 mmHg, treatment mean 116 mmHg and population sd 5 for both conditions."
      ]
    },
    {
      "cell_type": "code",
      "metadata": {
        "id": "fcoAFoyHK4vS",
        "colab": {
          "base_uri": "https://localhost:8080/"
        },
        "outputId": "b5f03ede-56b4-4b85-e3a1-e3383e25b368"
      },
      "source": [
        "#simulate dataset\n",
        "#=====================\n",
        "\n",
        "def sample_condition_values(condition_mean,\n",
        "                           condition_var,\n",
        "                       condition_N,\n",
        "                       condition=''):\n",
        "    \n",
        "  condition_values=np.random.normal(loc = condition_mean, \n",
        "                                    scale=condition_var,\n",
        "                                    size = condition_N)\n",
        "\n",
        "  data_condition_here=pd.DataFrame({'BP':condition_values,\n",
        "                   'condition':condition})\n",
        "  return(data_condition_here)\n",
        "\n",
        "#=========================================================================\n",
        "N_per_condition=10\n",
        "ctrl_mean=120\n",
        "test_mean=116 \n",
        "v=5\n",
        "\n",
        "np.random.seed(1)\n",
        "\n",
        "data_ctrl=sample_condition_values(condition_mean=ctrl_mean,\n",
        "                       condition_N=N_per_condition,\n",
        "                       condition_var=v,\n",
        "                       condition='couch')\n",
        "\n",
        "data_test=sample_condition_values(condition_mean=test_mean,\n",
        "                       condition_N=N_per_condition,\n",
        "                       condition_var=v,\n",
        "                       condition='exercise')\n",
        "\n",
        "data=pd.concat([data_ctrl,data_test],axis=0)\n",
        "print(data)"
      ],
      "execution_count": null,
      "outputs": [
        {
          "output_type": "stream",
          "name": "stdout",
          "text": [
            "           BP condition\n",
            "0  128.121727     couch\n",
            "1  116.941218     couch\n",
            "2  117.359141     couch\n",
            "3  114.635157     couch\n",
            "4  124.327038     couch\n",
            "5  108.492307     couch\n",
            "6  128.724059     couch\n",
            "7  116.193965     couch\n",
            "8  121.595195     couch\n",
            "9  118.753148     couch\n",
            "0  123.310540  exercise\n",
            "1  105.699296  exercise\n",
            "2  114.387914  exercise\n",
            "3  114.079728  exercise\n",
            "4  121.668847  exercise\n",
            "5  110.500544  exercise\n",
            "6  115.137859  exercise\n",
            "7  111.610708  exercise\n",
            "8  116.211069  exercise\n",
            "9  118.914076  exercise\n"
          ]
        }
      ]
    },
    {
      "cell_type": "code",
      "metadata": {
        "colab": {
          "base_uri": "https://localhost:8080/",
          "height": 153
        },
        "id": "mEqRU0j0ph5A",
        "outputId": "e2beda7d-aea9-49a7-a8f2-d343b8915fa6"
      },
      "source": [
        "#visualize data\n",
        "#=====================\n",
        "\n",
        "sns.catplot(x='condition',y='BP',data=data,height=2,aspect=1.5)\n",
        "plt.ylabel('BP')\n",
        "plt.show()"
      ],
      "execution_count": null,
      "outputs": [
        {
          "output_type": "display_data",
          "data": {
            "image/png": "[encoded data removed]",
            "text/plain": [
              "<Figure size 216x144 with 1 Axes>"
            ]
          },
          "metadata": {
            "needs_background": "light"
          }
        }
      ]
    },
    {
      "cell_type": "code",
      "metadata": {
        "colab": {
          "base_uri": "https://localhost:8080/",
          "height": 1000
        },
        "id": "qBhXjFRZcfW_",
        "outputId": "e591527a-431a-426c-e45d-fddca3673bac"
      },
      "source": [
        "sns.catplot(data=data,x='condition',y='BP',\n",
        "            jitter=1,\n",
        "            )\n",
        "plt.show()\n",
        "\n",
        "sns.catplot(data=data,x='condition',y='BP',kind='box',)\n",
        "plt.show()\n",
        "\n",
        "sns.catplot(data=data,x='condition',y='BP',kind='violin',)\n",
        "plt.show()\n",
        "\n",
        "fig,plots=plt.subplots(1)\n",
        "sns.boxplot(data=data,x='condition',y='BP',\n",
        "            ax=plots,\n",
        "            )\n",
        "sns.stripplot(data=data,x='condition',y='BP',\n",
        "            jitter=1,\n",
        "            ax=plots,alpha=0.25,\n",
        "            )\n",
        "\n",
        "plt.show()"
      ],
      "execution_count": null,
      "outputs": [
        {
          "output_type": "display_data",
          "data": {
            "image/png": "[encoded data removed]",
            "text/plain": [
              "<Figure size 360x360 with 1 Axes>"
            ]
          },
          "metadata": {
            "needs_background": "light"
          }
        },
        {
          "output_type": "display_data",
          "data": {
            "image/png": "[encoded data removed]",
            "text/plain": [
              "<Figure size 360x360 with 1 Axes>"
            ]
          },
          "metadata": {
            "needs_background": "light"
          }
        },
        {
          "output_type": "display_data",
          "data": {
            "image/png": "[encoded data removed]",
            "text/plain": [
              "<Figure size 360x360 with 1 Axes>"
            ]
          },
          "metadata": {
            "needs_background": "light"
          }
        },
        {
          "output_type": "display_data",
          "data": {
            "image/png": "[encoded data removed]",
            "text/plain": [
              "<Figure size 432x288 with 1 Axes>"
            ]
          },
          "metadata": {
            "needs_background": "light"
          }
        }
      ]
    },
    {
      "cell_type": "markdown",
      "metadata": {
        "id": "gcqede6WNj0t"
      },
      "source": [
        "In our hypothesis test, we ask if these two groups differ significantly from each other. It's a bit hard to say just from looking at the plot. \n",
        "\n",
        "This is where statistics comes in. It's time to:\n",
        "\n",
        "*3. Think about how much the data surprise you, given your null model*\n",
        "\n",
        "We'll convert this step to some math, as follows:\n",
        "\n",
        "**Step 1. summarize the difference between the groups with a number.**\n",
        "\n",
        "This is called a **test statistic** \n",
        "\n",
        "\"How to define the test statistic?\" you say?\n",
        "\n",
        "The world is your oyster. You are free to choose anything you wish. \n",
        "\n",
        "(Later, we'll see that some choices come with nice math, which is why they are typically used. But a test statistic could be anything)\n",
        "\n",
        "To demonstrate this intuition, let's come up with a very basic test statistic. For example, let's compute the difference between the BP in the 2 groups.\n",
        "\n"
      ]
    },
    {
      "cell_type": "code",
      "metadata": {
        "id": "EW2sfuM0P-8l",
        "colab": {
          "base_uri": "https://localhost:8080/"
        },
        "outputId": "c126d984-64dd-4043-ece9-4d0ae280833a"
      },
      "source": [
        "mean_ctrl=np.mean(data[data['condition']=='couch']['BP'])\n",
        "mean_test=np.mean(data[data['condition']=='exercise']['BP'])\n",
        "\n",
        "test_stat=mean_test-mean_ctrl\n",
        "print('test statistic =',test_stat)"
      ],
      "execution_count": null,
      "outputs": [
        {
          "output_type": "stream",
          "name": "stdout",
          "text": [
            "test statistic = -4.362237456546268\n"
          ]
        }
      ]
    },
    {
      "cell_type": "markdown",
      "metadata": {
        "id": "oxJpPee2RICp"
      },
      "source": [
        "What is this number telling us? Is the BP significantly different between the 2 conditions? It's impossible to say looking at only this number.\n",
        "\n",
        "We have to ask ourselves, well, what did you expect?\n",
        "\n",
        "This takes us to the next step.\n"
      ]
    },
    {
      "cell_type": "markdown",
      "metadata": {
        "id": "_LEBm7luPH5a"
      },
      "source": [
        "\n",
        "**ii) think about what the test statistic would be if in reality there were no difference between the 2 groups. It will be a distribution, not just a single number, because you would expect to see some variation in the test statistic whenever you do an experiment, due to sampling noise, and due to variation in the population.**\n",
        "\n",
        "Here is where the wasteful part comes in. You go and repeat the measurement on 1000 different couch grouos. Then, for each of these, you compute the same test statistic = the difference between the mean in that sample and your original couch group.\n"
      ]
    },
    {
      "cell_type": "code",
      "metadata": {
        "id": "K6lI09JuQlLx",
        "colab": {
          "base_uri": "https://localhost:8080/"
        },
        "outputId": "40585c66-a5b3-4332-cd42-666ede1ac626"
      },
      "source": [
        "np.random.seed(1)\n",
        "data_exp2=sample_condition_cells(condition_mean=ctrl_mean,\n",
        "                       condition_num_cells=N_per_condition,\n",
        "                       condition_var=v,\n",
        "                       condition='control_0')\n",
        "for i in range(1,1001):\n",
        "  data_exp2=pd.concat([data_exp2,sample_condition_cells(condition_mean=ctrl_mean,\n",
        "                       condition_num_cells=N_per_condition,\n",
        "                       condition_var=v,\n",
        "                       condition='control_'+str(i))])\n",
        "\n",
        "print(data_exp2)"
      ],
      "execution_count": null,
      "outputs": [
        {
          "output_type": "stream",
          "name": "stdout",
          "text": [
            "            BP     condition\n",
            "0   128.121727     control_0\n",
            "1   116.941218     control_0\n",
            "2   117.359141     control_0\n",
            "3   114.635157     control_0\n",
            "4   124.327038     control_0\n",
            "..         ...           ...\n",
            "5   120.846771  control_1000\n",
            "6   123.368115  control_1000\n",
            "7   118.363992  control_1000\n",
            "8   118.473504  control_1000\n",
            "9   122.624327  control_1000\n",
            "\n",
            "[10010 rows x 2 columns]\n"
          ]
        }
      ]
    },
    {
      "cell_type": "code",
      "metadata": {
        "id": "S_ORBJPcRZSt",
        "colab": {
          "base_uri": "https://localhost:8080/",
          "height": 415
        },
        "outputId": "ef146b59-5dca-4c46-cd14-900de5d0d716"
      },
      "source": [
        "#now, let's plot the distribution of the test statistic under the null hypothesis\n",
        "\n",
        "#get mean of each control\n",
        "exp2_means=data_exp2.groupby('condition').mean()\n",
        "print(exp2_means.head())\n",
        "\n",
        "null_test_stats=exp2_means-ctrl_mean\n",
        "\n",
        "plt.hist(np.array(null_test_stats).flatten(),20,color='black')\n",
        "plt.xlabel('Test statistic')\n",
        "plt.axvline(x=test_stat,color='red')\n"
      ],
      "execution_count": null,
      "outputs": [
        {
          "output_type": "stream",
          "name": "stdout",
          "text": [
            "                      BP\n",
            "condition               \n",
            "control_0     119.514296\n",
            "control_1     119.152058\n",
            "control_10    120.201086\n",
            "control_100   118.518008\n",
            "control_1000  119.698545\n"
          ]
        },
        {
          "output_type": "execute_result",
          "data": {
            "text/plain": [
              "<matplotlib.lines.Line2D at 0x7f0e37ef1310>"
            ]
          },
          "metadata": {},
          "execution_count": 236
        },
        {
          "output_type": "display_data",
          "data": {
            "image/png": "[encoded data removed]",
            "text/plain": [
              "<Figure size 432x288 with 1 Axes>"
            ]
          },
          "metadata": {
            "needs_background": "light"
          }
        }
      ]
    },
    {
      "cell_type": "code",
      "metadata": {
        "colab": {
          "base_uri": "https://localhost:8080/",
          "height": 450
        },
        "id": "LllCmosohvw0",
        "outputId": "b81204b0-1548-4b62-cebb-08e7dfc4a57a"
      },
      "source": [
        "null_test_stats"
      ],
      "execution_count": null,
      "outputs": [
        {
          "output_type": "execute_result",
          "data": {
            "text/html": [
              "<div>\n",
              "<style scoped>\n",
              "    .dataframe tbody tr th:only-of-type {\n",
              "        vertical-align: middle;\n",
              "    }\n",
              "\n",
              "    .dataframe tbody tr th {\n",
              "        vertical-align: top;\n",
              "    }\n",
              "\n",
              "    .dataframe thead th {\n",
              "        text-align: right;\n",
              "    }\n",
              "</style>\n",
              "<table border=\"1\" class=\"dataframe\">\n",
              "  <thead>\n",
              "    <tr style=\"text-align: right;\">\n",
              "      <th></th>\n",
              "      <th>BP</th>\n",
              "    </tr>\n",
              "    <tr>\n",
              "      <th>condition</th>\n",
              "      <th></th>\n",
              "    </tr>\n",
              "  </thead>\n",
              "  <tbody>\n",
              "    <tr>\n",
              "      <th>control_0</th>\n",
              "      <td>-0.485704</td>\n",
              "    </tr>\n",
              "    <tr>\n",
              "      <th>control_1</th>\n",
              "      <td>-0.847942</td>\n",
              "    </tr>\n",
              "    <tr>\n",
              "      <th>control_10</th>\n",
              "      <td>0.201086</td>\n",
              "    </tr>\n",
              "    <tr>\n",
              "      <th>control_100</th>\n",
              "      <td>-1.481992</td>\n",
              "    </tr>\n",
              "    <tr>\n",
              "      <th>control_1000</th>\n",
              "      <td>-0.301455</td>\n",
              "    </tr>\n",
              "    <tr>\n",
              "      <th>...</th>\n",
              "      <td>...</td>\n",
              "    </tr>\n",
              "    <tr>\n",
              "      <th>control_995</th>\n",
              "      <td>0.112184</td>\n",
              "    </tr>\n",
              "    <tr>\n",
              "      <th>control_996</th>\n",
              "      <td>2.795058</td>\n",
              "    </tr>\n",
              "    <tr>\n",
              "      <th>control_997</th>\n",
              "      <td>1.345734</td>\n",
              "    </tr>\n",
              "    <tr>\n",
              "      <th>control_998</th>\n",
              "      <td>-0.379900</td>\n",
              "    </tr>\n",
              "    <tr>\n",
              "      <th>control_999</th>\n",
              "      <td>-0.927936</td>\n",
              "    </tr>\n",
              "  </tbody>\n",
              "</table>\n",
              "<p>1001 rows × 1 columns</p>\n",
              "</div>"
            ],
            "text/plain": [
              "                    BP\n",
              "condition             \n",
              "control_0    -0.485704\n",
              "control_1    -0.847942\n",
              "control_10    0.201086\n",
              "control_100  -1.481992\n",
              "control_1000 -0.301455\n",
              "...                ...\n",
              "control_995   0.112184\n",
              "control_996   2.795058\n",
              "control_997   1.345734\n",
              "control_998  -0.379900\n",
              "control_999  -0.927936\n",
              "\n",
              "[1001 rows x 1 columns]"
            ]
          },
          "metadata": {},
          "execution_count": 237
        }
      ]
    },
    {
      "cell_type": "code",
      "metadata": {
        "colab": {
          "base_uri": "https://localhost:8080/"
        },
        "id": "6EThWnaJhiLP",
        "outputId": "1968bd5f-9690-419e-fd51-59b8855112f2"
      },
      "source": [
        "for i in range(null_test_stats.shape[0]):\n",
        "  if null_test_stats['BP'][i]>4:\n",
        "    print(null_test_stats.index[i],null_test_stats['BP'][i])"
      ],
      "execution_count": null,
      "outputs": [
        {
          "output_type": "stream",
          "name": "stdout",
          "text": [
            "control_179 5.1855863794223325\n",
            "control_43 4.129129723892561\n",
            "control_665 4.1295267515441765\n",
            "control_775 4.117971581535585\n",
            "control_838 4.442499228276944\n",
            "control_952 4.185169220649826\n",
            "control_970 4.141431724614719\n"
          ]
        }
      ]
    },
    {
      "cell_type": "code",
      "metadata": {
        "colab": {
          "base_uri": "https://localhost:8080/"
        },
        "id": "bPy1HINxh8vL",
        "outputId": "f62bd3a6-3f20-44cc-b398-3fd2e699be26"
      },
      "source": [
        "for i in range(null_test_stats.shape[0]):\n",
        "  if null_test_stats['BP'][i]<-4:\n",
        "    print(null_test_stats.index[i],null_test_stats['BP'][i])"
      ],
      "execution_count": null,
      "outputs": [
        {
          "output_type": "stream",
          "name": "stdout",
          "text": [
            "control_161 -4.148404587530905\n",
            "control_202 -4.336675796802723\n",
            "control_234 -4.137633016906605\n",
            "control_854 -4.612546175530198\n",
            "control_955 -4.0685297239182034\n"
          ]
        }
      ]
    },
    {
      "cell_type": "code",
      "metadata": {
        "colab": {
          "base_uri": "https://localhost:8080/",
          "height": 184
        },
        "id": "dbX7sggqhcw9",
        "outputId": "ac2f6c5f-0886-44fc-b84e-2bfc9eb022a8"
      },
      "source": [
        "sns.catplot(data=data_exp2,x='condition',y='BP',order=['control_0',\n",
        "                                                       'control_1','control_2','control_3',\n",
        "                                                       'control_4','control_5',#'control_6',\n",
        "                                                       #'control_7','control_8','control_9','control_10',\n",
        "                                                       'control_179','control_161',],\n",
        "            color='black',#kind='box',\n",
        "            aspect=2,height=2)"
      ],
      "execution_count": null,
      "outputs": [
        {
          "output_type": "execute_result",
          "data": {
            "text/plain": [
              "<seaborn.axisgrid.FacetGrid at 0x7f0e3951c450>"
            ]
          },
          "metadata": {},
          "execution_count": 241
        },
        {
          "output_type": "display_data",
          "data": {
            "image/png": "[encoded data removed]",
            "text/plain": [
              "<Figure size 288x144 with 1 Axes>"
            ]
          },
          "metadata": {
            "needs_background": "light"
          }
        }
      ]
    },
    {
      "cell_type": "code",
      "metadata": {
        "colab": {
          "base_uri": "https://localhost:8080/",
          "height": 1000
        },
        "id": "tF02qimpgbs2",
        "outputId": "593e0a1d-ac10-4296-a493-62ba91bdca00"
      },
      "source": [
        "x=5\n",
        "plt.hist(np.array(null_test_stats[1:2]).flatten(),range(-4,4),color='black',)\n",
        "plt.xlabel('Test statistic (t)')\n",
        "plt.xlim(-x,x)\n",
        "plt.ylim(0,5)\n",
        "plt.show()\n",
        "#plt.axvline(x=t_stat,color='red')\n",
        "\n",
        "plt.hist(np.array(null_test_stats[1:3]).flatten(),range(-4,4),color='black',)\n",
        "plt.xlabel('Test statistic (t)')\n",
        "plt.xlim(-x,x)\n",
        "plt.ylim(0,5)\n",
        "\n",
        "plt.show()\n",
        "#plt.axvline(x=t_stat,color='red')\n",
        "\n",
        "plt.hist(np.array(null_test_stats[1:4]).flatten(),range(-4,4),color='black',)\n",
        "plt.xlabel('Test statistic (t)')\n",
        "plt.xlim(-x,x)\n",
        "plt.ylim(0,5)\n",
        "\n",
        "plt.show()\n",
        "#plt.axvline(x=t_stat,color='red')\n",
        "\n",
        "plt.hist(np.array(null_test_stats[1:5]).flatten(),range(-4,4),color='black',)\n",
        "plt.xlabel('Test statistic (t)')\n",
        "plt.xlim(-x,x)\n",
        "plt.ylim(0,5)\n",
        "\n",
        "plt.show()\n",
        "#plt.axvline(x=t_stat,color='red')\n",
        "\n",
        "plt.hist(np.array(null_test_stats[1:6]).flatten(),range(-4,4),color='black',)\n",
        "plt.xlabel('Test statistic (t)')\n",
        "plt.xlim(-x,x)\n",
        "plt.ylim(0,5)\n",
        "\n",
        "plt.show()\n",
        "#plt.axvline(x=t_stat,color='red')\n",
        "\n",
        "plt.hist(np.array(null_test_stats).flatten(),20,color='black',)\n",
        "plt.xlabel('Test statistic (t)')\n",
        "plt.xlim(-x,x)\n",
        "#plt.ylim(0,5)\n",
        "plt.show()\n",
        "\n",
        "plt.hist(np.array(null_test_stats).flatten(),20,color='black',)\n",
        "plt.xlabel('Test statistic (t)')\n",
        "plt.xlim(-x,x)\n",
        "#plt.ylim(0,5)\n",
        "plt.axvline(x=test_stat,color='red')\n",
        "plt.show()"
      ],
      "execution_count": null,
      "outputs": [
        {
          "output_type": "display_data",
          "data": {
            "image/png": "[encoded data removed]",
            "text/plain": [
              "<Figure size 432x288 with 1 Axes>"
            ]
          },
          "metadata": {
            "needs_background": "light"
          }
        },
        {
          "output_type": "display_data",
          "data": {
            "image/png": "[encoded data removed]",
            "text/plain": [
              "<Figure size 432x288 with 1 Axes>"
            ]
          },
          "metadata": {
            "needs_background": "light"
          }
        },
        {
          "output_type": "display_data",
          "data": {
            "image/png": "[encoded data removed]",
            "text/plain": [
              "<Figure size 432x288 with 1 Axes>"
            ]
          },
          "metadata": {
            "needs_background": "light"
          }
        },
        {
          "output_type": "display_data",
          "data": {
            "image/png": "[encoded data removed]",
            "text/plain": [
              "<Figure size 432x288 with 1 Axes>"
            ]
          },
          "metadata": {
            "needs_background": "light"
          }
        },
        {
          "output_type": "display_data",
          "data": {
            "image/png": "[encoded data removed]",
            "text/plain": [
              "<Figure size 432x288 with 1 Axes>"
            ]
          },
          "metadata": {
            "needs_background": "light"
          }
        },
        {
          "output_type": "display_data",
          "data": {
            "image/png": "[encoded data removed]",
            "text/plain": [
              "<Figure size 432x288 with 1 Axes>"
            ]
          },
          "metadata": {
            "needs_background": "light"
          }
        },
        {
          "output_type": "display_data",
          "data": {
            "image/png": "[encoded data removed]",
            "text/plain": [
              "<Figure size 432x288 with 1 Axes>"
            ]
          },
          "metadata": {
            "needs_background": "light"
          }
        }
      ]
    },
    {
      "cell_type": "markdown",
      "metadata": {
        "id": "5EaLU6M4Tow0"
      },
      "source": [
        "In black we have the distribution of test statistics we obtained from the 1000 experiments measuring couch participants. In other words, this is the distribution of the test statistic under the null hypothesis.\n",
        "\n",
        "The red line shows the test statistic from our comparison of exercise group vs with couch group."
      ]
    },
    {
      "cell_type": "markdown",
      "metadata": {
        "id": "8ivsL0ypUaC0"
      },
      "source": [
        "**Is our difference in expression significant?**\n",
        "\n",
        "if the null is true, in other words, if in reality there is no difference between couch and exercise, what is the probability of seeing such an extreme difference between their means (in other words, such an extreme test statistic)?\n",
        "\n",
        "We can compute this from the plot above. We go to our null distribution, and count how many times we got a more extreme test statistic in our null experiment than the one we got for the couch vs exercise comparison.\n",
        "\n"
      ]
    },
    {
      "cell_type": "code",
      "metadata": {
        "id": "lMqQT22YRZXL",
        "colab": {
          "base_uri": "https://localhost:8080/"
        },
        "outputId": "fce58bbe-f68b-4dbe-f373-a01f853115a9"
      },
      "source": [
        "count_more_extreme=int(np.sum(np.abs(null_test_stats)>=np.abs(test_stat)))\n",
        "print(count_more_extreme,'times we got a more extreme test statistic under the null')\n",
        "print(count_more_extreme/1000,'fraction of the time we got a more extreme test statistic under the null')"
      ],
      "execution_count": null,
      "outputs": [
        {
          "output_type": "stream",
          "name": "stdout",
          "text": [
            "4 times we got a more extreme test statistic under the null\n",
            "0.004 fraction of the time we got a more extreme test statistic under the null\n"
          ]
        }
      ]
    },
    {
      "cell_type": "markdown",
      "metadata": {
        "id": "SGntRQJ1VQPM"
      },
      "source": [
        "What we computed above is called a **p-value**. Now, this is a very often misunderstood term, so let's think about it deeply. \n",
        "\n",
        "Deeply.\n",
        "\n",
        "Deeply.\n",
        "\n",
        "About what it is, what it is not.\n",
        "\n",
        "**P-values**\n",
        "--\n",
        "\n",
        "To remember what a p-value is, you decide to make a promise to me and more importantly yourself, that from now on, any sentence in which you mention a p-value will start with \"if the null were true, ...\".\n",
        "\n",
        "**A p-value IS:**\n",
        "- if the null were true, the probability of observing something as extreme or more extreme than your test statistic.\n",
        "- it's the quantification of your \"whoa!\", given your null hypothesis. More \"whoa!\" = smaller p-value.\n",
        "\n",
        "**A p-value is NOT:**\n",
        "- the probability that the null hypothesis is wrong. We don't know the probability of that. That's sort of up to the universe. \n",
        "- the probability that the null hypothesis is wrong. This is so important, that it's worth putting it on the list twice.\n",
        "\n",
        "Why is this distinction so important? \n",
        "\n",
        "First, because we can be very good at estimating what happens under the null. It's much more challenging to think about other scenarios. For instance, if you needed to make a model for the BP being different between 2 conditions, how different do you expect them to be? Is the average couch group at 120 and the exercise at 110? Or the couch at 125 and exercise at 130? Do you make a model for each option and grow old estimating all possible models?\n",
        "\n",
        "Second, it's also a matter of being conservative. It's common courtesy to assume the 2 conditions are the same. I expect you to come to me and convince me that it would be REALLY unlikely to observe what we have just seen given the null, to make it worthwhile my time. It would be weird to just assume the BP is different between the 2 conditions and have to prove that they are the same. We'd be swimming in false positives.\n",
        "\n",
        "**Statistical significance**\n",
        "\n",
        "Now that we have a p-value, you need to ask yourself where you set a cutoff for something being unlikely enough to be \"significant\", or worth your attention. Usually, that's 0.05, or 0.01, or 0.1. Yes, essentially it's a somewhat arbitrary small number.\n",
        "\n",
        "I reiterate: this does not mean that the exercise group is different from the couch group for sure. If you were to do the experiment 1000 times with groups of participants assigned to \"couch\", in a small subset of your experiments, you'll get a test statistic as or more extreme than the one we found in our experiment comparing. But given that it's unlikely to get this result under the null hypohesis, you call it a significant difference, one that makes you think.\n",
        "\n",
        "In summary: \n",
        "- you look at your p-value - and you think about the probability of getting your result under the null, as you need to include these words in any sentence with p-values -\n",
        "- compare it with your significance threshold \n",
        "- if it is less than that threshold, you call that difference in expression significant between KO and control.\n",
        "\n",
        "**Technical note: one-tailed vs two-tailed tests**\n",
        "\n",
        "*Depending on what you believe would be the possible alternative to your null hypothesis (conveniently called the alternative hypothesis), you may compute the p-value differently.*\n",
        "\n",
        "*Specifically, in our example above, we computed the p-value by asking:*\n",
        "- *if the null were true, what is the probability of obtaining a test statistic as extreme or more extreme than the one we've seen. That means we asked whether there were test statistics larger than our test statistic, or lower than minus our test statistic. This is called a two-tailed test, because we looked at both sides (both tails) of the distribution under the null.*\n",
        "\n",
        "*If your alternative hypothesis were that the treatment specifically decreases baseline blood pressure, you'd compute the p-value differently, as you'd look under the null at only what fraction of the time you've seen a test statistic lower than the one we've seen. This is a one-tailed test.*\n",
        "\n",
        "*Of course, this is not an invitation to use one-tailed tests to try to get more significant p-values, since by definition the p-values from a one-tailed test will be smaller than those for a two-tailed test. You should define your alternative hypothesis based on deep thought. I personally like to be as conservative as possible, and as such strongly prefer two-tailed tests.*\n",
        "\n",
        "\n",
        "\n",
        "\n",
        "\n",
        "\n",
        "\n"
      ]
    },
    {
      "cell_type": "markdown",
      "metadata": {
        "id": "xIVAVdOoMUrO"
      },
      "source": [
        "**Hypothesis testing in a nutshell**\n",
        "\n",
        "- come up with a **null hypothesis**. \n",
        "  * In our case: the gene does not change in expression.\n",
        "- collect some data\n",
        "  * yay, we love data!\n",
        "- define a **test statistic** to measure your quantity of interest. \n",
        "  * here we looked at the difference between means, but as we'll see below, there are more sophisticated ways to go about it.\n",
        "- figure out the **distribution of the test statistic under the null** hypothesis\n",
        "  * here, we did this by repeating the measurement on the same type of cells 1000 times. Next, we'll learn that under certain conditions we can comoute this distribution analytically, rather than having to do thousands of experiments.\n",
        "- compute a **p-value**\n",
        "  * that tells you if the null were true, the probability of getting your test statistic or something even more outrageous\n",
        "- decide if **significant**\n",
        "  * is p-value below a pre-defined threshold\n",
        "\n",
        "If you deeply understand this, you're on a very good path to understand a LARGE fraction of all statistics you'll find in genomics."
      ]
    },
    {
      "cell_type": "markdown",
      "metadata": {
        "id": "W1HZ29TgNKzs"
      },
      "source": [
        "**PART II. EXAMPLE HYPOTHESIS TESTING USING THE T-TEST**\n",
        "---\n",
        "\n",
        "Now, let's do a t-test.\n",
        "\n"
      ]
    },
    {
      "cell_type": "code",
      "metadata": {
        "id": "IsKMhpmZFwS3",
        "colab": {
          "base_uri": "https://localhost:8080/"
        },
        "outputId": "a8724e6c-3c74-4785-fce9-ab78d61bf94c"
      },
      "source": [
        "from scipy.stats import ttest_ind\n",
        "t_stat,pvalue=ttest_ind(data[data['condition']=='exercise']['BP'],\n",
        "    data[data['condition']=='couch']['BP'],\n",
        "                        )\n",
        "print(t_stat,pvalue)\n"
      ],
      "execution_count": null,
      "outputs": [
        {
          "output_type": "stream",
          "name": "stdout",
          "text": [
            "-2.0696748164600636 0.053147776556375585\n"
          ]
        }
      ]
    },
    {
      "cell_type": "code",
      "metadata": {
        "id": "M-P_atPqLHV5",
        "colab": {
          "base_uri": "https://localhost:8080/",
          "height": 313
        },
        "outputId": "a4b3a25d-456f-4f55-f221-753664e606fe"
      },
      "source": [
        "#as before, compare to the distribution\n",
        "null_test_stats=[]\n",
        "for i in range(1000):\n",
        "  current_t,current_pvalue=ttest_ind(data_exp2[data_exp2['condition']=='control_'+str(i)]['BP'],\n",
        "      data_exp2[data_exp2['condition']=='control_0']['BP'],\n",
        "                        )\n",
        "  null_test_stats.append(current_t)\n",
        "\n",
        "plt.hist(np.array(null_test_stats).flatten(),color='black')\n",
        "plt.xlabel('Test statistic (t)')\n",
        "plt.axvline(x=t_stat,color='red')\n",
        "\n",
        "count_more_extreme=int(np.sum(np.abs(null_test_stats)>=np.abs(t_stat)))\n",
        "print(count_more_extreme,'times we got a more extreme test statistic under the null')\n",
        "print(count_more_extreme/1000,'fraction of the time we got a more extreme test statistic under the null = p-value')"
      ],
      "execution_count": null,
      "outputs": [
        {
          "output_type": "stream",
          "name": "stdout",
          "text": [
            "37 times we got a more extreme test statistic under the null\n",
            "0.037 fraction of the time we got a more extreme test statistic under the null = p-value\n"
          ]
        },
        {
          "output_type": "display_data",
          "data": {
            "image/png": "[encoded data removed]",
            "text/plain": [
              "<Figure size 432x288 with 1 Axes>"
            ]
          },
          "metadata": {
            "needs_background": "light"
          }
        }
      ]
    },
    {
      "cell_type": "markdown",
      "metadata": {
        "id": "QyDL1jX6R1lk"
      },
      "source": [
        "Now, the exciting thing is that we didn't have to perform the second experiment to get an empirical distribution of the test statistic under the null. Rather, we were able to estimate it analytically. And indeed, the p-value we obtained from the t-test is similar to the one we got from our big experiment!\n"
      ]
    },
    {
      "cell_type": "markdown",
      "metadata": {
        "id": "orydznyJSUfw"
      },
      "source": [
        "Ok, so by now, you should be pros at hypothesis tests.\n",
        "\n",
        "Remember: decide on the null, compute test statistic, get the distribution of the test statistic under the null, compute a p-value, decide if significant."
      ]
    },
    {
      "cell_type": "markdown",
      "metadata": {
        "id": "xxdKxLjGSlmO"
      },
      "source": [
        "There are of course many other types of hypothesis tests that don't look at the difference between groups as we did here. For instace, in GWAS, you want to see if a mutation is enriched in a disease cohort compared to healthy samples, and you do a chi-square test. \n",
        "Or maybe you have more than 2 conditions. Then you do ANOVA, rather than a t-test.\n"
      ]
    },
    {
      "cell_type": "markdown",
      "metadata": {
        "id": "x6i4NGSR6RxY"
      },
      "source": [
        "**PROJECT: EXAMPLE III:** \n",
        "===\n",
        "\n",
        "RNA sequencing: which genes are characteristic for different types of immune cells in your body?\n",
        "--"
      ]
    },
    {
      "cell_type": "markdown",
      "metadata": {
        "id": "IfN6A98G6vwD"
      },
      "source": [
        "Motivation\n",
        "--\n",
        "\n",
        "Although all cells in our body have the same DNA, they can have wildly different functions. That is because they activate different genes, for example your brain cells turn on genes that lead to production of neurotransmitters while liver cells activate genes encoding enzymes.\n",
        "\n",
        "Here, you will compare different types of immune cells (e.g. B-cells that make your antibodies, and T-cells which fight infections), and identify which genes are specifically active in each type of cell."
      ]
    },
    {
      "cell_type": "code",
      "metadata": {
        "id": "mnqfPq06Y1dC"
      },
      "source": [
        "#install scanpy\n",
        "!pip install scanpy"
      ],
      "execution_count": null,
      "outputs": []
    },
    {
      "cell_type": "markdown",
      "metadata": {
        "id": "Z4SYgYLVpnKA"
      },
      "source": [
        "RNA sequencing\n",
        "--\n",
        "\n",
        "RNA sequencing allows us to quantify the extent to which each gene is active in a sample. When a gene is active, its DNA is transcribed into mRNA and then translated into protein. With RNA sequencing, we are counting how frequent mRNAs for each gene occur in a sample. Genes that are more active will have higher counts, while genes that are not made into mRNA will have 0 counts.\n",
        "\n",
        "Data\n",
        "--\n",
        "\n",
        "The code below will download the data for you, and organize it into a data frame, where:\n",
        "- every row is a different gene\n",
        "- every column is a different sample. \n",
        "  - We have 6 samples, 3 of T cells (called \"CD4 T cells\" and B cells (\"B cells\").\n",
        "- every value is the number of reads from each gene in each sample. \n",
        "  - Note: the values have been normalized to be comparable between samples."
      ]
    },
    {
      "cell_type": "code",
      "metadata": {
        "id": "6PF9LhSEEcPq"
      },
      "source": [
        "import scanpy as sc\n",
        "def prep_data():\n",
        "  adata=sc.datasets.pbmc3k_processed()\n",
        "  counts=pd.DataFrame(np.expm1(adata.raw.X.toarray()),\n",
        "                      index=adata.raw.obs_names,\n",
        "                      columns=adata.raw.var_names)\n",
        "  \n",
        "  #make 3 reps T-cells and 3 reps B-cells\n",
        "  cells_per_bulk=100\n",
        "  celltype='CD4 T cells'\n",
        "  cells=adata.obs_names[adata.obs['louvain']==celltype]\n",
        "  bulks=pd.DataFrame(columns=[celltype+'.rep1',celltype+'.rep2',celltype+'.rep3'],\n",
        "                    index=adata.raw.var_names)\n",
        "\n",
        "  for i in range(3):\n",
        "    cells_here=cells[(i*100):((i+1)*100)]\n",
        "    bulks[celltype+'.rep'+str(i+1)]=list(counts.loc[cells_here,:].sum(axis=0))\n",
        "  bulk_t=bulks\n",
        "\n",
        "  celltype='B cells'\n",
        "  cells=adata.obs_names[adata.obs['louvain']==celltype]\n",
        "  bulks=pd.DataFrame(columns=[celltype+'.rep1',celltype+'.rep2',celltype+'.rep3'],\n",
        "                    index=adata.raw.var_names)\n",
        "\n",
        "  for i in range(3):\n",
        "    cells_here=cells[(i*100):((i+1)*100)]\n",
        "    bulks[celltype+'.rep'+str(i+1)]=list(counts.loc[cells_here,:].sum(axis=0))\n",
        "\n",
        "  bulks=pd.concat([bulk_t,bulks],axis=1)\n",
        "  bulks=bulks.sort_values(by=bulks.columns[0],ascending=False)\n",
        "  return(bulks)\n",
        "\n",
        "data=prep_data()\n",
        "print(data.head())\n"
      ],
      "execution_count": null,
      "outputs": []
    },
    {
      "cell_type": "markdown",
      "metadata": {
        "id": "9LvE0wZnr4th"
      },
      "source": [
        "**Let's explore the dataset**\n",
        "\n",
        "**(1 pt)** What are the names of the samples?\n",
        "\n",
        "\n",
        "\n",
        "**(2 pts)** What is the highest recorded value? What is the lowest?\n",
        "\n"
      ]
    },
    {
      "cell_type": "code",
      "metadata": {
        "id": "tZSVE-rqr3oj"
      },
      "source": [
        "#write code to answer the questions here"
      ],
      "execution_count": null,
      "outputs": []
    },
    {
      "cell_type": "markdown",
      "metadata": {
        "id": "27T483mPqpJJ"
      },
      "source": [
        "**Exploring the data**\n",
        "\n",
        "One gene that is different between our 2 cell types is IL7R. \n",
        "\n",
        "**(1 pt)** Plot the distribution of the IL7R gene in the 2 conditions. Which cell type (CD4 T cells or B cells) has the higher level of this gene?\n",
        "\n",
        "\n",
        "\n",
        "**(1 pt)** How many samples do we have for each condition?\n"
      ]
    },
    {
      "cell_type": "code",
      "metadata": {
        "id": "52k4faUTqm8s"
      },
      "source": [
        "#inspect the data \n",
        "GENE='IL7R'\n",
        "long_data=pd.DataFrame({GENE:data.loc[GENE,:],\n",
        "                        'condition':[x.split('.')[0] for x in data.columns]})\n",
        "print(long_data)\n",
        "\n",
        "sns.catplot(data=long_data,x='condition',y=GENE)"
      ],
      "execution_count": null,
      "outputs": []
    },
    {
      "cell_type": "markdown",
      "metadata": {
        "id": "sqVvQHdEuf8s"
      },
      "source": [
        "**Two-sample t-test for one gene across 2 conditions**\n",
        "\n",
        "We are now going to check whether the gene IL7R is differentially active in CD4 T cells vs B cells. \n",
        "\n",
        "**(1 pt)** What is the null hypothesis?\n",
        "\n",
        "**(1 pt)** Based on your plot of the gene in the two conditions, and the fact that there looks like there might be a difference, what do you expect the sign of the t-statistic to be (CD4 T cells vs B cells)?\n"
      ]
    },
    {
      "cell_type": "markdown",
      "metadata": {
        "id": "y06nbXQIuhay"
      },
      "source": [
        "We are going to use the function ttest_ind to perform our t-test. You can read about it here: https://docs.scipy.org/doc/scipy/reference/generated/scipy.stats.ttest_ind.html."
      ]
    },
    {
      "cell_type": "markdown",
      "metadata": {
        "id": "czpIaUoRsCYs"
      },
      "source": [
        "\n",
        "\n",
        "**(1 pt)** What is the t-statistic?\n",
        "\n",
        "\n",
        "**(1 pt)** What is the p-value?\n",
        "\n",
        "\n",
        "**(1 pt)** Describe in your own words what the p-value means.\n",
        "\n",
        "\n",
        "**(1 pt)** Is the p-value significant at alpha = 0.05?\n"
      ]
    },
    {
      "cell_type": "code",
      "metadata": {
        "id": "hU57ZuTzEcer"
      },
      "source": [
        "#pick 1 gene, do 1 t-test\n",
        "GENE='IL7R'\n",
        "COND1=['CD4 T cells.rep'+str(x+1) for x in range(3)]\n",
        "COND2=['B cells.rep'+str(x+1) for x in range(3)]\n",
        "\n",
        "#plot gene across samples\n",
        "\n",
        "#t-test\n",
        "from scipy.stats import ttest_ind\n",
        "t_stat,pvalue=ttest_ind(data.loc[GENE,COND1],data.loc[GENE,COND2])\n",
        "print('t statistic',t_stat.round(2))\n",
        "print('p-value',pvalue.round(5))"
      ],
      "execution_count": null,
      "outputs": []
    },
    {
      "cell_type": "markdown",
      "metadata": {
        "id": "UgJrYBcAt2fc"
      },
      "source": [
        "**Two-sample t-tests for each gene across 2 conditions**\n",
        "\n",
        "We are now going to repeat our analysis from before for all genes in our dataset.\n",
        "\n",
        "**(1 pt)** How many genes are present in our dataset?\n",
        "\n"
      ]
    },
    {
      "cell_type": "code",
      "metadata": {
        "id": "F8VM7kt1MkBa"
      },
      "source": [
        "#all genes t-tests\n",
        "PSEUDOCOUNT=1\n",
        "results=pd.DataFrame(index=data.index,\n",
        "                     columns=['t','p','lfc'])\n",
        "for gene in data.index:\n",
        "  t_stat,pvalue=ttest_ind(data.loc[gene,COND1],data.loc[gene,COND2])\n",
        "  lfc=np.log2((data.loc[gene,COND1].mean()+PSEUDOCOUNT)/(data.loc[gene,COND2].mean()+PSEUDOCOUNT))\n",
        "  results.loc[gene,'t']=t_stat\n",
        "  results.loc[gene,'p']=pvalue\n",
        "  results.loc[gene,'lfc']=lfc\n"
      ],
      "execution_count": null,
      "outputs": []
    },
    {
      "cell_type": "markdown",
      "metadata": {
        "id": "J5brF3iouawl"
      },
      "source": [
        "**Ranking discoveries by either significance or fold change**\n",
        "\n",
        "For each gene, we have obtained:\n",
        "- a t-statistic\n",
        "- a p-value for the difference between the 2 conditions\n",
        "- a log2 fold change between CD4 T cells and B cells\n",
        "\n",
        "We can inspect how fold changes relate to the significance of the differences. \n",
        "\n",
        "**(1 pt)** What do you expect the relationship to be between significance/p-values and fold changes?\n",
        "\n",
        "\n",
        " \n"
      ]
    },
    {
      "cell_type": "code",
      "metadata": {
        "colab": {
          "base_uri": "https://localhost:8080/",
          "height": 279
        },
        "id": "2-MATQB2Qxhn",
        "outputId": "4952e3a6-6a90-4486-8fdc-c951a378a99c"
      },
      "source": [
        "#volcano plot\n",
        "###### \n",
        "results['p']=results['p'].fillna(1)\n",
        "\n",
        "PS2=1e-7\n",
        "plt.scatter(results['lfc'],-np.log10(results['p']+PS2),s=5,alpha=0.5,color='black')\n",
        "plt.xlabel('Log2 fold change (CD4 T cells/B cells)')\n",
        "plt.ylabel('-log10(p-value)')\n",
        "plt.show()"
      ],
      "execution_count": null,
      "outputs": [
        {
          "output_type": "display_data",
          "data": {
            "image/png": "[encoded data removed]",
            "text/plain": [
              "<Figure size 432x288 with 1 Axes>"
            ]
          },
          "metadata": {
            "needs_background": "light"
          }
        }
      ]
    },
    {
      "cell_type": "markdown",
      "metadata": {
        "id": "CZQrBGNjwLaM"
      },
      "source": [
        "**Multiple testing correction**\n",
        "\n",
        "Now, we will explore how the number of differentially active genes differs depending on how we correct for multiple tests.\n",
        "\n",
        "**(1 pt)** How many genes pass the significance level of 0.05, without performing any correction for multiple testing?\n",
        "\n"
      ]
    },
    {
      "cell_type": "code",
      "metadata": {
        "id": "WOO1tsl9wf0Y"
      },
      "source": [
        "ALPHA=0.05\n",
        "print((results['p']<=ALPHA).sum())"
      ],
      "execution_count": null,
      "outputs": []
    },
    {
      "cell_type": "markdown",
      "metadata": {
        "id": "vYFu2uQuzNw3"
      },
      "source": [
        "We will use a function that adjusts our p-values using different methods, called \"multipletests\". You can read about it here: https://www.statsmodels.org/dev/generated/statsmodels.stats.multitest.multipletests.html\n",
        "\n",
        "We will use the following settings:\n",
        "- for Bonferroni correction, we set method='bonferroni'. This will multiply our p-values by the number of tests we did. If the resulting values are greated than 1 they will be clipped to 1.\n",
        "- for Benjamini-Hochberg correction, we set method='fdr_bh'"
      ]
    },
    {
      "cell_type": "markdown",
      "metadata": {
        "id": "GGJYXFOEwsDR"
      },
      "source": [
        "**(2 pts)** How many genes pass the significance level of 0.05, after correcting for multiple testing using the Bonferroni method? What is the revised p-value threshold?\n",
        "\n",
        "**(1 pt)** Would the gene we tested before, IL7R, pass this threshold?\n",
        "\n"
      ]
    },
    {
      "cell_type": "code",
      "metadata": {
        "id": "-3eBU0XIw8CV"
      },
      "source": [
        "#multiple testing correction \n",
        "\n",
        "#bonferroni\n",
        "from statsmodels.stats.multitest import multipletests\n",
        "results['p.adj.bonferroni']=multipletests(results['p'], method='bonferroni')[1]\n",
        "\n",
        "FDR=ALPHA\n",
        "plt.hist(results['p'],100)\n",
        "plt.axvline(x=FDR,color='red',linestyle='--')\n",
        "plt.xlabel('Unadjusted p-values')\n",
        "plt.ylabel('Number of genes')\n",
        "plt.show()\n",
        "plt.hist(results['p.adj.bonferroni'],100)\n",
        "#plt.ylim(0,200)\n",
        "plt.axvline(x=FDR,color='red',linestyle='--')\n",
        "plt.xlabel('P-values (Bonferroni corrected)')\n",
        "plt.ylabel('Number of genes')\n",
        "plt.show()\n",
        "plt.show()\n",
        "\n",
        "print('DE Bonferroni',(results['p.adj.bonferroni']<=FDR).sum())"
      ],
      "execution_count": null,
      "outputs": []
    },
    {
      "cell_type": "markdown",
      "metadata": {
        "id": "bhi5yXqVxe6q"
      },
      "source": [
        "**(1 pt)** How many genes pass the significance level of 0.05, after correcting for multiple testing using the Benjamini-Hochberg method? \n",
        "\n"
      ]
    },
    {
      "cell_type": "code",
      "metadata": {
        "id": "rT5SEacFMkFq"
      },
      "source": [
        "results['p.adj.bh']=multipletests(results['p'], method='fdr_bh')[1]\n",
        "\n",
        "FDR=0.05\n",
        "plt.hist(results['p'],100)\n",
        "plt.axvline(x=FDR,color='red',linestyle='--')\n",
        "plt.xlabel('Unadjusted p-values')\n",
        "plt.ylabel('Number of genes')\n",
        "plt.show()\n",
        "plt.hist(results['p.adj.bh'],100)\n",
        "plt.ylim(0,2000)\n",
        "plt.axvline(x=FDR,color='red',linestyle='--')\n",
        "plt.xlabel('P-values (Benjamini-Hochberg corrected)')\n",
        "plt.ylabel('Number of genes')\n",
        "plt.show()\n",
        "\n",
        "print('DE BH',(results['p.adj.bh']<=FDR).sum())"
      ],
      "execution_count": null,
      "outputs": []
    },
    {
      "cell_type": "markdown",
      "metadata": {
        "id": "sVPbHSXRxwg0"
      },
      "source": [
        "**(1 pt)** Which multiple testing correction is the most stringent? \n",
        "\n",
        "\n",
        "Finally, let's look at our results. Print the significant differential genes and look up a few on the internet."
      ]
    },
    {
      "cell_type": "code",
      "metadata": {
        "id": "xirIOEPpqfuZ"
      },
      "source": [
        "results.loc[results['p.adj.bonferroni']<=FDR,:].sort_values(by='lfc')"
      ],
      "execution_count": null,
      "outputs": []
    },
    {
      "cell_type": "markdown",
      "metadata": {
        "id": "O7tq8TOn16_y"
      },
      "source": [
        "For example, CD7 is a gene found on T cells, whereas HLA genes are found on B cells."
      ]
    },
    {
      "cell_type": "code",
      "metadata": {
        "id": "SkWUnvux2CXX"
      },
      "source": [
        ""
      ],
      "execution_count": null,
      "outputs": []
    }
  ]
}