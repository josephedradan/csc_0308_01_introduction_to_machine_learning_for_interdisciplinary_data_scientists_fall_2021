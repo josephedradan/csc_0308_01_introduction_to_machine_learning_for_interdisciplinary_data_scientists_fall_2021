{
 "cells": [
  {
   "cell_type": "markdown",
   "metadata": {
    "id": "B5BwydUSUwMI"
   },
   "source": [
    "## Instructions\n",
    "\n",
    "Please make a copy and rename it with your name (ex: Proj6_Ilmi_Yoon). All grading points should be explored in the notebook but some can be done in a separate pdf file. \n",
    "\n",
    "*Graded questions will be listed with \"Q:\" followed by the corresponding points.* \n",
    "\n",
    "You will be submitting **a pdf** file containing **the url of your own proj6.**\n",
    "\n",
    "\n",
    "---"
   ]
  },
  {
   "cell_type": "code",
   "execution_count": null,
   "metadata": {
    "id": "or8vWvC9E0C4"
   },
   "outputs": [],
   "source": [
    "#import python packages\n",
    "\n",
    "import numpy as np\n",
    "import scipy as sp\n",
    "import scipy.stats as st\n",
    "import pandas as pd\n",
    "import seaborn as sns\n",
    "import matplotlib.pyplot as plt"
   ]
  },
  {
   "cell_type": "code",
   "execution_count": null,
   "metadata": {
    "id": "PHQgN4oAeq83"
   },
   "outputs": [],
   "source": [
    "rng=np.random.RandomState(1234)"
   ]
  },
  {
   "cell_type": "code",
   "execution_count": null,
   "metadata": {
    "id": "rWBQXg2Mji7i"
   },
   "outputs": [],
   "source": [
    "#simulate a normal distribution \n",
    "MEAN=527\n",
    "SD=112\n",
    "N_POPULATION=100000\n",
    "N_SAMPLE=1000\n",
    "\n",
    "population=rng.normal(loc=MEAN, \n",
    "                            scale=SD, \n",
    "                            size=N_POPULATION)\n",
    "our_sample=population[0:N_SAMPLE]\n"
   ]
  },
  {
   "cell_type": "code",
   "execution_count": null,
   "metadata": {
    "colab": {
     "base_uri": "https://localhost:8080/",
     "height": 333
    },
    "id": "oHU3qxMl24O7",
    "outputId": "42a5dcdb-ca3e-4600-f021-494ce0001ab0"
   },
   "outputs": [
    {
     "name": "stderr",
     "output_type": "stream",
     "text": [
      "/usr/local/lib/python3.7/dist-packages/seaborn/distributions.py:2619: FutureWarning: `distplot` is a deprecated function and will be removed in a future version. Please adapt your code to use either `displot` (a figure-level function with similar flexibility) or `histplot` (an axes-level function for histograms).\n",
      "  warnings.warn(msg, FutureWarning)\n"
     ]
    },
    {
     "data": {
      "image/png": "[encoded data removed]",
      "text/plain": [
       "<Figure size 432x288 with 1 Axes>"
      ]
     },
     "metadata": {
      "needs_background": "light"
     },
     "output_type": "display_data"
    }
   ],
   "source": [
    "\n",
    "\n",
    "fig,plots=plt.subplots(1)\n",
    "sns.distplot(our_sample, hist=True, kde=True, \n",
    "             bins=20,\n",
    "              color = 'blue', \n",
    "             hist_kws={'edgecolor':'black','color':'black'},\n",
    "             kde_kws={'linewidth': 4},ax=plots)\n",
    "plots.set_xlabel('score')\n",
    "plots.set_ylabel('Frequency')\n",
    "plt.show()\n",
    "\n"
   ]
  },
  {
   "cell_type": "markdown",
   "metadata": {
    "id": "wocCnxEDPQjc"
   },
   "source": [
    "Working with distributions\n",
    "===\n",
    "\n",
    "We'll work with GMAT scores, which follow a normal distribution with mean 527 and SD 112.\n",
    "\n",
    "\n",
    "\n",
    "Typically 2 questions:\n",
    "- What is the fraction of datapoints in a range? \n",
    "  - e.g. What fraction of test scores fall between 400 and 500?\n",
    "  - scores => density\n",
    "- Opposite direction: what is the data range that captures a given fraction of the data?\n",
    "  - e.g. What score do you need to be in the 5% percentile?\n",
    "  - density => scores"
   ]
  },
  {
   "cell_type": "code",
   "execution_count": null,
   "metadata": {
    "id": "1vLLYIS124Si"
   },
   "outputs": [],
   "source": [
    "def score2density(min_value,max_value,all_values,range_vs_outside='range',\n",
    "              plot=True,\n",
    "              xlabel='Please set an x-label :)'):\n",
    "  num_in_range=0\n",
    "  for i in range(len(list(all_values))):\n",
    "    value=all_values[i]\n",
    "    if value>=min_value and value<max_value:\n",
    "      if range_vs_outside=='range':\n",
    "        num_in_range+=1\n",
    "    else:\n",
    "      if range_vs_outside=='outside_range':\n",
    "        num_in_range+=1\n",
    "  \n",
    "  if plot:\n",
    "    fig,plots=plt.subplots(1)\n",
    "    sns.distplot(all_values, hist=True, kde=True, \n",
    "                color = 'black', \n",
    "                hist_kws={'edgecolor':'lightgray','color':'lightgray'},\n",
    "                kde_kws={'linewidth': 4},ax=plots)\n",
    "\n",
    "    plots.set_xlabel(xlabel,fontsize=15)\n",
    "    plots.set_ylabel('Density',fontsize=15)\n",
    "    x = plots.lines[-1].get_xdata()\n",
    "    y = plots.lines[-1].get_ydata()\n",
    "    if range_vs_outside=='range':\n",
    "      plots.fill_between(x, 0, y, where=(x >= min_value) & (x < max_value), color='gold')\n",
    "    else:\n",
    "      plots.fill_between(x, 0, y, where=(x < min_value) | (x > max_value), color='gold')\n",
    "    plots.axvline(x=min_value,color='black',linestyle='--')\n",
    "    plots.axvline(x=max_value,color='black',linestyle='--')\n",
    "    plt.show()\n",
    "\n",
    "  if range_vs_outside=='range':\n",
    "    return(str(1.0*num_in_range/len(all_values))+' fraction of data points fall in ['+str(min_value)+','+str(max_value)+')')\n",
    "  if range_vs_outside=='outside_range':\n",
    "    return(str(1.0*num_in_range/len(all_values))+' fraction of data points fall outside ['+str(min_value)+','+str(max_value)+')')\n",
    "\n",
    "  "
   ]
  },
  {
   "cell_type": "code",
   "execution_count": null,
   "metadata": {
    "colab": {
     "base_uri": "https://localhost:8080/",
     "height": 360
    },
    "id": "8oPuZeko24Vz",
    "outputId": "49536065-c9b4-4408-e860-12ecfd676035"
   },
   "outputs": [
    {
     "name": "stderr",
     "output_type": "stream",
     "text": [
      "/usr/local/lib/python3.7/dist-packages/seaborn/distributions.py:2619: FutureWarning: `distplot` is a deprecated function and will be removed in a future version. Please adapt your code to use either `displot` (a figure-level function with similar flexibility) or `histplot` (an axes-level function for histograms).\n",
      "  warnings.warn(msg, FutureWarning)\n"
     ]
    },
    {
     "data": {
      "image/png": "[encoded data removed]",
      "text/plain": [
       "<Figure size 432x288 with 1 Axes>"
      ]
     },
     "metadata": {
      "needs_background": "light"
     },
     "output_type": "display_data"
    },
    {
     "data": {
      "application/vnd.google.colaboratory.intrinsic+json": {
       "type": "string"
      },
      "text/plain": [
       "'0.275 fraction of data points fall in [400,500)'"
      ]
     },
     "execution_count": 6,
     "metadata": {},
     "output_type": "execute_result"
    }
   ],
   "source": [
    "score2density(min_value=400,\n",
    "                           max_value=500,\n",
    "                           all_values=our_sample,\n",
    "                           xlabel='GMAT scores',\n",
    "              range_vs_outside='range')\n"
   ]
  },
  {
   "cell_type": "code",
   "execution_count": null,
   "metadata": {
    "colab": {
     "base_uri": "https://localhost:8080/",
     "height": 360
    },
    "id": "kKiYkm-Nk41a",
    "outputId": "5c600498-5da0-4ecf-8f1f-152d21b90f21"
   },
   "outputs": [
    {
     "name": "stderr",
     "output_type": "stream",
     "text": [
      "/usr/local/lib/python3.7/dist-packages/seaborn/distributions.py:2619: FutureWarning: `distplot` is a deprecated function and will be removed in a future version. Please adapt your code to use either `displot` (a figure-level function with similar flexibility) or `histplot` (an axes-level function for histograms).\n",
      "  warnings.warn(msg, FutureWarning)\n"
     ]
    },
    {
     "data": {
      "image/png": "[encoded data removed]",
      "text/plain": [
       "<Figure size 432x288 with 1 Axes>"
      ]
     },
     "metadata": {
      "needs_background": "light"
     },
     "output_type": "display_data"
    },
    {
     "data": {
      "application/vnd.google.colaboratory.intrinsic+json": {
       "type": "string"
      },
      "text/plain": [
       "'0.254 fraction of data points fall in [600,1000)'"
      ]
     },
     "execution_count": 7,
     "metadata": {},
     "output_type": "execute_result"
    }
   ],
   "source": [
    "#what fraction of values > 600\n",
    "score2density(min_value=600,\n",
    "                           max_value=1000,\n",
    "                           all_values=our_sample,\n",
    "                           xlabel='GMAT scores')"
   ]
  },
  {
   "cell_type": "code",
   "execution_count": null,
   "metadata": {
    "colab": {
     "base_uri": "https://localhost:8080/",
     "height": 359
    },
    "id": "Q_1J71hRl5v9",
    "outputId": "8cc31a72-280d-4ac9-d06f-d87198abbb28"
   },
   "outputs": [
    {
     "name": "stderr",
     "output_type": "stream",
     "text": [
      "/usr/local/lib/python3.7/dist-packages/seaborn/distributions.py:2619: FutureWarning: `distplot` is a deprecated function and will be removed in a future version. Please adapt your code to use either `displot` (a figure-level function with similar flexibility) or `histplot` (an axes-level function for histograms).\n",
      "  warnings.warn(msg, FutureWarning)\n"
     ]
    },
    {
     "data": {
      "image/png": "[encoded data removed]",
      "text/plain": [
       "<Figure size 432x288 with 1 Axes>"
      ]
     },
     "metadata": {
      "needs_background": "light"
     },
     "output_type": "display_data"
    },
    {
     "data": {
      "text/plain": [
       "0.06499999999999995"
      ]
     },
     "execution_count": 8,
     "metadata": {},
     "output_type": "execute_result"
    }
   ],
   "source": [
    "#fraction of values less than 300 or more than 700\n",
    "score2density(min_value=300,\n",
    "                           max_value=700,\n",
    "                           all_values=our_sample,\n",
    "                           xlabel='GMAT scores')\n",
    "1-0.935"
   ]
  },
  {
   "cell_type": "code",
   "execution_count": null,
   "metadata": {
    "id": "oJDQwvMd24cQ"
   },
   "outputs": [],
   "source": [
    "\n",
    "def density2score(all_values,bottom_quantile=0,top_quantile=1,\n",
    "              plot=True,\n",
    "                     xlabel='Please set an x-label :)'):\n",
    "\n",
    "  top_value=np.quantile(all_values,top_quantile)\n",
    "  bottom_value=np.quantile(all_values,bottom_quantile)\n",
    "\n",
    "  if plot:\n",
    "\n",
    "    fig,plots=plt.subplots(1)\n",
    "    sns.distplot(all_values, hist=True, kde=True, \n",
    "                color = 'black', \n",
    "                hist_kws={'edgecolor':'lightgray','color':'lightgray'},\n",
    "                kde_kws={'linewidth': 4},ax=plots)\n",
    "\n",
    "    plots.set_xlabel(xlabel,fontsize=15)\n",
    "    plots.set_ylabel('Density',fontsize=15)\n",
    "    x = plots.lines[-1].get_xdata()\n",
    "    y = plots.lines[-1].get_ydata()\n",
    "    plots.fill_between(x, 0, y, where=(x >= bottom_value) & (x < top_value), color='gray')\n",
    "    plots.axvline(x=bottom_value,color='gold',linestyle='--')\n",
    "    plots.axvline(x=top_value,color='gold',linestyle='--')\n",
    "    plt.show()\n",
    "  return('Scores covering the quantiles '+str(bottom_quantile)+' to '+str(top_quantile)+' are '+str(bottom_value)+ ' '+str(top_value))\n",
    "\n",
    "  \n"
   ]
  },
  {
   "cell_type": "code",
   "execution_count": null,
   "metadata": {
    "colab": {
     "base_uri": "https://localhost:8080/",
     "height": 360
    },
    "id": "suTtQ8Nz24fQ",
    "outputId": "beaa404f-b1ca-46d0-ee43-1657910361b5"
   },
   "outputs": [
    {
     "name": "stderr",
     "output_type": "stream",
     "text": [
      "/usr/local/lib/python3.7/dist-packages/seaborn/distributions.py:2619: FutureWarning: `distplot` is a deprecated function and will be removed in a future version. Please adapt your code to use either `displot` (a figure-level function with similar flexibility) or `histplot` (an axes-level function for histograms).\n",
      "  warnings.warn(msg, FutureWarning)\n"
     ]
    },
    {
     "data": {
      "image/png": "[encoded data removed]",
      "text/plain": [
       "<Figure size 432x288 with 1 Axes>"
      ]
     },
     "metadata": {
      "needs_background": "light"
     },
     "output_type": "display_data"
    },
    {
     "data": {
      "application/vnd.google.colaboratory.intrinsic+json": {
       "type": "string"
      },
      "text/plain": [
       "'Scores covering the quantiles 0.1 to 0.9 are 390.18412842542233 672.6423323122425'"
      ]
     },
     "execution_count": 10,
     "metadata": {},
     "output_type": "execute_result"
    }
   ],
   "source": [
    "density2score(our_sample,bottom_quantile=0.1,top_quantile=0.9,xlabel='GMAT scores')"
   ]
  },
  {
   "cell_type": "code",
   "execution_count": null,
   "metadata": {
    "colab": {
     "base_uri": "https://localhost:8080/",
     "height": 360
    },
    "id": "M3FOGx4h24if",
    "outputId": "3ce539f0-4164-4cc6-bbc1-f92929faa1a7"
   },
   "outputs": [
    {
     "name": "stderr",
     "output_type": "stream",
     "text": [
      "/usr/local/lib/python3.7/dist-packages/seaborn/distributions.py:2619: FutureWarning: `distplot` is a deprecated function and will be removed in a future version. Please adapt your code to use either `displot` (a figure-level function with similar flexibility) or `histplot` (an axes-level function for histograms).\n",
      "  warnings.warn(msg, FutureWarning)\n"
     ]
    },
    {
     "data": {
      "image/png": "[encoded data removed]",
      "text/plain": [
       "<Figure size 432x288 with 1 Axes>"
      ]
     },
     "metadata": {
      "needs_background": "light"
     },
     "output_type": "display_data"
    },
    {
     "data": {
      "application/vnd.google.colaboratory.intrinsic+json": {
       "type": "string"
      },
      "text/plain": [
       "'Scores covering the quantiles 0.95 to 1 are 714.8630992928165 836.5505369431514'"
      ]
     },
     "execution_count": 11,
     "metadata": {},
     "output_type": "execute_result"
    }
   ],
   "source": [
    "density2score(our_sample,bottom_quantile=0.95,top_quantile=1,xlabel='GMAT scores')"
   ]
  },
  {
   "cell_type": "code",
   "execution_count": null,
   "metadata": {
    "colab": {
     "base_uri": "https://localhost:8080/",
     "height": 360
    },
    "id": "xfgeijYtnTaZ",
    "outputId": "ca801b6e-1f74-438a-af8b-9bed28497c9a"
   },
   "outputs": [
    {
     "name": "stderr",
     "output_type": "stream",
     "text": [
      "/usr/local/lib/python3.7/dist-packages/seaborn/distributions.py:2619: FutureWarning: `distplot` is a deprecated function and will be removed in a future version. Please adapt your code to use either `displot` (a figure-level function with similar flexibility) or `histplot` (an axes-level function for histograms).\n",
      "  warnings.warn(msg, FutureWarning)\n"
     ]
    },
    {
     "data": {
      "image/png": "[encoded data removed]",
      "text/plain": [
       "<Figure size 432x288 with 1 Axes>"
      ]
     },
     "metadata": {
      "needs_background": "light"
     },
     "output_type": "display_data"
    },
    {
     "data": {
      "application/vnd.google.colaboratory.intrinsic+json": {
       "type": "string"
      },
      "text/plain": [
       "'Scores covering the quantiles 0.5 to 1 are 528.9892199483011 836.5505369431514'"
      ]
     },
     "execution_count": 12,
     "metadata": {},
     "output_type": "execute_result"
    }
   ],
   "source": [
    "#top  50% quantile = 50% to 100% of the scores\n",
    "density2score(our_sample,bottom_quantile=0.5,top_quantile=1,xlabel='GMAT scores')\n"
   ]
  },
  {
   "cell_type": "code",
   "execution_count": null,
   "metadata": {
    "colab": {
     "base_uri": "https://localhost:8080/",
     "height": 360
    },
    "id": "l5fN0nTjn1WQ",
    "outputId": "6d51b97b-27f9-4a46-ba2a-711aa5e5aea5"
   },
   "outputs": [
    {
     "name": "stderr",
     "output_type": "stream",
     "text": [
      "/usr/local/lib/python3.7/dist-packages/seaborn/distributions.py:2619: FutureWarning: `distplot` is a deprecated function and will be removed in a future version. Please adapt your code to use either `displot` (a figure-level function with similar flexibility) or `histplot` (an axes-level function for histograms).\n",
      "  warnings.warn(msg, FutureWarning)\n"
     ]
    },
    {
     "data": {
      "image/png": "[encoded data removed]",
      "text/plain": [
       "<Figure size 432x288 with 1 Axes>"
      ]
     },
     "metadata": {
      "needs_background": "light"
     },
     "output_type": "display_data"
    },
    {
     "data": {
      "application/vnd.google.colaboratory.intrinsic+json": {
       "type": "string"
      },
      "text/plain": [
       "'Scores covering the quantiles 0.25 to 0.75 are 457.0762054251187 601.9062859674676'"
      ]
     },
     "execution_count": 13,
     "metadata": {},
     "output_type": "execute_result"
    }
   ],
   "source": [
    "#low and high ends of the middle 50%\n",
    "#0.25<->0.75\n",
    "density2score(our_sample,bottom_quantile=0.25,top_quantile=0.75,xlabel='GMAT scores')\n"
   ]
  },
  {
   "cell_type": "markdown",
   "metadata": {
    "id": "80YceMSmRJ9p"
   },
   "source": [
    "Confidence intervals\n",
    "====\n",
    "\n",
    "We took a sample and want to talk about what we think the true mean of the population is.\n",
    "\n",
    "**\"LIFE IS EASY\" case**\n",
    "You hire someone to estimate for you the distribution of the true mean.\n",
    "\n",
    "They bring you this:"
   ]
  },
  {
   "cell_type": "code",
   "execution_count": null,
   "metadata": {
    "id": "4rkf6iJ2WDjb"
   },
   "outputs": [],
   "source": [
    "#very expensive work you paid them to do\n",
    "#========================================\n",
    "\n",
    "TRUE_MEAN=MEAN #this is the mean we used when generating the data\n",
    "SEM=np.std(our_sample)/np.sqrt(our_sample.shape[0])\n",
    "\n",
    "#they give you this distribution\n",
    "distribution_of_means=np.random.normal(loc=TRUE_MEAN, \n",
    "                            scale=SEM, \n",
    "                            size=1000)"
   ]
  },
  {
   "cell_type": "code",
   "execution_count": null,
   "metadata": {
    "colab": {
     "base_uri": "https://localhost:8080/",
     "height": 356
    },
    "id": "eGpKqQVXS1o7",
    "outputId": "bb30093f-9e20-4c2f-8942-3df07caa8896"
   },
   "outputs": [
    {
     "name": "stderr",
     "output_type": "stream",
     "text": [
      "/usr/local/lib/python3.7/dist-packages/seaborn/distributions.py:2619: FutureWarning: `distplot` is a deprecated function and will be removed in a future version. Please adapt your code to use either `displot` (a figure-level function with similar flexibility) or `histplot` (an axes-level function for histograms).\n",
      "  warnings.warn(msg, FutureWarning)\n"
     ]
    },
    {
     "data": {
      "image/png": "[encoded data removed]",
      "text/plain": [
       "<Figure size 432x288 with 1 Axes>"
      ]
     },
     "metadata": {
      "needs_background": "light"
     },
     "output_type": "display_data"
    }
   ],
   "source": [
    "#you plot the distribution\n",
    "xlabel='Mean of GMAT scores\\n(if we kept taking random samples)'\n",
    "fig,plots=plt.subplots(1)\n",
    "sns.distplot(distribution_of_means, hist=True, kde=True, \n",
    "                color = 'black', \n",
    "                hist_kws={'edgecolor':'lightgray','color':'lightgray'},\n",
    "                kde_kws={'linewidth': 4},\n",
    "             ax=plots)\n",
    "\n",
    "plots.set_xlabel(xlabel,fontsize=15)\n",
    "plots.set_ylabel('Density',fontsize=15)\n",
    "\n",
    "plt.show()"
   ]
  },
  {
   "cell_type": "code",
   "execution_count": null,
   "metadata": {
    "colab": {
     "base_uri": "https://localhost:8080/",
     "height": 374
    },
    "id": "HoNZUeteS1rb",
    "outputId": "4426220e-a37a-4968-9e8f-224f1ebabf2e"
   },
   "outputs": [
    {
     "name": "stderr",
     "output_type": "stream",
     "text": [
      "/usr/local/lib/python3.7/dist-packages/seaborn/distributions.py:2619: FutureWarning: `distplot` is a deprecated function and will be removed in a future version. Please adapt your code to use either `displot` (a figure-level function with similar flexibility) or `histplot` (an axes-level function for histograms).\n",
      "  warnings.warn(msg, FutureWarning)\n"
     ]
    },
    {
     "data": {
      "image/png": "[encoded data removed]",
      "text/plain": [
       "<Figure size 432x288 with 1 Axes>"
      ]
     },
     "metadata": {
      "needs_background": "light"
     },
     "output_type": "display_data"
    },
    {
     "data": {
      "application/vnd.google.colaboratory.intrinsic+json": {
       "type": "string"
      },
      "text/plain": [
       "'Scores covering the quantiles 0.025 to 0.975 are 519.9599344636781 533.5145923318754'"
      ]
     },
     "execution_count": 16,
     "metadata": {},
     "output_type": "execute_result"
    }
   ],
   "source": [
    "#to create the confidence interval, all you do is ask to get the values at the relevant quantiles\n",
    "#for example, for a 95% CI, get the values from 2.5% to 97.5%\n",
    "density2score(distribution_of_means,bottom_quantile=0.025,top_quantile=0.975,xlabel='Mean of GMAT scores\\n(if we kept taking random samples)')"
   ]
  },
  {
   "cell_type": "code",
   "execution_count": null,
   "metadata": {
    "id": "P0IeSDs2S1sq"
   },
   "outputs": [],
   "source": [
    "#what is the interval for a 90% CI?\n",
    "#What about 99%?\n",
    "\n",
    "#what if we changed the sample size to 10? To 10000?\n",
    "#What is the 95% CI?\n",
    "\n",
    "N_SAMPLE=10\n",
    "our_sample=population[0:N_SAMPLE]"
   ]
  },
  {
   "cell_type": "markdown",
   "metadata": {
    "id": "d_J2s-PwX_7i"
   },
   "source": [
    "**Real life**\n",
    "\n",
    "In the real life, you don't know the distribution of the mean.\n",
    "You know it's normal most of the time, and you know how to compute its standard deviation (SEM).\n",
    "\n"
   ]
  },
  {
   "cell_type": "code",
   "execution_count": null,
   "metadata": {
    "colab": {
     "base_uri": "https://localhost:8080/",
     "height": 373
    },
    "id": "SzHyKdasbB4s",
    "outputId": "83128739-37db-4c58-e5e5-d256275f0ea9"
   },
   "outputs": [
    {
     "name": "stderr",
     "output_type": "stream",
     "text": [
      "/usr/local/lib/python3.7/dist-packages/seaborn/distributions.py:2619: FutureWarning: `distplot` is a deprecated function and will be removed in a future version. Please adapt your code to use either `displot` (a figure-level function with similar flexibility) or `histplot` (an axes-level function for histograms).\n",
      "  warnings.warn(msg, FutureWarning)\n"
     ]
    },
    {
     "data": {
      "text/plain": [
       "(500.0, 550.0)"
      ]
     },
     "execution_count": 18,
     "metadata": {},
     "output_type": "execute_result"
    },
    {
     "data": {
      "image/png": "[encoded data removed]",
      "text/plain": [
       "<Figure size 432x288 with 1 Axes>"
      ]
     },
     "metadata": {
      "needs_background": "light"
     },
     "output_type": "display_data"
    }
   ],
   "source": [
    "#you plot the distribution of the mean\n",
    "xlabel='Mean of GMAT scores\\n(if we kept taking random samples)'\n",
    "fig,plots=plt.subplots(1)\n",
    "sns.distplot(distribution_of_means, hist=True, kde=True, \n",
    "                color = 'black', \n",
    "                hist_kws={'edgecolor':'lightgray','color':'lightgray'},\n",
    "                kde_kws={'linewidth': 4},\n",
    "             ax=plots)\n",
    "\n",
    "plots.set_xlabel(xlabel,fontsize=15)\n",
    "plots.set_ylabel('Density',fontsize=15)\n",
    "\n",
    "#then you plot your sample mean\n",
    "plots.axvline(x=np.mean(our_sample),color='red',linestyle='-')\n",
    "plots.set_xlim(500,550)"
   ]
  },
  {
   "cell_type": "code",
   "execution_count": null,
   "metadata": {
    "colab": {
     "base_uri": "https://localhost:8080/",
     "height": 356
    },
    "id": "veUY5MZNS1u5",
    "outputId": "6d518819-49bb-4249-bbe0-28fdd4ed07d2"
   },
   "outputs": [
    {
     "name": "stderr",
     "output_type": "stream",
     "text": [
      "/usr/local/lib/python3.7/dist-packages/seaborn/distributions.py:2619: FutureWarning: `distplot` is a deprecated function and will be removed in a future version. Please adapt your code to use either `displot` (a figure-level function with similar flexibility) or `histplot` (an axes-level function for histograms).\n",
      "  warnings.warn(msg, FutureWarning)\n"
     ]
    },
    {
     "data": {
      "image/png": "[encoded data removed]",
      "text/plain": [
       "<Figure size 432x288 with 1 Axes>"
      ]
     },
     "metadata": {
      "needs_background": "light"
     },
     "output_type": "display_data"
    }
   ],
   "source": [
    "#center the distribution of the mean on your sample mean instead\n",
    "xlabel='Mean of GMAT scores\\n(if we kept taking random samples)'\n",
    "fig,plots=plt.subplots(1)\n",
    "\n",
    "\n",
    "plots.set_xlabel(xlabel,fontsize=15)\n",
    "plots.set_ylabel('Density',fontsize=15)\n",
    "\n",
    "#you look how it compares to the true mean\n",
    "plots.axvline(x=np.mean(distribution_of_means),color='black',linestyle='-')\n",
    "sns.distplot(distribution_of_means-np.mean(np.mean(distribution_of_means))+np.mean(np.mean(our_sample)), \n",
    "             hist=True, kde=True, \n",
    "                color = 'red', \n",
    "                hist_kws={'edgecolor':'red','color':'red'},\n",
    "                kde_kws={'linewidth': 4},\n",
    "             ax=plots)\n",
    "plots.set_xlim(500,550)\n",
    "\n",
    "plt.show()"
   ]
  },
  {
   "cell_type": "markdown",
   "metadata": {
    "id": "HqzWYRRdfFhz"
   },
   "source": [
    "One-sample t-test practice\n",
    "==\n",
    "\n",
    "With a one-sample t-test, we are asking whether a predefined value, m0 is in the confidence interval for the mean.\n",
    "\n",
    "Today, we'll reframe this test.\n",
    "\n",
    "This will involve the following:\n",
    "- we will think of the value of t as a test statistic, computed as ```\n",
    "(sample_mean-mu0)/(sample_sd/np.sqrt(n))\n",
    "```\n",
    "- we will look at the distribution of the test statistic under the null hypothesis\n",
    "- we will compute the number of times we would see a test statistic as or more extreme than the one we've seen. That will be called the p-value\n",
    "\n",
    "The p-value is the complement of the confidence interval, e.g. for if a value is not in 95% confidence interval, then its pvalue is < 0.05.\n",
    "\n",
    "We will continue with the example of GMAT scores, with mean 527 and SD 112. We will ask whether the true mean score is 525."
   ]
  },
  {
   "cell_type": "code",
   "execution_count": null,
   "metadata": {
    "colab": {
     "base_uri": "https://localhost:8080/"
    },
    "id": "G1RKiC0qBnWh",
    "outputId": "78d22b18-bf77-4c51-a579-1f2523de17bf"
   },
   "outputs": [
    {
     "name": "stdout",
     "output_type": "stream",
     "text": [
      "0.37554933863799767\n"
     ]
    }
   ],
   "source": [
    "#generate dataset\n",
    "#================\n",
    "MEAN=527\n",
    "SD=112\n",
    "N_POPULATION=100000\n",
    "N_SAMPLE=1000\n",
    "\n",
    "mu0=525\n",
    "\n",
    "population=np.random.normal(loc=MEAN, \n",
    "                            scale=SD, \n",
    "                            size=N_POPULATION)\n",
    "our_sample=population[0:N_SAMPLE]\n",
    "#==================\n",
    "\n",
    "\n",
    "#one-sample t-test\n",
    "#=================\n",
    "sample_mean=np.mean(our_sample)\n",
    "sample_sd=np.sqrt(np.var(our_sample, ddof=1)) #ddof makes this the unbiased, rather than biased sample sd\n",
    "n=our_sample.shape[0]\n",
    "df=n-1\n",
    "\n",
    "our_t=(sample_mean-mu0)/(sample_sd/np.sqrt(n))\n",
    "print(our_t)"
   ]
  },
  {
   "cell_type": "code",
   "execution_count": null,
   "metadata": {
    "id": "TeSyFPYABncB"
   },
   "outputs": [],
   "source": [
    "#simulate a t-distribution with degrees of freedom n-1\n",
    "our_t_dist=np.random.standard_t(df, size=10000)"
   ]
  },
  {
   "cell_type": "code",
   "execution_count": null,
   "metadata": {
    "colab": {
     "base_uri": "https://localhost:8080/",
     "height": 374
    },
    "id": "PbJPqhfcBnes",
    "outputId": "2962e181-a616-4d3c-fd66-2bf9218ecf0a"
   },
   "outputs": [
    {
     "name": "stderr",
     "output_type": "stream",
     "text": [
      "/usr/local/lib/python3.7/dist-packages/seaborn/distributions.py:2619: FutureWarning: `distplot` is a deprecated function and will be removed in a future version. Please adapt your code to use either `displot` (a figure-level function with similar flexibility) or `histplot` (an axes-level function for histograms).\n",
      "  warnings.warn(msg, FutureWarning)\n"
     ]
    },
    {
     "data": {
      "image/png": "[encoded data removed]",
      "text/plain": [
       "<Figure size 432x288 with 1 Axes>"
      ]
     },
     "metadata": {
      "needs_background": "light"
     },
     "output_type": "display_data"
    },
    {
     "data": {
      "application/vnd.google.colaboratory.intrinsic+json": {
       "type": "string"
      },
      "text/plain": [
       "'0.7095 fraction of data points fall outside [-0.37554933863799767,0.37554933863799767)'"
      ]
     },
     "execution_count": 22,
     "metadata": {},
     "output_type": "execute_result"
    }
   ],
   "source": [
    "#use score2density to get the fraction of times we get a t-statistic more extreme than the one we got\n",
    "score2density(min_value=-np.abs(our_t),max_value=np.abs(our_t),\n",
    "              all_values=our_t_dist,xlabel='test statistic distribution\\nunder the null',\n",
    "              range_vs_outside='outside_range')"
   ]
  },
  {
   "cell_type": "code",
   "execution_count": null,
   "metadata": {
    "colab": {
     "base_uri": "https://localhost:8080/"
    },
    "id": "1HOOhbmbj5Al",
    "outputId": "aa61b3f2-6fca-46d1-b9b6-649433c349d1"
   },
   "outputs": [
    {
     "data": {
      "text/plain": [
       "Ttest_1sampResult(statistic=0.37554933863799767, pvalue=0.7073316850256143)"
      ]
     },
     "execution_count": 23,
     "metadata": {},
     "output_type": "execute_result"
    }
   ],
   "source": [
    "#we can also get the same result using the function ttest_1samp\n",
    "from scipy.stats import ttest_1samp\n",
    "ttest_1samp(our_sample,mu0)"
   ]
  },
  {
   "cell_type": "markdown",
   "metadata": {
    "id": "O1mby3DGG6o0"
   },
   "source": [
    "\n",
    "Summary\n",
    "--\n",
    "\n",
    "Our null hypothesis was that the population mean was equal to 525.\n",
    "\n",
    "We computed the test statistic for the one-sample t-test as:\n",
    "\n",
    "```\n",
    "(sample_mean-mu0)/(sample_sd/np.sqrt(n))\n",
    "```\n",
    "We then went to a t-distribution with degrees of freedom `n-1`. That is the distribution of our test statistic **if the null hypothesis were true**.\n",
    "\n",
    "We computed a p-value, or the number of times we would get such an extreme test statistic if the null hypothesis were true. We did this by running our trusty old `score2density` function.\n",
    "\n",
    "Finally, we compared the p-value with our significance threshold of 0.05.\n",
    "\n",
    "We concluded that we could not reject the null hypothesis.\n",
    "\n",
    "Note that getting a p-value higher than 0.05 means that the value from the null hypothesis was in the 95% confidence interval. The probability density function is made of the confidence interval and the p-value that complement each other.\n"
   ]
  },
  {
   "cell_type": "markdown",
   "metadata": {
    "id": "ThIMb8RMIAht"
   },
   "source": [
    "**Another example**\n",
    "\n",
    "Values from https://www.stat.colostate.edu/inmem/gumina/st201/recitation8/downloads/Normal%20Probabilites%20Practice.pdf\n",
    "\n",
    "The length of human pregnancies has a population mean of 266 days, and sd 16.\n",
    "\n",
    "Let's take a sample from a higher-risk set of individuals with mean 257 days, sd 16, and see if there is a significant difference.\n",
    "\n",
    "- compute the sample mean\n",
    "- compute the sample SD\n",
    "- compute the degrees of freedom\n",
    "- compute the test statistic\n",
    "- compute a p-value by comparing with the distribution of the test statistic under the null (i.e. a t-distribution with degrees of freedom as computed earlier)\n",
    "- compare the p-value to a 0.05 significance threshold\n",
    "- can we reject the null hypothesis?\n",
    "\n"
   ]
  },
  {
   "cell_type": "code",
   "execution_count": null,
   "metadata": {
    "colab": {
     "base_uri": "https://localhost:8080/",
     "height": 129
    },
    "id": "c30XZdIjG3_D",
    "outputId": "bfd3e5c4-728b-4708-eabc-261ba944e6ba"
   },
   "outputs": [
    {
     "ename": "SyntaxError",
     "evalue": "ignored",
     "output_type": "error",
     "traceback": [
      "\u001b[0;36m  File \u001b[0;32m\"<ipython-input-25-570678cc1f77>\"\u001b[0;36m, line \u001b[0;32m16\u001b[0m\n\u001b[0;31m    our_t=#?????????,\u001b[0m\n\u001b[0m                     ^\u001b[0m\n\u001b[0;31mSyntaxError\u001b[0m\u001b[0;31m:\u001b[0m invalid syntax\n"
     ]
    }
   ],
   "source": [
    "MEAN=257\n",
    "SD=16\n",
    "N_SAMPLE=10\n",
    "\n",
    "our_sample=np.random.normal(loc=MEAN, \n",
    "                            scale=SD, \n",
    "                            size=N_SAMPLE)\n",
    "\n",
    "mu0=266\n",
    "\n",
    "sample_mean=np.mean(our_sample)\n",
    "sample_sd=np.sqrt(np.var(our_sample, ddof=1)) #ddof makes this the unbiased, rather than biased sample sd\n",
    "n=our_sample.shape[0]\n",
    "df=n-1\n",
    "\n",
    "our_t=#?????????,\n"
   ]
  },
  {
   "cell_type": "code",
   "execution_count": null,
   "metadata": {
    "id": "TLLMBnvfMU6v"
   },
   "outputs": [],
   "source": [
    "#use score2density to get the fraction of times we get a t-statistic more extreme than the one we got\n",
    "score2density(min_value=#?????????,\n",
    "              max_value=#?????????,\n",
    "              all_values=our_t_dist,xlabel='test statistic distribution\\nunder the null',\n",
    "              range_vs_outside='outside_range',\n",
    "              )"
   ]
  },
  {
   "cell_type": "markdown",
   "metadata": {
    "id": "UZUUDfpZOa3C"
   },
   "source": [
    "Two-sample t-test\n",
    "--\n",
    "\n",
    "The procedure will be very similar to what we did above.\n",
    "\n",
    "The only thing that changes is the formula for the test statistic. It will now need to include the standard deviation in both groups (compared to the one-sample t-test, where we only had 1 group with data).\n",
    "\n",
    "**Is exercise associated with lower baseline blood pressure?**\n",
    "\n",
    "We will simulate data with:\n",
    "- control mean 120 mmHg\n",
    "- treatment mean 116 mmHg \n",
    "- population sd 5 for both conditions"
   ]
  },
  {
   "cell_type": "code",
   "execution_count": null,
   "metadata": {
    "id": "fcoAFoyHK4vS"
   },
   "outputs": [],
   "source": [
    "#simulate dataset\n",
    "#=====================\n",
    "\n",
    "def sample_condition_values(condition_mean,\n",
    "                           condition_var,\n",
    "                       condition_N,\n",
    "                       condition='',\n",
    "                       variable_name=''):\n",
    "    \n",
    "  condition_values=np.random.normal(loc = condition_mean, \n",
    "                                    scale=condition_var,\n",
    "                                    size = condition_N)\n",
    "\n",
    "  data_condition_here=pd.DataFrame({variable_name:condition_values,\n",
    "                   'condition':condition})\n",
    "  return(data_condition_here)\n",
    "\n",
    "def get_data(N_per_condition,\n",
    "             ctrl_mean,\n",
    "             treat_mean,\n",
    "             sd,\n",
    "             treat_name='treatment',\n",
    "             ctrl_name='control',\n",
    "             variable_name=''):\n",
    "  np.random.seed(1)\n",
    "\n",
    "  data_ctrl=sample_condition_values(condition_mean=ctrl_mean,\n",
    "                        condition_N=N_per_condition,\n",
    "                        condition_var=np.power(sd,2),\n",
    "                        condition=ctrl_name,\n",
    "                        variable_name=variable_name)\n",
    "\n",
    "  data_treat=sample_condition_values(condition_mean=treat_mean,\n",
    "                        condition_N=N_per_condition,\n",
    "                        condition_var=np.power(sd,2),\n",
    "                        condition=treat_name,\n",
    "                        variable_name=variable_name)\n",
    "\n",
    "  data=pd.concat([data_ctrl,data_treat],axis=0)\n",
    "  return(data)\n",
    "\n",
    "\n",
    "N_per_condition=10\n",
    "ctrl_mean=120\n",
    "treat_mean=116 \n",
    "sd=2.5\n",
    "treat_name='exercise'\n",
    "ctrl_name='couch'\n",
    "variable_name='BP'\n",
    "\n",
    "data=get_data(N_per_condition=N_per_condition,\n",
    "             ctrl_mean=ctrl_mean,\n",
    "             treat_mean=treat_mean,\n",
    "             sd=sd,\n",
    "             treat_name=treat_name,\n",
    "             ctrl_name=ctrl_name,\n",
    "              variable_name=variable_name)\n",
    "\n"
   ]
  },
  {
   "cell_type": "code",
   "execution_count": null,
   "metadata": {
    "id": "mEqRU0j0ph5A"
   },
   "outputs": [],
   "source": [
    "#visualize data\n",
    "#=====================\n",
    "\n",
    "#strip plot\n",
    "sns.catplot(data=data,x='condition',y='BP',\n",
    "            jitter=1,\n",
    "            )\n",
    "plt.show()"
   ]
  },
  {
   "cell_type": "code",
   "execution_count": null,
   "metadata": {
    "id": "qcdLTIF60Nut"
   },
   "outputs": [],
   "source": [
    "#boxplot\n",
    "sns.catplot(data=data,x='condition',y='BP',kind='box',)\n",
    "plt.show()"
   ]
  },
  {
   "cell_type": "code",
   "execution_count": null,
   "metadata": {
    "id": "-ExpiWhS0Yr7"
   },
   "outputs": [],
   "source": [
    "#violin plot\n",
    "sns.catplot(data=data,x='condition',y='BP',kind='violin',)\n",
    "plt.show()"
   ]
  },
  {
   "cell_type": "code",
   "execution_count": null,
   "metadata": {
    "id": "qBhXjFRZcfW_"
   },
   "outputs": [],
   "source": [
    "#boxplot with points on top\n",
    "fig,plots=plt.subplots(1)\n",
    "sns.boxplot(data=data,x='condition',y='BP',\n",
    "            ax=plots,color='lightgray',\n",
    "            )\n",
    "sns.stripplot(data=data,x='condition',y='BP',\n",
    "            jitter=1,\n",
    "            ax=plots,alpha=0.5,\n",
    "            )\n",
    "plt.show()"
   ]
  },
  {
   "cell_type": "code",
   "execution_count": null,
   "metadata": {
    "id": "2phQBiZrQzQg"
   },
   "outputs": [],
   "source": [
    "treat_data=data.loc[data['condition']=='exercise']['BP']\n",
    "ctrl_data=data.loc[data['condition']=='couch']['BP']\n",
    "\n",
    "n_treat=treat_data.shape[0]\n",
    "n_ctrl=ctrl_data.shape[0]\n",
    "\n",
    "mean_treat=np.mean(treat_data)\n",
    "mean_ctrl=np.mean(ctrl_data)\n",
    "\n",
    "sd_treat=np.sqrt(np.var(treat_data, ddof=1)) #ddof makes this the unbiased, rather than biased sample sd\n",
    "sd_ctrl=np.sqrt(np.var(ctrl_data, ddof=1))\n",
    "\n",
    "df = n_treat + n_ctrl - 2.0\n",
    "sp=np.sqrt(((n_treat-1)*np.power(sd_treat,2)+(n_ctrl-1)*np.power(sd_ctrl,2))/df)\n",
    "denom=sp*np.sqrt(1/n_treat+1/n_ctrl)\n",
    "test_stat=(mean_treat-mean_ctrl)/denom\n",
    "print(test_stat)\n",
    "\n",
    "our_t_dist=np.random.standard_t(df, size=10000)"
   ]
  },
  {
   "cell_type": "code",
   "execution_count": null,
   "metadata": {
    "id": "3jyyyXRRQmZx"
   },
   "outputs": [],
   "source": [
    "score2density(min_value=-np.abs(test_stat),max_value=np.abs(test_stat),\n",
    "              all_values=our_t_dist,xlabel='test statistic distribution\\nunder the null',\n",
    "              range_vs_outside='outside_range')\n"
   ]
  },
  {
   "cell_type": "code",
   "execution_count": null,
   "metadata": {
    "id": "9_Ja9CgfQmiD"
   },
   "outputs": [],
   "source": [
    "#we can compare to the function python uses for performing a two-sample t-test\n",
    "from scipy.stats import ttest_ind\n",
    "t_stat,pvalue=ttest_ind(data[data['condition']=='exercise']['BP'],\n",
    "    data[data['condition']=='couch']['BP'],\n",
    "                        )\n",
    "print(t_stat,pvalue)"
   ]
  },
  {
   "cell_type": "markdown",
   "metadata": {
    "id": "9s8CLSPzTdcz"
   },
   "source": [
    "Examples\n",
    "---\n",
    "\n",
    "Breakout rooms"
   ]
  },
  {
   "cell_type": "code",
   "execution_count": null,
   "metadata": {
    "id": "5fGLteBMQmk2"
   },
   "outputs": [],
   "source": [
    "#example 1\n",
    "#marathon finish time: \n",
    "#4 hours controls, 3 hours for people who trained harder\n",
    "N_per_condition=10\n",
    "ctrl_mean=4\n",
    "treat_mean=3.5 \n",
    "sd=1\n",
    "variable_name='marathon_runtime'\n",
    "treat_name='training'\n",
    "ctrl_name='chillin'\n",
    "\n",
    "data=get_data(N_per_condition=N_per_condition,\n",
    "             ctrl_mean=ctrl_mean,\n",
    "             treat_mean=treat_mean,\n",
    "             sd=sd,\n",
    "             treat_name=treat_name,\n",
    "             ctrl_name=ctrl_name,\n",
    "              variable_name=variable_name)\n",
    "data.loc[data[variable_name]<0,variable_name]=0\n",
    "print(data)"
   ]
  },
  {
   "cell_type": "code",
   "execution_count": null,
   "metadata": {
    "id": "3myksRP7Qmqu"
   },
   "outputs": [],
   "source": [
    "treat_data=data.loc[data['condition']==treat_name][variable_name]\n",
    "ctrl_data=data.loc[data['condition']==ctrl_name][variable_name]\n",
    "\n",
    "n_treat=treat_data.shape[0]\n",
    "n_ctrl=ctrl_data.shape[0]\n",
    "\n",
    "mean_treat=np.mean(treat_data)\n",
    "mean_ctrl=np.mean(ctrl_data)\n",
    "\n",
    "sd_treat=np.sqrt(np.var(treat_data, ddof=1)) #ddof makes this the unbiased, rather than biased sample sd\n",
    "sd_ctrl=np.sqrt(np.var(ctrl_data, ddof=1))\n",
    "\n",
    "df = n_treat + n_ctrl - 2.0\n",
    "sp=np.sqrt(((n_treat-1)*np.power(sd_treat,2)+(n_ctrl-1)*np.power(sd_ctrl,2))/df)\n",
    "denom=sp*np.sqrt(1/n_treat+1/n_ctrl)\n",
    "\n",
    "test_stat=#?????????,\n",
    "our_t_dist=np.random.standard_t(df, size=10000)\n",
    "\n",
    "score2density(min_value=#?????????,\n",
    "              max_value=#?????????,\n",
    "              all_values=our_t_dist,xlabel='test statistic distribution\\nunder the null',\n",
    "              range_vs_outside='outside_range')\n",
    "\n",
    "#we can compare to the function python uses for performing a two-sample t-test\n",
    "from scipy.stats import ttest_ind\n",
    "t_stat,pvalue=ttest_ind(data[data['condition']==treat_name][variable_name],\n",
    "    data[data['condition']==ctrl_name][variable_name],\n",
    "                        )\n",
    "print(t_stat,pvalue)"
   ]
  },
  {
   "cell_type": "code",
   "execution_count": null,
   "metadata": {
    "id": "_1Q6cbeEQms0"
   },
   "outputs": [],
   "source": [
    "#example 2\n",
    "N_per_condition=10\n",
    "ctrl_mean=10000\n",
    "treat_mean=9000 \n",
    "sd=2000\n",
    "variable_name='steps per day'\n",
    "treat_name='grandma'\n",
    "ctrl_name='you'\n",
    "\n",
    "data=get_data(N_per_condition=N_per_condition,\n",
    "             ctrl_mean=ctrl_mean,\n",
    "             treat_mean=treat_mean,\n",
    "             sd=sd,\n",
    "             treat_name=treat_name,\n",
    "             ctrl_name=ctrl_name,\n",
    "              variable_name=variable_name)\n",
    "data.loc[data[variable_name]<0,variable_name]=0\n",
    "print(data)"
   ]
  },
  {
   "cell_type": "code",
   "execution_count": null,
   "metadata": {
    "id": "U2GM_ct1WAsM"
   },
   "outputs": [],
   "source": [
    "#example 3\n",
    "N_per_condition=10\n",
    "ctrl_mean=2\n",
    "treat_mean=1 \n",
    "sd=1\n",
    "variable_name='hours spent outside in the winter per day'\n",
    "treat_name='Boston'\n",
    "ctrl_name='California'\n",
    "\n",
    "data=get_data(N_per_condition=N_per_condition,\n",
    "             ctrl_mean=ctrl_mean,\n",
    "             treat_mean=treat_mean,\n",
    "             sd=sd,\n",
    "             treat_name=treat_name,\n",
    "             ctrl_name=ctrl_name,\n",
    "              variable_name=variable_name)\n",
    "data.loc[data[variable_name]<0,variable_name]=0\n",
    "print(data)"
   ]
  },
  {
   "cell_type": "code",
   "execution_count": null,
   "metadata": {
    "id": "flBQunS6WAuZ"
   },
   "outputs": [],
   "source": [
    "#example 4\n",
    "N_per_condition=10\n",
    "ctrl_mean=1\n",
    "treat_mean=8 \n",
    "sd=2\n",
    "variable_name='stress'\n",
    "ctrl_name='start of semester'\n",
    "treat_name='end of semester'\n",
    "\n",
    "\n",
    "data=get_data(N_per_condition=N_per_condition,\n",
    "             ctrl_mean=ctrl_mean,\n",
    "             treat_mean=treat_mean,\n",
    "             sd=sd,\n",
    "             treat_name=treat_name,\n",
    "             ctrl_name=ctrl_name,\n",
    "              variable_name=variable_name)\n",
    "data.loc[data[variable_name]<0,variable_name]=0\n",
    "data.loc[data[variable_name]>10,variable_name]=10\n",
    "print(data)"
   ]
  },
  {
   "cell_type": "code",
   "execution_count": null,
   "metadata": {
    "id": "XHWXwXgXWAxW"
   },
   "outputs": [],
   "source": [
    "#example 5\n",
    "N_per_condition=10\n",
    "ctrl_mean=1\n",
    "treat_mean=5 \n",
    "sd=1\n",
    "variable_name='statistics concepts learned'\n",
    "ctrl_name='before class'\n",
    "treat_name='after class'\n",
    "\n",
    "data=get_data(N_per_condition=N_per_condition,\n",
    "             ctrl_mean=ctrl_mean,\n",
    "             treat_mean=treat_mean,\n",
    "             sd=sd,\n",
    "             treat_name=treat_name,\n",
    "             ctrl_name=ctrl_name,\n",
    "              variable_name=variable_name)\n",
    "data.loc[data[variable_name]<0,variable_name]=0\n",
    "data[variable_name]=data[variable_name].round()\n",
    "print(data)"
   ]
  },
  {
   "cell_type": "markdown",
   "metadata": {
    "id": "vru8lfFt4UKT"
   },
   "source": [
    "**PROJECT:** \n",
    "===\n",
    "\n",
    "RNA sequencing: which genes are characteristic for different types of immune cells in your body?\n",
    "--"
   ]
  },
  {
   "cell_type": "markdown",
   "metadata": {
    "id": "lI-B2Mrn4UKT"
   },
   "source": [
    "Motivation\n",
    "--\n",
    "\n",
    "Although all cells in our body have the same DNA, they can have wildly different functions. That is because they activate different genes, for example your brain cells turn on genes that lead to production of neurotransmitters while liver cells activate genes encoding enzymes.\n",
    "\n",
    "Here, you will compare different types of immune cells (e.g. B-cells that make your antibodies, and T-cells which fight infections), and identify which genes are specifically active in each type of cell."
   ]
  },
  {
   "cell_type": "code",
   "execution_count": null,
   "metadata": {
    "id": "PB7f6Eun4UKT"
   },
   "outputs": [],
   "source": [
    "#install scanpy\n",
    "!pip install scanpy"
   ]
  },
  {
   "cell_type": "markdown",
   "metadata": {
    "id": "TxGEmyOe4UKU"
   },
   "source": [
    "RNA sequencing\n",
    "--\n",
    "\n",
    "RNA sequencing allows us to quantify the extent to which each gene is active in a sample. When a gene is active, its DNA is transcribed into mRNA and then translated into protein. With RNA sequencing, we are counting how frequent mRNAs for each gene occur in a sample. Genes that are more active will have higher counts, while genes that are not made into mRNA will have 0 counts.\n",
    "\n",
    "Data\n",
    "--\n",
    "\n",
    "The code below will download the data for you, and organize it into a data frame, where:\n",
    "- every row is a different gene\n",
    "- every column is a different sample. \n",
    "  - We have 6 samples, 3 of T cells (called \"CD4 T cells\" and B cells (\"B cells\").\n",
    "- every value is the number of reads from each gene in each sample. \n",
    "  - Note: the values have been normalized to be comparable between samples."
   ]
  },
  {
   "cell_type": "code",
   "execution_count": null,
   "metadata": {
    "id": "XVLWDqVk4UKU"
   },
   "outputs": [],
   "source": [
    "import scanpy as sc\n",
    "def prep_data():\n",
    "  adata=sc.datasets.pbmc3k_processed()\n",
    "  counts=pd.DataFrame(np.expm1(adata.raw.X.toarray()),\n",
    "                      index=adata.raw.obs_names,\n",
    "                      columns=adata.raw.var_names)\n",
    "  \n",
    "  #make 3 reps T-cells and 3 reps B-cells\n",
    "  cells_per_bulk=100\n",
    "  celltype='CD4 T cells'\n",
    "  cells=adata.obs_names[adata.obs['louvain']==celltype]\n",
    "  bulks=pd.DataFrame(columns=[celltype+'.rep1',celltype+'.rep2',celltype+'.rep3'],\n",
    "                    index=adata.raw.var_names)\n",
    "\n",
    "  for i in range(3):\n",
    "    cells_here=cells[(i*100):((i+1)*100)]\n",
    "    bulks[celltype+'.rep'+str(i+1)]=list(counts.loc[cells_here,:].sum(axis=0))\n",
    "  bulk_t=bulks\n",
    "\n",
    "  celltype='B cells'\n",
    "  cells=adata.obs_names[adata.obs['louvain']==celltype]\n",
    "  bulks=pd.DataFrame(columns=[celltype+'.rep1',celltype+'.rep2',celltype+'.rep3'],\n",
    "                    index=adata.raw.var_names)\n",
    "\n",
    "  for i in range(3):\n",
    "    cells_here=cells[(i*100):((i+1)*100)]\n",
    "    bulks[celltype+'.rep'+str(i+1)]=list(counts.loc[cells_here,:].sum(axis=0))\n",
    "\n",
    "  bulks=pd.concat([bulk_t,bulks],axis=1)\n",
    "  bulks=bulks.sort_values(by=bulks.columns[0],ascending=False)\n",
    "  return(bulks)\n",
    "\n",
    "data=prep_data()\n",
    "print(data.head())\n"
   ]
  },
  {
   "cell_type": "markdown",
   "metadata": {
    "id": "k65tyVba4UKU"
   },
   "source": [
    "**Let's explore the dataset**\n",
    "\n",
    "**(1 pt)** What are the names of the samples?\n",
    "\n",
    "\n",
    "\n",
    "**(2 pts)** What is the highest recorded value? What is the lowest?\n",
    "\n"
   ]
  },
  {
   "cell_type": "code",
   "execution_count": null,
   "metadata": {
    "id": "L4HlJFkm4UKV"
   },
   "outputs": [],
   "source": [
    "print(list(data.columns))\n",
    "\n",
    "print('max',data.max().max())\n",
    "\n",
    "print('min',data.min().min())"
   ]
  },
  {
   "cell_type": "markdown",
   "metadata": {
    "id": "kOFa15T14UKV"
   },
   "source": [
    "**Exploring the data**\n",
    "\n",
    "One gene that is different between our 2 cell types is IL7R. \n",
    "\n",
    "**(1 pt)** Plot the distribution of the IL7R gene in the 2 conditions. Which cell type (CD4 T cells or B cells) has the higher level of this gene?\n",
    "\n",
    "\n",
    "**(1 pt)** How many samples do we have for each condition?\n",
    "\n"
   ]
  },
  {
   "cell_type": "code",
   "execution_count": null,
   "metadata": {
    "id": "76MVYik_4UKV"
   },
   "outputs": [],
   "source": [
    "#inspect the data \n",
    "GENE='IL7R'\n",
    "long_data=pd.DataFrame({GENE:data.loc[GENE,:],\n",
    "                        'condition':[x.split('.')[0] for x in data.columns]})\n",
    "print(long_data)\n",
    "\n",
    "sns.catplot(data=long_data,x='condition',y=GENE)"
   ]
  },
  {
   "cell_type": "markdown",
   "metadata": {
    "id": "GIpb54HL4UKV"
   },
   "source": [
    "**Two-sample t-test for one gene across 2 conditions**\n",
    "\n",
    "We are now going to check whether the gene IL7R is differentially active in CD4 T cells vs B cells. \n",
    "\n",
    "**(1 pt)** What is the null hypothesis?\n",
    "\n",
    "\n",
    "\n",
    "\n",
    "**(1 pt)** Based on your plot of the gene in the two conditions, and the fact that there looks like there might be a difference, what do you expect the sign of the t-statistic to be (CD4 T cells vs B cells)?\n",
    "\n"
   ]
  },
  {
   "cell_type": "markdown",
   "metadata": {
    "id": "3LaM2ELm4UKV"
   },
   "source": [
    "We are going to use the function ttest_ind to perform our t-test. You can read about it here: https://docs.scipy.org/doc/scipy/reference/generated/scipy.stats.ttest_ind.html."
   ]
  },
  {
   "cell_type": "markdown",
   "metadata": {
    "id": "8xWTWzDP4UKW"
   },
   "source": [
    "\n",
    "\n",
    "**(1 pt)** What is the t-statistic?\n",
    "\n",
    "\n",
    "**(1 pt)** What is the p-value?\n",
    "\n",
    "\n",
    "**(1 pt)** Describe in your own words what the p-value means.\n",
    "\n",
    "\n",
    "**(1 pt)** Is the p-value significant at alpha = 0.05?\n",
    "\n"
   ]
  },
  {
   "cell_type": "code",
   "execution_count": null,
   "metadata": {
    "id": "cZGMRzFz4UKW"
   },
   "outputs": [],
   "source": [
    "#pick 1 gene, do 1 t-test\n",
    "GENE='IL7R'\n",
    "COND1=['CD4 T cells.rep'+str(x+1) for x in range(3)]\n",
    "COND2=['B cells.rep'+str(x+1) for x in range(3)]\n",
    "\n",
    "#plot gene across samples\n",
    "\n",
    "#t-test\n",
    "from scipy.stats import ttest_ind\n",
    "t_stat,pvalue=ttest_ind(data.loc[GENE,COND1],data.loc[GENE,COND2])\n",
    "print('t statistic',t_stat.round(2))\n",
    "print('p-value',pvalue.round(5))"
   ]
  },
  {
   "cell_type": "markdown",
   "metadata": {
    "id": "8pEmh-hI4UKW"
   },
   "source": [
    "**Two-sample t-tests for each gene across 2 conditions**\n",
    "\n",
    "We are now going to repeat our analysis from before for all genes in our dataset.\n",
    "\n",
    "**(1 pt)** How many genes are present in our dataset?\n",
    "\n"
   ]
  },
  {
   "cell_type": "code",
   "execution_count": null,
   "metadata": {
    "id": "iyJvTdRJ4UKW"
   },
   "outputs": [],
   "source": [
    "data.shape"
   ]
  },
  {
   "cell_type": "code",
   "execution_count": null,
   "metadata": {
    "id": "JKr3T0XM4UKW"
   },
   "outputs": [],
   "source": [
    "#all genes t-tests\n",
    "PSEUDOCOUNT=1\n",
    "results=pd.DataFrame(index=data.index,\n",
    "                     columns=['t','p','lfc'])\n",
    "for gene in data.index:\n",
    "  t_stat,pvalue=ttest_ind(data.loc[gene,COND1],data.loc[gene,COND2])\n",
    "  lfc=np.log2((data.loc[gene,COND1].mean()+PSEUDOCOUNT)/(data.loc[gene,COND2].mean()+PSEUDOCOUNT))\n",
    "  results.loc[gene,'t']=t_stat\n",
    "  results.loc[gene,'p']=pvalue\n",
    "  results.loc[gene,'lfc']=lfc\n"
   ]
  },
  {
   "cell_type": "markdown",
   "metadata": {
    "id": "WMCulKC44UKW"
   },
   "source": [
    "**Ranking discoveries by either significance or fold change**\n",
    "\n",
    "For each gene, we have obtained:\n",
    "- a t-statistic\n",
    "- a p-value for the difference between the 2 conditions\n",
    "- a log2 fold change between CD4 T cells and B cells\n",
    "\n",
    "We can inspect how fold changes relate to the significance of the differences. \n",
    "\n",
    "**(1 pt)** What do you expect the relationship to be between significance/p-values and fold changes?\n",
    "\n",
    "*Answer*: Genes with larger fold changes are expected to be associated with lower p-values. The significance of course, also depends on the variance of each gene.\n",
    "\n",
    "We can explore the relationship between fold change and p-values with a volcano plot. In a volcano plot, we plot for each gene the log2 fold change on the x axis, and the -log10(p-value). As a result, more significant p-values (lower p-values will be at the top of the y-axis).\n",
    "\n",
    " \n"
   ]
  },
  {
   "cell_type": "code",
   "execution_count": null,
   "metadata": {
    "id": "G524U2-g4UKX"
   },
   "outputs": [],
   "source": [
    "#volcano plot\n",
    "###### \n",
    "results['p']=results['p'].fillna(1)\n",
    "\n",
    "PS2=1e-7\n",
    "plt.scatter(results['lfc'],-np.log10(results['p']+PS2),s=5,alpha=0.5,color='black')\n",
    "plt.xlabel('Log2 fold change (CD4 T cells/B cells)')\n",
    "plt.ylabel('-log10(p-value)')\n",
    "plt.show()"
   ]
  },
  {
   "cell_type": "markdown",
   "metadata": {
    "id": "s6CoH2u44UKX"
   },
   "source": [
    "**Multiple testing correction**\n",
    "\n",
    "Now, we will explore how the number of differentially active genes differs depending on how we correct for multiple tests.\n",
    "\n",
    "**(1 pt)** How many genes pass the significance level of 0.05, without performing any correction for multiple testing?\n",
    "\n"
   ]
  },
  {
   "cell_type": "code",
   "execution_count": null,
   "metadata": {
    "id": "CMSMbuWP4UKX"
   },
   "outputs": [],
   "source": [
    "ALPHA=0.05\n",
    "print((results['p']<=ALPHA).sum())"
   ]
  },
  {
   "cell_type": "markdown",
   "metadata": {
    "id": "IeKuehkj4UKX"
   },
   "source": [
    "We will use a function that adjusts our p-values using different methods, called \"multipletests\". You can read about it here: https://www.statsmodels.org/dev/generated/statsmodels.stats.multitest.multipletests.html\n",
    "\n",
    "We will use the following settings:\n",
    "- for Bonferroni correction, we set method='bonferroni'. This will multiply our p-values by the number of tests we did. If the resulting values are greated than 1 they will be clipped to 1.\n",
    "- for Benjamini-Hochberg correction, we set method='fdr_bh'"
   ]
  },
  {
   "cell_type": "markdown",
   "metadata": {
    "id": "bOFows844UKX"
   },
   "source": [
    "**(2 pts)** How many genes pass the significance level of 0.05, after correcting for multiple testing using the Bonferroni method? What is the revised p-value threshold?\n",
    "\n",
    "\n",
    "\n",
    "**(1 pt)** Would the gene we tested before, IL7R, pass this threshold?\n",
    "\n"
   ]
  },
  {
   "cell_type": "code",
   "execution_count": null,
   "metadata": {
    "id": "ZfxTlt9h4UKX"
   },
   "outputs": [],
   "source": [
    "#multiple testing correction \n",
    "\n",
    "#bonferroni\n",
    "from statsmodels.stats.multitest import multipletests\n",
    "results['p.adj.bonferroni']=multipletests(results['p'], method='bonferroni')[1]\n",
    "\n",
    "FDR=ALPHA\n",
    "plt.hist(results['p'],100)\n",
    "plt.axvline(x=FDR,color='red',linestyle='--')\n",
    "plt.xlabel('Unadjusted p-values')\n",
    "plt.ylabel('Number of genes')\n",
    "plt.show()\n",
    "plt.hist(results['p.adj.bonferroni'],100)\n",
    "#plt.ylim(0,200)\n",
    "plt.axvline(x=FDR,color='red',linestyle='--')\n",
    "plt.xlabel('P-values (Bonferroni corrected)')\n",
    "plt.ylabel('Number of genes')\n",
    "plt.show()\n",
    "plt.show()\n",
    "\n",
    "print('DE Bonferroni',(results['p.adj.bonferroni']<=FDR).sum())"
   ]
  },
  {
   "cell_type": "markdown",
   "metadata": {
    "id": "t45zFA2L4UKb"
   },
   "source": [
    "**(1 pt)** How many genes pass the significance level of 0.05, after correcting for multiple testing using the Benjamini-Hochberg method? \n",
    "\n"
   ]
  },
  {
   "cell_type": "code",
   "execution_count": null,
   "metadata": {
    "id": "vnBluh9z4UKc"
   },
   "outputs": [],
   "source": [
    "results['p.adj.bh']=multipletests(results['p'], method='fdr_bh')[1]\n",
    "\n",
    "FDR=0.05\n",
    "plt.hist(results['p'],100)\n",
    "plt.axvline(x=FDR,color='red',linestyle='--')\n",
    "plt.xlabel('Unadjusted p-values')\n",
    "plt.ylabel('Number of genes')\n",
    "plt.show()\n",
    "plt.hist(results['p.adj.bh'],100)\n",
    "plt.ylim(0,2000)\n",
    "plt.axvline(x=FDR,color='red',linestyle='--')\n",
    "plt.xlabel('P-values (Benjamini-Hochberg corrected)')\n",
    "plt.ylabel('Number of genes')\n",
    "plt.show()\n",
    "\n",
    "print('DE BH',(results['p.adj.bh']<=FDR).sum())"
   ]
  },
  {
   "cell_type": "markdown",
   "metadata": {
    "id": "rCFUnvj54UKc"
   },
   "source": [
    "**(1 pt)** Which multiple testing correction is the most stringent? \n",
    "\n",
    "*Answer*: Bonferroni.\n",
    "\n",
    "Finally, let's look at our results. Print the significant differential genes and look up a few on the internet."
   ]
  },
  {
   "cell_type": "code",
   "execution_count": null,
   "metadata": {
    "id": "QiMTFc1w4UKc"
   },
   "outputs": [],
   "source": [
    "results.loc[results['p.adj.bonferroni']<=FDR,:].sort_values(by='lfc')"
   ]
  }
 ],
 "metadata": {
  "colab": {
   "collapsed_sections": [],
   "name": "PINC_308_stats_notebook_instructor_2021-10-05.ipynb",
   "provenance": []
  },
  "kernelspec": {
   "display_name": "Python 3",
   "language": "python",
   "name": "python3"
  },
  "language_info": {
   "codemirror_mode": {
    "name": "ipython",
    "version": 3
   },
   "file_extension": ".py",
   "mimetype": "text/x-python",
   "name": "python",
   "nbconvert_exporter": "python",
   "pygments_lexer": "ipython3",
   "version": "3.6.8"
  }
 },
 "nbformat": 4,
 "nbformat_minor": 4
}
