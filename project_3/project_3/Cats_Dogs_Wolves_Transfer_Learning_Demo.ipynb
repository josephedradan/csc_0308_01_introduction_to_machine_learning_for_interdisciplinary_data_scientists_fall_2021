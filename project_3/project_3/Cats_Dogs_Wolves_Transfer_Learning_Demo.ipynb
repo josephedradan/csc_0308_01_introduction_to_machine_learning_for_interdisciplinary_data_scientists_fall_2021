{
 "cells": [
  {
   "cell_type": "code",
   "execution_count": 1,
   "metadata": {
    "colab": {
     "base_uri": "https://localhost:8080/",
     "height": 34
    },
    "id": "-OfGhW-ZUG9Q",
    "outputId": "b8e33e55-9143-469a-903d-4994b006d2b0"
   },
   "outputs": [
    {
     "name": "stdout",
     "output_type": "stream",
     "text": [
      "GPU 0: NVIDIA GeForce RTX 2080 Ti (UUID: GPU-b3420b31-4832-b27f-df3a-6215a94894aa)\n"
     ]
    }
   ],
   "source": [
    "!nvidia-smi --list-gpus"
   ]
  },
  {
   "cell_type": "code",
   "execution_count": 2,
   "metadata": {},
   "outputs": [
    {
     "name": "stdout",
     "output_type": "stream",
     "text": [
      "Num GPUs Available:  1\n",
      "Tensorflow version: 2.5.0\n",
      "[name: \"/device:CPU:0\"\n",
      "device_type: \"CPU\"\n",
      "memory_limit: 268435456\n",
      "locality {\n",
      "}\n",
      "incarnation: 82175258191160068\n",
      ", name: \"/device:GPU:0\"\n",
      "device_type: \"GPU\"\n",
      "memory_limit: 9392422912\n",
      "locality {\n",
      "  bus_id: 1\n",
      "  links {\n",
      "  }\n",
      "}\n",
      "incarnation: 10859955885065452682\n",
      "physical_device_desc: \"device: 0, name: NVIDIA GeForce RTX 2080 Ti, pci bus id: 0000:0b:00.0, compute capability: 7.5\"\n",
      "]\n"
     ]
    }
   ],
   "source": [
    "from tensorflow.python.client import device_lib\n",
    "import tensorflow as tf\n",
    "print(\"Num GPUs Available: \", len(tf.config.list_physical_devices('GPU')))\n",
    "print(\"Tensorflow version:\", tf.__version__)\n",
    "print(device_lib.list_local_devices())"
   ]
  },
  {
   "cell_type": "markdown",
   "metadata": {
    "id": "4Cn6KlS01Y1r"
   },
   "source": [
    "### Downloading the Data\n",
    "Ensure that you have uploaded the dataset to the colab environment."
   ]
  },
  {
   "cell_type": "code",
   "execution_count": 3,
   "metadata": {
    "colab": {
     "base_uri": "https://localhost:8080/",
     "height": 35
    },
    "id": "EgzGQwrNGOsJ",
    "outputId": "6728b743-ba90-4145-abe2-f8620d70dde0"
   },
   "outputs": [],
   "source": [
    "# !python -m pip install gdown --quiet\n",
    "\n",
    "import os\n",
    "\n",
    "if not os.path.exists(\"animals.zip\"):\n",
    "    import gdown\n",
    "    url = 'https://drive.google.com/uc?id=18pulZkIQzDHGkH-UrDzxHp_giSxerTag'\n",
    "    # url = 'https://drive.google.com/uc?id=1ImrsoqvQ3JC-iGW2znQmfkoZyL5E3icJ'\n",
    "    # url = 'https://drive.google.com/uc?id=1S-OJVgxKXDeS5gmqJwzUaCpXmuT4zWcu'\n",
    "    output = 'animals.zip'\n",
    "    gdown.download(url, output, quiet=True)"
   ]
  },
  {
   "cell_type": "code",
   "execution_count": 4,
   "metadata": {
    "colab": {
     "base_uri": "https://localhost:8080/",
     "height": 1000
    },
    "id": "5ndA88KR3zY-",
    "outputId": "72d36400-9fde-473a-be14-794ce45b0d6f"
   },
   "outputs": [],
   "source": [
    "\"\"\"\n",
    "Unzip files if they don't exist\n",
    "\"\"\"\n",
    "if not os.path.exists(\"cats-dogs-wolves-\"):\n",
    "    !unzip animals.zip\n",
    "    print(\"Done.\")"
   ]
  },
  {
   "cell_type": "code",
   "execution_count": 5,
   "metadata": {
    "colab": {
     "base_uri": "https://localhost:8080/",
     "height": 34
    },
    "id": "_9zS58LoX63h",
    "outputId": "a4648374-7a16-43d3-b0e1-d8f691b2810e"
   },
   "outputs": [
    {
     "name": "stdout",
     "output_type": "stream",
     "text": [
      "Paths Loaded.\n"
     ]
    },
    {
     "name": "stderr",
     "output_type": "stream",
     "text": [
      "Access denied - .\n",
      "File not found - -NAME\n",
      "File not found - -TYPE\n",
      "File not found - F\n",
      "File not found - -DELETE\n"
     ]
    }
   ],
   "source": [
    "!find . -name \".DS_Store\" -type f -delete\n",
    "\n",
    "train_path = 'cats-dogs-wolves-/datasets'\n",
    "test_path = 'cats-dogs-wolves-/testData'\n",
    "print(\"Paths Loaded.\")"
   ]
  },
  {
   "cell_type": "markdown",
   "metadata": {
    "id": "eqQejRNKmCGR"
   },
   "source": [
    "### Importing the Software Libraries\n",
    "\n",
    "The following code imports some software libraries necessary to execute the project. "
   ]
  },
  {
   "cell_type": "code",
   "execution_count": 6,
   "metadata": {
    "colab": {
     "base_uri": "https://localhost:8080/",
     "height": 34
    },
    "id": "WQGet9FW-n55",
    "outputId": "7b030a67-75ed-45df-a892-1995a5610235"
   },
   "outputs": [
    {
     "name": "stdout",
     "output_type": "stream",
     "text": [
      "Import Success!\n"
     ]
    }
   ],
   "source": [
    "# If in colab\n",
    "if \"google.colab\" in str(get_ipython()):\n",
    "    %tensorflow_version 2.x  # Uncomment for colab\n",
    "\n",
    "import numpy as np\n",
    "import tensorflow.keras\n",
    "from tensorflow.keras.models import load_model\n",
    "from tensorflow.keras.models import Sequential\n",
    "from tensorflow.keras.layers import Activation, Dense, Flatten\n",
    "from tensorflow.keras.optimizers import Adam, SGD, Nadam\n",
    "from tensorflow.keras.metrics import categorical_crossentropy\n",
    "from tensorflow.keras.preprocessing.image import ImageDataGenerator\n",
    "from tensorflow.keras.layers import BatchNormalization\n",
    "\n",
    "from sklearn.metrics import confusion_matrix\n",
    "# from mlxtend.evaluate import confusion_matrix  # Use this if using colab I think\n",
    "import itertools\n",
    "import matplotlib.pyplot as plt\n",
    "\n",
    "%matplotlib inline\n",
    "print(\"Import Success!\")"
   ]
  },
  {
   "cell_type": "code",
   "execution_count": 7,
   "metadata": {},
   "outputs": [],
   "source": [
    "SEED = 24\n",
    "\n",
    "BATCH_SIZE_TRAIN = 15\n",
    "BATCH_SIZE_VALIDATE = 8\n",
    "BATCH_SIZE_TEST = 133"
   ]
  },
  {
   "cell_type": "code",
   "execution_count": 8,
   "metadata": {
    "colab": {
     "base_uri": "https://localhost:8080/",
     "height": 68
    },
    "id": "iojaSuJW-pJw",
    "outputId": "f1961627-a348-4f33-d745-cfc1b50cfe11"
   },
   "outputs": [
    {
     "name": "stdout",
     "output_type": "stream",
     "text": [
      "Found 362 images belonging to 3 classes.\n",
      "Found 0 images belonging to 3 classes.\n",
      "Found 133 images belonging to 3 classes.\n"
     ]
    }
   ],
   "source": [
    "image_size = (224, 224)\n",
    "classes = ['cats', 'dogs', 'wolves']\n",
    "\n",
    "train_datagen = ImageDataGenerator(\n",
    "    # validation_split=0.20,  # set validation split\n",
    "    validation_split=0,\n",
    ") \n",
    "\n",
    "train_batches = train_datagen.flow_from_directory(\n",
    "    train_path,\n",
    "    image_size,\n",
    "    classes=classes,\n",
    "    batch_size=BATCH_SIZE_TRAIN,\n",
    "    subset='training',\n",
    "    seed=SEED\n",
    ")\n",
    "\n",
    "valid_batches = train_datagen.flow_from_directory(\n",
    "    train_path,\n",
    "    image_size,\n",
    "    classes=classes,\n",
    "    batch_size=BATCH_SIZE_VALIDATE,\n",
    "    subset='validation',\n",
    "    seed=SEED\n",
    ")\n",
    "\n",
    "test_batches = ImageDataGenerator().flow_from_directory(\n",
    "    test_path,\n",
    "    image_size,\n",
    "    classes=classes,\n",
    "    batch_size=BATCH_SIZE_TEST,\n",
    "    seed=SEED\n",
    "\n",
    ")"
   ]
  },
  {
   "cell_type": "code",
   "execution_count": 9,
   "metadata": {
    "colab": {
     "base_uri": "https://localhost:8080/",
     "height": 51
    },
    "id": "dFCcMRb_jw5h",
    "outputId": "59053161-c37c-4da6-f59d-d322a678b032"
   },
   "outputs": [],
   "source": [
    "vgg16_model = tensorflow.keras.applications.VGG16()"
   ]
  },
  {
   "cell_type": "markdown",
   "metadata": {
    "id": "lUiLZgsPip5k"
   },
   "source": [
    "### Creating a Custom Output Model#\n",
    "\n",
    "A new model is created copying all layers except the output layer. Notice that these layers are set to be non-trainable. Finally, a custom output layer is added to the model.  This output layer should have the same number of outputs as the number of different classes of data. The softmax activation function conditions the output to be a probability distribuiton adding up to unity. Therefore, our model will output a probability distribution among the classes as output for each input image."
   ]
  },
  {
   "cell_type": "code",
   "execution_count": 10,
   "metadata": {},
   "outputs": [
    {
     "name": "stdout",
     "output_type": "stream",
     "text": [
      "block1_conv1        relu      None                                                                  False\n",
      "block1_conv2        relu      None                                                                  False\n",
      "block1_pool         None      None                                                                  False\n",
      "block2_conv1        relu      None                                                                  False\n",
      "block2_conv2        relu      None                                                                  False\n",
      "block2_pool         None      None                                                                  False\n",
      "block3_conv1        relu      None                                                                  False\n",
      "block3_conv2        relu      None                                                                  False\n",
      "block3_conv3        relu      None                                                                  False\n",
      "block3_pool         None      None                                                                  False\n",
      "block4_conv1        relu      None                                                                  False\n",
      "block4_conv2        relu      None                                                                  False\n",
      "block4_conv3        relu      None                                                                  False\n",
      "block4_pool         None      None                                                                  False\n",
      "block5_conv1        relu      None                                                                  False\n",
      "block5_conv2        relu      None                                                                  False\n",
      "block5_conv3        relu      None                                                                  False\n",
      "block5_pool         None      None                                                                  False\n",
      "flatten             None      None                                                                  False\n",
      "fc1                 relu      None                                                                  False\n",
      "fc2                 relu      None                                                                  False\n",
      "dense               elu       None                                                                  True\n",
      "dense_1             softmax   None                                                                  True\n",
      "Model: \"sequential\"\n",
      "_________________________________________________________________\n",
      "Layer (type)                 Output Shape              Param #   \n",
      "=================================================================\n",
      "block1_conv1 (Conv2D)        (None, 224, 224, 64)      1792      \n",
      "_________________________________________________________________\n",
      "block1_conv2 (Conv2D)        (None, 224, 224, 64)      36928     \n",
      "_________________________________________________________________\n",
      "block1_pool (MaxPooling2D)   (None, 112, 112, 64)      0         \n",
      "_________________________________________________________________\n",
      "block2_conv1 (Conv2D)        (None, 112, 112, 128)     73856     \n",
      "_________________________________________________________________\n",
      "block2_conv2 (Conv2D)        (None, 112, 112, 128)     147584    \n",
      "_________________________________________________________________\n",
      "block2_pool (MaxPooling2D)   (None, 56, 56, 128)       0         \n",
      "_________________________________________________________________\n",
      "block3_conv1 (Conv2D)        (None, 56, 56, 256)       295168    \n",
      "_________________________________________________________________\n",
      "block3_conv2 (Conv2D)        (None, 56, 56, 256)       590080    \n",
      "_________________________________________________________________\n",
      "block3_conv3 (Conv2D)        (None, 56, 56, 256)       590080    \n",
      "_________________________________________________________________\n",
      "block3_pool (MaxPooling2D)   (None, 28, 28, 256)       0         \n",
      "_________________________________________________________________\n",
      "block4_conv1 (Conv2D)        (None, 28, 28, 512)       1180160   \n",
      "_________________________________________________________________\n",
      "block4_conv2 (Conv2D)        (None, 28, 28, 512)       2359808   \n",
      "_________________________________________________________________\n",
      "block4_conv3 (Conv2D)        (None, 28, 28, 512)       2359808   \n",
      "_________________________________________________________________\n",
      "block4_pool (MaxPooling2D)   (None, 14, 14, 512)       0         \n",
      "_________________________________________________________________\n",
      "block5_conv1 (Conv2D)        (None, 14, 14, 512)       2359808   \n",
      "_________________________________________________________________\n",
      "block5_conv2 (Conv2D)        (None, 14, 14, 512)       2359808   \n",
      "_________________________________________________________________\n",
      "block5_conv3 (Conv2D)        (None, 14, 14, 512)       2359808   \n",
      "_________________________________________________________________\n",
      "block5_pool (MaxPooling2D)   (None, 7, 7, 512)         0         \n",
      "_________________________________________________________________\n",
      "flatten (Flatten)            (None, 25088)             0         \n",
      "_________________________________________________________________\n",
      "fc1 (Dense)                  (None, 4096)              102764544 \n",
      "_________________________________________________________________\n",
      "fc2 (Dense)                  (None, 4096)              16781312  \n",
      "_________________________________________________________________\n",
      "dense (Dense)                (None, 2048)              8390656   \n",
      "_________________________________________________________________\n",
      "dense_1 (Dense)              (None, 3)                 6147      \n",
      "=================================================================\n",
      "Total params: 142,657,347\n",
      "Trainable params: 8,396,803\n",
      "Non-trainable params: 134,260,544\n",
      "_________________________________________________________________\n"
     ]
    }
   ],
   "source": [
    "from pprint import pprint\n",
    "\n",
    "from tensorflow.keras import regularizers\n",
    "\n",
    "# Make a new model\n",
    "model = Sequential()\n",
    "\n",
    "# Copy every layer except the last layer of the vgg16 model\n",
    "for layer in vgg16_model.layers[:-1]:\n",
    "    model.add(layer)\n",
    "\n",
    "\"\"\"\n",
    "Set the layers in the new model to not trainable\n",
    "\n",
    "Notes:\n",
    "    Recall that layers be default are trainable\n",
    "    Retraining the last 2 layers, fc1 and fc2, is not a good idea unless you have a lot of data\n",
    "\"\"\"\n",
    "for layer in model.layers:\n",
    "    layer.trainable = False\n",
    "\n",
    "    \n",
    "# Additional layer if needed\n",
    "model.add(Dense(2048,\n",
    "                activation='elu',\n",
    "                # activity_regularizer=regularizers.l2(.05)  # Regularization seems like a bad idea since we still don't get good results\n",
    "                )\n",
    "          )\n",
    "\n",
    "# model.add(Dense(2048,\n",
    "#                 activation='relu',\n",
    "#                 activity_regularizer=regularizers.l2(1e-4)\n",
    "#                 )\n",
    "#           )\n",
    "\n",
    "# Add a new dense layer (This layer will be trained)\n",
    "model.add(Dense(len(classes), activation='softmax'))\n",
    "\n",
    "\n",
    "for layer in model.layers:\n",
    "    print(\"{:<20}{:<10}{:<70}{}\".format(layer.name,\n",
    "                                        str(layer.get_config().get('activation')),\n",
    "                                        str(layer.get_config().get('activity_regularizer')),\n",
    "                                        layer.trainable)\n",
    "          )\n",
    "\n",
    "model.summary()"
   ]
  },
  {
   "cell_type": "markdown",
   "metadata": {
    "id": "hQsSiXUk_j0J"
   },
   "source": [
    "## Training the Model\n",
    "\n",
    "Now that the model has been specified, it must be trained. \n",
    "\n",
    "\n"
   ]
  },
  {
   "cell_type": "markdown",
   "metadata": {
    "id": "mI8ljOkmpa0v"
   },
   "source": [
    "### Compiling the Model\n",
    "First,the model is compiled. The performance of the model is evalued using a loss function, which increases as performance decreases. Since we are predicting a condition (yes/no), we are using cross-entropy, which is a concept from information theory. If we were instead predicting a scalar value, the correct loss function would be 'mean_squared_error'."
   ]
  },
  {
   "cell_type": "code",
   "execution_count": 11,
   "metadata": {
    "colab": {
     "base_uri": "https://localhost:8080/",
     "height": 34
    },
    "id": "iDG0uQ1qAccz",
    "outputId": "6968697c-1dfd-46f2-e89a-4950fcce4494"
   },
   "outputs": [
    {
     "name": "stdout",
     "output_type": "stream",
     "text": [
      "Done\n"
     ]
    }
   ],
   "source": [
    "model.compile(Adam(learning_rate=.0001),\n",
    "              loss='categorical_crossentropy',\n",
    "              metrics=['accuracy'])\n",
    "print(\"Done\")"
   ]
  },
  {
   "cell_type": "markdown",
   "metadata": {
    "id": "df0KalV7pnmx"
   },
   "source": [
    "### Minimizing Loss\n",
    "\n",
    "The model is now trained using the backpropagation algorithm to minimize the loss function. The training data will be passed into the model and evaluated using the loss function. Then, the model will be adjusted to decrease the loss.\n",
    "\n",
    "Here we specifiy the epochs, which is the number of times we pass through the entire training set. These specifications are determined by experimentation with the goal of minimizing validation loss. If the epochs are too high, the model has overfit to the data (too specific). If the epochs are too low, the model has underfit to the data (too general). The validation loss must be compared to training loss to determine if the model is optimally fit to the data.\n"
   ]
  },
  {
   "cell_type": "code",
   "execution_count": 12,
   "metadata": {
    "colab": {
     "base_uri": "https://localhost:8080/",
     "height": 1000
    },
    "id": "tkFe_2sRpnNt",
    "outputId": "6aa93857-ff0c-4db4-bb51-2e66e1a92498"
   },
   "outputs": [
    {
     "name": "stdout",
     "output_type": "stream",
     "text": [
      "Epoch 1/200\n",
      "24/24 [==============================] - 11s 81ms/step - loss: 0.4605 - accuracy: 0.8501\n",
      "Epoch 2/200\n",
      "24/24 [==============================] - 2s 68ms/step - loss: 0.0219 - accuracy: 0.9914\n",
      "Epoch 3/200\n",
      "24/24 [==============================] - 2s 65ms/step - loss: 0.0275 - accuracy: 0.9942\n",
      "Epoch 4/200\n",
      "24/24 [==============================] - 4s 110ms/step - loss: 6.2062e-04 - accuracy: 1.0000\n",
      "Epoch 5/200\n",
      "24/24 [==============================] - 2s 63ms/step - loss: 1.2963e-04 - accuracy: 1.0000\n",
      "Epoch 6/200\n",
      "24/24 [==============================] - 2s 65ms/step - loss: 9.7244e-05 - accuracy: 1.0000\n",
      "Epoch 7/200\n",
      "24/24 [==============================] - 2s 65ms/step - loss: 8.5447e-05 - accuracy: 1.0000\n",
      "Epoch 8/200\n",
      "24/24 [==============================] - 2s 62ms/step - loss: 5.8846e-05 - accuracy: 1.0000\n",
      "Epoch 9/200\n",
      "24/24 [==============================] - 3s 112ms/step - loss: 6.4515e-05 - accuracy: 1.0000\n",
      "Epoch 10/200\n",
      "24/24 [==============================] - 3s 111ms/step - loss: 5.5150e-05 - accuracy: 1.0000\n",
      "Epoch 11/200\n",
      "24/24 [==============================] - 2s 67ms/step - loss: 3.9063e-05 - accuracy: 1.0000\n",
      "Epoch 12/200\n",
      "24/24 [==============================] - 2s 65ms/step - loss: 4.3837e-05 - accuracy: 1.0000\n",
      "Epoch 13/200\n",
      "24/24 [==============================] - 3s 120ms/step - loss: 3.9150e-05 - accuracy: 1.0000\n",
      "Epoch 14/200\n",
      "24/24 [==============================] - 4s 167ms/step - loss: 3.4024e-05 - accuracy: 1.0000\n",
      "Epoch 15/200\n",
      "24/24 [==============================] - 3s 117ms/step - loss: 3.2807e-05 - accuracy: 1.0000\n",
      "Epoch 16/200\n",
      "24/24 [==============================] - 1s 62ms/step - loss: 3.0111e-05 - accuracy: 1.0000\n",
      "Epoch 17/200\n",
      "24/24 [==============================] - 2s 65ms/step - loss: 2.6211e-05 - accuracy: 1.0000\n",
      "Epoch 18/200\n",
      "24/24 [==============================] - 3s 111ms/step - loss: 2.5977e-05 - accuracy: 1.0000\n",
      "Epoch 19/200\n",
      "24/24 [==============================] - 3s 115ms/step - loss: 2.4122e-05 - accuracy: 1.0000\n",
      "Epoch 20/200\n",
      "24/24 [==============================] - 2s 66ms/step - loss: 2.3010e-05 - accuracy: 1.0000\n",
      "Epoch 21/200\n",
      "24/24 [==============================] - 2s 66ms/step - loss: 2.2323e-05 - accuracy: 1.0000\n",
      "Epoch 22/200\n",
      "24/24 [==============================] - 3s 116ms/step - loss: 1.8478e-05 - accuracy: 1.0000\n",
      "Epoch 23/200\n",
      "24/24 [==============================] - 3s 115ms/step - loss: 2.0536e-05 - accuracy: 1.0000\n",
      "Epoch 24/200\n",
      "24/24 [==============================] - 2s 67ms/step - loss: 1.9359e-05 - accuracy: 1.0000\n",
      "Epoch 25/200\n",
      "24/24 [==============================] - 2s 65ms/step - loss: 1.8836e-05 - accuracy: 1.0000\n",
      "Epoch 26/200\n",
      "24/24 [==============================] - 2s 67ms/step - loss: 1.7822e-05 - accuracy: 1.0000\n",
      "Epoch 27/200\n",
      "24/24 [==============================] - 4s 164ms/step - loss: 1.6165e-05 - accuracy: 1.0000\n",
      "Epoch 28/200\n",
      "24/24 [==============================] - 2s 65ms/step - loss: 1.6321e-05 - accuracy: 1.0000\n",
      "Epoch 29/200\n",
      "24/24 [==============================] - 2s 64ms/step - loss: 1.5922e-05 - accuracy: 1.0000\n",
      "Epoch 30/200\n",
      "24/24 [==============================] - 2s 67ms/step - loss: 1.5178e-05 - accuracy: 1.0000\n",
      "Epoch 31/200\n",
      "24/24 [==============================] - 4s 167ms/step - loss: 1.4786e-05 - accuracy: 1.0000\n",
      "Epoch 32/200\n",
      "24/24 [==============================] - 3s 117ms/step - loss: 1.4346e-05 - accuracy: 1.0000\n",
      "Epoch 33/200\n",
      "24/24 [==============================] - 3s 114ms/step - loss: 1.3452e-05 - accuracy: 1.0000\n",
      "Epoch 34/200\n",
      "24/24 [==============================] - 2s 64ms/step - loss: 1.3936e-05 - accuracy: 1.0000\n",
      "Epoch 35/200\n",
      "24/24 [==============================] - 2s 64ms/step - loss: 1.2720e-05 - accuracy: 1.0000\n",
      "Epoch 36/200\n",
      "24/24 [==============================] - 3s 109ms/step - loss: 1.1168e-05 - accuracy: 1.0000\n",
      "Epoch 37/200\n",
      "24/24 [==============================] - 4s 160ms/step - loss: 1.2019e-05 - accuracy: 1.0000\n",
      "Epoch 38/200\n",
      "24/24 [==============================] - 3s 112ms/step - loss: 1.1484e-05 - accuracy: 1.0000\n",
      "Epoch 39/200\n",
      "24/24 [==============================] - 2s 65ms/step - loss: 1.1205e-05 - accuracy: 1.0000\n",
      "Epoch 40/200\n",
      "24/24 [==============================] - 2s 61ms/step - loss: 1.1089e-05 - accuracy: 1.0000\n",
      "Epoch 41/200\n",
      "24/24 [==============================] - 2s 63ms/step - loss: 1.0194e-05 - accuracy: 1.0000\n",
      "Epoch 42/200\n",
      "24/24 [==============================] - 2s 61ms/step - loss: 1.0507e-05 - accuracy: 1.0000\n",
      "Epoch 43/200\n",
      "24/24 [==============================] - 2s 65ms/step - loss: 8.8948e-06 - accuracy: 1.0000\n",
      "Epoch 44/200\n",
      "24/24 [==============================] - 2s 68ms/step - loss: 9.7631e-06 - accuracy: 1.0000\n",
      "Epoch 45/200\n",
      "24/24 [==============================] - 3s 112ms/step - loss: 8.5640e-06 - accuracy: 1.0000\n",
      "Epoch 46/200\n",
      "24/24 [==============================] - 4s 160ms/step - loss: 9.3905e-06 - accuracy: 1.0000\n",
      "Epoch 47/200\n",
      "24/24 [==============================] - 2s 64ms/step - loss: 9.2194e-06 - accuracy: 1.0000\n",
      "Epoch 48/200\n",
      "24/24 [==============================] - 2s 63ms/step - loss: 9.0724e-06 - accuracy: 1.0000\n",
      "Epoch 49/200\n",
      "24/24 [==============================] - 1s 60ms/step - loss: 8.9378e-06 - accuracy: 1.0000\n",
      "Epoch 50/200\n",
      "24/24 [==============================] - 3s 108ms/step - loss: 8.7630e-06 - accuracy: 1.0000\n",
      "Epoch 51/200\n",
      "24/24 [==============================] - 3s 112ms/step - loss: 8.5280e-06 - accuracy: 1.0000\n",
      "Epoch 52/200\n",
      "24/24 [==============================] - 4s 105ms/step - loss: 7.4828e-06 - accuracy: 1.0000\n",
      "Epoch 53/200\n",
      "24/24 [==============================] - 4s 156ms/step - loss: 8.2048e-06 - accuracy: 1.0000\n",
      "Epoch 54/200\n",
      "24/24 [==============================] - 2s 104ms/step - loss: 7.2818e-06 - accuracy: 1.0000\n",
      "Epoch 55/200\n",
      "24/24 [==============================] - 4s 168ms/step - loss: 7.0706e-06 - accuracy: 1.0000\n",
      "Epoch 56/200\n",
      "24/24 [==============================] - 3s 114ms/step - loss: 7.6068e-06 - accuracy: 1.0000\n",
      "Epoch 57/200\n",
      "24/24 [==============================] - 4s 160ms/step - loss: 7.4612e-06 - accuracy: 1.0000\n",
      "Epoch 58/200\n",
      "24/24 [==============================] - 3s 110ms/step - loss: 7.1846e-06 - accuracy: 1.0000\n",
      "Epoch 59/200\n",
      "24/24 [==============================] - 4s 150ms/step - loss: 7.1840e-06 - accuracy: 1.0000\n",
      "Epoch 60/200\n",
      "24/24 [==============================] - 3s 107ms/step - loss: 7.2115e-06 - accuracy: 1.0000\n",
      "Epoch 61/200\n",
      "24/24 [==============================] - 2s 84ms/step - loss: 6.9679e-06 - accuracy: 1.0000\n",
      "Epoch 62/200\n",
      "24/24 [==============================] - 3s 120ms/step - loss: 6.9257e-06 - accuracy: 1.0000\n",
      "Epoch 63/200\n",
      "24/24 [==============================] - 2s 102ms/step - loss: 6.5760e-06 - accuracy: 1.0000\n",
      "Epoch 64/200\n",
      "24/24 [==============================] - 4s 158ms/step - loss: 6.6602e-06 - accuracy: 1.0000\n",
      "Epoch 65/200\n",
      "24/24 [==============================] - 2s 67ms/step - loss: 6.6220e-06 - accuracy: 1.0000\n",
      "Epoch 66/200\n",
      "24/24 [==============================] - 2s 64ms/step - loss: 6.4925e-06 - accuracy: 1.0000\n",
      "Epoch 67/200\n",
      "24/24 [==============================] - 3s 116ms/step - loss: 6.3706e-06 - accuracy: 1.0000\n",
      "Epoch 68/200\n",
      "24/24 [==============================] - 4s 113ms/step - loss: 5.7732e-06 - accuracy: 1.0000\n",
      "Epoch 69/200\n",
      "24/24 [==============================] - 2s 61ms/step - loss: 6.0735e-06 - accuracy: 1.0000\n",
      "Epoch 70/200\n",
      "24/24 [==============================] - 2s 59ms/step - loss: 5.9450e-06 - accuracy: 1.0000\n",
      "Epoch 71/200\n",
      "24/24 [==============================] - 2s 69ms/step - loss: 5.5585e-06 - accuracy: 1.0000\n",
      "Epoch 72/200\n",
      "24/24 [==============================] - 2s 69ms/step - loss: 5.2229e-06 - accuracy: 1.0000\n",
      "Epoch 73/200\n",
      "24/24 [==============================] - 2s 62ms/step - loss: 5.1742e-06 - accuracy: 1.0000\n",
      "Epoch 74/200\n",
      "24/24 [==============================] - 3s 113ms/step - loss: 5.3727e-06 - accuracy: 1.0000\n",
      "Epoch 75/200\n",
      "24/24 [==============================] - 3s 107ms/step - loss: 5.6056e-06 - accuracy: 1.0000\n",
      "Epoch 76/200\n",
      "24/24 [==============================] - 2s 66ms/step - loss: 5.4947e-06 - accuracy: 1.0000\n",
      "Epoch 77/200\n",
      "24/24 [==============================] - 2s 64ms/step - loss: 5.2820e-06 - accuracy: 1.0000\n",
      "Epoch 78/200\n",
      "24/24 [==============================] - 3s 106ms/step - loss: 5.2364e-06 - accuracy: 1.0000\n",
      "Epoch 79/200\n",
      "24/24 [==============================] - 3s 113ms/step - loss: 5.1182e-06 - accuracy: 1.0000\n",
      "Epoch 80/200\n",
      "24/24 [==============================] - 3s 138ms/step - loss: 4.8272e-06 - accuracy: 1.0000\n",
      "Epoch 81/200\n",
      "24/24 [==============================] - 2s 65ms/step - loss: 4.9540e-06 - accuracy: 1.0000\n",
      "Epoch 82/200\n",
      "24/24 [==============================] - 2s 68ms/step - loss: 4.9272e-06 - accuracy: 1.0000\n",
      "Epoch 83/200\n",
      "24/24 [==============================] - 2s 65ms/step - loss: 4.5641e-06 - accuracy: 1.0000\n",
      "Epoch 84/200\n",
      "24/24 [==============================] - 3s 113ms/step - loss: 4.8461e-06 - accuracy: 1.0000\n",
      "Epoch 85/200\n",
      "24/24 [==============================] - 3s 113ms/step - loss: 4.4260e-06 - accuracy: 1.0000\n",
      "Epoch 86/200\n",
      "24/24 [==============================] - 2s 64ms/step - loss: 4.6033e-06 - accuracy: 1.0000\n",
      "Epoch 87/200\n",
      "24/24 [==============================] - 1s 57ms/step - loss: 4.4195e-06 - accuracy: 1.0000\n",
      "Epoch 88/200\n",
      "24/24 [==============================] - 3s 109ms/step - loss: 4.4346e-06 - accuracy: 1.0000\n",
      "Epoch 89/200\n",
      "24/24 [==============================] - 2s 104ms/step - loss: 4.3645e-06 - accuracy: 1.0000\n",
      "Epoch 90/200\n",
      "24/24 [==============================] - 4s 165ms/step - loss: 3.9530e-06 - accuracy: 1.0000\n",
      "Epoch 91/200\n",
      "24/24 [==============================] - 2s 64ms/step - loss: 4.2890e-06 - accuracy: 1.0000\n",
      "Epoch 92/200\n",
      "24/24 [==============================] - 2s 67ms/step - loss: 3.9386e-06 - accuracy: 1.0000\n",
      "Epoch 93/200\n",
      "24/24 [==============================] - 2s 66ms/step - loss: 4.2165e-06 - accuracy: 1.0000\n",
      "Epoch 94/200\n",
      "24/24 [==============================] - 2s 104ms/step - loss: 4.1746e-06 - accuracy: 1.0000\n",
      "Epoch 95/200\n",
      "24/24 [==============================] - 3s 112ms/step - loss: 4.0018e-06 - accuracy: 1.0000\n",
      "Epoch 96/200\n",
      "24/24 [==============================] - 2s 74ms/step - loss: 4.0227e-06 - accuracy: 1.0000\n",
      "Epoch 97/200\n",
      "24/24 [==============================] - 2s 68ms/step - loss: 3.8211e-06 - accuracy: 1.0000 0s - loss: 4.3628e-06 - accuracy\n",
      "Epoch 98/200\n",
      "24/24 [==============================] - 5s 193ms/step - loss: 3.4521e-06 - accuracy: 1.0000\n",
      "Epoch 99/200\n",
      "24/24 [==============================] - 2s 64ms/step - loss: 3.8788e-06 - accuracy: 1.0000\n",
      "Epoch 100/200\n",
      "24/24 [==============================] - 1s 61ms/step - loss: 3.8249e-06 - accuracy: 1.0000\n",
      "Epoch 101/200\n",
      "24/24 [==============================] - 2s 86ms/step - loss: 3.3075e-06 - accuracy: 1.0000\n",
      "Epoch 102/200\n",
      "24/24 [==============================] - 2s 79ms/step - loss: 3.2866e-06 - accuracy: 1.0000\n",
      "Epoch 103/200\n",
      "24/24 [==============================] - 2s 66ms/step - loss: 3.2021e-06 - accuracy: 1.0000\n",
      "Epoch 104/200\n",
      "24/24 [==============================] - 2s 61ms/step - loss: 3.6026e-06 - accuracy: 1.0000\n",
      "Epoch 105/200\n",
      "24/24 [==============================] - 2s 62ms/step - loss: 3.4161e-06 - accuracy: 1.0000\n",
      "Epoch 106/200\n",
      "24/24 [==============================] - 2s 66ms/step - loss: 3.5325e-06 - accuracy: 1.0000\n",
      "Epoch 107/200\n",
      "24/24 [==============================] - 2s 87ms/step - loss: 3.3281e-06 - accuracy: 1.0000\n",
      "Epoch 108/200\n",
      "24/24 [==============================] - 3s 111ms/step - loss: 3.0921e-06 - accuracy: 1.0000\n",
      "Epoch 109/200\n",
      "24/24 [==============================] - 3s 107ms/step - loss: 3.2636e-06 - accuracy: 1.0000\n",
      "Epoch 110/200\n",
      "24/24 [==============================] - 2s 66ms/step - loss: 3.1935e-06 - accuracy: 1.0000\n",
      "Epoch 111/200\n",
      "24/24 [==============================] - 2s 64ms/step - loss: 3.2804e-06 - accuracy: 1.0000\n",
      "Epoch 112/200\n",
      "24/24 [==============================] - 2s 65ms/step - loss: 2.9444e-06 - accuracy: 1.0000\n",
      "Epoch 113/200\n",
      "24/24 [==============================] - 3s 119ms/step - loss: 3.2055e-06 - accuracy: 1.0000\n",
      "Epoch 114/200\n",
      "24/24 [==============================] - 4s 157ms/step - loss: 3.0317e-06 - accuracy: 1.0000\n",
      "Epoch 115/200\n",
      "24/24 [==============================] - 3s 116ms/step - loss: 3.0664e-06 - accuracy: 1.0000\n",
      "Epoch 116/200\n",
      "24/24 [==============================] - 2s 67ms/step - loss: 2.8314e-06 - accuracy: 1.0000\n",
      "Epoch 117/200\n",
      "24/24 [==============================] - 2s 67ms/step - loss: 2.4017e-06 - accuracy: 1.0000\n",
      "Epoch 118/200\n",
      "24/24 [==============================] - 2s 65ms/step - loss: 3.0097e-06 - accuracy: 1.0000\n",
      "Epoch 119/200\n",
      "24/24 [==============================] - 2s 66ms/step - loss: 2.8486e-06 - accuracy: 1.0000\n",
      "Epoch 120/200\n",
      "24/24 [==============================] - 2s 65ms/step - loss: 2.6201e-06 - accuracy: 1.0000\n",
      "Epoch 121/200\n",
      "24/24 [==============================] - 2s 62ms/step - loss: 2.8510e-06 - accuracy: 1.0000\n",
      "Epoch 122/200\n",
      "24/24 [==============================] - 2s 68ms/step - loss: 2.6095e-06 - accuracy: 1.0000\n",
      "Epoch 123/200\n",
      "24/24 [==============================] - 3s 117ms/step - loss: 2.7974e-06 - accuracy: 1.0000\n",
      "Epoch 124/200\n",
      "24/24 [==============================] - 3s 107ms/step - loss: 2.7538e-06 - accuracy: 1.0000\n",
      "Epoch 125/200\n",
      "24/24 [==============================] - 2s 67ms/step - loss: 2.5181e-06 - accuracy: 1.0000\n",
      "Epoch 126/200\n",
      "24/24 [==============================] - 2s 66ms/step - loss: 2.6806e-06 - accuracy: 1.0000\n",
      "Epoch 127/200\n",
      "24/24 [==============================] - 3s 106ms/step - loss: 2.5947e-06 - accuracy: 1.0000\n",
      "Epoch 128/200\n",
      "24/24 [==============================] - 3s 59ms/step - loss: 2.6122e-06 - accuracy: 1.0000\n",
      "Epoch 129/200\n",
      "24/24 [==============================] - 2s 66ms/step - loss: 2.5916e-06 - accuracy: 1.0000\n",
      "Epoch 130/200\n",
      "24/24 [==============================] - 2s 72ms/step - loss: 2.5617e-06 - accuracy: 1.0000\n",
      "Epoch 131/200\n",
      "24/24 [==============================] - 2s 66ms/step - loss: 2.3573e-06 - accuracy: 1.0000\n",
      "Epoch 132/200\n",
      "24/24 [==============================] - 2s 70ms/step - loss: 2.4954e-06 - accuracy: 1.0000\n",
      "Epoch 133/200\n",
      "24/24 [==============================] - 3s 109ms/step - loss: 2.4401e-06 - accuracy: 1.0000\n",
      "Epoch 134/200\n",
      "24/24 [==============================] - 3s 112ms/step - loss: 2.3010e-06 - accuracy: 1.0000\n",
      "Epoch 135/200\n",
      "24/24 [==============================] - 4s 156ms/step - loss: 2.1316e-06 - accuracy: 1.0000\n",
      "Epoch 136/200\n",
      "24/24 [==============================] - 3s 115ms/step - loss: 2.1821e-06 - accuracy: 1.0000\n",
      "Epoch 137/200\n",
      "24/24 [==============================] - 2s 87ms/step - loss: 2.2557e-06 - accuracy: 1.0000\n",
      "Epoch 138/200\n",
      "24/24 [==============================] - 4s 115ms/step - loss: 1.7888e-06 - accuracy: 1.0000\n",
      "Epoch 139/200\n",
      "24/24 [==============================] - 2s 66ms/step - loss: 2.2282e-06 - accuracy: 1.0000\n",
      "Epoch 140/200\n",
      "24/24 [==============================] - 2s 67ms/step - loss: 2.0976e-06 - accuracy: 1.0000\n",
      "Epoch 141/200\n",
      "24/24 [==============================] - 2s 64ms/step - loss: 2.1966e-06 - accuracy: 1.0000\n",
      "Epoch 142/200\n",
      "24/24 [==============================] - 2s 65ms/step - loss: 2.2034e-06 - accuracy: 1.0000\n",
      "Epoch 143/200\n",
      "24/24 [==============================] - 2s 67ms/step - loss: 2.1055e-06 - accuracy: 1.0000\n",
      "Epoch 144/200\n",
      "24/24 [==============================] - 3s 115ms/step - loss: 2.1499e-06 - accuracy: 1.0000\n",
      "Epoch 145/200\n",
      "24/24 [==============================] - 2s 106ms/step - loss: 2.1059e-06 - accuracy: 1.0000\n",
      "Epoch 146/200\n",
      "24/24 [==============================] - 2s 65ms/step - loss: 1.8513e-06 - accuracy: 1.0000\n",
      "Epoch 147/200\n",
      "24/24 [==============================] - 2s 65ms/step - loss: 2.0533e-06 - accuracy: 1.0000\n",
      "Epoch 148/200\n",
      "24/24 [==============================] - 3s 115ms/step - loss: 2.0420e-06 - accuracy: 1.0000\n",
      "Epoch 149/200\n",
      "24/24 [==============================] - 3s 105ms/step - loss: 1.8091e-06 - accuracy: 1.0000\n",
      "Epoch 150/200\n",
      "24/24 [==============================] - 3s 117ms/step - loss: 1.9187e-06 - accuracy: 1.0000\n",
      "Epoch 151/200\n",
      "24/24 [==============================] - 2s 66ms/step - loss: 1.9530e-06 - accuracy: 1.0000\n",
      "Epoch 152/200\n",
      "24/24 [==============================] - 2s 67ms/step - loss: 1.9424e-06 - accuracy: 1.0000\n",
      "Epoch 153/200\n",
      "24/24 [==============================] - 2s 66ms/step - loss: 1.9228e-06 - accuracy: 1.0000\n",
      "Epoch 154/200\n",
      "24/24 [==============================] - 3s 114ms/step - loss: 1.8747e-06 - accuracy: 1.0000\n",
      "Epoch 155/200\n",
      "24/24 [==============================] - 3s 110ms/step - loss: 1.8472e-06 - accuracy: 1.0000\n",
      "Epoch 156/200\n",
      "24/24 [==============================] - 2s 67ms/step - loss: 1.7833e-06 - accuracy: 1.0000\n",
      "Epoch 157/200\n",
      "24/24 [==============================] - 2s 68ms/step - loss: 1.8235e-06 - accuracy: 1.0000\n",
      "Epoch 158/200\n",
      "24/24 [==============================] - 2s 69ms/step - loss: 1.7500e-06 - accuracy: 1.0000\n",
      "Epoch 159/200\n",
      "24/24 [==============================] - 4s 114ms/step - loss: 1.7548e-06 - accuracy: 1.0000\n",
      "Epoch 160/200\n",
      "24/24 [==============================] - 2s 62ms/step - loss: 1.7541e-06 - accuracy: 1.0000\n",
      "Epoch 161/200\n",
      "24/24 [==============================] - 3s 118ms/step - loss: 1.7252e-06 - accuracy: 1.0000\n",
      "Epoch 162/200\n",
      "24/24 [==============================] - 3s 117ms/step - loss: 1.6706e-06 - accuracy: 1.0000\n",
      "Epoch 163/200\n",
      "24/24 [==============================] - 2s 65ms/step - loss: 1.5030e-06 - accuracy: 1.0000\n",
      "Epoch 164/200\n",
      "24/24 [==============================] - 3s 114ms/step - loss: 1.6143e-06 - accuracy: 1.0000\n",
      "Epoch 165/200\n",
      "24/24 [==============================] - 3s 66ms/step - loss: 1.5068e-06 - accuracy: 1.0000\n",
      "Epoch 166/200\n",
      "24/24 [==============================] - 2s 67ms/step - loss: 1.6397e-06 - accuracy: 1.0000\n",
      "Epoch 167/200\n",
      "24/24 [==============================] - 2s 67ms/step - loss: 1.6009e-06 - accuracy: 1.0000\n",
      "Epoch 168/200\n",
      "24/24 [==============================] - 3s 111ms/step - loss: 1.5593e-06 - accuracy: 1.0000\n",
      "Epoch 169/200\n",
      "24/24 [==============================] - ETA: 0s - loss: 1.5601e-06 - accuracy: 1.00 - 4s 106ms/step - loss: 1.5683e-06 - accuracy: 1.0000\n",
      "Epoch 170/200\n",
      "24/24 [==============================] - 3s 114ms/step - loss: 1.4298e-06 - accuracy: 1.0000\n",
      "Epoch 171/200\n",
      "24/24 [==============================] - 2s 61ms/step - loss: 1.5102e-06 - accuracy: 1.0000\n",
      "Epoch 172/200\n",
      "24/24 [==============================] - 2s 68ms/step - loss: 1.4473e-06 - accuracy: 1.0000\n",
      "Epoch 173/200\n",
      "24/24 [==============================] - 2s 66ms/step - loss: 1.5099e-06 - accuracy: 1.0000\n",
      "Epoch 174/200\n",
      "24/24 [==============================] - 1s 61ms/step - loss: 1.2890e-06 - accuracy: 1.0000\n",
      "Epoch 175/200\n",
      "24/24 [==============================] - 2s 65ms/step - loss: 1.4834e-06 - accuracy: 1.0000\n",
      "Epoch 176/200\n",
      "24/24 [==============================] - 3s 115ms/step - loss: 1.4102e-06 - accuracy: 1.0000\n",
      "Epoch 177/200\n",
      "24/24 [==============================] - 4s 159ms/step - loss: 1.4487e-06 - accuracy: 1.00000s - loss: 1.3084e-06 - accuracy: 1.\n",
      "Epoch 178/200\n",
      "24/24 [==============================] - 3s 109ms/step - loss: 1.4195e-06 - accuracy: 1.0000\n",
      "Epoch 179/200\n",
      "24/24 [==============================] - 2s 62ms/step - loss: 1.4106e-06 - accuracy: 1.0000\n",
      "Epoch 180/200\n",
      "24/24 [==============================] - 2s 61ms/step - loss: 1.3424e-06 - accuracy: 1.0000\n",
      "Epoch 181/200\n",
      "24/24 [==============================] - 2s 64ms/step - loss: 1.3824e-06 - accuracy: 1.0000\n",
      "Epoch 182/200\n",
      "24/24 [==============================] - 4s 156ms/step - loss: 1.3494e-06 - accuracy: 1.0000\n",
      "Epoch 183/200\n",
      "24/24 [==============================] - 2s 67ms/step - loss: 1.1739e-06 - accuracy: 1.0000\n",
      "Epoch 184/200\n",
      "24/24 [==============================] - 2s 65ms/step - loss: 1.2580e-06 - accuracy: 1.0000\n",
      "Epoch 185/200\n",
      "24/24 [==============================] - 2s 67ms/step - loss: 1.3243e-06 - accuracy: 1.0000\n",
      "Epoch 186/200\n",
      "24/24 [==============================] - 2s 63ms/step - loss: 1.2333e-06 - accuracy: 1.0000\n",
      "Epoch 187/200\n",
      "24/24 [==============================] - 2s 66ms/step - loss: 1.2656e-06 - accuracy: 1.0000\n",
      "Epoch 188/200\n",
      "24/24 [==============================] - 3s 114ms/step - loss: 1.1886e-06 - accuracy: 1.0000\n",
      "Epoch 189/200\n",
      "24/24 [==============================] - 3s 115ms/step - loss: 1.2522e-06 - accuracy: 1.0000\n",
      "Epoch 190/200\n",
      "24/24 [==============================] - 3s 65ms/step - loss: 1.1586e-06 - accuracy: 1.0000\n",
      "Epoch 191/200\n",
      "24/24 [==============================] - 2s 66ms/step - loss: 1.1900e-06 - accuracy: 1.0000\n",
      "Epoch 192/200\n",
      "24/24 [==============================] - 3s 109ms/step - loss: 1.2216e-06 - accuracy: 1.0000\n",
      "Epoch 193/200\n",
      "24/24 [==============================] - 3s 118ms/step - loss: 1.1505e-06 - accuracy: 1.0000\n",
      "Epoch 194/200\n",
      "24/24 [==============================] - 3s 108ms/step - loss: 1.0255e-06 - accuracy: 1.0000\n",
      "Epoch 195/200\n",
      "24/24 [==============================] - 2s 64ms/step - loss: 1.1773e-06 - accuracy: 1.0000\n",
      "Epoch 196/200\n",
      "24/24 [==============================] - 2s 67ms/step - loss: 1.1213e-06 - accuracy: 1.0000\n",
      "Epoch 197/200\n",
      "24/24 [==============================] - 2s 60ms/step - loss: 1.1086e-06 - accuracy: 1.0000\n",
      "Epoch 198/200\n",
      "24/24 [==============================] - 2s 65ms/step - loss: 1.0691e-06 - accuracy: 1.0000\n",
      "Epoch 199/200\n",
      "24/24 [==============================] - 2s 66ms/step - loss: 1.1261e-06 - accuracy: 1.0000\n",
      "Epoch 200/200\n",
      "24/24 [==============================] - 2s 65ms/step - loss: 1.0760e-06 - accuracy: 1.0000\n",
      "Trining Complete!\n"
     ]
    }
   ],
   "source": [
    "%timeit\n",
    "\n",
    "model.fit(\n",
    "    train_batches,\n",
    "    validation_data=valid_batches,\n",
    "    steps_per_epoch=train_batches.samples // BATCH_SIZE_TRAIN,\n",
    "    validation_steps=valid_batches.samples // BATCH_SIZE_VALIDATE,\n",
    "    epochs=200,  # Was 30\n",
    "    verbose=1)\n",
    "print(\"Trining Complete!\")"
   ]
  },
  {
   "cell_type": "markdown",
   "metadata": {
    "id": "amJJCzkTOpcF"
   },
   "source": [
    "## Testing the Model\n",
    "\n",
    "To perform a final test of the model, the test data is fed through the model.  It is important to use data that was not used in training so we can test the performance accurately. The accuracy is calculated and a confusion matrix is generated. "
   ]
  },
  {
   "cell_type": "markdown",
   "metadata": {
    "id": "_FK3o1TFt5H9"
   },
   "source": [
    "### Test Accuracy\n",
    "\n",
    "To calculate accuracy, the model is evaluated using the test generator specified earlier."
   ]
  },
  {
   "cell_type": "code",
   "execution_count": 13,
   "metadata": {
    "colab": {
     "base_uri": "https://localhost:8080/",
     "height": 51
    },
    "id": "t5syFibUt_EA",
    "outputId": "78974f30-434e-47d3-b326-ec27113f4eec"
   },
   "outputs": [
    {
     "name": "stdout",
     "output_type": "stream",
     "text": [
      "0.4330790042877197\n",
      "0.9624060392379761\n"
     ]
    }
   ],
   "source": [
    "test_loss, test_acc = model.evaluate(test_batches,\n",
    "                                     steps=len(test_batches),\n",
    "                                     verbose=0)\n",
    "print(test_loss)\n",
    "print(test_acc)"
   ]
  },
  {
   "cell_type": "markdown",
   "metadata": {
    "id": "vIOd7ID2uQlc"
   },
   "source": [
    "### Confusion Matrix\n",
    "\n",
    "A confusion matrix gives more insight than just accuracy. It allows us to determine true positives, false positives, false negatives, and true negatives. The code below generates a confusion matrix for our test output"
   ]
  },
  {
   "cell_type": "code",
   "execution_count": 14,
   "metadata": {
    "colab": {
     "base_uri": "https://localhost:8080/",
     "height": 396
    },
    "id": "9yqGOy1KOs5q",
    "outputId": "87d64ba3-ec79-428e-e241-cb015b010a93"
   },
   "outputs": [
    {
     "name": "stdout",
     "output_type": "stream",
     "text": [
      "Found 133 images belonging to 3 classes.\n",
      "Confusion matrix, without normalization\n",
      "[[18  0  0]\n",
      " [ 1 58  2]\n",
      " [ 0  2 52]]\n"
     ]
    },
    {
     "data": {
      "image/png": "[encoded data removed]",
      "text/plain": [
       "<Figure size 864x864 with 2 Axes>"
      ]
     },
     "metadata": {
      "needs_background": "light"
     },
     "output_type": "display_data"
    }
   ],
   "source": [
    "def plot_confusion_matrix(cm, classes,\n",
    "                          normalize=False,\n",
    "                          title='Confusion matrix',\n",
    "                          cmap=plt.cm.Blues):\n",
    "    \"\"\"\n",
    "    This function prints and plots the confusion matrix.\n",
    "    Normalization can be applied by setting `normalize=True`.\n",
    "    \"\"\"\n",
    "    plt.figure(figsize=(12, 12))\n",
    "    plt.imshow(cm, interpolation='nearest', cmap=cmap)\n",
    "    plt.title(title)\n",
    "    plt.colorbar()\n",
    "    tick_marks = np.arange(len(classes))\n",
    "    plt.xticks(tick_marks, classes, rotation=45)\n",
    "    plt.yticks(tick_marks, classes)\n",
    "\n",
    "    if normalize:\n",
    "        cm = cm.astype('float') / cm.sum(axis=1)[:, np.newaxis]\n",
    "        print(\"Normalized confusion matrix\")\n",
    "    else:\n",
    "        print('Confusion matrix, without normalization')\n",
    "\n",
    "    print(cm)\n",
    "\n",
    "    # thresh = cm.max() / 2.\n",
    "    # for i, j in itertools.product(range(cm.shape[0]), range(cm.shape[1])):\n",
    "    #     plt.text(j, i, cm[i, j],\n",
    "    #              horizontalalignment=\"center\",\n",
    "    #              color=\"white\" if cm[i, j] > thresh else \"black\")\n",
    "\n",
    "    thresh = cm.max() / 3.\n",
    "    for i, j in itertools.product(range(cm.shape[0]), range(cm.shape[1])):\n",
    "        plt.text(j, i, cm[i, j],\n",
    "                 horizontalalignment=\"center\",\n",
    "                 color=\"white\" if cm[i, j] > thresh else \"black\")\n",
    "\n",
    "    plt.tight_layout()\n",
    "    plt.ylabel('True label')\n",
    "    plt.xlabel('Predicted label')\n",
    "    plt.savefig(title + \"_cat_dog_wolves\")\n",
    "\n",
    "\n",
    "# test_batches.reset()\n",
    "\n",
    "# * Should this be random?\n",
    "test_batches = ImageDataGenerator().flow_from_directory(\n",
    "    test_path,\n",
    "    target_size=(224, 224),\n",
    "    shuffle=False,\n",
    "    batch_size=BATCH_SIZE_TEST,\n",
    "    # seed=SEED,\n",
    ")\n",
    "\n",
    "test_imgs, test_labels = next(test_batches)\n",
    "# test_labels = test_labels[:,0]\n",
    "\n",
    "predictions = model.predict(test_batches, \n",
    "                            steps=len(test_batches),\n",
    "                            verbose=0)\n",
    "\n",
    "# cm = confusion_matrix(test_labels, np.round(predictions[:,0]))\n",
    "cm = confusion_matrix(test_labels.argmax(axis=1),\n",
    "                      predictions.argmax(axis=1),\n",
    "                      # binary=False\n",
    "                      )\n",
    "\n",
    "cm_plot_labels = classes\n",
    "plot_confusion_matrix(cm,\n",
    "                      cm_plot_labels,\n",
    "                      title='Confusion Matrix')"
   ]
  },
  {
   "cell_type": "markdown",
   "metadata": {
    "id": "CBgD03P9O1oq"
   },
   "source": [
    "## Saving the fine-tuned VGG16 model\n",
    "\n",
    "Now that the model has been trained and tested, it should be saved so we can classify new images without retraining."
   ]
  },
  {
   "cell_type": "code",
   "execution_count": 15,
   "metadata": {},
   "outputs": [],
   "source": [
    "def save_best_model(path_abs_model, model_given, test_batches_given, steps, optimzier=Adam(learning_rate=.0001), loss='categorical_crossentropy', metricts=['accuracy']):\n",
    "\n",
    "    import tensorflow as tf\n",
    "    import os\n",
    "\n",
    "    model_given_test_loss, model_given_test_acc = model_given.evaluate(\n",
    "        test_batches_given,\n",
    "        steps=steps,\n",
    "        verbose=1\n",
    "    )\n",
    "\n",
    "    # Save if there is no model to compare to\n",
    "    if not os.path.exists(path_abs_model):\n",
    "        print(f\"Current model with acc ({model_given_test_acc}) is saved!\")\n",
    "        model_given.save(path_abs_model)\n",
    "        return\n",
    "\n",
    "    model_existing = tf.keras.models.clone_model(model_given)\n",
    "    model_existing.load_weights(path_abs_model)\n",
    "\n",
    "    model_existing.compile(optimzier,\n",
    "                           loss=loss,\n",
    "                           metrics=metricts)\n",
    "\n",
    "    model_existing_test_loss, model_existing_test_acc = model_existing.evaluate(\n",
    "        test_batches_given,\n",
    "        steps=steps,\n",
    "        verbose=1\n",
    "    )\n",
    "\n",
    "    # Save model given if it's better than the existing one\n",
    "    if model_given_test_acc >= model_existing_test_acc:\n",
    "        print(\n",
    "            f\"Current model with acc ({model_given_test_acc}) is better than Existing model with acc ({model_existing_test_acc}) and is saved!\")\n",
    "        model_existing.save(path_abs_model)\n",
    "\n",
    "    else:\n",
    "        print(\n",
    "            f\"Existing model with acc ({model_existing_test_acc}) is better than Current model with acc ({model_given_test_acc})\")"
   ]
  },
  {
   "cell_type": "code",
   "execution_count": 16,
   "metadata": {
    "id": "t9xDc240_nCV"
   },
   "outputs": [
    {
     "name": "stdout",
     "output_type": "stream",
     "text": [
      "1/1 [==============================] - 2s 2s/step - loss: 0.4331 - accuracy: 0.9624\n",
      "1/1 [==============================] - 1s 1s/step - loss: 0.4800 - accuracy: 0.9624\n",
      "Existing model with acc (0.9624060392379761) is better than Current model with acc (0.9624060392379761)\n"
     ]
    }
   ],
   "source": [
    "save_best_model('weights_animals_VGG16_fine_tuned.h5', model, test_batches, len(test_batches))"
   ]
  },
  {
   "cell_type": "markdown",
   "metadata": {
    "id": "KNkDKsfRcVS9"
   },
   "source": [
    "## Loading the fine-tuned VGG16 model\n",
    "\n",
    "In a production environment, the model could be loaded."
   ]
  },
  {
   "cell_type": "code",
   "execution_count": 17,
   "metadata": {
    "id": "j4acEqPacdvM"
   },
   "outputs": [
    {
     "name": "stdout",
     "output_type": "stream",
     "text": [
      "Model Loaded.\n"
     ]
    }
   ],
   "source": [
    "model.load_weights('weights_animals_VGG16_fine_tuned.h5')\n",
    "print(\"Model Loaded.\")"
   ]
  },
  {
   "cell_type": "markdown",
   "metadata": {
    "id": "rNHYAMiphMX_"
   },
   "source": [
    "## Conclusion\n",
    "\n",
    "In this notebook, using transfer learning for image classification has been demonstrated. First, the data is uploaded and connected to the Keras API. Then, the model is defined by copying a pretrained model and adding a new output layer. Once defined, the model can be trained using the appropriate loss function. Finally, the model is evaluated using a test dataset. With minimal modification, the model can be used to predict multiple classes beyond two, as well as predicting scalar values. It is encouraged to use this notebook as a templete for similar models using novel datasets. "
   ]
  }
 ],
 "metadata": {
  "accelerator": "GPU",
  "colab": {
   "collapsed_sections": [],
   "name": "Cats-Dogs-Wolves Transfer Learning Demo.ipynb",
   "provenance": []
  },
  "kernelspec": {
   "display_name": "Python 3.8.12 64-bit Anaconda (Tensorflow 2.5.0 | AutoKeras | CUDE: 11.2 | GPU Support: True)",
   "language": "python",
   "name": "env_conda_38_tensorflow_gpu_autokeras"
  },
  "language_info": {
   "codemirror_mode": {
    "name": "ipython",
    "version": 3
   },
   "file_extension": ".py",
   "mimetype": "text/x-python",
   "name": "python",
   "nbconvert_exporter": "python",
   "pygments_lexer": "ipython3",
   "version": "3.8.12"
  }
 },
 "nbformat": 4,
 "nbformat_minor": 4
}
