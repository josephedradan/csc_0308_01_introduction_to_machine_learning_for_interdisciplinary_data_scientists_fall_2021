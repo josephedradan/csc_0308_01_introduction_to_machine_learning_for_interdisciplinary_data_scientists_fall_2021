{
 "cells": [
  {
   "cell_type": "markdown",
   "metadata": {
    "id": "lkzsYI_P_JeN"
   },
   "source": [
    "# Deep Transfer Learning for Biomedical Image Data\n",
    "\n",
    "In biomedical, the task of predicting a condition from image data is highly important to diagnose a variety of medical conditions. In computer science, this task is called image classification. Algorithmic image classification is usually performed using a specific type of algorithm called deep learning. Deep learning is a subset of machine learning, in which the algorithm is trained using data. \n",
    "\n",
    "In image classification using deep learning, the workflow usually goes as follows:\n",
    "\n",
    "1. Create a dataset with a folder for each class of image.\n",
    "2. Split this dataset into training, validation, and testing sets.\n",
    "3. Train the model using the training set.\n",
    "4. Optimize the training parameters using the validation set.\n",
    "5. Evaluate the model using the testing set.\n",
    "\n",
    "\n",
    "Deep learning has been successfully used to accurately classify many types of biomedical images. Very recently, a classification algorithm was able to detect breast cancer from mammography images with an accuracy of 98% [[1]](https://www.nature.com/articles/s41598-019-48995-4). In collaboration with Dr Ilmi Yoon, Domingo Lab and her graduate students, the accuracy of the classification of images of tadpole (frog) embryos stained with muscle and intersomitic boundaries was improved using deep transfer learning. These images were classified into two categories: control and mutant. This notebook outlines the core algorithm used for this task in a general way, so that future experiments with novel datasets can easily be conducted.\n",
    "\n"
   ]
  },
  {
   "cell_type": "markdown",
   "metadata": {
    "id": "ZnfLdI0jVJwl"
   },
   "source": [
    "## Background\n",
    "\n",
    "Before any code is run, it is important to understand some basics of neural networks and transfer learning.\n"
   ]
  },
  {
   "cell_type": "markdown",
   "metadata": {
    "id": "g38RYOd_wb9q"
   },
   "source": [
    "### Deep Neural Networks\n",
    "A deep neural network is a conditional probability estimator which can predict the probability of some condition given some input. This makes it useful for image classification, which involves detecting the probability of a condition once provided with an image. This project an industry standard neural network architecture called VGG16 (see image), which accepts color images as input and predicts the probability that the image belongs to any of 1000 general image classes. \n",
    "\n",
    "![VGG16 Architecture](https://miro.medium.com/max/470/1*3-TqqkRQ4rWLOMX-gvkYwA.png)\n",
    "\n",
    "\n",
    "This network is composed of many network layers. Each layer further processes the image. The output layer is the orange block at the end of the network, which outputs the probability distribution among the image classes.\n"
   ]
  },
  {
   "cell_type": "markdown",
   "metadata": {
    "id": "P8MivX4hwcNC"
   },
   "source": [
    "### Transfer Learning\n",
    "While Deep Learning has advanced recognition of patterns and understanding of data in various formats, recent advancements in Convolution Neural Network (CNN) achieve super-human level computer vision in natural photo images [3]. Typical human error in image recognition is 5% while the latest CNN models such as VGG19, Inception achieves 3% or lower rates [4]. These achievements are made with advanced Convolution Neural Network (CNN) architecture design, careful selection of hyperparameters, the large and good data set (more than 15 million labeled images) and high computation power for long deep learning training; typical computer science lab will have difficulty in achieving the same results. Fortunately, to promote the advancement of deep learning applications, Google, Oxford research group or other most advanced researchers made their fully trained CNN publicly available through “Transfer Learning” technology [4]. However, these fully trained CNN are trained with objects naturally found from photo images such as dog, cat, car, etc. Scientists or domain experts have started to utilize these fully-trained-CNN to classify their scientific data with small additional training process (called fine-tuning).\n",
    "Transfer learning is the process fine-tuning a well trained neural network (like VGG16) for a specific task. This has been proven to be effective at classifying medical image data with minimal training time and smaller datasets than would otherwise be required for high levels of accuracy. The output layer  with 1000 classes is replaced with a custom layer with the number of outputs equal to the number of classes of image we have. In this project, the classes are control and mutant. The network is then retrained with a small hand-labeled dataset."
   ]
  },
  {
   "cell_type": "markdown",
   "metadata": {
    "id": "6h3FLsAgXfv9"
   },
   "source": [
    "## Introduction to Colab Notebooks"
   ]
  },
  {
   "cell_type": "markdown",
   "metadata": {
    "id": "mHxfB9-sl2xA"
   },
   "source": [
    "### Running a Code Cell\n",
    "\n",
    "The cell below is written in python code. In order to execute a cell, press the play button next to the cell, or press Shift-Enter while within a code cell. The output generated by a cell will be shown below the cell. Try executing the cell below."
   ]
  },
  {
   "cell_type": "code",
   "execution_count": 1,
   "metadata": {
    "colab": {
     "base_uri": "https://localhost:8080/",
     "height": 35
    },
    "id": "0Z8LTXv05WRr",
    "outputId": "8e7a2662-3b9d-4359-b0d1-550feb751e23"
   },
   "outputs": [
    {
     "name": "stdout",
     "output_type": "stream",
     "text": [
      "Hello World\n"
     ]
    }
   ],
   "source": [
    "print('Hello World')"
   ]
  },
  {
   "cell_type": "markdown",
   "metadata": {
    "id": "W56krjtB5d9C"
   },
   "source": [
    "The output should read 'Hello World'. \n"
   ]
  },
  {
   "cell_type": "markdown",
   "metadata": {
    "id": "B5p-Y3ncVEzf"
   },
   "source": [
    "### Configuring the Virtual Interpreter\n",
    "The colab environment runs code cells on a virtual cloud computer owned by Google. To ensure that the code is executed efficiently, GPU (graphics processing) must be enabled:\n",
    "\n",
    "* Navigate to 'Runtime' > 'Change Runtime Type'\n",
    "* Ensure that 'Hardware Accelerator' is set to 'GPU'\n",
    "\n",
    "Once you have performed these steps, the output of the code cell below should read 'GPU 0' followed by the name of the graphics processor."
   ]
  },
  {
   "cell_type": "code",
   "execution_count": 2,
   "metadata": {
    "colab": {
     "base_uri": "https://localhost:8080/",
     "height": 35
    },
    "id": "-OfGhW-ZUG9Q",
    "outputId": "0184f1f6-1233-4daa-a2b8-c72b9cfc1656"
   },
   "outputs": [
    {
     "name": "stdout",
     "output_type": "stream",
     "text": [
      "GPU 0: NVIDIA GeForce RTX 2080 Ti (UUID: GPU-b3420b31-4832-b27f-df3a-6215a94894aa)\n"
     ]
    }
   ],
   "source": [
    "!nvidia-smi --list-gpus"
   ]
  },
  {
   "cell_type": "code",
   "execution_count": 3,
   "metadata": {},
   "outputs": [
    {
     "name": "stdout",
     "output_type": "stream",
     "text": [
      "Num GPUs Available:  1\n",
      "Tensorflow version: 2.5.0\n",
      "[name: \"/device:CPU:0\"\n",
      "device_type: \"CPU\"\n",
      "memory_limit: 268435456\n",
      "locality {\n",
      "}\n",
      "incarnation: 3154981532781289932\n",
      ", name: \"/device:GPU:0\"\n",
      "device_type: \"GPU\"\n",
      "memory_limit: 9392422912\n",
      "locality {\n",
      "  bus_id: 1\n",
      "  links {\n",
      "  }\n",
      "}\n",
      "incarnation: 5106304082940760341\n",
      "physical_device_desc: \"device: 0, name: NVIDIA GeForce RTX 2080 Ti, pci bus id: 0000:0b:00.0, compute capability: 7.5\"\n",
      "]\n"
     ]
    }
   ],
   "source": [
    "from tensorflow.python.client import device_lib\n",
    "import tensorflow as tf\n",
    "print(\"Num GPUs Available: \", len(tf.config.list_physical_devices('GPU')))\n",
    "print(\"Tensorflow version:\", tf.__version__)\n",
    "print(device_lib.list_local_devices())"
   ]
  },
  {
   "cell_type": "markdown",
   "metadata": {
    "id": "eqQejRNKmCGR"
   },
   "source": [
    "### Importing the Software Libraries\n",
    "\n",
    "The following code imports some software libraries necessary to execute the project. "
   ]
  },
  {
   "cell_type": "code",
   "execution_count": 4,
   "metadata": {
    "colab": {
     "base_uri": "https://localhost:8080/",
     "height": 35
    },
    "id": "WQGet9FW-n55",
    "outputId": "97bae4f0-4eba-4d87-b808-360946d5552b"
   },
   "outputs": [
    {
     "name": "stdout",
     "output_type": "stream",
     "text": [
      "Import Success!\n"
     ]
    }
   ],
   "source": [
    "# If in colab\n",
    "if \"google.colab\" in str(get_ipython()):\n",
    "    %tensorflow_version 2.x  # Uncomment for colab\n",
    "    \n",
    "import numpy as np\n",
    "import tensorflow.keras\n",
    "from tensorflow.keras.models import load_model\n",
    "from tensorflow.keras.models import Sequential\n",
    "from tensorflow.keras.layers import Activation, Dense, Flatten\n",
    "from tensorflow.keras.optimizers import Adam, SGD\n",
    "from tensorflow.keras.metrics import categorical_crossentropy\n",
    "from tensorflow.keras.preprocessing.image import ImageDataGenerator\n",
    "from tensorflow.keras.layers import BatchNormalization\n",
    "\n",
    "from sklearn.metrics import confusion_matrix\n",
    "import itertools\n",
    "import matplotlib.pyplot as plt\n",
    "\n",
    "%matplotlib inline\n",
    "print(\"Import Success!\")"
   ]
  },
  {
   "cell_type": "markdown",
   "metadata": {
    "id": "yDrfbG0z_fRP"
   },
   "source": [
    "## Working with Training Data\n",
    "\n",
    "The data must be loaded into the Keras API (a software library) so that it can be easily fed to the machine learning model.\n"
   ]
  },
  {
   "cell_type": "markdown",
   "metadata": {
    "id": "4Cn6KlS01Y1r"
   },
   "source": [
    "### Downloading the Data\n",
    "First, the data must be downloaded to the virtual machine."
   ]
  },
  {
   "cell_type": "code",
   "execution_count": 5,
   "metadata": {
    "colab": {
     "base_uri": "https://localhost:8080/",
     "height": 256
    },
    "id": "EgzGQwrNGOsJ",
    "outputId": "7aa3c068-15d9-416c-ff01-43ced369b588"
   },
   "outputs": [],
   "source": [
    "\"\"\"\n",
    "If you don't have gdown then uncomment the below\n",
    "\"\"\"\n",
    "# !python -m pip install gdown\n",
    "# !conda install -c conda-forge gdown\n",
    "\n",
    "import os\n",
    "\n",
    "if not os.path.exists(\"cropdata.zip\"):\n",
    "\n",
    "    import gdown\n",
    "    url = 'https://drive.google.com/uc?id=14bW8k2QYj7aR9-YZL9vVg2FqqfbylvZS'\n",
    "    output = 'cropdata.zip'\n",
    "    gdown.download(url, output, quiet=False)"
   ]
  },
  {
   "cell_type": "markdown",
   "metadata": {
    "id": "T1ua69_KlXFT"
   },
   "source": [
    "### Extract the Data\n",
    "\n",
    "Since the images are in a .zip file, they must first be extracted to .jpg images.\n"
   ]
  },
  {
   "cell_type": "code",
   "execution_count": 6,
   "metadata": {
    "colab": {
     "base_uri": "https://localhost:8080/",
     "height": 1000
    },
    "id": "5ndA88KR3zY-",
    "outputId": "cbbed964-a50a-4ec4-f4ea-479ef8a4d66e"
   },
   "outputs": [],
   "source": [
    "if not os.path.exists(\"cropdata\"):\n",
    "    !unzip cropdata.zip\n",
    "    print(\"Done.\")"
   ]
  },
  {
   "cell_type": "markdown",
   "metadata": {
    "id": "dawVaDuEVyix"
   },
   "source": [
    "### Splitting the Dataset\n",
    "\n",
    "The data is divided in to three sets: train, validation, and test. The training data will be used to train the model. The validation data will be run through the model occationally to ensure that it is generalizing well to input outside the training cases (not overfitting). The validation data is used to determine the optimal amount of training. The test data will be kept until training is completely done in order to measure our peformance. "
   ]
  },
  {
   "cell_type": "code",
   "execution_count": 7,
   "metadata": {
    "colab": {
     "base_uri": "https://localhost:8080/",
     "height": 35
    },
    "id": "_9zS58LoX63h",
    "outputId": "dade7eed-0b98-46f7-c5cc-17d8c016f278"
   },
   "outputs": [
    {
     "name": "stdout",
     "output_type": "stream",
     "text": [
      "Paths Loaded.\n"
     ]
    }
   ],
   "source": [
    "train_path = 'cropdata/train'\n",
    "valid_path = 'cropdata/valid'\n",
    "test_path = 'cropdata/test'\n",
    "print(\"Paths Loaded.\")"
   ]
  },
  {
   "cell_type": "code",
   "execution_count": 8,
   "metadata": {},
   "outputs": [],
   "source": [
    "SEED = 24\n",
    "BATCH_SIZE_TRAIN  = 15\n",
    "BATCH_SIZE_VALIDATION = 15\n",
    "BATCH_SIZE_TESTING = 15\n"
   ]
  },
  {
   "cell_type": "markdown",
   "metadata": {
    "id": "k60GhdR2fhak"
   },
   "source": [
    "### Creating the Data Generators\n",
    "\n",
    "The model requires the image to be provided as batches of image vectors. By batch, we just mean a consistent number of images. A useful software interface for feeding data into our model is an ImageDataGenerator from the Keras library.  After specifying the data source and other parameters, it will continually generate data batches of specified size for our model to use."
   ]
  },
  {
   "cell_type": "code",
   "execution_count": 9,
   "metadata": {
    "colab": {
     "base_uri": "https://localhost:8080/",
     "height": 127
    },
    "id": "iojaSuJW-pJw",
    "outputId": "3321b889-a52e-42c6-94ef-caed62ed17a7"
   },
   "outputs": [
    {
     "name": "stdout",
     "output_type": "stream",
     "text": [
      "Training:\n",
      "Found 454 images belonging to 2 classes.\n",
      "Validation:\n",
      "Found 113 images belonging to 2 classes.\n",
      "Testing:\n",
      "Found 189 images belonging to 2 classes.\n"
     ]
    }
   ],
   "source": [
    "image_size = (224, 224)\n",
    "classes = ['control', 'mutant']\n",
    "\n",
    "print(\"Training:\")\n",
    "train_batches = ImageDataGenerator().flow_from_directory(\n",
    "    train_path,\n",
    "    image_size,\n",
    "    classes=classes,\n",
    "    batch_size=BATCH_SIZE_TRAIN,\n",
    "    seed=SEED\n",
    ")\n",
    "\n",
    "print(\"Validation:\")\n",
    "valid_batches = ImageDataGenerator().flow_from_directory(\n",
    "    valid_path,\n",
    "    image_size,\n",
    "    classes=classes,\n",
    "    batch_size=BATCH_SIZE_VALIDATION, \n",
    "    seed=SEED\n",
    ")\n",
    "\n",
    "print(\"Testing:\")\n",
    "test_batches = ImageDataGenerator().flow_from_directory(\n",
    "    test_path,\n",
    "    image_size,\n",
    "    classes=classes,\n",
    "    batch_size=BATCH_SIZE_TESTING, \n",
    "    seed=SEED\n",
    ")"
   ]
  },
  {
   "cell_type": "markdown",
   "metadata": {
    "id": "88Zm0qejfnAX"
   },
   "source": [
    "### Visualizing the Data\n",
    "\n",
    "The following code will display some of the training images so we can see what they look like. "
   ]
  },
  {
   "cell_type": "code",
   "execution_count": 10,
   "metadata": {
    "colab": {
     "base_uri": "https://localhost:8080/",
     "height": 197
    },
    "id": "lXzTJRg83lye",
    "outputId": "75782320-5a78-4685-e406-8fd24f4f3906"
   },
   "outputs": [
    {
     "name": "stderr",
     "output_type": "stream",
     "text": [
      "H:\\Programming\\Python\\env\\env_conda_38_tensorflow_gpu_autokeras\\lib\\site-packages\\matplotlib\\text.py:1215: FutureWarning: elementwise comparison failed; returning scalar instead, but in the future will perform elementwise comparison\n",
      "  if s != self._text:\n"
     ]
    },
    {
     "data": {
      "image/png": "[encoded data removed]",
      "text/plain": [
       "<Figure size 1008x1008 with 5 Axes>"
      ]
     },
     "metadata": {
      "needs_background": "light"
     },
     "output_type": "display_data"
    }
   ],
   "source": [
    "# plots images with labels\n",
    "def plots(ims, figsize=(14, 14), rows=1, interp=False, titles=None):\n",
    "    if type(ims[0]) is np.ndarray:\n",
    "        ims = np.array(ims).astype(np.uint8)\n",
    "        if (ims.shape[-1] != 3):\n",
    "            ims = ims.transpose((0, 2, 3, 1))\n",
    "    f = plt.figure(figsize=figsize)\n",
    "    cols = len(ims)//rows if len(ims) % 2 == 0 else len(ims)//rows + 1\n",
    "    for i in range(len(ims)):\n",
    "        sp = f.add_subplot(rows, cols, i+1)\n",
    "        sp.axis('Off')\n",
    "        if titles is not None:\n",
    "            sp.set_title(titles[i], fontsize=16)\n",
    "        plt.imshow(ims[i], interpolation=None if interp else 'none')\n",
    "\n",
    "\n",
    "imgs, labels = next(train_batches)\n",
    "\n",
    "plots(imgs[0:5], titles=labels)"
   ]
  },
  {
   "cell_type": "markdown",
   "metadata": {
    "id": "faT60UuDN0sk"
   },
   "source": [
    "## Creating the Model\n",
    "\n",
    "In Keras, the deep learning model is represented by layers of processing. \n",
    "After importing a pretrained model, a new model is created using this model. All of these layers are copied from the pretrained model to the new model. However, the final output layer will be replaced and retrained using the labeled data, esssentially customizing the output for this specific classification task."
   ]
  },
  {
   "cell_type": "markdown",
   "metadata": {
    "id": "pf7o4Ft_hc-d"
   },
   "source": [
    "### Loading a Pretrained Model\n",
    "\n",
    "A pretrained VGG16 model is downloaded using the Keras library. "
   ]
  },
  {
   "cell_type": "code",
   "execution_count": 11,
   "metadata": {
    "colab": {
     "base_uri": "https://localhost:8080/",
     "height": 54
    },
    "id": "dFCcMRb_jw5h",
    "outputId": "8dd65377-d13b-4310-ec0d-2eb4a3e553bf"
   },
   "outputs": [],
   "source": [
    "vgg16_model = tensorflow.keras.applications.VGG16()"
   ]
  },
  {
   "cell_type": "code",
   "execution_count": 12,
   "metadata": {
    "colab": {
     "base_uri": "https://localhost:8080/",
     "height": 1000
    },
    "id": "n07hpn1fzS0e",
    "outputId": "f3a6b504-cacf-4bff-8f35-a674892a96a3"
   },
   "outputs": [
    {
     "name": "stdout",
     "output_type": "stream",
     "text": [
      "Model: \"vgg16\"\n",
      "_________________________________________________________________\n",
      "Layer (type)                 Output Shape              Param #   \n",
      "=================================================================\n",
      "input_1 (InputLayer)         [(None, 224, 224, 3)]     0         \n",
      "_________________________________________________________________\n",
      "block1_conv1 (Conv2D)        (None, 224, 224, 64)      1792      \n",
      "_________________________________________________________________\n",
      "block1_conv2 (Conv2D)        (None, 224, 224, 64)      36928     \n",
      "_________________________________________________________________\n",
      "block1_pool (MaxPooling2D)   (None, 112, 112, 64)      0         \n",
      "_________________________________________________________________\n",
      "block2_conv1 (Conv2D)        (None, 112, 112, 128)     73856     \n",
      "_________________________________________________________________\n",
      "block2_conv2 (Conv2D)        (None, 112, 112, 128)     147584    \n",
      "_________________________________________________________________\n",
      "block2_pool (MaxPooling2D)   (None, 56, 56, 128)       0         \n",
      "_________________________________________________________________\n",
      "block3_conv1 (Conv2D)        (None, 56, 56, 256)       295168    \n",
      "_________________________________________________________________\n",
      "block3_conv2 (Conv2D)        (None, 56, 56, 256)       590080    \n",
      "_________________________________________________________________\n",
      "block3_conv3 (Conv2D)        (None, 56, 56, 256)       590080    \n",
      "_________________________________________________________________\n",
      "block3_pool (MaxPooling2D)   (None, 28, 28, 256)       0         \n",
      "_________________________________________________________________\n",
      "block4_conv1 (Conv2D)        (None, 28, 28, 512)       1180160   \n",
      "_________________________________________________________________\n",
      "block4_conv2 (Conv2D)        (None, 28, 28, 512)       2359808   \n",
      "_________________________________________________________________\n",
      "block4_conv3 (Conv2D)        (None, 28, 28, 512)       2359808   \n",
      "_________________________________________________________________\n",
      "block4_pool (MaxPooling2D)   (None, 14, 14, 512)       0         \n",
      "_________________________________________________________________\n",
      "block5_conv1 (Conv2D)        (None, 14, 14, 512)       2359808   \n",
      "_________________________________________________________________\n",
      "block5_conv2 (Conv2D)        (None, 14, 14, 512)       2359808   \n",
      "_________________________________________________________________\n",
      "block5_conv3 (Conv2D)        (None, 14, 14, 512)       2359808   \n",
      "_________________________________________________________________\n",
      "block5_pool (MaxPooling2D)   (None, 7, 7, 512)         0         \n",
      "_________________________________________________________________\n",
      "flatten (Flatten)            (None, 25088)             0         \n",
      "_________________________________________________________________\n",
      "fc1 (Dense)                  (None, 4096)              102764544 \n",
      "_________________________________________________________________\n",
      "fc2 (Dense)                  (None, 4096)              16781312  \n",
      "_________________________________________________________________\n",
      "predictions (Dense)          (None, 1000)              4097000   \n",
      "=================================================================\n",
      "Total params: 138,357,544\n",
      "Trainable params: 138,357,544\n",
      "Non-trainable params: 0\n",
      "_________________________________________________________________\n"
     ]
    }
   ],
   "source": [
    "vgg16_model.summary()"
   ]
  },
  {
   "cell_type": "markdown",
   "metadata": {
    "id": "lUiLZgsPip5k"
   },
   "source": [
    "### Creating a Custom Output Model#\n",
    "\n",
    "A new model is created copying all layers except the output layer. Notice that these layers are set to be non-trainable. Finally, a custom output layer is added to the model.  This output layer should have the same number of outputs as the number of different classes of data. The softmax activation function conditions the output to be a probability distribuiton adding up to unity. \n",
    "In mathematics, the softmax function, also known as softargmax or normalized exponential function, is a function that takes as input a vector of K real numbers, and normalizes it into a probability distribution consisting of K probabilities proportional to the exponentials of the input numbers.\n",
    "Therefore, our model will output a probability distribution among the classes as output for each input image."
   ]
  },
  {
   "cell_type": "code",
   "execution_count": 13,
   "metadata": {
    "colab": {
     "base_uri": "https://localhost:8080/",
     "height": 972
    },
    "id": "LEKi6uvEN0KL",
    "outputId": "3a43ce36-ba54-4850-8af2-816568e4908a"
   },
   "outputs": [
    {
     "name": "stdout",
     "output_type": "stream",
     "text": [
      "Model: \"sequential\"\n",
      "_________________________________________________________________\n",
      "Layer (type)                 Output Shape              Param #   \n",
      "=================================================================\n",
      "block1_conv1 (Conv2D)        (None, 224, 224, 64)      1792      \n",
      "_________________________________________________________________\n",
      "block1_conv2 (Conv2D)        (None, 224, 224, 64)      36928     \n",
      "_________________________________________________________________\n",
      "block1_pool (MaxPooling2D)   (None, 112, 112, 64)      0         \n",
      "_________________________________________________________________\n",
      "block2_conv1 (Conv2D)        (None, 112, 112, 128)     73856     \n",
      "_________________________________________________________________\n",
      "block2_conv2 (Conv2D)        (None, 112, 112, 128)     147584    \n",
      "_________________________________________________________________\n",
      "block2_pool (MaxPooling2D)   (None, 56, 56, 128)       0         \n",
      "_________________________________________________________________\n",
      "block3_conv1 (Conv2D)        (None, 56, 56, 256)       295168    \n",
      "_________________________________________________________________\n",
      "block3_conv2 (Conv2D)        (None, 56, 56, 256)       590080    \n",
      "_________________________________________________________________\n",
      "block3_conv3 (Conv2D)        (None, 56, 56, 256)       590080    \n",
      "_________________________________________________________________\n",
      "block3_pool (MaxPooling2D)   (None, 28, 28, 256)       0         \n",
      "_________________________________________________________________\n",
      "block4_conv1 (Conv2D)        (None, 28, 28, 512)       1180160   \n",
      "_________________________________________________________________\n",
      "block4_conv2 (Conv2D)        (None, 28, 28, 512)       2359808   \n",
      "_________________________________________________________________\n",
      "block4_conv3 (Conv2D)        (None, 28, 28, 512)       2359808   \n",
      "_________________________________________________________________\n",
      "block4_pool (MaxPooling2D)   (None, 14, 14, 512)       0         \n",
      "_________________________________________________________________\n",
      "block5_conv1 (Conv2D)        (None, 14, 14, 512)       2359808   \n",
      "_________________________________________________________________\n",
      "block5_conv2 (Conv2D)        (None, 14, 14, 512)       2359808   \n",
      "_________________________________________________________________\n",
      "block5_conv3 (Conv2D)        (None, 14, 14, 512)       2359808   \n",
      "_________________________________________________________________\n",
      "block5_pool (MaxPooling2D)   (None, 7, 7, 512)         0         \n",
      "_________________________________________________________________\n",
      "flatten (Flatten)            (None, 25088)             0         \n",
      "_________________________________________________________________\n",
      "fc1 (Dense)                  (None, 4096)              102764544 \n",
      "_________________________________________________________________\n",
      "fc2 (Dense)                  (None, 4096)              16781312  \n",
      "_________________________________________________________________\n",
      "dense (Dense)                (None, 2)                 8194      \n",
      "=================================================================\n",
      "Total params: 134,268,738\n",
      "Trainable params: 8,194\n",
      "Non-trainable params: 134,260,544\n",
      "_________________________________________________________________\n"
     ]
    }
   ],
   "source": [
    "model = Sequential()\n",
    "\n",
    "\"\"\"\n",
    "Copy all layers except for the last layer of the vgg16 model into the model\n",
    "\"\"\"\n",
    "for layer in vgg16_model.layers[:-1]:\n",
    "    model.add(layer)\n",
    "\n",
    "# Make all the layers in the model non trainable\n",
    "for layer in model.layers:\n",
    "    layer.trainable = False\n",
    "\n",
    "model.add(Dense(len(classes), activation='softmax'))\n",
    "model.summary()"
   ]
  },
  {
   "cell_type": "markdown",
   "metadata": {
    "id": "hQsSiXUk_j0J"
   },
   "source": [
    "## Training the Model\n",
    "\n",
    "Now that the model has been specified, it must be trained to detect mutated frog images. \n",
    "\n",
    "\n"
   ]
  },
  {
   "cell_type": "markdown",
   "metadata": {
    "id": "mI8ljOkmpa0v"
   },
   "source": [
    "### Compiling the Model\n",
    "In preperation for training, the model is compiled. In order to train it, we must evaluate its performance using a loss function. This function is designed to increase as performance decreases. Therefore, in training, we are essentially minimizing the value of the loss function. Since we are predicting a condition (yes/no), we are using cross-entropy, which is a concept from information theory. If we were instead predicting a numerical value, the correct loss function would be 'mean_squared_error'."
   ]
  },
  {
   "cell_type": "code",
   "execution_count": 14,
   "metadata": {
    "colab": {
     "base_uri": "https://localhost:8080/",
     "height": 35
    },
    "id": "iDG0uQ1qAccz",
    "outputId": "d81575ae-869b-4e63-d140-7f2efb4f74c7"
   },
   "outputs": [
    {
     "name": "stdout",
     "output_type": "stream",
     "text": [
      "Done\n"
     ]
    }
   ],
   "source": [
    "model.compile(Adam(learning_rate=.0001),\n",
    "              loss='categorical_crossentropy',\n",
    "              metrics=['accuracy'])\n",
    "print(\"Done\")"
   ]
  },
  {
   "cell_type": "markdown",
   "metadata": {
    "id": "df0KalV7pnmx"
   },
   "source": [
    "### Minimizing Loss\n",
    "\n",
    "The model is now trained using the backpropagation algorithm to minimize the loss function. The training data will be passed into the model and evaluated using the loss function. Then, the model will be adjusted to decrease the loss.\n",
    "\n",
    "Here we specifiy the epochs, which is the number of times we pass through the entire training set. These specifications are determined by experimentation with the goal of minimizing validation loss. If the epochs are too high, the model has overfit to the data (too specific). If the epochs are too low, the model has underfit to the data (too general). The validation loss must be compared to training loss to determine if the model is optimally fit to the data.\n"
   ]
  },
  {
   "cell_type": "code",
   "execution_count": 15,
   "metadata": {
    "colab": {
     "base_uri": "https://localhost:8080/",
     "height": 403
    },
    "id": "tkFe_2sRpnNt",
    "outputId": "160a955a-ee32-496b-d5af-bf65622862d1"
   },
   "outputs": [
    {
     "name": "stdout",
     "output_type": "stream",
     "text": [
      "Epoch 1/200\n",
      "30/30 [==============================] - 12s 208ms/step - loss: 0.5717 - accuracy: 0.7175 - val_loss: 0.4424 - val_accuracy: 0.8476\n",
      "Epoch 2/200\n",
      "30/30 [==============================] - 7s 242ms/step - loss: 0.3991 - accuracy: 0.8269 - val_loss: 0.3274 - val_accuracy: 0.8952\n",
      "Epoch 3/200\n",
      "30/30 [==============================] - 8s 283ms/step - loss: 0.3145 - accuracy: 0.8907 - val_loss: 0.3154 - val_accuracy: 0.8762\n",
      "Epoch 4/200\n",
      "30/30 [==============================] - 7s 244ms/step - loss: 0.2778 - accuracy: 0.9066 - val_loss: 0.2276 - val_accuracy: 0.9333\n",
      "Epoch 5/200\n",
      "30/30 [==============================] - 5s 172ms/step - loss: 0.2466 - accuracy: 0.9180 - val_loss: 0.2046 - val_accuracy: 0.9524\n",
      "Epoch 6/200\n",
      "30/30 [==============================] - 6s 204ms/step - loss: 0.2215 - accuracy: 0.9248 - val_loss: 0.2098 - val_accuracy: 0.9429\n",
      "Epoch 7/200\n",
      "30/30 [==============================] - 6s 209ms/step - loss: 0.1960 - accuracy: 0.9408 - val_loss: 0.1660 - val_accuracy: 0.9619\n",
      "Epoch 8/200\n",
      "30/30 [==============================] - 7s 235ms/step - loss: 0.1794 - accuracy: 0.9476 - val_loss: 0.1648 - val_accuracy: 0.9714\n",
      "Epoch 9/200\n",
      "30/30 [==============================] - 5s 169ms/step - loss: 0.1616 - accuracy: 0.9544 - val_loss: 0.1560 - val_accuracy: 0.9714\n",
      "Epoch 10/200\n",
      "30/30 [==============================] - 7s 236ms/step - loss: 0.1552 - accuracy: 0.9590 - val_loss: 0.1479 - val_accuracy: 0.9714\n",
      "Epoch 11/200\n",
      "30/30 [==============================] - 7s 240ms/step - loss: 0.1413 - accuracy: 0.9567 - val_loss: 0.1499 - val_accuracy: 0.9619\n",
      "Epoch 12/200\n",
      "30/30 [==============================] - 7s 241ms/step - loss: 0.1354 - accuracy: 0.9681 - val_loss: 0.1344 - val_accuracy: 0.9714\n",
      "Epoch 13/200\n",
      "30/30 [==============================] - 7s 240ms/step - loss: 0.1222 - accuracy: 0.9727 - val_loss: 0.1273 - val_accuracy: 0.9714\n",
      "Epoch 14/200\n",
      "30/30 [==============================] - 6s 205ms/step - loss: 0.1165 - accuracy: 0.9681 - val_loss: 0.1218 - val_accuracy: 0.9714\n",
      "Epoch 15/200\n",
      "30/30 [==============================] - 8s 278ms/step - loss: 0.1094 - accuracy: 0.9749 - val_loss: 0.1132 - val_accuracy: 0.9714\n",
      "Epoch 16/200\n",
      "30/30 [==============================] - 5s 173ms/step - loss: 0.1048 - accuracy: 0.9749 - val_loss: 0.0908 - val_accuracy: 0.9810\n",
      "Epoch 17/200\n",
      "30/30 [==============================] - 5s 168ms/step - loss: 0.0972 - accuracy: 0.9749 - val_loss: 0.1052 - val_accuracy: 0.9714\n",
      "Epoch 18/200\n",
      "30/30 [==============================] - 7s 238ms/step - loss: 0.0928 - accuracy: 0.9795 - val_loss: 0.0989 - val_accuracy: 0.9714\n",
      "Epoch 19/200\n",
      "30/30 [==============================] - 7s 235ms/step - loss: 0.0837 - accuracy: 0.9818 - val_loss: 0.0928 - val_accuracy: 0.9714\n",
      "Epoch 20/200\n",
      "30/30 [==============================] - 5s 171ms/step - loss: 0.0799 - accuracy: 0.9863 - val_loss: 0.0910 - val_accuracy: 0.9714\n",
      "Epoch 21/200\n",
      "30/30 [==============================] - 7s 223ms/step - loss: 0.0755 - accuracy: 0.9863 - val_loss: 0.0891 - val_accuracy: 0.9714\n",
      "Epoch 22/200\n",
      "30/30 [==============================] - 6s 170ms/step - loss: 0.0733 - accuracy: 0.9863 - val_loss: 0.0828 - val_accuracy: 0.9810\n",
      "Epoch 23/200\n",
      "30/30 [==============================] - 9s 316ms/step - loss: 0.0687 - accuracy: 0.9932 - val_loss: 0.0686 - val_accuracy: 0.9810\n",
      "Epoch 24/200\n",
      "30/30 [==============================] - 5s 166ms/step - loss: 0.0668 - accuracy: 0.9932 - val_loss: 0.0780 - val_accuracy: 0.9810\n",
      "Epoch 25/200\n",
      "30/30 [==============================] - 7s 243ms/step - loss: 0.0628 - accuracy: 0.9954 - val_loss: 0.0760 - val_accuracy: 0.9810\n",
      "Epoch 26/200\n",
      "30/30 [==============================] - 6s 209ms/step - loss: 0.0607 - accuracy: 0.9954 - val_loss: 0.0748 - val_accuracy: 0.9810\n",
      "Epoch 27/200\n",
      "30/30 [==============================] - 6s 207ms/step - loss: 0.0584 - accuracy: 0.9954 - val_loss: 0.0720 - val_accuracy: 0.9810\n",
      "Epoch 28/200\n",
      "30/30 [==============================] - 5s 166ms/step - loss: 0.0557 - accuracy: 0.9954 - val_loss: 0.0694 - val_accuracy: 0.9905\n",
      "Epoch 29/200\n",
      "30/30 [==============================] - 7s 249ms/step - loss: 0.0538 - accuracy: 0.9954 - val_loss: 0.0644 - val_accuracy: 0.9905\n",
      "Epoch 30/200\n",
      "30/30 [==============================] - 8s 280ms/step - loss: 0.0530 - accuracy: 0.9954 - val_loss: 0.0696 - val_accuracy: 0.9810\n",
      "Epoch 31/200\n",
      "30/30 [==============================] - 5s 170ms/step - loss: 0.0488 - accuracy: 0.9954 - val_loss: 0.0631 - val_accuracy: 0.9810\n",
      "Epoch 32/200\n",
      "30/30 [==============================] - 7s 243ms/step - loss: 0.0471 - accuracy: 0.9954 - val_loss: 0.0644 - val_accuracy: 0.9905\n",
      "Epoch 33/200\n",
      "30/30 [==============================] - 7s 238ms/step - loss: 0.0459 - accuracy: 0.9954 - val_loss: 0.0594 - val_accuracy: 0.9905\n",
      "Epoch 34/200\n",
      "30/30 [==============================] - 8s 283ms/step - loss: 0.0429 - accuracy: 0.9954 - val_loss: 0.0621 - val_accuracy: 0.9905\n",
      "Epoch 35/200\n",
      "30/30 [==============================] - 5s 169ms/step - loss: 0.0420 - accuracy: 0.9977 - val_loss: 0.0596 - val_accuracy: 0.9905\n",
      "Epoch 36/200\n",
      "30/30 [==============================] - 6s 204ms/step - loss: 0.0390 - accuracy: 0.9977 - val_loss: 0.0564 - val_accuracy: 0.9905\n",
      "Epoch 37/200\n",
      "30/30 [==============================] - 6s 205ms/step - loss: 0.0390 - accuracy: 0.9977 - val_loss: 0.0565 - val_accuracy: 0.9905\n",
      "Epoch 38/200\n",
      "30/30 [==============================] - 7s 239ms/step - loss: 0.0375 - accuracy: 0.9977 - val_loss: 0.0552 - val_accuracy: 0.9905\n",
      "Epoch 39/200\n",
      "30/30 [==============================] - 6s 206ms/step - loss: 0.0371 - accuracy: 0.9977 - val_loss: 0.0540 - val_accuracy: 0.9905\n",
      "Epoch 40/200\n",
      "30/30 [==============================] - 7s 239ms/step - loss: 0.0350 - accuracy: 0.9978 - val_loss: 0.0522 - val_accuracy: 0.9905\n",
      "Epoch 41/200\n",
      "30/30 [==============================] - 7s 234ms/step - loss: 0.0341 - accuracy: 0.9977 - val_loss: 0.0375 - val_accuracy: 1.0000\n",
      "Epoch 42/200\n",
      "30/30 [==============================] - 7s 242ms/step - loss: 0.0329 - accuracy: 0.9977 - val_loss: 0.0517 - val_accuracy: 0.9905\n",
      "Epoch 43/200\n",
      "30/30 [==============================] - 5s 167ms/step - loss: 0.0302 - accuracy: 0.9977 - val_loss: 0.0509 - val_accuracy: 0.9905\n",
      "Epoch 44/200\n",
      "30/30 [==============================] - 5s 168ms/step - loss: 0.0300 - accuracy: 0.9977 - val_loss: 0.0500 - val_accuracy: 0.9905\n",
      "Epoch 45/200\n",
      "30/30 [==============================] - 7s 235ms/step - loss: 0.0300 - accuracy: 0.9977 - val_loss: 0.0508 - val_accuracy: 0.9905\n",
      "Epoch 46/200\n",
      "30/30 [==============================] - 7s 243ms/step - loss: 0.0293 - accuracy: 0.9977 - val_loss: 0.0470 - val_accuracy: 0.9905\n",
      "Epoch 47/200\n",
      "30/30 [==============================] - 5s 168ms/step - loss: 0.0272 - accuracy: 0.9977 - val_loss: 0.0474 - val_accuracy: 0.9905\n",
      "Epoch 48/200\n",
      "30/30 [==============================] - 6s 204ms/step - loss: 0.0283 - accuracy: 0.9977 - val_loss: 0.0476 - val_accuracy: 0.9905\n",
      "Epoch 49/200\n",
      "30/30 [==============================] - 7s 219ms/step - loss: 0.0254 - accuracy: 0.9977 - val_loss: 0.0411 - val_accuracy: 0.9905\n",
      "Epoch 50/200\n",
      "30/30 [==============================] - 8s 279ms/step - loss: 0.0251 - accuracy: 0.9977 - val_loss: 0.0447 - val_accuracy: 0.9905\n",
      "Epoch 51/200\n",
      "30/30 [==============================] - 6s 189ms/step - loss: 0.0241 - accuracy: 0.9977 - val_loss: 0.0472 - val_accuracy: 0.9905\n",
      "Epoch 52/200\n",
      "30/30 [==============================] - 9s 314ms/step - loss: 0.0249 - accuracy: 0.9977 - val_loss: 0.0434 - val_accuracy: 0.9905\n",
      "Epoch 53/200\n",
      "30/30 [==============================] - 9s 305ms/step - loss: 0.0232 - accuracy: 1.0000 - val_loss: 0.0443 - val_accuracy: 0.9905\n",
      "Epoch 54/200\n",
      "30/30 [==============================] - 5s 170ms/step - loss: 0.0228 - accuracy: 1.0000 - val_loss: 0.0415 - val_accuracy: 0.9905\n",
      "Epoch 55/200\n",
      "30/30 [==============================] - 7s 242ms/step - loss: 0.0222 - accuracy: 0.9977 - val_loss: 0.0388 - val_accuracy: 0.9905\n",
      "Epoch 56/200\n",
      "30/30 [==============================] - 5s 177ms/step - loss: 0.0212 - accuracy: 1.0000 - val_loss: 0.0397 - val_accuracy: 0.9905\n",
      "Epoch 57/200\n",
      "30/30 [==============================] - 9s 270ms/step - loss: 0.0212 - accuracy: 1.0000 - val_loss: 0.0393 - val_accuracy: 0.9905\n",
      "Epoch 58/200\n",
      "30/30 [==============================] - 7s 245ms/step - loss: 0.0208 - accuracy: 1.0000 - val_loss: 0.0389 - val_accuracy: 0.9905\n",
      "Epoch 59/200\n",
      "30/30 [==============================] - 5s 166ms/step - loss: 0.0196 - accuracy: 1.0000 - val_loss: 0.0400 - val_accuracy: 0.9905\n",
      "Epoch 60/200\n",
      "30/30 [==============================] - 9s 308ms/step - loss: 0.0191 - accuracy: 1.0000 - val_loss: 0.0353 - val_accuracy: 0.9905\n",
      "Epoch 61/200\n",
      "30/30 [==============================] - 5s 166ms/step - loss: 0.0188 - accuracy: 1.0000 - val_loss: 0.0368 - val_accuracy: 0.9905\n",
      "Epoch 62/200\n",
      "30/30 [==============================] - 5s 167ms/step - loss: 0.0179 - accuracy: 1.0000 - val_loss: 0.0367 - val_accuracy: 0.9905\n",
      "Epoch 63/200\n",
      "30/30 [==============================] - 7s 239ms/step - loss: 0.0186 - accuracy: 1.0000 - val_loss: 0.0357 - val_accuracy: 0.9905\n",
      "Epoch 64/200\n",
      "30/30 [==============================] - 5s 167ms/step - loss: 0.0178 - accuracy: 1.0000 - val_loss: 0.0369 - val_accuracy: 0.9905\n",
      "Epoch 65/200\n",
      "30/30 [==============================] - 7s 242ms/step - loss: 0.0167 - accuracy: 1.0000 - val_loss: 0.0369 - val_accuracy: 0.9905\n",
      "Epoch 66/200\n",
      "30/30 [==============================] - 9s 291ms/step - loss: 0.0164 - accuracy: 1.0000 - val_loss: 0.0348 - val_accuracy: 0.9905\n",
      "Epoch 67/200\n",
      "30/30 [==============================] - 9s 296ms/step - loss: 0.0149 - accuracy: 1.0000 - val_loss: 0.0344 - val_accuracy: 0.9905\n",
      "Epoch 68/200\n",
      "30/30 [==============================] - 9s 321ms/step - loss: 0.0157 - accuracy: 1.0000 - val_loss: 0.0348 - val_accuracy: 0.9905\n",
      "Epoch 69/200\n",
      "30/30 [==============================] - 9s 296ms/step - loss: 0.0154 - accuracy: 1.0000 - val_loss: 0.0352 - val_accuracy: 0.9905\n",
      "Epoch 70/200\n",
      "30/30 [==============================] - 8s 270ms/step - loss: 0.0151 - accuracy: 1.0000 - val_loss: 0.0353 - val_accuracy: 0.9905\n",
      "Epoch 71/200\n",
      "30/30 [==============================] - 8s 260ms/step - loss: 0.0145 - accuracy: 1.0000 - val_loss: 0.0351 - val_accuracy: 0.9905\n",
      "Epoch 72/200\n",
      "30/30 [==============================] - 10s 346ms/step - loss: 0.0142 - accuracy: 1.0000 - val_loss: 0.0340 - val_accuracy: 0.9905\n",
      "Epoch 73/200\n",
      "30/30 [==============================] - 9s 320ms/step - loss: 0.0137 - accuracy: 1.0000 - val_loss: 0.0339 - val_accuracy: 0.9905\n",
      "Epoch 74/200\n",
      "30/30 [==============================] - 10s 344ms/step - loss: 0.0135 - accuracy: 1.0000 - val_loss: 0.0343 - val_accuracy: 0.9905\n",
      "Epoch 75/200\n",
      "30/30 [==============================] - 9s 302ms/step - loss: 0.0132 - accuracy: 1.0000 - val_loss: 0.0327 - val_accuracy: 0.9905\n",
      "Epoch 76/200\n",
      "30/30 [==============================] - 9s 306ms/step - loss: 0.0132 - accuracy: 1.0000 - val_loss: 0.0331 - val_accuracy: 0.9905\n",
      "Epoch 77/200\n",
      "30/30 [==============================] - 10s 342ms/step - loss: 0.0130 - accuracy: 1.0000 - val_loss: 0.0317 - val_accuracy: 0.9905\n",
      "Epoch 78/200\n",
      "30/30 [==============================] - 9s 310ms/step - loss: 0.0122 - accuracy: 1.0000 - val_loss: 0.0317 - val_accuracy: 0.9905\n",
      "Epoch 79/200\n",
      "30/30 [==============================] - 10s 340ms/step - loss: 0.0115 - accuracy: 1.0000 - val_loss: 0.0310 - val_accuracy: 0.9905\n",
      "Epoch 80/200\n",
      "30/30 [==============================] - 9s 299ms/step - loss: 0.0121 - accuracy: 1.0000 - val_loss: 0.0168 - val_accuracy: 1.0000\n",
      "Epoch 81/200\n",
      "30/30 [==============================] - 9s 315ms/step - loss: 0.0114 - accuracy: 1.0000 - val_loss: 0.0304 - val_accuracy: 0.9905\n",
      "Epoch 82/200\n",
      "30/30 [==============================] - 10s 326ms/step - loss: 0.0116 - accuracy: 1.0000 - val_loss: 0.0160 - val_accuracy: 1.0000\n",
      "Epoch 83/200\n",
      "30/30 [==============================] - 9s 298ms/step - loss: 0.0114 - accuracy: 1.0000 - val_loss: 0.0310 - val_accuracy: 0.9905\n",
      "Epoch 84/200\n",
      "30/30 [==============================] - 9s 294ms/step - loss: 0.0106 - accuracy: 1.0000 - val_loss: 0.0299 - val_accuracy: 0.9905\n",
      "Epoch 85/200\n",
      "30/30 [==============================] - 8s 290ms/step - loss: 0.0106 - accuracy: 1.0000 - val_loss: 0.0288 - val_accuracy: 0.9905\n",
      "Epoch 86/200\n",
      "30/30 [==============================] - 9s 295ms/step - loss: 0.0105 - accuracy: 1.0000 - val_loss: 0.0277 - val_accuracy: 0.9905\n",
      "Epoch 87/200\n",
      "30/30 [==============================] - 9s 304ms/step - loss: 0.0095 - accuracy: 1.0000 - val_loss: 0.0295 - val_accuracy: 0.9905\n",
      "Epoch 88/200\n",
      "30/30 [==============================] - 9s 296ms/step - loss: 0.0096 - accuracy: 1.0000 - val_loss: 0.0295 - val_accuracy: 0.9905\n",
      "Epoch 89/200\n",
      "30/30 [==============================] - 10s 335ms/step - loss: 0.0094 - accuracy: 1.0000 - val_loss: 0.0293 - val_accuracy: 0.9905\n",
      "Epoch 90/200\n",
      "30/30 [==============================] - 9s 305ms/step - loss: 0.0095 - accuracy: 1.0000 - val_loss: 0.0290 - val_accuracy: 0.9905\n",
      "Epoch 91/200\n",
      "30/30 [==============================] - 9s 296ms/step - loss: 0.0092 - accuracy: 1.0000 - val_loss: 0.0282 - val_accuracy: 0.9905\n",
      "Epoch 92/200\n",
      "30/30 [==============================] - 10s 349ms/step - loss: 0.0090 - accuracy: 1.0000 - val_loss: 0.0273 - val_accuracy: 0.9905\n",
      "Epoch 93/200\n",
      "30/30 [==============================] - 9s 307ms/step - loss: 0.0086 - accuracy: 1.0000 - val_loss: 0.0292 - val_accuracy: 0.9905\n",
      "Epoch 94/200\n",
      "30/30 [==============================] - 8s 270ms/step - loss: 0.0087 - accuracy: 1.0000 - val_loss: 0.0134 - val_accuracy: 1.0000\n",
      "Epoch 95/200\n",
      "30/30 [==============================] - 8s 277ms/step - loss: 0.0085 - accuracy: 1.0000 - val_loss: 0.0262 - val_accuracy: 0.9905\n",
      "Epoch 96/200\n",
      "30/30 [==============================] - 5s 169ms/step - loss: 0.0083 - accuracy: 1.0000 - val_loss: 0.0280 - val_accuracy: 0.9905\n",
      "Epoch 97/200\n",
      "30/30 [==============================] - 5s 165ms/step - loss: 0.0080 - accuracy: 1.0000 - val_loss: 0.0277 - val_accuracy: 0.9905\n",
      "Epoch 98/200\n",
      "30/30 [==============================] - 8s 257ms/step - loss: 0.0080 - accuracy: 1.0000 - val_loss: 0.0240 - val_accuracy: 0.9905\n",
      "Epoch 99/200\n",
      "30/30 [==============================] - 5s 181ms/step - loss: 0.0080 - accuracy: 1.0000 - val_loss: 0.0274 - val_accuracy: 0.9905\n",
      "Epoch 100/200\n",
      "30/30 [==============================] - 5s 166ms/step - loss: 0.0076 - accuracy: 1.0000 - val_loss: 0.0274 - val_accuracy: 0.9905\n",
      "Epoch 101/200\n",
      "30/30 [==============================] - 8s 275ms/step - loss: 0.0076 - accuracy: 1.0000 - val_loss: 0.0256 - val_accuracy: 0.9905\n",
      "Epoch 102/200\n",
      "30/30 [==============================] - 6s 205ms/step - loss: 0.0074 - accuracy: 1.0000 - val_loss: 0.0099 - val_accuracy: 1.0000\n",
      "Epoch 103/200\n",
      "30/30 [==============================] - 9s 314ms/step - loss: 0.0072 - accuracy: 1.0000 - val_loss: 0.0267 - val_accuracy: 0.9905\n",
      "Epoch 104/200\n",
      "30/30 [==============================] - 5s 166ms/step - loss: 0.0071 - accuracy: 1.0000 - val_loss: 0.0263 - val_accuracy: 0.9905\n",
      "Epoch 105/200\n",
      "30/30 [==============================] - 5s 166ms/step - loss: 0.0067 - accuracy: 1.0000 - val_loss: 0.0253 - val_accuracy: 0.9905\n",
      "Epoch 106/200\n",
      "30/30 [==============================] - 7s 239ms/step - loss: 0.0068 - accuracy: 1.0000 - val_loss: 0.0256 - val_accuracy: 0.9905\n",
      "Epoch 107/200\n",
      "30/30 [==============================] - 5s 169ms/step - loss: 0.0067 - accuracy: 1.0000 - val_loss: 0.0264 - val_accuracy: 0.9905\n",
      "Epoch 108/200\n",
      "30/30 [==============================] - 7s 243ms/step - loss: 0.0066 - accuracy: 1.0000 - val_loss: 0.0256 - val_accuracy: 0.9905\n",
      "Epoch 109/200\n",
      "30/30 [==============================] - 5s 165ms/step - loss: 0.0064 - accuracy: 1.0000 - val_loss: 0.0230 - val_accuracy: 0.9905\n",
      "Epoch 110/200\n",
      "30/30 [==============================] - 8s 284ms/step - loss: 0.0064 - accuracy: 1.0000 - val_loss: 0.0246 - val_accuracy: 0.9905\n",
      "Epoch 111/200\n",
      "30/30 [==============================] - 10s 324ms/step - loss: 0.0061 - accuracy: 1.0000 - val_loss: 0.0236 - val_accuracy: 0.9905\n",
      "Epoch 112/200\n",
      "30/30 [==============================] - 5s 171ms/step - loss: 0.0060 - accuracy: 1.0000 - val_loss: 0.0247 - val_accuracy: 0.9905\n",
      "Epoch 113/200\n",
      "30/30 [==============================] - 6s 215ms/step - loss: 0.0058 - accuracy: 1.0000 - val_loss: 0.0245 - val_accuracy: 0.9905\n",
      "Epoch 114/200\n",
      "30/30 [==============================] - 6s 210ms/step - loss: 0.0057 - accuracy: 1.0000 - val_loss: 0.0237 - val_accuracy: 0.9905\n",
      "Epoch 115/200\n",
      "30/30 [==============================] - 7s 239ms/step - loss: 0.0057 - accuracy: 1.0000 - val_loss: 0.0238 - val_accuracy: 0.9905\n",
      "Epoch 116/200\n",
      "30/30 [==============================] - 5s 167ms/step - loss: 0.0056 - accuracy: 1.0000 - val_loss: 0.0106 - val_accuracy: 1.0000\n",
      "Epoch 117/200\n",
      "30/30 [==============================] - 7s 244ms/step - loss: 0.0056 - accuracy: 1.0000 - val_loss: 0.0246 - val_accuracy: 0.9905\n",
      "Epoch 118/200\n",
      "30/30 [==============================] - 7s 246ms/step - loss: 0.0055 - accuracy: 1.0000 - val_loss: 0.0232 - val_accuracy: 0.9905\n",
      "Epoch 119/200\n",
      "30/30 [==============================] - 7s 245ms/step - loss: 0.0052 - accuracy: 1.0000 - val_loss: 0.0247 - val_accuracy: 0.9905\n",
      "Epoch 120/200\n",
      "30/30 [==============================] - 7s 247ms/step - loss: 0.0053 - accuracy: 1.0000 - val_loss: 0.0237 - val_accuracy: 0.9905\n",
      "Epoch 121/200\n",
      "30/30 [==============================] - 9s 287ms/step - loss: 0.0051 - accuracy: 1.0000 - val_loss: 0.0239 - val_accuracy: 0.9905\n",
      "Epoch 122/200\n",
      "30/30 [==============================] - 6s 210ms/step - loss: 0.0050 - accuracy: 1.0000 - val_loss: 0.0234 - val_accuracy: 0.9905\n",
      "Epoch 123/200\n",
      "30/30 [==============================] - 5s 166ms/step - loss: 0.0050 - accuracy: 1.0000 - val_loss: 0.0241 - val_accuracy: 0.9905\n",
      "Epoch 124/200\n",
      "30/30 [==============================] - 5s 167ms/step - loss: 0.0048 - accuracy: 1.0000 - val_loss: 0.0232 - val_accuracy: 0.9905\n",
      "Epoch 125/200\n",
      "30/30 [==============================] - 7s 239ms/step - loss: 0.0048 - accuracy: 1.0000 - val_loss: 0.0236 - val_accuracy: 0.9905\n",
      "Epoch 126/200\n",
      "30/30 [==============================] - 7s 244ms/step - loss: 0.0046 - accuracy: 1.0000 - val_loss: 0.0233 - val_accuracy: 0.9905\n",
      "Epoch 127/200\n",
      "30/30 [==============================] - 5s 168ms/step - loss: 0.0046 - accuracy: 1.0000 - val_loss: 0.0232 - val_accuracy: 0.9905\n",
      "Epoch 128/200\n",
      "30/30 [==============================] - 7s 244ms/step - loss: 0.0045 - accuracy: 1.0000 - val_loss: 0.0235 - val_accuracy: 0.9905\n",
      "Epoch 129/200\n",
      "30/30 [==============================] - 6s 203ms/step - loss: 0.0044 - accuracy: 1.0000 - val_loss: 0.0234 - val_accuracy: 0.9905\n",
      "Epoch 130/200\n",
      "30/30 [==============================] - 8s 286ms/step - loss: 0.0044 - accuracy: 1.0000 - val_loss: 0.0225 - val_accuracy: 0.9905\n",
      "Epoch 131/200\n",
      "30/30 [==============================] - 5s 166ms/step - loss: 0.0043 - accuracy: 1.0000 - val_loss: 0.0223 - val_accuracy: 0.9905\n",
      "Epoch 132/200\n",
      "30/30 [==============================] - 6s 207ms/step - loss: 0.0041 - accuracy: 1.0000 - val_loss: 0.0227 - val_accuracy: 0.9905\n",
      "Epoch 133/200\n",
      "30/30 [==============================] - 6s 206ms/step - loss: 0.0042 - accuracy: 1.0000 - val_loss: 0.0226 - val_accuracy: 0.9905\n",
      "Epoch 134/200\n",
      "30/30 [==============================] - 7s 242ms/step - loss: 0.0039 - accuracy: 1.0000 - val_loss: 0.0231 - val_accuracy: 0.9905\n",
      "Epoch 135/200\n",
      "30/30 [==============================] - 5s 167ms/step - loss: 0.0040 - accuracy: 1.0000 - val_loss: 0.0215 - val_accuracy: 0.9905\n",
      "Epoch 136/200\n",
      "30/30 [==============================] - 7s 241ms/step - loss: 0.0039 - accuracy: 1.0000 - val_loss: 0.0229 - val_accuracy: 0.9905\n",
      "Epoch 137/200\n",
      "30/30 [==============================] - 6s 204ms/step - loss: 0.0038 - accuracy: 1.0000 - val_loss: 0.0223 - val_accuracy: 0.9905\n",
      "Epoch 138/200\n",
      "30/30 [==============================] - 8s 283ms/step - loss: 0.0038 - accuracy: 1.0000 - val_loss: 0.0219 - val_accuracy: 0.9905\n",
      "Epoch 139/200\n",
      "30/30 [==============================] - 9s 292ms/step - loss: 0.0038 - accuracy: 1.0000 - val_loss: 0.0209 - val_accuracy: 0.9905\n",
      "Epoch 140/200\n",
      "30/30 [==============================] - 7s 243ms/step - loss: 0.0037 - accuracy: 1.0000 - val_loss: 0.0211 - val_accuracy: 0.9905\n",
      "Epoch 141/200\n",
      "30/30 [==============================] - 6s 204ms/step - loss: 0.0035 - accuracy: 1.0000 - val_loss: 0.0216 - val_accuracy: 0.9905\n",
      "Epoch 142/200\n",
      "30/30 [==============================] - 6s 206ms/step - loss: 0.0035 - accuracy: 1.0000 - val_loss: 0.0213 - val_accuracy: 0.9905\n",
      "Epoch 143/200\n",
      "30/30 [==============================] - 5s 166ms/step - loss: 0.0033 - accuracy: 1.0000 - val_loss: 0.0209 - val_accuracy: 0.9905\n",
      "Epoch 144/200\n",
      "30/30 [==============================] - 7s 246ms/step - loss: 0.0033 - accuracy: 1.0000 - val_loss: 0.0216 - val_accuracy: 0.9905\n",
      "Epoch 145/200\n",
      "30/30 [==============================] - 7s 245ms/step - loss: 0.0034 - accuracy: 1.0000 - val_loss: 0.0204 - val_accuracy: 0.9905\n",
      "Epoch 146/200\n",
      "30/30 [==============================] - 7s 248ms/step - loss: 0.0033 - accuracy: 1.0000 - val_loss: 0.0214 - val_accuracy: 0.9905\n",
      "Epoch 147/200\n",
      "30/30 [==============================] - 7s 248ms/step - loss: 0.0033 - accuracy: 1.0000 - val_loss: 0.0206 - val_accuracy: 0.9905\n",
      "Epoch 148/200\n",
      "30/30 [==============================] - 9s 288ms/step - loss: 0.0032 - accuracy: 1.0000 - val_loss: 0.0206 - val_accuracy: 0.9905\n",
      "Epoch 149/200\n",
      "30/30 [==============================] - 6s 205ms/step - loss: 0.0031 - accuracy: 1.0000 - val_loss: 0.0215 - val_accuracy: 0.9905\n",
      "Epoch 150/200\n",
      "30/30 [==============================] - 5s 173ms/step - loss: 0.0030 - accuracy: 1.0000 - val_loss: 0.0203 - val_accuracy: 0.9905\n",
      "Epoch 151/200\n",
      "30/30 [==============================] - 6s 203ms/step - loss: 0.0031 - accuracy: 1.0000 - val_loss: 0.0210 - val_accuracy: 0.9905\n",
      "Epoch 152/200\n",
      "30/30 [==============================] - 6s 208ms/step - loss: 0.0030 - accuracy: 1.0000 - val_loss: 0.0204 - val_accuracy: 0.9905\n",
      "Epoch 153/200\n",
      "30/30 [==============================] - 7s 244ms/step - loss: 0.0027 - accuracy: 1.0000 - val_loss: 0.0213 - val_accuracy: 0.9905\n",
      "Epoch 154/200\n",
      "30/30 [==============================] - 5s 168ms/step - loss: 0.0028 - accuracy: 1.0000 - val_loss: 0.0199 - val_accuracy: 0.9905\n",
      "Epoch 155/200\n",
      "30/30 [==============================] - 7s 242ms/step - loss: 0.0028 - accuracy: 1.0000 - val_loss: 0.0195 - val_accuracy: 0.9905\n",
      "Epoch 156/200\n",
      "30/30 [==============================] - 7s 246ms/step - loss: 0.0028 - accuracy: 1.0000 - val_loss: 0.0203 - val_accuracy: 0.9905\n",
      "Epoch 157/200\n",
      "30/30 [==============================] - 7s 245ms/step - loss: 0.0028 - accuracy: 1.0000 - val_loss: 0.0201 - val_accuracy: 0.9905\n",
      "Epoch 158/200\n",
      "30/30 [==============================] - 5s 167ms/step - loss: 0.0026 - accuracy: 1.0000 - val_loss: 0.0205 - val_accuracy: 0.9905\n",
      "Epoch 159/200\n",
      "30/30 [==============================] - 7s 251ms/step - loss: 0.0026 - accuracy: 1.0000 - val_loss: 0.0202 - val_accuracy: 0.9905\n",
      "Epoch 160/200\n",
      "30/30 [==============================] - 7s 247ms/step - loss: 0.0027 - accuracy: 1.0000 - val_loss: 0.0193 - val_accuracy: 0.9905\n",
      "Epoch 161/200\n",
      "30/30 [==============================] - 5s 168ms/step - loss: 0.0026 - accuracy: 1.0000 - val_loss: 0.0198 - val_accuracy: 0.9905\n",
      "Epoch 162/200\n",
      "30/30 [==============================] - 7s 243ms/step - loss: 0.0025 - accuracy: 1.0000 - val_loss: 0.0198 - val_accuracy: 0.9905\n",
      "Epoch 163/200\n",
      "30/30 [==============================] - 8s 286ms/step - loss: 0.0025 - accuracy: 1.0000 - val_loss: 0.0195 - val_accuracy: 0.9905\n",
      "Epoch 164/200\n",
      "30/30 [==============================] - 7s 247ms/step - loss: 0.0025 - accuracy: 1.0000 - val_loss: 0.0193 - val_accuracy: 0.9905\n",
      "Epoch 165/200\n",
      "30/30 [==============================] - 7s 247ms/step - loss: 0.0023 - accuracy: 1.0000 - val_loss: 0.0201 - val_accuracy: 0.9905\n",
      "Epoch 166/200\n",
      "30/30 [==============================] - 7s 245ms/step - loss: 0.0025 - accuracy: 1.0000 - val_loss: 0.0195 - val_accuracy: 0.9905\n",
      "Epoch 167/200\n",
      "30/30 [==============================] - 7s 251ms/step - loss: 0.0023 - accuracy: 1.0000 - val_loss: 0.0190 - val_accuracy: 0.9905\n",
      "Epoch 168/200\n",
      "30/30 [==============================] - 5s 167ms/step - loss: 0.0022 - accuracy: 1.0000 - val_loss: 0.0199 - val_accuracy: 0.9905\n",
      "Epoch 169/200\n",
      "30/30 [==============================] - 5s 166ms/step - loss: 0.0022 - accuracy: 1.0000 - val_loss: 0.0198 - val_accuracy: 0.9905\n",
      "Epoch 170/200\n",
      "30/30 [==============================] - 7s 244ms/step - loss: 0.0022 - accuracy: 1.0000 - val_loss: 0.0053 - val_accuracy: 1.0000\n",
      "Epoch 171/200\n",
      "30/30 [==============================] - 7s 248ms/step - loss: 0.0022 - accuracy: 1.0000 - val_loss: 0.0194 - val_accuracy: 0.9905\n",
      "Epoch 172/200\n",
      "30/30 [==============================] - 5s 170ms/step - loss: 0.0021 - accuracy: 1.0000 - val_loss: 0.0190 - val_accuracy: 0.9905\n",
      "Epoch 173/200\n",
      "30/30 [==============================] - 10s 322ms/step - loss: 0.0021 - accuracy: 1.0000 - val_loss: 0.0198 - val_accuracy: 0.9905\n",
      "Epoch 174/200\n",
      "30/30 [==============================] - 8s 286ms/step - loss: 0.0020 - accuracy: 1.0000 - val_loss: 0.0197 - val_accuracy: 0.9905\n",
      "Epoch 175/200\n",
      "30/30 [==============================] - 6s 209ms/step - loss: 0.0021 - accuracy: 1.0000 - val_loss: 0.0193 - val_accuracy: 0.9905\n",
      "Epoch 176/200\n",
      "30/30 [==============================] - 5s 167ms/step - loss: 0.0020 - accuracy: 1.0000 - val_loss: 0.0188 - val_accuracy: 0.9905\n",
      "Epoch 177/200\n",
      "30/30 [==============================] - 5s 167ms/step - loss: 0.0020 - accuracy: 1.0000 - val_loss: 0.0185 - val_accuracy: 0.9905\n",
      "Epoch 178/200\n",
      "30/30 [==============================] - 7s 205ms/step - loss: 0.0019 - accuracy: 1.0000 - val_loss: 0.0191 - val_accuracy: 0.9905\n",
      "Epoch 179/200\n",
      "30/30 [==============================] - 7s 243ms/step - loss: 0.0020 - accuracy: 1.0000 - val_loss: 0.0194 - val_accuracy: 0.9905\n",
      "Epoch 180/200\n",
      "30/30 [==============================] - 5s 165ms/step - loss: 0.0019 - accuracy: 1.0000 - val_loss: 0.0184 - val_accuracy: 0.9905\n",
      "Epoch 181/200\n",
      "30/30 [==============================] - 7s 241ms/step - loss: 0.0019 - accuracy: 1.0000 - val_loss: 0.0047 - val_accuracy: 1.0000\n",
      "Epoch 182/200\n",
      "30/30 [==============================] - 11s 361ms/step - loss: 0.0018 - accuracy: 1.0000 - val_loss: 0.0185 - val_accuracy: 0.9905\n",
      "Epoch 183/200\n",
      "30/30 [==============================] - 6s 212ms/step - loss: 0.0018 - accuracy: 1.0000 - val_loss: 0.0184 - val_accuracy: 0.9905\n",
      "Epoch 184/200\n",
      "30/30 [==============================] - 6s 218ms/step - loss: 0.0018 - accuracy: 1.0000 - val_loss: 0.0176 - val_accuracy: 0.9905\n",
      "Epoch 185/200\n",
      "30/30 [==============================] - 5s 182ms/step - loss: 0.0018 - accuracy: 1.0000 - val_loss: 0.0191 - val_accuracy: 0.9905\n",
      "Epoch 186/200\n",
      "30/30 [==============================] - 7s 242ms/step - loss: 0.0018 - accuracy: 1.0000 - val_loss: 0.0181 - val_accuracy: 0.9905\n",
      "Epoch 187/200\n",
      "30/30 [==============================] - 5s 167ms/step - loss: 0.0017 - accuracy: 1.0000 - val_loss: 0.0181 - val_accuracy: 0.9905\n",
      "Epoch 188/200\n",
      "30/30 [==============================] - 7s 246ms/step - loss: 0.0017 - accuracy: 1.0000 - val_loss: 0.0190 - val_accuracy: 0.9905\n",
      "Epoch 189/200\n",
      "30/30 [==============================] - 7s 250ms/step - loss: 0.0017 - accuracy: 1.0000 - val_loss: 0.0182 - val_accuracy: 0.9905\n",
      "Epoch 190/200\n",
      "30/30 [==============================] - 7s 229ms/step - loss: 0.0016 - accuracy: 1.0000 - val_loss: 0.0181 - val_accuracy: 0.9905\n",
      "Epoch 191/200\n",
      "30/30 [==============================] - 7s 242ms/step - loss: 0.0016 - accuracy: 1.0000 - val_loss: 0.0184 - val_accuracy: 0.9905\n",
      "Epoch 192/200\n",
      "30/30 [==============================] - 7s 236ms/step - loss: 0.0016 - accuracy: 1.0000 - val_loss: 0.0180 - val_accuracy: 0.9905\n",
      "Epoch 193/200\n",
      "30/30 [==============================] - 9s 304ms/step - loss: 0.0016 - accuracy: 1.0000 - val_loss: 0.0177 - val_accuracy: 0.9905\n",
      "Epoch 194/200\n",
      "30/30 [==============================] - 10s 335ms/step - loss: 0.0015 - accuracy: 1.0000 - val_loss: 0.0174 - val_accuracy: 0.9905\n",
      "Epoch 195/200\n",
      "30/30 [==============================] - 9s 312ms/step - loss: 0.0014 - accuracy: 1.0000 - val_loss: 0.0048 - val_accuracy: 1.0000\n",
      "Epoch 196/200\n",
      "30/30 [==============================] - 6s 206ms/step - loss: 0.0015 - accuracy: 1.0000 - val_loss: 0.0168 - val_accuracy: 0.9905\n",
      "Epoch 197/200\n",
      "30/30 [==============================] - 5s 177ms/step - loss: 0.0014 - accuracy: 1.0000 - val_loss: 0.0176 - val_accuracy: 0.9905\n",
      "Epoch 198/200\n",
      "30/30 [==============================] - 7s 232ms/step - loss: 0.0014 - accuracy: 1.0000 - val_loss: 0.0177 - val_accuracy: 0.9905\n",
      "Epoch 199/200\n",
      "30/30 [==============================] - 7s 240ms/step - loss: 0.0015 - accuracy: 1.0000 - val_loss: 0.0187 - val_accuracy: 0.9905\n",
      "Epoch 200/200\n",
      "30/30 [==============================] - 6s 203ms/step - loss: 0.0014 - accuracy: 1.0000 - val_loss: 0.0177 - val_accuracy: 0.9905\n",
      "Trining Complete!\n"
     ]
    }
   ],
   "source": [
    "%timeit\n",
    "model.fit(\n",
    "    train_batches,\n",
    "    validation_data=valid_batches,\n",
    "    steps_per_epoch=train_batches.samples // BATCH_SIZE_TRAIN,\n",
    "    validation_steps=valid_batches.samples // BATCH_SIZE_VALIDATION,\n",
    "    epochs=200,  # Orignally was 10\n",
    "    verbose=1)\n",
    "print(\"Trining Complete!\")"
   ]
  },
  {
   "cell_type": "markdown",
   "metadata": {
    "id": "amJJCzkTOpcF"
   },
   "source": [
    "## Testing the Model\n",
    "\n",
    "To perform a final test of the model, the test data is fed through the model.  It is important to use data what was removed from the training set so we can test the performance accurately. The accuracy (percentage of images classified correctly) is calculated and a confusion matrix is generated. "
   ]
  },
  {
   "cell_type": "markdown",
   "metadata": {
    "id": "_FK3o1TFt5H9"
   },
   "source": [
    "### Test Accuracy\n",
    "\n",
    "To calculate accuracy, the model is evaluated using the test generator specified earlier."
   ]
  },
  {
   "cell_type": "code",
   "execution_count": 16,
   "metadata": {
    "colab": {
     "base_uri": "https://localhost:8080/",
     "height": 110
    },
    "id": "t5syFibUt_EA",
    "outputId": "0b6e6be4-8639-494f-b7b0-747de1f9a0d5"
   },
   "outputs": [
    {
     "name": "stdout",
     "output_type": "stream",
     "text": [
      "Found 189 images belonging to 2 classes.\n",
      "0.005120638757944107\n",
      "1.0\n"
     ]
    }
   ],
   "source": [
    "test_batches = ImageDataGenerator().flow_from_directory(\n",
    "    test_path,\n",
    "    image_size,\n",
    "    classes=classes,\n",
    "    # batch_size=189,  # This is too high for my GPU\n",
    "    batch_size=120,\n",
    "\n",
    ")\n",
    "test_loss, test_acc = model.evaluate(\n",
    "    test_batches,\n",
    "    steps=len(test_batches),\n",
    "    verbose=0\n",
    ")\n",
    "\n",
    "print(test_loss)\n",
    "print(test_acc)"
   ]
  },
  {
   "cell_type": "markdown",
   "metadata": {
    "id": "vIOd7ID2uQlc"
   },
   "source": [
    "### Confusion Matrix\n",
    "\n",
    "A confusion matrix gives more insight than just accuracy: It indicates which images were classified correctly, and for the incorrect ones, it indicates how (mutant instead of control vs. control instead of mutant). It allows us to determine which classes the model performed well on and which classes the model performed poorly on. If a model performs poorly on a specific class, it may be cauesed by an unclean dataset or insufficient quanitity of images of that class."
   ]
  },
  {
   "cell_type": "code",
   "execution_count": 17,
   "metadata": {
    "colab": {
     "base_uri": "https://localhost:8080/",
     "height": 513
    },
    "id": "9yqGOy1KOs5q",
    "outputId": "cb8f7347-a1a0-4a9d-9fb0-a663ad28bc28"
   },
   "outputs": [],
   "source": [
    "def plot_confusion_matrix(cm, classes,\n",
    "                          normalize=False,\n",
    "                          title='Confusion matrix',\n",
    "                          cmap=plt.cm.Blues):\n",
    "    \"\"\"\n",
    "    This function prints and plots the confusion matrix.\n",
    "    Normalization can be applied by setting `normalize=True`.\n",
    "    \"\"\"\n",
    "    plt.figure(figsize=(12, 12))\n",
    "    plt.imshow(cm, interpolation='nearest', cmap=cmap)\n",
    "    plt.title(title)\n",
    "    plt.colorbar()\n",
    "    tick_marks = np.arange(len(classes))\n",
    "    plt.xticks(tick_marks, classes, rotation=45)\n",
    "    plt.yticks(tick_marks, classes)\n",
    "\n",
    "    if normalize:\n",
    "        cm = cm.astype('float') / cm.sum(axis=1)[:, np.newaxis]\n",
    "        print(\"Normalized confusion matrix\")\n",
    "    else:\n",
    "        print('Confusion matrix, without normalization')\n",
    "\n",
    "    print(cm)\n",
    "\n",
    "    thresh = cm.max() / 2.\n",
    "    for i, j in itertools.product(range(cm.shape[0]), range(cm.shape[1])):\n",
    "        plt.text(j, i, cm[i, j],\n",
    "                 horizontalalignment=\"center\",\n",
    "                 color=\"white\" if cm[i, j] > thresh else \"black\")\n",
    "\n",
    "    plt.tight_layout()\n",
    "    plt.ylabel('True label')\n",
    "    plt.xlabel('Predicted label')\n",
    "    plt.savefig(title + \"_frog_embryo\")"
   ]
  },
  {
   "cell_type": "code",
   "execution_count": 18,
   "metadata": {},
   "outputs": [
    {
     "name": "stdout",
     "output_type": "stream",
     "text": [
      "[0. 1. 0. 1. 0. 0. 0. 0. 0. 0. 0. 1. 1. 1. 0. 1. 0. 0. 1. 0. 1. 0. 1. 0.\n",
      " 0. 0. 0. 1. 0. 1. 0. 0. 1. 1. 1. 1. 1. 1. 0. 1. 1. 1. 1. 0. 0. 1. 1. 1.\n",
      " 0. 0. 0. 1. 0. 0. 0. 0. 1. 1. 0. 1. 0. 0. 1. 1. 1. 0. 0. 1. 0. 1. 0. 0.\n",
      " 1. 1. 1. 0. 1. 1. 0. 0. 1. 0. 0. 1. 0. 1. 0. 0. 1. 0. 0. 0. 1. 1. 1. 0.\n",
      " 0. 1. 0. 0. 0. 1. 1. 1. 0. 0. 0. 1. 1. 1. 0. 1. 0. 0. 1. 0. 1. 1. 0. 0.]\n",
      "Confusion matrix, without normalization\n",
      "[[64  0]\n",
      " [ 0 56]]\n"
     ]
    },
    {
     "data": {
      "image/png": "[encoded data removed]",
      "text/plain": [
       "<Figure size 864x864 with 2 Axes>"
      ]
     },
     "metadata": {
      "needs_background": "light"
     },
     "output_type": "display_data"
    }
   ],
   "source": [
    "test_batches.reset()\n",
    "test_imgs, test_labels = next(test_batches)\n",
    "test_labels = test_labels[:, 0]\n",
    "\n",
    "predictions = model.predict(\n",
    "    test_batches,\n",
    "    steps=1,\n",
    "    verbose=0\n",
    ")\n",
    "\n",
    "\n",
    "print(np.round(predictions[:, 0]))\n",
    "cm = confusion_matrix(test_labels, np.round(predictions[:, 0]))\n",
    "\n",
    "cm_plot_labels = ['control', 'mutant']\n",
    "plot_confusion_matrix(cm, cm_plot_labels, title='Confusion Matrix')"
   ]
  },
  {
   "cell_type": "markdown",
   "metadata": {
    "id": "CBgD03P9O1oq",
    "tags": []
   },
   "source": [
    "## Saving the fine-tuned VGG16 model\n",
    "\n",
    "Now that the model has been trained and tested, it should be saved so we can classify new images without retraining."
   ]
  },
  {
   "cell_type": "code",
   "execution_count": 19,
   "metadata": {},
   "outputs": [],
   "source": [
    "def save_best_model(path_abs_model, model_given, test_batches_given, steps, optimzier=Adam(learning_rate=.0001), loss='categorical_crossentropy', metricts=['accuracy']):\n",
    "\n",
    "    import tensorflow as tf\n",
    "    import os\n",
    "\n",
    "    model_given_test_loss, model_given_test_acc = model_given.evaluate(\n",
    "        test_batches_given,\n",
    "        steps=steps,\n",
    "        verbose=1\n",
    "    )\n",
    "\n",
    "    # Save if there is no model to compare to\n",
    "    if not os.path.exists(path_abs_model):\n",
    "        print(f\"Current model with acc ({model_given_test_acc}) is saved!\")\n",
    "        model_given.save(path_abs_model)\n",
    "        return\n",
    "\n",
    "    model_existing = tf.keras.models.clone_model(model_given)\n",
    "    model_existing.load_weights(path_abs_model)\n",
    "\n",
    "    model_existing.compile(optimzier,\n",
    "                           loss=loss,\n",
    "                           metrics=metricts)\n",
    "\n",
    "    model_existing_test_loss, model_existing_test_acc = model_existing.evaluate(\n",
    "        test_batches_given,\n",
    "        steps=steps,\n",
    "        verbose=1\n",
    "    )\n",
    "\n",
    "    # Save model given if it's better than the existing one\n",
    "    if model_given_test_acc >= model_existing_test_acc:\n",
    "        print(\n",
    "            f\"Current model with acc ({model_given_test_acc}) is better than Existing model with acc ({model_existing_test_acc}) and is saved!\")\n",
    "        model_existing.save(path_abs_model)\n",
    "\n",
    "    else:\n",
    "        print(\n",
    "            f\"Existing model with acc ({model_existing_test_acc}) is better than Current model with acc ({model_given_test_acc})\")"
   ]
  },
  {
   "cell_type": "code",
   "execution_count": 20,
   "metadata": {
    "colab": {
     "base_uri": "https://localhost:8080/",
     "height": 35
    },
    "id": "t9xDc240_nCV",
    "outputId": "9a2c3061-1244-41d7-e2d4-fdcc97f65df0"
   },
   "outputs": [
    {
     "name": "stdout",
     "output_type": "stream",
     "text": [
      "1/1 [==============================] - 3s 3s/step - loss: 0.0050 - accuracy: 1.0000\n",
      "1/1 [==============================] - 2s 2s/step - loss: 0.0066 - accuracy: 1.0000\n",
      "Existing model with acc (1.0) is better than Current model with acc (1.0)\n"
     ]
    }
   ],
   "source": [
    "save_best_model('weights_frog_embryo_VGG16_fine_tuned.h5', model, test_batches, 1)"
   ]
  },
  {
   "cell_type": "markdown",
   "metadata": {
    "id": "KNkDKsfRcVS9"
   },
   "source": [
    "## Loading the fine-tuned VGG16 model\n",
    "\n",
    "In a production environment, the model should be loaded without repeating the training process."
   ]
  },
  {
   "cell_type": "code",
   "execution_count": 21,
   "metadata": {
    "colab": {
     "base_uri": "https://localhost:8080/",
     "height": 135
    },
    "id": "j4acEqPacdvM",
    "outputId": "dbcedc33-78ad-4c0e-fbc6-3d5b4669dd52"
   },
   "outputs": [
    {
     "name": "stdout",
     "output_type": "stream",
     "text": [
      "Model Loaded.\n"
     ]
    }
   ],
   "source": [
    "model.load_weights('weights_frog_embryo_VGG16_fine_tuned.h5')\n",
    "print(\"Model Loaded.\")"
   ]
  },
  {
   "cell_type": "markdown",
   "metadata": {
    "id": "rNHYAMiphMX_"
   },
   "source": [
    "## Conclusion\n",
    "\n",
    "In this notebook, using transfer learning for image classification has been demonstrated. First, the data is uploaded and connected to the Keras API. Then, the model is defined by copying a pretrained model and adding a new output layer. Once defined, the model can be trained using the appropriate loss function. Finally, the model is evaluated using a test dataset. With minimal modification, the model can be used to predict more than two classes and scalar values. It is encouraged to use this notebook as a templete for similar models using novel datasets. "
   ]
  }
 ],
 "metadata": {
  "accelerator": "GPU",
  "colab": {
   "collapsed_sections": [],
   "name": "CSUPERB Transfer Learning Demo.ipynb",
   "provenance": []
  },
  "kernelspec": {
   "display_name": "Python 3.8.12 64-bit Anaconda (Tensorflow 2.5.0 | AutoKeras | CUDE: 11.2 | GPU Support: True)",
   "language": "python",
   "name": "env_conda_38_tensorflow_gpu_autokeras"
  },
  "language_info": {
   "codemirror_mode": {
    "name": "ipython",
    "version": 3
   },
   "file_extension": ".py",
   "mimetype": "text/x-python",
   "name": "python",
   "nbconvert_exporter": "python",
   "pygments_lexer": "ipython3",
   "version": "3.8.12"
  }
 },
 "nbformat": 4,
 "nbformat_minor": 4
}
