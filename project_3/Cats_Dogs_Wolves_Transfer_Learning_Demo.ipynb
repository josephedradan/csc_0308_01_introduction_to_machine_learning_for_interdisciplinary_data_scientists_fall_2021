{
 "cells": [
  {
   "cell_type": "code",
   "execution_count": 1,
   "metadata": {
    "colab": {
     "base_uri": "https://localhost:8080/",
     "height": 34
    },
    "id": "-OfGhW-ZUG9Q",
    "outputId": "b8e33e55-9143-469a-903d-4994b006d2b0"
   },
   "outputs": [
    {
     "name": "stdout",
     "output_type": "stream",
     "text": [
      "GPU 0: NVIDIA GeForce RTX 2080 Ti (UUID: GPU-b3420b31-4832-b27f-df3a-6215a94894aa)\n"
     ]
    }
   ],
   "source": [
    "!nvidia-smi --list-gpus"
   ]
  },
  {
   "cell_type": "code",
   "execution_count": 2,
   "metadata": {},
   "outputs": [
    {
     "name": "stdout",
     "output_type": "stream",
     "text": [
      "Num GPUs Available:  1\n",
      "Tensorflow version: 2.5.0\n",
      "[name: \"/device:CPU:0\"\n",
      "device_type: \"CPU\"\n",
      "memory_limit: 268435456\n",
      "locality {\n",
      "}\n",
      "incarnation: 4032293920576417078\n",
      ", name: \"/device:GPU:0\"\n",
      "device_type: \"GPU\"\n",
      "memory_limit: 9392422912\n",
      "locality {\n",
      "  bus_id: 1\n",
      "  links {\n",
      "  }\n",
      "}\n",
      "incarnation: 4173839314940281244\n",
      "physical_device_desc: \"device: 0, name: NVIDIA GeForce RTX 2080 Ti, pci bus id: 0000:0b:00.0, compute capability: 7.5\"\n",
      "]\n"
     ]
    }
   ],
   "source": [
    "from tensorflow.python.client import device_lib\n",
    "import tensorflow as tf\n",
    "print(\"Num GPUs Available: \", len(tf.config.list_physical_devices('GPU')))\n",
    "print(\"Tensorflow version:\", tf.__version__)\n",
    "print(device_lib.list_local_devices())"
   ]
  },
  {
   "cell_type": "markdown",
   "metadata": {
    "id": "4Cn6KlS01Y1r"
   },
   "source": [
    "### Downloading the Data\n",
    "Ensure that you have uploaded the dataset to the colab environment."
   ]
  },
  {
   "cell_type": "code",
   "execution_count": 3,
   "metadata": {
    "colab": {
     "base_uri": "https://localhost:8080/",
     "height": 35
    },
    "id": "EgzGQwrNGOsJ",
    "outputId": "6728b743-ba90-4145-abe2-f8620d70dde0"
   },
   "outputs": [],
   "source": [
    "# !python -m pip install gdown --quiet\n",
    "\n",
    "import os\n",
    "\n",
    "if not os.path.exists(\"animals.zip\"):\n",
    "    import gdown\n",
    "    url = 'https://drive.google.com/uc?id=18pulZkIQzDHGkH-UrDzxHp_giSxerTag'\n",
    "    # url = 'https://drive.google.com/uc?id=1ImrsoqvQ3JC-iGW2znQmfkoZyL5E3icJ'\n",
    "    # url = 'https://drive.google.com/uc?id=1S-OJVgxKXDeS5gmqJwzUaCpXmuT4zWcu'\n",
    "    output = 'animals.zip'\n",
    "    gdown.download(url, output, quiet=True)"
   ]
  },
  {
   "cell_type": "code",
   "execution_count": 4,
   "metadata": {
    "colab": {
     "base_uri": "https://localhost:8080/",
     "height": 1000
    },
    "id": "5ndA88KR3zY-",
    "outputId": "72d36400-9fde-473a-be14-794ce45b0d6f"
   },
   "outputs": [],
   "source": [
    "\"\"\"\n",
    "Unzip files if they don't exist\n",
    "\"\"\"\n",
    "if not os.path.exists(\"cats-dogs-wolves-\"):\n",
    "    !unzip animals.zip\n",
    "    print(\"Done.\")"
   ]
  },
  {
   "cell_type": "code",
   "execution_count": 5,
   "metadata": {
    "colab": {
     "base_uri": "https://localhost:8080/",
     "height": 34
    },
    "id": "_9zS58LoX63h",
    "outputId": "a4648374-7a16-43d3-b0e1-d8f691b2810e"
   },
   "outputs": [
    {
     "name": "stdout",
     "output_type": "stream",
     "text": [
      "Paths Loaded.\n"
     ]
    },
    {
     "name": "stderr",
     "output_type": "stream",
     "text": [
      "Access denied - .\n",
      "File not found - -NAME\n",
      "File not found - -TYPE\n",
      "File not found - F\n",
      "File not found - -DELETE\n"
     ]
    }
   ],
   "source": [
    "!find . -name \".DS_Store\" -type f -delete\n",
    "\n",
    "train_path = 'cats-dogs-wolves-/datasets'\n",
    "test_path = 'cats-dogs-wolves-/testData'\n",
    "print(\"Paths Loaded.\")"
   ]
  },
  {
   "cell_type": "markdown",
   "metadata": {
    "id": "eqQejRNKmCGR"
   },
   "source": [
    "### Importing the Software Libraries\n",
    "\n",
    "The following code imports some software libraries necessary to execute the project. "
   ]
  },
  {
   "cell_type": "code",
   "execution_count": 6,
   "metadata": {
    "colab": {
     "base_uri": "https://localhost:8080/",
     "height": 34
    },
    "id": "WQGet9FW-n55",
    "outputId": "7b030a67-75ed-45df-a892-1995a5610235"
   },
   "outputs": [
    {
     "name": "stdout",
     "output_type": "stream",
     "text": [
      "Import Success!\n"
     ]
    }
   ],
   "source": [
    "# If in colab\n",
    "if \"google.colab\" in str(get_ipython()):\n",
    "    %tensorflow_version 2.x  # Uncomment for colab\n",
    "\n",
    "import numpy as np\n",
    "import tensorflow.keras\n",
    "from tensorflow.keras.models import load_model\n",
    "from tensorflow.keras.models import Sequential\n",
    "from tensorflow.keras.layers import Activation, Dense, Flatten\n",
    "from tensorflow.keras.optimizers import Adam, SGD, Nadam\n",
    "from tensorflow.keras.metrics import categorical_crossentropy\n",
    "from tensorflow.keras.preprocessing.image import ImageDataGenerator\n",
    "from tensorflow.keras.layers import BatchNormalization\n",
    "from tensorflow.keras.callbacks import ReduceLROnPlateau, EarlyStopping\n",
    "\n",
    "from sklearn.metrics import confusion_matrix\n",
    "# from mlxtend.evaluate import confusion_matrix  # Use this if using colab I think\n",
    "import itertools\n",
    "import matplotlib.pyplot as plt\n",
    "\n",
    "%matplotlib inline\n",
    "print(\"Import Success!\")"
   ]
  },
  {
   "cell_type": "code",
   "execution_count": 7,
   "metadata": {},
   "outputs": [],
   "source": [
    "SEED = 24\n",
    "\n",
    "BATCH_SIZE_TRAIN = 15\n",
    "BATCH_SIZE_VALIDATE = 8\n",
    "BATCH_SIZE_TEST = 133"
   ]
  },
  {
   "cell_type": "code",
   "execution_count": 8,
   "metadata": {
    "colab": {
     "base_uri": "https://localhost:8080/",
     "height": 68
    },
    "id": "iojaSuJW-pJw",
    "outputId": "f1961627-a348-4f33-d745-cfc1b50cfe11"
   },
   "outputs": [
    {
     "name": "stdout",
     "output_type": "stream",
     "text": [
      "Found 362 images belonging to 3 classes.\n",
      "Found 0 images belonging to 3 classes.\n",
      "Found 133 images belonging to 3 classes.\n"
     ]
    }
   ],
   "source": [
    "image_size = (224, 224)\n",
    "classes = ['cats', 'dogs', 'wolves']\n",
    "\n",
    "train_datagen = ImageDataGenerator(\n",
    "    # validation_split=0.20,  # set validation split\n",
    "    validation_split=0,\n",
    ") \n",
    "\n",
    "train_batches = train_datagen.flow_from_directory(\n",
    "    train_path,\n",
    "    image_size,\n",
    "    classes=classes,\n",
    "    batch_size=BATCH_SIZE_TRAIN,\n",
    "    subset='training',\n",
    "    seed=SEED\n",
    ")\n",
    "\n",
    "valid_batches = train_datagen.flow_from_directory(\n",
    "    train_path,\n",
    "    image_size,\n",
    "    classes=classes,\n",
    "    batch_size=BATCH_SIZE_VALIDATE,\n",
    "    subset='validation',\n",
    "    seed=SEED\n",
    ")\n",
    "\n",
    "test_batches = ImageDataGenerator().flow_from_directory(\n",
    "    test_path,\n",
    "    image_size,\n",
    "    classes=classes,\n",
    "    batch_size=BATCH_SIZE_TEST,\n",
    "    seed=SEED\n",
    "\n",
    ")"
   ]
  },
  {
   "cell_type": "code",
   "execution_count": 9,
   "metadata": {
    "colab": {
     "base_uri": "https://localhost:8080/",
     "height": 51
    },
    "id": "dFCcMRb_jw5h",
    "outputId": "59053161-c37c-4da6-f59d-d322a678b032"
   },
   "outputs": [],
   "source": [
    "vgg16_model = tensorflow.keras.applications.VGG16()"
   ]
  },
  {
   "cell_type": "markdown",
   "metadata": {
    "id": "lUiLZgsPip5k"
   },
   "source": [
    "### Creating a Custom Output Model#\n",
    "\n",
    "A new model is created copying all layers except the output layer. Notice that these layers are set to be non-trainable. Finally, a custom output layer is added to the model.  This output layer should have the same number of outputs as the number of different classes of data. The softmax activation function conditions the output to be a probability distribuiton adding up to unity. Therefore, our model will output a probability distribution among the classes as output for each input image."
   ]
  },
  {
   "cell_type": "code",
   "execution_count": 10,
   "metadata": {},
   "outputs": [
    {
     "name": "stdout",
     "output_type": "stream",
     "text": [
      "block1_conv1        relu      None                                                                  False\n",
      "block1_conv2        relu      None                                                                  False\n",
      "block1_pool         None      None                                                                  False\n",
      "block2_conv1        relu      None                                                                  False\n",
      "block2_conv2        relu      None                                                                  False\n",
      "block2_pool         None      None                                                                  False\n",
      "block3_conv1        relu      None                                                                  False\n",
      "block3_conv2        relu      None                                                                  False\n",
      "block3_conv3        relu      None                                                                  False\n",
      "block3_pool         None      None                                                                  False\n",
      "block4_conv1        relu      None                                                                  False\n",
      "block4_conv2        relu      None                                                                  False\n",
      "block4_conv3        relu      None                                                                  False\n",
      "block4_pool         None      None                                                                  False\n",
      "block5_conv1        relu      None                                                                  False\n",
      "block5_conv2        relu      None                                                                  False\n",
      "block5_conv3        relu      None                                                                  False\n",
      "block5_pool         None      None                                                                  False\n",
      "flatten             None      None                                                                  False\n",
      "fc1                 relu      None                                                                  False\n",
      "fc2                 relu      None                                                                  False\n",
      "dense               elu       None                                                                  True\n",
      "dense_1             softmax   None                                                                  True\n",
      "Model: \"sequential\"\n",
      "_________________________________________________________________\n",
      "Layer (type)                 Output Shape              Param #   \n",
      "=================================================================\n",
      "block1_conv1 (Conv2D)        (None, 224, 224, 64)      1792      \n",
      "_________________________________________________________________\n",
      "block1_conv2 (Conv2D)        (None, 224, 224, 64)      36928     \n",
      "_________________________________________________________________\n",
      "block1_pool (MaxPooling2D)   (None, 112, 112, 64)      0         \n",
      "_________________________________________________________________\n",
      "block2_conv1 (Conv2D)        (None, 112, 112, 128)     73856     \n",
      "_________________________________________________________________\n",
      "block2_conv2 (Conv2D)        (None, 112, 112, 128)     147584    \n",
      "_________________________________________________________________\n",
      "block2_pool (MaxPooling2D)   (None, 56, 56, 128)       0         \n",
      "_________________________________________________________________\n",
      "block3_conv1 (Conv2D)        (None, 56, 56, 256)       295168    \n",
      "_________________________________________________________________\n",
      "block3_conv2 (Conv2D)        (None, 56, 56, 256)       590080    \n",
      "_________________________________________________________________\n",
      "block3_conv3 (Conv2D)        (None, 56, 56, 256)       590080    \n",
      "_________________________________________________________________\n",
      "block3_pool (MaxPooling2D)   (None, 28, 28, 256)       0         \n",
      "_________________________________________________________________\n",
      "block4_conv1 (Conv2D)        (None, 28, 28, 512)       1180160   \n",
      "_________________________________________________________________\n",
      "block4_conv2 (Conv2D)        (None, 28, 28, 512)       2359808   \n",
      "_________________________________________________________________\n",
      "block4_conv3 (Conv2D)        (None, 28, 28, 512)       2359808   \n",
      "_________________________________________________________________\n",
      "block4_pool (MaxPooling2D)   (None, 14, 14, 512)       0         \n",
      "_________________________________________________________________\n",
      "block5_conv1 (Conv2D)        (None, 14, 14, 512)       2359808   \n",
      "_________________________________________________________________\n",
      "block5_conv2 (Conv2D)        (None, 14, 14, 512)       2359808   \n",
      "_________________________________________________________________\n",
      "block5_conv3 (Conv2D)        (None, 14, 14, 512)       2359808   \n",
      "_________________________________________________________________\n",
      "block5_pool (MaxPooling2D)   (None, 7, 7, 512)         0         \n",
      "_________________________________________________________________\n",
      "flatten (Flatten)            (None, 25088)             0         \n",
      "_________________________________________________________________\n",
      "fc1 (Dense)                  (None, 4096)              102764544 \n",
      "_________________________________________________________________\n",
      "fc2 (Dense)                  (None, 4096)              16781312  \n",
      "_________________________________________________________________\n",
      "dense (Dense)                (None, 2048)              8390656   \n",
      "_________________________________________________________________\n",
      "dense_1 (Dense)              (None, 3)                 6147      \n",
      "=================================================================\n",
      "Total params: 142,657,347\n",
      "Trainable params: 8,396,803\n",
      "Non-trainable params: 134,260,544\n",
      "_________________________________________________________________\n"
     ]
    }
   ],
   "source": [
    "from pprint import pprint\n",
    "\n",
    "from tensorflow.keras import regularizers\n",
    "\n",
    "# Make a new model\n",
    "model = Sequential()\n",
    "\n",
    "# Copy every layer except the last layer of the vgg16 model\n",
    "for layer in vgg16_model.layers[:-1]:\n",
    "    model.add(layer)\n",
    "\n",
    "\"\"\"\n",
    "Set the layers in the new model to not trainable\n",
    "\n",
    "Notes:\n",
    "    Recall that layers be default are trainable\n",
    "    Retraining the last 2 layers, fc1 and fc2, is not a good idea unless you have a lot of data\n",
    "\"\"\"\n",
    "for layer in model.layers:\n",
    "    layer.trainable = False\n",
    "\n",
    "    \n",
    "# Additional layer if needed\n",
    "model.add(Dense(2048,\n",
    "                activation='elu',\n",
    "                # activity_regularizer=regularizers.l2(.05)  # Regularization seems like a bad idea since we still don't get good results\n",
    "                )\n",
    "          )\n",
    "\n",
    "# model.add(Dense(2048,\n",
    "#                 activation='relu',\n",
    "#                 activity_regularizer=regularizers.l2(1e-4)\n",
    "#                 )\n",
    "#           )\n",
    "\n",
    "# Add a new dense layer (This layer will be trained)\n",
    "model.add(Dense(len(classes), activation='softmax'))\n",
    "\n",
    "\n",
    "for layer in model.layers:\n",
    "    print(\"{:<20}{:<10}{:<70}{}\".format(layer.name,\n",
    "                                        str(layer.get_config().get('activation')),\n",
    "                                        str(layer.get_config().get('activity_regularizer')),\n",
    "                                        layer.trainable)\n",
    "          )\n",
    "\n",
    "model.summary()"
   ]
  },
  {
   "cell_type": "markdown",
   "metadata": {
    "id": "hQsSiXUk_j0J"
   },
   "source": [
    "## Training the Model\n",
    "\n",
    "Now that the model has been specified, it must be trained. \n",
    "\n",
    "\n"
   ]
  },
  {
   "cell_type": "markdown",
   "metadata": {
    "id": "mI8ljOkmpa0v"
   },
   "source": [
    "### Compiling the Model\n",
    "First,the model is compiled. The performance of the model is evalued using a loss function, which increases as performance decreases. Since we are predicting a condition (yes/no), we are using cross-entropy, which is a concept from information theory. If we were instead predicting a scalar value, the correct loss function would be 'mean_squared_error'."
   ]
  },
  {
   "cell_type": "code",
   "execution_count": 11,
   "metadata": {
    "colab": {
     "base_uri": "https://localhost:8080/",
     "height": 34
    },
    "id": "iDG0uQ1qAccz",
    "outputId": "6968697c-1dfd-46f2-e89a-4950fcce4494"
   },
   "outputs": [
    {
     "name": "stdout",
     "output_type": "stream",
     "text": [
      "Done\n"
     ]
    }
   ],
   "source": [
    "model.compile(Adam(learning_rate=.0001),\n",
    "              loss='categorical_crossentropy',\n",
    "              metrics=['accuracy'])\n",
    "print(\"Done\")"
   ]
  },
  {
   "cell_type": "markdown",
   "metadata": {
    "id": "df0KalV7pnmx"
   },
   "source": [
    "### Minimizing Loss\n",
    "\n",
    "The model is now trained using the backpropagation algorithm to minimize the loss function. The training data will be passed into the model and evaluated using the loss function. Then, the model will be adjusted to decrease the loss.\n",
    "\n",
    "Here we specifiy the epochs, which is the number of times we pass through the entire training set. These specifications are determined by experimentation with the goal of minimizing validation loss. If the epochs are too high, the model has overfit to the data (too specific). If the epochs are too low, the model has underfit to the data (too general). The validation loss must be compared to training loss to determine if the model is optimally fit to the data.\n"
   ]
  },
  {
   "cell_type": "code",
   "execution_count": 12,
   "metadata": {
    "colab": {
     "base_uri": "https://localhost:8080/",
     "height": 1000
    },
    "id": "tkFe_2sRpnNt",
    "outputId": "6aa93857-ff0c-4db4-bb51-2e66e1a92498"
   },
   "outputs": [
    {
     "name": "stdout",
     "output_type": "stream",
     "text": [
      "Epoch 1/10\n",
      "24/24 [==============================] - 6s 76ms/step - loss: 0.4259 - accuracy: 0.8934\n",
      "Epoch 2/10\n",
      "24/24 [==============================] - 2s 63ms/step - loss: 0.0935 - accuracy: 0.9741\n",
      "Epoch 3/10\n",
      "24/24 [==============================] - 2s 68ms/step - loss: 0.0169 - accuracy: 0.9942\n",
      "Epoch 4/10\n",
      "24/24 [==============================] - 2s 69ms/step - loss: 0.0034 - accuracy: 1.0000\n",
      "Epoch 5/10\n",
      "24/24 [==============================] - 1s 61ms/step - loss: 1.0601e-04 - accuracy: 1.0000\n",
      "Epoch 6/10\n",
      "24/24 [==============================] - 2s 63ms/step - loss: 2.0289e-04 - accuracy: 1.0000\n",
      "Epoch 7/10\n",
      "24/24 [==============================] - 2s 66ms/step - loss: 4.1119e-05 - accuracy: 1.0000\n",
      "Epoch 8/10\n",
      "24/24 [==============================] - 2s 66ms/step - loss: 3.0201e-05 - accuracy: 1.0000\n",
      "Epoch 9/10\n",
      "24/24 [==============================] - 2s 65ms/step - loss: 2.7621e-05 - accuracy: 1.0000\n",
      "Epoch 10/10\n",
      "24/24 [==============================] - 2s 67ms/step - loss: 2.5911e-05 - accuracy: 1.0000\n",
      "Trining Complete!\n"
     ]
    }
   ],
   "source": [
    "%timeit\n",
    "\n",
    "model.fit(\n",
    "    train_batches,\n",
    "    validation_data=valid_batches,\n",
    "    steps_per_epoch=train_batches.samples // BATCH_SIZE_TRAIN,\n",
    "    validation_steps=valid_batches.samples // BATCH_SIZE_VALIDATE,\n",
    "    epochs=200,  # Was 30\n",
    "    verbose=1,\n",
    "    callbacks=[\n",
    "        # ReduceLROnPlateau(),\n",
    "        # EarlyStopping(\n",
    "            # monitor='loss',\n",
    "            # mode='min',\n",
    "            # verbose=1,\n",
    "            # baseline=3.0,\n",
    "        # )\n",
    "    ]\n",
    ")\n",
    "print(\"Trining Complete!\")"
   ]
  },
  {
   "cell_type": "markdown",
   "metadata": {
    "id": "amJJCzkTOpcF"
   },
   "source": [
    "## Testing the Model\n",
    "\n",
    "To perform a final test of the model, the test data is fed through the model.  It is important to use data that was not used in training so we can test the performance accurately. The accuracy is calculated and a confusion matrix is generated. "
   ]
  },
  {
   "cell_type": "markdown",
   "metadata": {
    "id": "_FK3o1TFt5H9"
   },
   "source": [
    "### Test Accuracy\n",
    "\n",
    "To calculate accuracy, the model is evaluated using the test generator specified earlier."
   ]
  },
  {
   "cell_type": "code",
   "execution_count": 13,
   "metadata": {
    "colab": {
     "base_uri": "https://localhost:8080/",
     "height": 51
    },
    "id": "t5syFibUt_EA",
    "outputId": "78974f30-434e-47d3-b326-ec27113f4eec"
   },
   "outputs": [
    {
     "name": "stdout",
     "output_type": "stream",
     "text": [
      "0.4533083438873291\n",
      "0.9548872113227844\n"
     ]
    }
   ],
   "source": [
    "test_loss, test_acc = model.evaluate(test_batches,\n",
    "                                     steps=len(test_batches),\n",
    "                                     verbose=0)\n",
    "print(test_loss)\n",
    "print(test_acc)"
   ]
  },
  {
   "cell_type": "markdown",
   "metadata": {
    "id": "vIOd7ID2uQlc"
   },
   "source": [
    "### Confusion Matrix\n",
    "\n",
    "A confusion matrix gives more insight than just accuracy. It allows us to determine true positives, false positives, false negatives, and true negatives. The code below generates a confusion matrix for our test output"
   ]
  },
  {
   "cell_type": "code",
   "execution_count": 14,
   "metadata": {
    "colab": {
     "base_uri": "https://localhost:8080/",
     "height": 396
    },
    "id": "9yqGOy1KOs5q",
    "outputId": "87d64ba3-ec79-428e-e241-cb015b010a93"
   },
   "outputs": [
    {
     "name": "stdout",
     "output_type": "stream",
     "text": [
      "Found 133 images belonging to 3 classes.\n",
      "Confusion matrix, without normalization\n",
      "[[18  0  0]\n",
      " [ 0 58  3]\n",
      " [ 1  2 51]]\n"
     ]
    },
    {
     "data": {
      "image/png": "[encoded data removed]",
      "text/plain": [
       "<Figure size 864x864 with 2 Axes>"
      ]
     },
     "metadata": {
      "needs_background": "light"
     },
     "output_type": "display_data"
    }
   ],
   "source": [
    "def plot_confusion_matrix(cm, classes,\n",
    "                          normalize=False,\n",
    "                          title='Confusion matrix',\n",
    "                          cmap=plt.cm.Blues):\n",
    "    \"\"\"\n",
    "    This function prints and plots the confusion matrix.\n",
    "    Normalization can be applied by setting `normalize=True`.\n",
    "    \"\"\"\n",
    "    plt.figure(figsize=(12, 12))\n",
    "    plt.imshow(cm, interpolation='nearest', cmap=cmap)\n",
    "    plt.title(title)\n",
    "    plt.colorbar()\n",
    "    tick_marks = np.arange(len(classes))\n",
    "    plt.xticks(tick_marks, classes, rotation=45)\n",
    "    plt.yticks(tick_marks, classes)\n",
    "\n",
    "    if normalize:\n",
    "        cm = cm.astype('float') / cm.sum(axis=1)[:, np.newaxis]\n",
    "        print(\"Normalized confusion matrix\")\n",
    "    else:\n",
    "        print('Confusion matrix, without normalization')\n",
    "\n",
    "    print(cm)\n",
    "\n",
    "    # thresh = cm.max() / 2.\n",
    "    # for i, j in itertools.product(range(cm.shape[0]), range(cm.shape[1])):\n",
    "    #     plt.text(j, i, cm[i, j],\n",
    "    #              horizontalalignment=\"center\",\n",
    "    #              color=\"white\" if cm[i, j] > thresh else \"black\")\n",
    "\n",
    "    thresh = cm.max() / 3.\n",
    "    for i, j in itertools.product(range(cm.shape[0]), range(cm.shape[1])):\n",
    "        plt.text(j, i, cm[i, j],\n",
    "                 horizontalalignment=\"center\",\n",
    "                 color=\"white\" if cm[i, j] > thresh else \"black\")\n",
    "\n",
    "    plt.tight_layout()\n",
    "    plt.ylabel('True label')\n",
    "    plt.xlabel('Predicted label')\n",
    "    plt.savefig(title + \"_cat_dog_wolves\")\n",
    "\n",
    "\n",
    "# test_batches.reset()\n",
    "\n",
    "# * Should this be random?\n",
    "test_batches = ImageDataGenerator().flow_from_directory(\n",
    "    test_path,\n",
    "    target_size=(224, 224),\n",
    "    shuffle=False,\n",
    "    batch_size=BATCH_SIZE_TEST,\n",
    "    # seed=SEED,\n",
    ")\n",
    "\n",
    "test_imgs, test_labels = next(test_batches)\n",
    "# test_labels = test_labels[:,0]\n",
    "\n",
    "predictions = model.predict(test_batches, \n",
    "                            steps=len(test_batches),\n",
    "                            verbose=0)\n",
    "\n",
    "# cm = confusion_matrix(test_labels, np.round(predictions[:,0]))\n",
    "cm = confusion_matrix(test_labels.argmax(axis=1),\n",
    "                      predictions.argmax(axis=1),\n",
    "                      # binary=False\n",
    "                      )\n",
    "\n",
    "cm_plot_labels = classes\n",
    "plot_confusion_matrix(cm,\n",
    "                      cm_plot_labels,\n",
    "                      title='Confusion Matrix')"
   ]
  },
  {
   "cell_type": "code",
   "execution_count": 16,
   "metadata": {},
   "outputs": [
    {
     "data": {
      "text/plain": [
       "array([[[[ 51.,  47.,  36.],\n",
       "         [ 52.,  48.,  37.],\n",
       "         [ 52.,  48.,  37.],\n",
       "         ...,\n",
       "         [250., 248., 251.],\n",
       "         [226., 224., 227.],\n",
       "         [209., 207., 210.]],\n",
       "\n",
       "        [[ 51.,  47.,  36.],\n",
       "         [ 52.,  48.,  37.],\n",
       "         [ 52.,  48.,  37.],\n",
       "         ...,\n",
       "         [250., 248., 251.],\n",
       "         [226., 224., 227.],\n",
       "         [209., 207., 210.]],\n",
       "\n",
       "        [[ 51.,  47.,  36.],\n",
       "         [ 51.,  47.,  36.],\n",
       "         [ 52.,  48.,  37.],\n",
       "         ...,\n",
       "         [250., 248., 251.],\n",
       "         [226., 224., 227.],\n",
       "         [213., 211., 214.]],\n",
       "\n",
       "        ...,\n",
       "\n",
       "        [[134., 135., 139.],\n",
       "         [131., 132., 136.],\n",
       "         [133., 134., 138.],\n",
       "         ...,\n",
       "         [181., 178., 187.],\n",
       "         [179., 176., 185.],\n",
       "         [179., 176., 185.]],\n",
       "\n",
       "        [[128., 129., 134.],\n",
       "         [125., 126., 131.],\n",
       "         [127., 128., 133.],\n",
       "         ...,\n",
       "         [181., 178., 187.],\n",
       "         [179., 176., 185.],\n",
       "         [179., 176., 185.]],\n",
       "\n",
       "        [[128., 129., 134.],\n",
       "         [125., 126., 131.],\n",
       "         [127., 128., 133.],\n",
       "         ...,\n",
       "         [181., 178., 187.],\n",
       "         [179., 176., 185.],\n",
       "         [179., 176., 185.]]],\n",
       "\n",
       "\n",
       "       [[[129., 104.,  50.],\n",
       "         [115.,  89.,  40.],\n",
       "         [108.,  81.,  34.],\n",
       "         ...,\n",
       "         [ 58.,  32.,   9.],\n",
       "         [ 58.,  32.,   9.],\n",
       "         [ 61.,  35.,  12.]],\n",
       "\n",
       "        [[131., 106.,  52.],\n",
       "         [113.,  87.,  38.],\n",
       "         [105.,  78.,  31.],\n",
       "         ...,\n",
       "         [ 59.,  33.,  10.],\n",
       "         [ 59.,  33.,  10.],\n",
       "         [ 60.,  34.,  11.]],\n",
       "\n",
       "        [[132., 106.,  55.],\n",
       "         [112.,  86.,  37.],\n",
       "         [103.,  76.,  31.],\n",
       "         ...,\n",
       "         [ 61.,  35.,  12.],\n",
       "         [ 60.,  34.,  11.],\n",
       "         [ 58.,  32.,   9.]],\n",
       "\n",
       "        ...,\n",
       "\n",
       "        [[206., 183., 129.],\n",
       "         [201., 178., 124.],\n",
       "         [200., 177., 123.],\n",
       "         ...,\n",
       "         [170., 145.,  78.],\n",
       "         [170., 145.,  78.],\n",
       "         [175., 150.,  83.]],\n",
       "\n",
       "        [[206., 183., 129.],\n",
       "         [201., 178., 124.],\n",
       "         [201., 178., 124.],\n",
       "         ...,\n",
       "         [172., 147.,  80.],\n",
       "         [171., 146.,  79.],\n",
       "         [175., 150.,  83.]],\n",
       "\n",
       "        [[205., 182., 128.],\n",
       "         [201., 178., 124.],\n",
       "         [201., 178., 124.],\n",
       "         ...,\n",
       "         [175., 150.,  83.],\n",
       "         [174., 149.,  82.],\n",
       "         [176., 151.,  84.]]],\n",
       "\n",
       "\n",
       "       [[[152., 137., 130.],\n",
       "         [162., 147., 140.],\n",
       "         [155., 140., 133.],\n",
       "         ...,\n",
       "         [102., 100., 103.],\n",
       "         [100., 100., 102.],\n",
       "         [ 96.,  96.,  98.]],\n",
       "\n",
       "        [[152., 137., 130.],\n",
       "         [160., 145., 138.],\n",
       "         [158., 143., 136.],\n",
       "         ...,\n",
       "         [103., 101., 104.],\n",
       "         [ 98.,  98., 100.],\n",
       "         [ 92.,  92.,  94.]],\n",
       "\n",
       "        [[155., 140., 133.],\n",
       "         [157., 142., 135.],\n",
       "         [161., 146., 139.],\n",
       "         ...,\n",
       "         [104., 102., 105.],\n",
       "         [ 99.,  99., 101.],\n",
       "         [ 95.,  95.,  97.]],\n",
       "\n",
       "        ...,\n",
       "\n",
       "        [[ 19.,  35.,  48.],\n",
       "         [ 19.,  35.,  48.],\n",
       "         [ 18.,  34.,  47.],\n",
       "         ...,\n",
       "         [ 23.,  50.,  67.],\n",
       "         [ 23.,  50.,  67.],\n",
       "         [ 32.,  59.,  76.]],\n",
       "\n",
       "        [[ 18.,  34.,  47.],\n",
       "         [ 18.,  34.,  47.],\n",
       "         [ 21.,  37.,  50.],\n",
       "         ...,\n",
       "         [ 18.,  45.,  62.],\n",
       "         [ 21.,  48.,  65.],\n",
       "         [ 29.,  56.,  73.]],\n",
       "\n",
       "        [[ 20.,  36.,  49.],\n",
       "         [ 19.,  35.,  48.],\n",
       "         [ 22.,  38.,  51.],\n",
       "         ...,\n",
       "         [ 17.,  44.,  61.],\n",
       "         [ 15.,  42.,  59.],\n",
       "         [ 23.,  50.,  67.]]],\n",
       "\n",
       "\n",
       "       ...,\n",
       "\n",
       "\n",
       "       [[[  0.,   0.,   0.],\n",
       "         [  2.,  12.,   4.],\n",
       "         [  0.,  11.,   0.],\n",
       "         ...,\n",
       "         [  0.,   0.,   7.],\n",
       "         [  0.,   9.,   0.],\n",
       "         [ 29.,  55.,  18.]],\n",
       "\n",
       "        [[  0.,   2.,   0.],\n",
       "         [  5.,  15.,   7.],\n",
       "         [  0.,   8.,   0.],\n",
       "         ...,\n",
       "         [  0.,   1.,   5.],\n",
       "         [  0.,  13.,   0.],\n",
       "         [ 46.,  71.,  32.]],\n",
       "\n",
       "        [[  0.,   9.,   0.],\n",
       "         [  4.,  16.,   6.],\n",
       "         [  0.,   5.,   0.],\n",
       "         ...,\n",
       "         [  0.,   3.,   2.],\n",
       "         [ 31.,  44.,  14.],\n",
       "         [ 31.,  53.,  14.]],\n",
       "\n",
       "        ...,\n",
       "\n",
       "        [[ 98.,  96.,  57.],\n",
       "         [ 89.,  94.,  53.],\n",
       "         [ 88.,  95.,  54.],\n",
       "         ...,\n",
       "         [ 61.,  77.,  40.],\n",
       "         [ 59.,  71.,  33.],\n",
       "         [ 62.,  68.,  30.]],\n",
       "\n",
       "        [[116., 108.,  71.],\n",
       "         [ 94.,  95.,  55.],\n",
       "         [ 81.,  88.,  47.],\n",
       "         ...,\n",
       "         [ 61.,  79.,  41.],\n",
       "         [ 65.,  77.,  39.],\n",
       "         [ 58.,  64.,  26.]],\n",
       "\n",
       "        [[126., 112.,  77.],\n",
       "         [ 97.,  93.,  55.],\n",
       "         [ 86.,  93.,  52.],\n",
       "         ...,\n",
       "         [ 57.,  75.,  37.],\n",
       "         [ 66.,  81.,  42.],\n",
       "         [ 78.,  82.,  45.]]],\n",
       "\n",
       "\n",
       "       [[[255., 252., 255.],\n",
       "         [255., 255., 225.],\n",
       "         [255., 251., 252.],\n",
       "         ...,\n",
       "         [255., 252., 255.],\n",
       "         [255., 255., 228.],\n",
       "         [254., 252., 255.]],\n",
       "\n",
       "        [[243., 242., 247.],\n",
       "         [ 33.,  36.,   7.],\n",
       "         [ 60.,  58.,  46.],\n",
       "         ...,\n",
       "         [ 18.,  13.,   9.],\n",
       "         [  3.,   3.,   0.],\n",
       "         [252., 249., 255.]],\n",
       "\n",
       "        [[252., 254., 241.],\n",
       "         [ 77.,  78.,  60.],\n",
       "         [ 58.,  57.,  36.],\n",
       "         ...,\n",
       "         [ 35.,  27.,  14.],\n",
       "         [ 69.,  70.,  36.],\n",
       "         [255., 252., 255.]],\n",
       "\n",
       "        ...,\n",
       "\n",
       "        [[253., 251., 252.],\n",
       "         [ 84.,  81.,  88.],\n",
       "         [102.,  95., 103.],\n",
       "         ...,\n",
       "         [212., 190., 176.],\n",
       "         [222., 199., 183.],\n",
       "         [255., 250., 245.]],\n",
       "\n",
       "        [[239., 242., 235.],\n",
       "         [ 13.,  13.,  15.],\n",
       "         [ 62.,  57.,  64.],\n",
       "         ...,\n",
       "         [175., 161., 152.],\n",
       "         [183., 166., 156.],\n",
       "         [245., 243., 244.]],\n",
       "\n",
       "        [[252., 255., 246.],\n",
       "         [254., 255., 253.],\n",
       "         [255., 253., 255.],\n",
       "         ...,\n",
       "         [255., 254., 251.],\n",
       "         [255., 252., 250.],\n",
       "         [249., 255., 255.]]],\n",
       "\n",
       "\n",
       "       [[[ 29.,  40.,  24.],\n",
       "         [ 24.,  35.,  19.],\n",
       "         [ 23.,  36.,  19.],\n",
       "         ...,\n",
       "         [ 23.,  37.,  14.],\n",
       "         [ 22.,  37.,  14.],\n",
       "         [ 21.,  39.,  15.]],\n",
       "\n",
       "        [[ 30.,  41.,  25.],\n",
       "         [ 26.,  37.,  21.],\n",
       "         [ 36.,  49.,  32.],\n",
       "         ...,\n",
       "         [ 21.,  34.,  14.],\n",
       "         [ 25.,  40.,  19.],\n",
       "         [ 24.,  42.,  20.]],\n",
       "\n",
       "        [[ 28.,  39.,  23.],\n",
       "         [ 32.,  45.,  28.],\n",
       "         [ 33.,  47.,  30.],\n",
       "         ...,\n",
       "         [ 22.,  35.,  17.],\n",
       "         [ 21.,  36.,  17.],\n",
       "         [ 26.,  41.,  22.]],\n",
       "\n",
       "        ...,\n",
       "\n",
       "        [[ 19.,  26.,  19.],\n",
       "         [ 33.,  40.,  33.],\n",
       "         [ 33.,  42.,  37.],\n",
       "         ...,\n",
       "         [  9.,   9.,   9.],\n",
       "         [  8.,   8.,   8.],\n",
       "         [  8.,   8.,   8.]],\n",
       "\n",
       "        [[ 19.,  24.,  18.],\n",
       "         [ 32.,  39.,  32.],\n",
       "         [ 34.,  43.,  38.],\n",
       "         ...,\n",
       "         [  6.,   6.,   6.],\n",
       "         [  7.,   7.,   7.],\n",
       "         [  5.,   5.,   5.]],\n",
       "\n",
       "        [[ 20.,  25.,  19.],\n",
       "         [ 34.,  39.,  33.],\n",
       "         [ 37.,  46.,  41.],\n",
       "         ...,\n",
       "         [  1.,   1.,   1.],\n",
       "         [  1.,   1.,   1.],\n",
       "         [  1.,   1.,   1.]]]], dtype=float32)"
      ]
     },
     "metadata": {},
     "output_type": "display_data"
    },
    {
     "name": "stdout",
     "output_type": "stream",
     "text": [
      "#########################\n"
     ]
    },
    {
     "data": {
      "text/plain": [
       "array([[1., 0., 0.],\n",
       "       [1., 0., 0.],\n",
       "       [1., 0., 0.],\n",
       "       [1., 0., 0.],\n",
       "       [1., 0., 0.],\n",
       "       [1., 0., 0.],\n",
       "       [1., 0., 0.],\n",
       "       [1., 0., 0.],\n",
       "       [1., 0., 0.],\n",
       "       [1., 0., 0.],\n",
       "       [1., 0., 0.],\n",
       "       [1., 0., 0.],\n",
       "       [1., 0., 0.],\n",
       "       [1., 0., 0.],\n",
       "       [1., 0., 0.],\n",
       "       [1., 0., 0.],\n",
       "       [1., 0., 0.],\n",
       "       [1., 0., 0.],\n",
       "       [0., 1., 0.],\n",
       "       [0., 1., 0.],\n",
       "       [0., 1., 0.],\n",
       "       [0., 1., 0.],\n",
       "       [0., 1., 0.],\n",
       "       [0., 1., 0.],\n",
       "       [0., 1., 0.],\n",
       "       [0., 1., 0.],\n",
       "       [0., 1., 0.],\n",
       "       [0., 1., 0.],\n",
       "       [0., 1., 0.],\n",
       "       [0., 1., 0.],\n",
       "       [0., 1., 0.],\n",
       "       [0., 1., 0.],\n",
       "       [0., 1., 0.],\n",
       "       [0., 1., 0.],\n",
       "       [0., 1., 0.],\n",
       "       [0., 1., 0.],\n",
       "       [0., 1., 0.],\n",
       "       [0., 1., 0.],\n",
       "       [0., 1., 0.],\n",
       "       [0., 1., 0.],\n",
       "       [0., 1., 0.],\n",
       "       [0., 1., 0.],\n",
       "       [0., 1., 0.],\n",
       "       [0., 1., 0.],\n",
       "       [0., 1., 0.],\n",
       "       [0., 1., 0.],\n",
       "       [0., 1., 0.],\n",
       "       [0., 1., 0.],\n",
       "       [0., 1., 0.],\n",
       "       [0., 1., 0.],\n",
       "       [0., 1., 0.],\n",
       "       [0., 1., 0.],\n",
       "       [0., 1., 0.],\n",
       "       [0., 1., 0.],\n",
       "       [0., 1., 0.],\n",
       "       [0., 1., 0.],\n",
       "       [0., 1., 0.],\n",
       "       [0., 1., 0.],\n",
       "       [0., 1., 0.],\n",
       "       [0., 1., 0.],\n",
       "       [0., 1., 0.],\n",
       "       [0., 1., 0.],\n",
       "       [0., 1., 0.],\n",
       "       [0., 1., 0.],\n",
       "       [0., 1., 0.],\n",
       "       [0., 1., 0.],\n",
       "       [0., 1., 0.],\n",
       "       [0., 1., 0.],\n",
       "       [0., 1., 0.],\n",
       "       [0., 1., 0.],\n",
       "       [0., 1., 0.],\n",
       "       [0., 1., 0.],\n",
       "       [0., 1., 0.],\n",
       "       [0., 1., 0.],\n",
       "       [0., 1., 0.],\n",
       "       [0., 1., 0.],\n",
       "       [0., 1., 0.],\n",
       "       [0., 1., 0.],\n",
       "       [0., 1., 0.],\n",
       "       [0., 0., 1.],\n",
       "       [0., 0., 1.],\n",
       "       [0., 0., 1.],\n",
       "       [0., 0., 1.],\n",
       "       [0., 0., 1.],\n",
       "       [0., 0., 1.],\n",
       "       [0., 0., 1.],\n",
       "       [0., 0., 1.],\n",
       "       [0., 0., 1.],\n",
       "       [0., 0., 1.],\n",
       "       [0., 0., 1.],\n",
       "       [0., 0., 1.],\n",
       "       [0., 0., 1.],\n",
       "       [0., 0., 1.],\n",
       "       [0., 0., 1.],\n",
       "       [0., 0., 1.],\n",
       "       [0., 0., 1.],\n",
       "       [0., 0., 1.],\n",
       "       [0., 0., 1.],\n",
       "       [0., 0., 1.],\n",
       "       [0., 0., 1.],\n",
       "       [0., 0., 1.],\n",
       "       [0., 0., 1.],\n",
       "       [0., 0., 1.],\n",
       "       [0., 0., 1.],\n",
       "       [0., 0., 1.],\n",
       "       [0., 0., 1.],\n",
       "       [0., 0., 1.],\n",
       "       [0., 0., 1.],\n",
       "       [0., 0., 1.],\n",
       "       [0., 0., 1.],\n",
       "       [0., 0., 1.],\n",
       "       [0., 0., 1.],\n",
       "       [0., 0., 1.],\n",
       "       [0., 0., 1.],\n",
       "       [0., 0., 1.],\n",
       "       [0., 0., 1.],\n",
       "       [0., 0., 1.],\n",
       "       [0., 0., 1.],\n",
       "       [0., 0., 1.],\n",
       "       [0., 0., 1.],\n",
       "       [0., 0., 1.],\n",
       "       [0., 0., 1.],\n",
       "       [0., 0., 1.],\n",
       "       [0., 0., 1.],\n",
       "       [0., 0., 1.],\n",
       "       [0., 0., 1.],\n",
       "       [0., 0., 1.],\n",
       "       [0., 0., 1.],\n",
       "       [0., 0., 1.],\n",
       "       [0., 0., 1.],\n",
       "       [0., 0., 1.],\n",
       "       [0., 0., 1.],\n",
       "       [0., 0., 1.]], dtype=float32)"
      ]
     },
     "metadata": {},
     "output_type": "display_data"
    },
    {
     "name": "stdout",
     "output_type": "stream",
     "text": [
      "#########################\n"
     ]
    },
    {
     "data": {
      "text/plain": [
       "array([0, 0, 0, 0, 0, 0, 0, 0, 0, 0, 0, 0, 0, 0, 0, 0, 0, 0, 1, 1, 1, 1,\n",
       "       1, 1, 1, 1, 1, 1, 1, 1, 1, 1, 1, 1, 1, 1, 1, 1, 1, 1, 1, 1, 1, 1,\n",
       "       1, 1, 1, 1, 1, 1, 1, 1, 1, 1, 1, 1, 1, 1, 1, 1, 1, 1, 1, 1, 1, 1,\n",
       "       1, 1, 1, 1, 1, 1, 1, 1, 1, 1, 1, 1, 1, 2, 2, 2, 2, 2, 2, 2, 2, 2,\n",
       "       2, 2, 2, 2, 2, 2, 2, 2, 2, 2, 2, 2, 2, 2, 2, 2, 2, 2, 2, 2, 2, 2,\n",
       "       2, 2, 2, 2, 2, 2, 2, 2, 2, 2, 2, 2, 2, 2, 2, 2, 2, 2, 2, 2, 2, 2,\n",
       "       2], dtype=int64)"
      ]
     },
     "metadata": {},
     "output_type": "display_data"
    },
    {
     "name": "stdout",
     "output_type": "stream",
     "text": [
      "#########################\n"
     ]
    },
    {
     "data": {
      "text/plain": [
       "array([0, 0, 0, 0, 0, 0, 0, 0, 0, 0, 0, 0, 0, 0, 0, 0, 0, 0, 1, 1, 1, 1,\n",
       "       1, 1, 1, 1, 1, 1, 1, 1, 1, 1, 1, 1, 1, 1, 1, 2, 1, 1, 1, 1, 1, 1,\n",
       "       1, 1, 1, 1, 1, 1, 1, 1, 1, 1, 1, 1, 1, 1, 1, 1, 1, 1, 1, 1, 1, 1,\n",
       "       1, 1, 1, 1, 2, 1, 1, 1, 1, 1, 1, 1, 2, 2, 2, 2, 1, 2, 2, 2, 2, 2,\n",
       "       2, 2, 0, 2, 2, 2, 2, 2, 2, 2, 2, 2, 2, 2, 2, 2, 2, 2, 2, 2, 2, 2,\n",
       "       2, 2, 2, 2, 2, 2, 2, 2, 2, 2, 2, 2, 2, 1, 2, 2, 2, 2, 2, 2, 2, 2,\n",
       "       2], dtype=int64)"
      ]
     },
     "metadata": {},
     "output_type": "display_data"
    }
   ],
   "source": [
    "display(test_imgs)\n",
    "print(\"#\" * 25)\n",
    "display(test_labels)\n",
    "print(\"#\" * 25)\n",
    "display(test_labels.argmax(axis=1))\n",
    "print(\"#\" * 25)\n",
    "display(predictions.argmax(axis=1))"
   ]
  },
  {
   "cell_type": "markdown",
   "metadata": {
    "id": "CBgD03P9O1oq"
   },
   "source": [
    "## Saving the fine-tuned VGG16 model\n",
    "\n",
    "Now that the model has been trained and tested, it should be saved so we can classify new images without retraining."
   ]
  },
  {
   "cell_type": "code",
   "execution_count": null,
   "metadata": {},
   "outputs": [],
   "source": [
    "def save_best_model(path_abs_model, model_given, test_batches_given, steps, optimzier=Adam(learning_rate=.0001), loss='categorical_crossentropy', metricts=['accuracy']):\n",
    "\n",
    "    import tensorflow as tf\n",
    "    import os\n",
    "\n",
    "    model_given_test_loss, model_given_test_acc = model_given.evaluate(\n",
    "        test_batches_given,\n",
    "        steps=steps,\n",
    "        verbose=1\n",
    "    )\n",
    "\n",
    "    # Save if there is no model to compare to\n",
    "    if not os.path.exists(path_abs_model):\n",
    "        print(f\"Current model with acc ({model_given_test_acc}) is saved!\")\n",
    "        model_given.save(path_abs_model)\n",
    "        return\n",
    "\n",
    "    model_existing = tf.keras.models.clone_model(model_given)\n",
    "    model_existing.load_weights(path_abs_model)\n",
    "\n",
    "    model_existing.compile(optimzier,\n",
    "                           loss=loss,\n",
    "                           metrics=metricts)\n",
    "\n",
    "    model_existing_test_loss, model_existing_test_acc = model_existing.evaluate(\n",
    "        test_batches_given,\n",
    "        steps=steps,\n",
    "        verbose=1\n",
    "    )\n",
    "\n",
    "    # Save model given if it's better than the existing one\n",
    "    if model_given_test_acc >= model_existing_test_acc:\n",
    "        print(\n",
    "            f\"Current model with acc ({model_given_test_acc}) is better than Existing model with acc ({model_existing_test_acc}) and is saved!\")\n",
    "        model_existing.save(path_abs_model)\n",
    "\n",
    "    else:\n",
    "        print(\n",
    "            f\"Existing model with acc ({model_existing_test_acc}) is better than Current model with acc ({model_given_test_acc})\")"
   ]
  },
  {
   "cell_type": "code",
   "execution_count": null,
   "metadata": {
    "id": "t9xDc240_nCV"
   },
   "outputs": [],
   "source": [
    "save_best_model('weights_animals_VGG16_fine_tuned.h5', model, test_batches, len(test_batches))"
   ]
  },
  {
   "cell_type": "markdown",
   "metadata": {
    "id": "KNkDKsfRcVS9"
   },
   "source": [
    "## Loading the fine-tuned VGG16 model\n",
    "\n",
    "In a production environment, the model could be loaded."
   ]
  },
  {
   "cell_type": "code",
   "execution_count": null,
   "metadata": {
    "id": "j4acEqPacdvM"
   },
   "outputs": [],
   "source": [
    "model.load_weights('weights_animals_VGG16_fine_tuned.h5')\n",
    "print(\"Model Loaded.\")"
   ]
  },
  {
   "cell_type": "markdown",
   "metadata": {
    "id": "rNHYAMiphMX_"
   },
   "source": [
    "## Conclusion\n",
    "\n",
    "In this notebook, using transfer learning for image classification has been demonstrated. First, the data is uploaded and connected to the Keras API. Then, the model is defined by copying a pretrained model and adding a new output layer. Once defined, the model can be trained using the appropriate loss function. Finally, the model is evaluated using a test dataset. With minimal modification, the model can be used to predict multiple classes beyond two, as well as predicting scalar values. It is encouraged to use this notebook as a templete for similar models using novel datasets. "
   ]
  }
 ],
 "metadata": {
  "accelerator": "GPU",
  "colab": {
   "collapsed_sections": [],
   "name": "Cats-Dogs-Wolves Transfer Learning Demo.ipynb",
   "provenance": []
  },
  "kernelspec": {
   "display_name": "Python 3.8.12 64-bit Anaconda (Tensorflow 2.5.0 | AutoKeras | CUDE: 11.2 | GPU Support: True)",
   "language": "python",
   "name": "env_conda_38_tensorflow_gpu_autokeras"
  },
  "language_info": {
   "codemirror_mode": {
    "name": "ipython",
    "version": 3
   },
   "file_extension": ".py",
   "mimetype": "text/x-python",
   "name": "python",
   "nbconvert_exporter": "python",
   "pygments_lexer": "ipython3",
   "version": "3.8.12"
  }
 },
 "nbformat": 4,
 "nbformat_minor": 4
}
